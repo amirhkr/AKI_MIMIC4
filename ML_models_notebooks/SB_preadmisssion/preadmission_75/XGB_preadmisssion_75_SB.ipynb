{
 "cells": [
  {
   "cell_type": "markdown",
   "metadata": {},
   "source": [
    "# Random Forest"
   ]
  },
  {
   "cell_type": "code",
   "execution_count": 1,
   "metadata": {},
   "outputs": [],
   "source": [
    "%load_ext autoreload\n",
    "%autoreload 2"
   ]
  },
  {
   "cell_type": "code",
   "execution_count": 2,
   "metadata": {},
   "outputs": [],
   "source": [
    "import sys; sys.path.append('/Users/uqhkamel/PhD/Code/AKI_mimiciv/mimic-code-main/mimic-iv/src')\n",
    "import pandas as pd\n",
    "import matplotlib.pyplot as plt\n",
    "\n",
    "\n",
    "import numpy as np\n",
    "import sqlite3\n",
    "\n",
    "from sklearn.ensemble import RandomForestClassifier\n",
    "from sklearn.metrics import accuracy_score, confusion_matrix, classification_report, recall_score\n",
    "\n",
    "\n",
    "from pickle import dump\n",
    "from dfwiz import dfwiz\n",
    "from dfwiz import dfwiz_compare\n",
    "\n",
    "from sklearn.ensemble import RandomForestClassifier\n",
    "\n",
    "from skopt import BayesSearchCV\n",
    "from sklearn.model_selection import GridSearchCV\n",
    "\n",
    "from sklearn.model_selection import StratifiedKFold\n",
    "\n",
    "\n",
    "from sklearn.metrics import recall_score\n",
    "\n",
    "\n",
    "# from sklearn.pipeline import Pipeline\n",
    "\n",
    "\n",
    "from imblearn.pipeline import Pipeline\n",
    "from imblearn.over_sampling import SMOTE\n",
    "\n",
    "\n",
    "\n",
    "from sklearn.experimental import enable_iterative_imputer\n",
    "\n",
    "from sklearn.impute import IterativeImputer\n",
    "\n",
    "from sklearn.preprocessing import MinMaxScaler\n",
    "\n",
    "from sklearn.utils import resample\n",
    "\n",
    "import copy\n",
    "\n",
    "from sklearn import metrics\n",
    "\n",
    "\n",
    "from utils.vis import spy, look, plot_nunique, plot_dists\n",
    "from utils.processing import sort, impute, replace_inf, drop_empty, select, drop_by_nunique, scale, melt, unmelt, \\\n",
    "                             remove_outliers, get_categories, filter_categorical, onehot, filter_regex, match, cap,get_dates\n",
    "from utils.pipelines import scale_impute_via_pipeline"
   ]
  },
  {
   "cell_type": "code",
   "execution_count": 3,
   "metadata": {},
   "outputs": [],
   "source": [
    "import pandas as pd\n",
    "import psycopg2\n",
    "import matplotlib.pyplot as plt\n",
    "import torch\n",
    "import torch.nn as nn\n",
    "import torch.optim as optim\n",
    "from torch.utils.data import Dataset, DataLoader, random_split\n",
    "import torch.nn.functional as F\n",
    "import numpy as np\n",
    "pd.set_option(\"display.max_columns\", None)"
   ]
  },
  {
   "cell_type": "code",
   "execution_count": 4,
   "metadata": {},
   "outputs": [],
   "source": [
    "# global variables representing experiment parameters\n",
    "EXPERIMENT = 'Processing Demo'\n",
    "IMPUTE_NUM = 'constant'\n",
    "IMPUTE_CAT = 'other'\n",
    "FIGSIZE    = [12,3]\n",
    "\n",
    "# parameter dict\n",
    "params = {\n",
    "    'experiment':EXPERIMENT,\n",
    "    'figsize'   :FIGSIZE,\n",
    "    'impute_num':IMPUTE_NUM,\n",
    "    'impute_cat':IMPUTE_CAT,\n",
    "}"
   ]
  },
  {
   "cell_type": "code",
   "execution_count": 5,
   "metadata": {},
   "outputs": [],
   "source": [
    "\n",
    "import scipy as sp\n",
    "\n",
    "import statsmodels.api as sm\n",
    "import statsmodels.formula.api as smf\n",
    "\n",
    "from sklearn.tree import DecisionTreeRegressor, plot_tree\n",
    "from sklearn.ensemble import RandomForestRegressor\n",
    "from sklearn.model_selection import train_test_split \n",
    "\n",
    "import matplotlib as mpl\n",
    "import matplotlib.pyplot as plt\n",
    "import seaborn as sns\n",
    "\n",
    "# Remove warnings\n",
    "import warnings\n",
    "warnings.filterwarnings('ignore')\n",
    "\n",
    "# Plot settings\n",
    "plt.style.use('seaborn')\n",
    "sns.set_theme(style=\"ticks\")\n",
    "mpl.rcParams['figure.figsize'] = (10,6)\n",
    "\n",
    "# Title\n",
    "mpl.rcParams['figure.titlesize'] = 22\n",
    "mpl.rcParams['figure.titleweight'] = 'bold'\n",
    "mpl.rcParams['axes.titlesize'] = 22\n",
    "mpl.rcParams['axes.titleweight'] = 'bold'\n",
    "mpl.rcParams['axes.titlepad'] = 20\n",
    "\n",
    "# Axes labels\n",
    "mpl.rcParams['axes.labelsize'] = 16\n",
    "mpl.rcParams['axes.labelweight'] = 'bold'\n",
    "\n",
    "# Grid and thicks\n",
    "mpl.rcParams['axes.spines.right'] = False\n",
    "mpl.rcParams['axes.spines.left'] = False\n",
    "mpl.rcParams['axes.spines.top'] = False\n",
    "mpl.rcParams['axes.spines.right'] = False\n",
    "mpl.rcParams['axes.grid'] = True\n",
    "mpl.rcParams['axes.grid.axis'] = 'y'\n",
    "#mpl.rcParams['axes.xmargin'] = 0\n",
    "mpl.rcParams['ytick.left'] = False\n",
    "\n",
    "# Legend\n",
    "mpl.rcParams['legend.facecolor'] = 'w'\n",
    "mpl.rcParams['legend.title_fontsize'] = 14\n",
    "mpl.rcParams['legend.fontsize'] = 12\n",
    "mpl.rcParams['legend.frameon'] = True\n",
    "mpl.rcParams['legend.framealpha'] = 1\n",
    "mpl.rcParams['legend.fancybox'] = True\n",
    "mpl.rcParams['legend.facecolor'] = 'white'\n",
    "mpl.rcParams['legend.edgecolor'] = 'blue'\n",
    "mpl.rcParams['legend.borderpad'] = 0.6\n",
    "\n",
    "# Other\n",
    "mpl.rcParams['lines.linewidth'] = 2.5\n",
    "mpl.rcParams['lines.markersize'] = 10\n",
    "mpl.rcParams['scatter.edgecolors'] = None\n",
    "\n",
    "\n"
   ]
  },
  {
   "cell_type": "markdown",
   "metadata": {},
   "source": [
    "_________\n",
    "### upsampler func def"
   ]
  },
  {
   "cell_type": "code",
   "execution_count": 6,
   "metadata": {},
   "outputs": [],
   "source": [
    "from sklearn.base import BaseEstimator, TransformerMixin\n",
    "# from sklearn.pipeline import Pipeline\n",
    "from imblearn.pipeline import Pipeline\n",
    "\n",
    "class upsampler(BaseEstimator, TransformerMixin): \n",
    "    def __init__(self):\n",
    "        return None\n",
    "    \n",
    "    def fit(self, X, y = None):\n",
    "        return self\n",
    "    def transform(self, X, y = None):\n",
    "        return X\n",
    "\n",
    "    def sample(self, X, y = None):\n",
    "        X = np.array(X)\n",
    "        y = np.array(y)\n",
    "        if len(y[y == 0]) < len(y[y == 1]):\n",
    "            X1, y1 = resample(X[y[y == 0]], y[y == 0], random_state=0, n_samples=len(y[y == 1]))\n",
    "            X2, y2 = X[y[y == 1]], y[y == 1]\n",
    "        else:\n",
    "            print(X[y[y == 0]].shape)\n",
    "            X1, y1 = resample(X[y[y == 1]], y[y == 1], random_state=0, n_samples=len(y[y == 0]))\n",
    "            X2, y2 = X[y[y == 0]], y[y == 0]\n",
    "        X_out = np.vstack((X1, X2))\n",
    "        y_out = np.hstack((y1, y2))  \n",
    "\n",
    "        return X_out, y_out\n"
   ]
  },
  {
   "cell_type": "markdown",
   "metadata": {},
   "source": [
    "_________\n",
    "### accuracy func def"
   ]
  },
  {
   "cell_type": "code",
   "execution_count": 7,
   "metadata": {},
   "outputs": [],
   "source": [
    "def confusion_matrix_plot(y, y_pred, y_pred_proba):\n",
    "\n",
    "    fpr, tpr, _ = metrics.roc_curve(y,   y_pred_proba[::,1])\n",
    "    score = metrics.roc_auc_score(y,  y_pred_proba[::,1])\n",
    "\n",
    "    #create ROC curve\n",
    "    plt.plot(fpr,tpr,label=\"AUC=\"+str(round(score,2)))\n",
    "    plt.ylabel('True Positive Rate')\n",
    "    plt.xlabel('False Positive Rate')\n",
    "    plt.legend(loc=4)\n",
    "    plt.show()\n",
    "\n",
    "\n",
    "    cm = confusion_matrix(y, y_pred)\n",
    "    plt.figure(figsize=(7,7))\n",
    "    plt.clf()\n",
    "    plt.imshow(cm, interpolation='nearest', cmap=plt.cm.Wistia)\n",
    "    classNames = ['Negative','Positive']\n",
    "    plt.title('Confusion Matrix')\n",
    "    plt.ylabel('True label')\n",
    "    plt.xlabel('Predicted label')\n",
    "    tick_marks = np.arange(len(classNames))\n",
    "    plt.xticks(tick_marks, classNames, rotation=45)\n",
    "    plt.yticks(tick_marks, classNames)\n",
    "    s = [['TN','FP'], ['FN', 'TP']]\n",
    "    \n",
    "    for i in range(2):\n",
    "        for j in range(2):\n",
    "            plt.text(j,i, str(s[i][j])+\" = \"+str(cm[i][j]))\n",
    "    plt.show()\n",
    "    \n",
    "    accuracy = accuracy_score(y, y_pred)\n",
    "\n",
    "    # print(\"Accuracy: %.2f%%\" % (accuracy * 100.0))\n",
    "\n",
    "\n",
    "    cr = classification_report(y, y_pred)\n",
    "    print(\"\\r\\n\"+\"Classification report\"+\"\\r\\n\")\n",
    "    print(cr)\n",
    "\n",
    "    print(\"\\r\\n_________________________________________\")\n",
    "    tn, fp, fn, tp = confusion_matrix(y, y_pred).ravel()\n",
    "    specificity = tn / (tn+fp)\n",
    "    print(\"\\r\\n\"+\"Specificity\"+\"\\r\\n\")\n",
    "    print(round(specificity,2))\n",
    "\n",
    "    print(\"\\r\\n_________________________________________\")\n",
    "\n"
   ]
  },
  {
   "cell_type": "code",
   "execution_count": 8,
   "metadata": {},
   "outputs": [],
   "source": [
    "from sklearn.utils import resample\n",
    "\n",
    "def up_sample(X_train_raw, y_train_raw,col_name):\n",
    "\n",
    "    # upsampling X_train and y_train\n",
    "    df_upsampled = pd.merge(X_train_raw, y_train_raw, left_index=True, right_index=True)\n",
    "\n",
    "    X_minority = df_upsampled[df_upsampled[col_name]==1]\n",
    "    X_majority = df_upsampled[df_upsampled[col_name]!=1]\n",
    "\n",
    "    n_samples = X_majority.shape[0]\n",
    "    X_minority_upsampled = resample(X_minority,\n",
    "                                    replace=True,     # sample with replacement\n",
    "                                    n_samples=n_samples,    # to match majority class\n",
    "                                    random_state=42) # reproducible results\n",
    "\n",
    "    df_upsampled = pd.concat([X_majority, X_minority_upsampled]).sample(frac=1)\n",
    "\n",
    "    y_train_out = df_upsampled[[col_name]]\n",
    "    X_train_out = df_upsampled.drop([col_name], axis=1)\n",
    "\n",
    "    return X_train_out, y_train_out"
   ]
  },
  {
   "cell_type": "markdown",
   "metadata": {},
   "source": [
    "_________\n",
    "### define cross validation function"
   ]
  },
  {
   "cell_type": "code",
   "execution_count": 9,
   "metadata": {},
   "outputs": [],
   "source": [
    "from sklearn.model_selection import cross_val_score\n",
    "from sklearn.model_selection import train_test_split\n",
    "\n",
    "from sklearn.model_selection import StratifiedKFold\n",
    "\n",
    "\n",
    "\n",
    "def param_graph(X_train, y_train, pipe, param_grid, cv=5, max_iter = 5, sample_ratio = 0.2, refit=True, use_error=True, multi_class=False, average_metric='macro'):\n",
    "\n",
    "    print(\"This search selects lower indexes of search list if their score is within the error of maximum score.\")\n",
    "    print(\"Putting parameters for less complicated model on the left side of the grid lists leads to better generalisation. \")\n",
    "    print(\" \")\n",
    "\n",
    "    X_train = np.array(X_train)\n",
    "    y_train = np.array(y_train)\n",
    "\n",
    "    n_train = int(sample_ratio * len(y_train))\n",
    "    X_train_s, y_train_s  = resample(X_train, y_train, n_samples=n_train, stratify=y_train)\n",
    "\n",
    "    best_score = {}\n",
    "    best_params = {}\n",
    "    for k, v in param_grid.items():\n",
    "        # best_params[k] = v[int(len(v)/2)-1]\n",
    "        best_params[k] = v[0]\n",
    "    best_params_m1 = best_params.copy()\n",
    "    print(\"start_params:\", best_params)\n",
    "\n",
    "    score = {}\n",
    "    score_std = {}\n",
    "\n",
    "    for i_iter in range(max_iter):\n",
    "        print(\"_\"*100)\n",
    "        print(\"Iteration\", i_iter)\n",
    "\n",
    "        for k, v in param_grid.items():\n",
    "\n",
    "            best_params1 = best_params.copy()\n",
    "            del best_params1[k]  \n",
    "\n",
    "            score[k] = v.copy()\n",
    "            score_std[k] = v.copy()\n",
    "\n",
    "            for i_param, val_param in enumerate(v):\n",
    "                cv_sc = np.zeros(cv)\n",
    "\n",
    "                for i_cv in range(cv):\n",
    "\n",
    "                    X_train2, X_test2, y_train2, y_test2 = train_test_split(X_train_s, y_train_s, test_size=0.2, stratify=y_train_s, shuffle=True) # 80% training and 20% test\n",
    "\n",
    "                    p1 = copy.deepcopy(pipe)\n",
    "                    p1.set_params(**best_params1)\n",
    "                    params2 = {k:val_param}\n",
    "                    p1.set_params(**params2)\n",
    "\n",
    "                    p1.fit(X_train2, y_train2.ravel())\n",
    "                    # X,y = p1.named_steps['resample'].fit_resample(X_test2, y_test2)\n",
    "                    X,y = X_test2, y_test2\n",
    "                    # y_pred_proba = p1.predict_proba(X)\n",
    "                    # cv_sc[i_cv] = metrics.roc_auc_score(y,  y_pred_proba[::,1])\n",
    "                    y_pred = p1.predict(X)\n",
    "                    if(multi_class):\n",
    "                        cv_sc[i_cv] = metrics.f1_score(y, y_pred, average=average_metric)\n",
    "                    else:\n",
    "                        cv_sc[i_cv] = metrics.f1_score(y, y_pred)\n",
    "\n",
    "                    i_cv = i_cv + 1\n",
    "\n",
    "                score[k][i_param] = cv_sc.mean()\n",
    "                score_std[k][i_param] = cv_sc.std()\n",
    "\n",
    "            print(\"\")\n",
    "            print(k)\n",
    "            print(v)\n",
    "            print(score[k])\n",
    "\n",
    "            best_params[k] = v[np.argmax(score[k])]\n",
    "            best_score[k] = score[k][np.argmax(score[k])]\n",
    "\n",
    "            if use_error:\n",
    "                for i_b in  range(np.argmax(score[k]),-1,-1):\n",
    "                    err1 = (score_std[k][i_b] + score_std[k][v.index(best_params[k])] ) / 4\n",
    "                    # print(\"err1\")\n",
    "                    max_del = max(score[k]) - err1\n",
    "                    # print( i_b, score[k][i_b], max(score[k]), err1, max_del )\n",
    "                    if score[k][i_b] >= max_del:\n",
    "                        best_params[k] = v[i_b]\n",
    "                        best_score[k] = score[k][i_b]\n",
    "\n",
    "            print(\"best_param:\",  v[np.argmax(score[k])], \"score:\", max(score[k]))\n",
    "            print(\"selected_param:\",  best_params[k], \"score:\", best_score[k])\n",
    "            \n",
    "\n",
    "        \n",
    "        print(\"\")\n",
    "        print(\"best_params =\", best_params)\n",
    "        print(\"\")\n",
    "        if best_params_m1 == best_params:\n",
    "            print(\"\")\n",
    "            print(\"\")\n",
    "            print(\"Early stop. No improvement in the last iteration.\")\n",
    "            break\n",
    "        best_params_m1 = best_params.copy()\n",
    "\n",
    "    param_graph_plot(score)\n",
    "\n",
    "    if refit:\n",
    "        print(\"Refitting final model...\")\n",
    "        pipeline_final = copy.deepcopy(pipe)\n",
    "        pipeline_final.set_params(**best_params)\n",
    "        pipeline_final.fit(X_train, y_train.values.ravel())\n",
    "    else:\n",
    "        pipeline_final = None\n",
    "\n",
    "    return score, best_params, pipeline_final\n",
    "    \n",
    "\n",
    "def param_graph_plot(score):\n",
    "    ax = {}\n",
    "    fig = {}\n",
    "    for i, (k, v) in enumerate(score.items()):\n",
    "        fig[k], ax[k] = plt.subplots()\n",
    "\n",
    "    for k, v in score.items():\n",
    "        x = score[k]\n",
    "        y = v\n",
    "        ax[k].plot(x,y,\"-o\", label=\"Score\")\n",
    "        # ax[k].set_ylim([0.5, 1])\n",
    "        ax[k].set_title(k)\n",
    "        ax[k].legend()"
   ]
  },
  {
   "cell_type": "markdown",
   "metadata": {},
   "source": [
    "________\n",
    "### Define upsampler"
   ]
  },
  {
   "cell_type": "code",
   "execution_count": 10,
   "metadata": {},
   "outputs": [],
   "source": [
    "\n",
    "from sklearn.base import BaseEstimator, TransformerMixin\n",
    "# from sklearn.pipeline import Pipeline\n",
    "from imblearn.pipeline import Pipeline\n",
    "from sklearn.utils import resample\n",
    "\n",
    "\n",
    "class upsampler(BaseEstimator): \n",
    "    def __init__(self):\n",
    "        return None\n",
    "\n",
    "    def fit_resample(self, X, y = None):\n",
    "        X = np.array(X)\n",
    "        y = np.array(y).ravel()\n",
    "        if len(y[y == 0]) < len(y[y == 1]):\n",
    "            X1, y1 = resample(X[y == 0], y[y == 0], random_state=0, n_samples=len(y[y == 1]))\n",
    "            X2, y2 = X[y == 1], y[y == 1]\n",
    "        else:\n",
    "            X1, y1 = resample(X[y == 1], y[y == 1], random_state=0, n_samples=len(y[y == 0]))\n",
    "            X2, y2 = X[y == 0], y[y == 0]\n",
    "        X_out = np.vstack((X1, X2))\n",
    "        y_out = np.hstack((y1, y2))  \n",
    "        return X_out, y_out"
   ]
  },
  {
   "cell_type": "markdown",
   "metadata": {},
   "source": [
    "________\n",
    "### Load data and select index"
   ]
  },
  {
   "cell_type": "code",
   "execution_count": 11,
   "metadata": {},
   "outputs": [],
   "source": [
    "# get table from database\n",
    "# database = \"data.sqlite\"\n",
    "# con = sqlite3.connect(database)\n",
    "\n",
    "# X_train = pd.read_sql_query(\"SELECT * from X_train\", con)\n",
    "# y_train = pd.read_sql_query(\"SELECT * from y_train\", con)\n",
    "# # select index\n",
    "# index_c = ['USUBJID'] # empty list for no index\n",
    "# X_train = X_train.set_index(index_c)\n",
    "# y_train = y_train.set_index(index_c)\n",
    "\n",
    "# X_train1 = X_train[~X_train.scr_umol_l.isna()]\n",
    "# y_train1 = y_train[~X_train.scr_umol_l.isna()]\n",
    "\n",
    "# X_test = pd.read_sql_query(\"SELECT * from X_test\", con)\n",
    "# y_test = pd.read_sql_query(\"SELECT * from y_test\", con)\n",
    "# # select index\n",
    "# index_c = ['USUBJID'] # empty list for no index\n",
    "# X_test = X_test.set_index(index_c)\n",
    "# y_test = y_test.set_index(index_c)\n",
    "\n",
    "# y_test = y_test[~X_test.scr_umol_l.isna()]\n",
    "# X_test = X_test[~X_test.scr_umol_l.isna()]\n",
    "\n",
    "\n",
    "# X_train, y_train  = resample(X_train, y_train, n_samples=5000, stratify=y_train)\n",
    "# X_test, y_test  = resample(X_test, y_test, n_samples=1000, stratify=y_test)\n",
    "\n",
    "\n",
    "\n"
   ]
  },
  {
   "cell_type": "code",
   "execution_count": 12,
   "metadata": {},
   "outputs": [],
   "source": [
    "# create a database connection\n",
    "sqluser = 'uqhkamel'\n",
    "dbname = 'mimiciv'\n",
    "schema_name = 'mimic_derived'"
   ]
  },
  {
   "cell_type": "code",
   "execution_count": 13,
   "metadata": {},
   "outputs": [],
   "source": [
    "# Connect to local postgres version of mimic\n",
    "con = psycopg2.connect(dbname=dbname, user=sqluser)\n",
    "cur = con.cursor()\n",
    "cur.execute('SET search_path to {}'.format(schema_name))"
   ]
  },
  {
   "cell_type": "code",
   "execution_count": 14,
   "metadata": {},
   "outputs": [],
   "source": [
    "# query = \"select * from all_scr_preadmission_75_JOIN\"\n",
    "# data = pd.read_sql_query(query,con,index_col=['stay_id','subject_id','hadm_id'])\n",
    "query = \"select * from all_scr_preadmission_75_JOIN\"\n",
    "data = pd.read_sql_query(query,con,index_col=['stay_id','subject_id'])\n",
    "data.drop('hadm_id', inplace=True, axis=1)"
   ]
  },
  {
   "cell_type": "code",
   "execution_count": 15,
   "metadata": {},
   "outputs": [],
   "source": [
    "data['ethnicity'] = data['ethnicity'].replace(['OTHER'],np.nan)\n",
    "data['ethnicity'] = data['ethnicity'].replace(['UNKNOWN'],np.nan)\n",
    "data['ethnicity'] = data['ethnicity'].replace(['UNABLE TO OBTAIN'],np.nan)\n",
    "data['ethnicity'] = data['ethnicity'].replace(['UNABLE TO OBTAIN'],np.nan)\n",
    "data['ethnicity'] = data['ethnicity'].replace(['AMERICAN INDIAN/ALASKA NATIVE'],np.nan)\n",
    "\n",
    "data = data.fillna(value=np.nan)\n"
   ]
  },
  {
   "cell_type": "code",
   "execution_count": 16,
   "metadata": {},
   "outputs": [],
   "source": [
    "# aki_kdigo = ['aki_kdigo_grade_1','aki_kdigo_grade_2','aki_kdigo_grade_3']\n",
    "\n",
    "# outcome_var = ['day_detection_kdigo_grade_1','day_detection_kdigo_grade_2','day_detection_kdigo_grade_3']\n",
    "\n",
    "# outcome_var.append('min_day_rrt_present')\n",
    "\n",
    "\n",
    "# first_24h = 1\n",
    "# data= data[data[outcome_var].min(axis=1)>first_24h]"
   ]
  },
  {
   "cell_type": "code",
   "execution_count": 17,
   "metadata": {},
   "outputs": [
    {
     "data": {
      "text/plain": [
       "(45349, 110)"
      ]
     },
     "execution_count": 17,
     "metadata": {},
     "output_type": "execute_result"
    }
   ],
   "source": [
    "data.shape"
   ]
  },
  {
   "cell_type": "code",
   "execution_count": 18,
   "metadata": {},
   "outputs": [
    {
     "data": {
      "text/plain": [
       "(1150, 110)"
      ]
     },
     "execution_count": 18,
     "metadata": {},
     "output_type": "execute_result"
    }
   ],
   "source": [
    "data[data['min_day_rrt_present']<=1].shape"
   ]
  },
  {
   "cell_type": "code",
   "execution_count": 19,
   "metadata": {},
   "outputs": [],
   "source": [
    "outcome_var = []\n",
    "outcome_var.append('min_day_rrt_present')\n",
    "\n",
    "\n",
    "first_24h = 1\n",
    "data= data[data[outcome_var].min(axis=1)>first_24h]"
   ]
  },
  {
   "cell_type": "code",
   "execution_count": 20,
   "metadata": {},
   "outputs": [
    {
     "data": {
      "text/plain": [
       "(7141, 110)"
      ]
     },
     "execution_count": 20,
     "metadata": {},
     "output_type": "execute_result"
    }
   ],
   "source": [
    "data[data['ckd']==1].shape"
   ]
  },
  {
   "cell_type": "code",
   "execution_count": 21,
   "metadata": {},
   "outputs": [],
   "source": [
    "data = data[data['ckd']==0]"
   ]
  },
  {
   "cell_type": "code",
   "execution_count": 22,
   "metadata": {},
   "outputs": [
    {
     "data": {
      "text/plain": [
       "(119, 110)"
      ]
     },
     "execution_count": 22,
     "metadata": {},
     "output_type": "execute_result"
    }
   ],
   "source": [
    "data[data['kidney_transplant']==1].shape"
   ]
  },
  {
   "cell_type": "code",
   "execution_count": 23,
   "metadata": {},
   "outputs": [],
   "source": [
    "data = data[data['kidney_transplant']==0]"
   ]
  },
  {
   "cell_type": "code",
   "execution_count": 24,
   "metadata": {},
   "outputs": [],
   "source": [
    "# data = data[data['egfr_mdrd_scr']>60]"
   ]
  },
  {
   "cell_type": "code",
   "execution_count": 25,
   "metadata": {},
   "outputs": [],
   "source": [
    "# data[data.egfr_mdrd_scr<60].shape"
   ]
  },
  {
   "cell_type": "code",
   "execution_count": 26,
   "metadata": {},
   "outputs": [
    {
     "data": {
      "text/html": [
       "<div>\n",
       "<style scoped>\n",
       "    .dataframe tbody tr th:only-of-type {\n",
       "        vertical-align: middle;\n",
       "    }\n",
       "\n",
       "    .dataframe tbody tr th {\n",
       "        vertical-align: top;\n",
       "    }\n",
       "\n",
       "    .dataframe thead th {\n",
       "        text-align: right;\n",
       "    }\n",
       "</style>\n",
       "<table border=\"1\" class=\"dataframe\">\n",
       "  <thead>\n",
       "    <tr style=\"text-align: right;\">\n",
       "      <th></th>\n",
       "      <th></th>\n",
       "      <th>aki_kdigo_grade_1</th>\n",
       "      <th>aki_kdigo_grade_2</th>\n",
       "      <th>aki_kdigo_grade_3</th>\n",
       "      <th>day_detection_kdigo_grade_1</th>\n",
       "      <th>day_detection_kdigo_grade_2</th>\n",
       "      <th>day_detection_kdigo_grade_3</th>\n",
       "      <th>aki_mkdigo_grade_1</th>\n",
       "      <th>aki_mkdigo_grade_2</th>\n",
       "      <th>aki_mkdigo_grade_3</th>\n",
       "      <th>day_detection_mkdigo_grade_1</th>\n",
       "      <th>day_detection_mkdigo_grade_2</th>\n",
       "      <th>day_detection_mkdigo_grade_3</th>\n",
       "      <th>age</th>\n",
       "      <th>female</th>\n",
       "      <th>ethnicity</th>\n",
       "      <th>ckd</th>\n",
       "      <th>is_mdrd</th>\n",
       "      <th>egfr_epi_scr</th>\n",
       "      <th>egfr_mdrd_scr</th>\n",
       "      <th>kidney_transplant</th>\n",
       "      <th>congestive_heart_failure</th>\n",
       "      <th>diabetes_type2</th>\n",
       "      <th>chronic_kidney_disease</th>\n",
       "      <th>hypertension</th>\n",
       "      <th>obesity_icd</th>\n",
       "      <th>peripheral_vascular_disease</th>\n",
       "      <th>chronic_liver_disease</th>\n",
       "      <th>mild_liver_disease</th>\n",
       "      <th>severe_liver_disease</th>\n",
       "      <th>myocardial_infarct</th>\n",
       "      <th>chronic_pulmonary_disease</th>\n",
       "      <th>chronic_heart_failure</th>\n",
       "      <th>sepsis</th>\n",
       "      <th>hematocrit_min</th>\n",
       "      <th>hematocrit_max</th>\n",
       "      <th>hemoglobin_min</th>\n",
       "      <th>hemoglobin_max</th>\n",
       "      <th>platelets_min</th>\n",
       "      <th>platelets_max</th>\n",
       "      <th>wbc_min</th>\n",
       "      <th>wbc_max</th>\n",
       "      <th>wbc_bd_min</th>\n",
       "      <th>wbc_bd_max</th>\n",
       "      <th>albumin_min</th>\n",
       "      <th>albumin_max</th>\n",
       "      <th>globulin_min</th>\n",
       "      <th>globulin_max</th>\n",
       "      <th>total_protein_min</th>\n",
       "      <th>total_protein_max</th>\n",
       "      <th>aniongap_min</th>\n",
       "      <th>aniongap_max</th>\n",
       "      <th>bicarbonate_min</th>\n",
       "      <th>bicarbonate_max</th>\n",
       "      <th>bun_min</th>\n",
       "      <th>bun_max</th>\n",
       "      <th>calcium_min</th>\n",
       "      <th>calcium_max</th>\n",
       "      <th>chloride_min</th>\n",
       "      <th>chloride_max</th>\n",
       "      <th>creatinine_min</th>\n",
       "      <th>creatinine_max</th>\n",
       "      <th>glucose_min</th>\n",
       "      <th>glucose_max</th>\n",
       "      <th>sodium_min</th>\n",
       "      <th>sodium_max</th>\n",
       "      <th>potassium_min</th>\n",
       "      <th>potassium_max</th>\n",
       "      <th>pt_min</th>\n",
       "      <th>pt_max</th>\n",
       "      <th>thrombin_min</th>\n",
       "      <th>thrombin_max</th>\n",
       "      <th>ptt_min</th>\n",
       "      <th>ptt_max</th>\n",
       "      <th>inr_min</th>\n",
       "      <th>inr_max</th>\n",
       "      <th>bilirubin_total_min</th>\n",
       "      <th>bilirubin_total_max</th>\n",
       "      <th>egfr_epi_scr_max</th>\n",
       "      <th>egfr_mdrd_scr_max</th>\n",
       "      <th>heart_rate_min</th>\n",
       "      <th>heart_rate_max</th>\n",
       "      <th>heart_rate_mean</th>\n",
       "      <th>sbp_min</th>\n",
       "      <th>sbp_max</th>\n",
       "      <th>sbp_mean</th>\n",
       "      <th>dbp_min</th>\n",
       "      <th>dbp_max</th>\n",
       "      <th>dbp_mean</th>\n",
       "      <th>resp_rate_min</th>\n",
       "      <th>resp_rate_max</th>\n",
       "      <th>resp_rate_mean</th>\n",
       "      <th>temperature_min</th>\n",
       "      <th>temperature_max</th>\n",
       "      <th>temperature_mean</th>\n",
       "      <th>spo2_min</th>\n",
       "      <th>spo2_max</th>\n",
       "      <th>arbs_acei</th>\n",
       "      <th>cyclosporine</th>\n",
       "      <th>bmi</th>\n",
       "      <th>urineoutput_24hr</th>\n",
       "      <th>supplemental_oxygen</th>\n",
       "      <th>invasive_vent</th>\n",
       "      <th>hfnc</th>\n",
       "      <th>non_invasive_vent</th>\n",
       "      <th>tracheostomy</th>\n",
       "      <th>min_day_rrt_present</th>\n",
       "      <th>min_day_rrt_active</th>\n",
       "      <th>weight_admit</th>\n",
       "      <th>weight_min</th>\n",
       "      <th>weight_max</th>\n",
       "    </tr>\n",
       "    <tr>\n",
       "      <th>stay_id</th>\n",
       "      <th>subject_id</th>\n",
       "      <th></th>\n",
       "      <th></th>\n",
       "      <th></th>\n",
       "      <th></th>\n",
       "      <th></th>\n",
       "      <th></th>\n",
       "      <th></th>\n",
       "      <th></th>\n",
       "      <th></th>\n",
       "      <th></th>\n",
       "      <th></th>\n",
       "      <th></th>\n",
       "      <th></th>\n",
       "      <th></th>\n",
       "      <th></th>\n",
       "      <th></th>\n",
       "      <th></th>\n",
       "      <th></th>\n",
       "      <th></th>\n",
       "      <th></th>\n",
       "      <th></th>\n",
       "      <th></th>\n",
       "      <th></th>\n",
       "      <th></th>\n",
       "      <th></th>\n",
       "      <th></th>\n",
       "      <th></th>\n",
       "      <th></th>\n",
       "      <th></th>\n",
       "      <th></th>\n",
       "      <th></th>\n",
       "      <th></th>\n",
       "      <th></th>\n",
       "      <th></th>\n",
       "      <th></th>\n",
       "      <th></th>\n",
       "      <th></th>\n",
       "      <th></th>\n",
       "      <th></th>\n",
       "      <th></th>\n",
       "      <th></th>\n",
       "      <th></th>\n",
       "      <th></th>\n",
       "      <th></th>\n",
       "      <th></th>\n",
       "      <th></th>\n",
       "      <th></th>\n",
       "      <th></th>\n",
       "      <th></th>\n",
       "      <th></th>\n",
       "      <th></th>\n",
       "      <th></th>\n",
       "      <th></th>\n",
       "      <th></th>\n",
       "      <th></th>\n",
       "      <th></th>\n",
       "      <th></th>\n",
       "      <th></th>\n",
       "      <th></th>\n",
       "      <th></th>\n",
       "      <th></th>\n",
       "      <th></th>\n",
       "      <th></th>\n",
       "      <th></th>\n",
       "      <th></th>\n",
       "      <th></th>\n",
       "      <th></th>\n",
       "      <th></th>\n",
       "      <th></th>\n",
       "      <th></th>\n",
       "      <th></th>\n",
       "      <th></th>\n",
       "      <th></th>\n",
       "      <th></th>\n",
       "      <th></th>\n",
       "      <th></th>\n",
       "      <th></th>\n",
       "      <th></th>\n",
       "      <th></th>\n",
       "      <th></th>\n",
       "      <th></th>\n",
       "      <th></th>\n",
       "      <th></th>\n",
       "      <th></th>\n",
       "      <th></th>\n",
       "      <th></th>\n",
       "      <th></th>\n",
       "      <th></th>\n",
       "      <th></th>\n",
       "      <th></th>\n",
       "      <th></th>\n",
       "      <th></th>\n",
       "      <th></th>\n",
       "      <th></th>\n",
       "      <th></th>\n",
       "      <th></th>\n",
       "      <th></th>\n",
       "      <th></th>\n",
       "      <th></th>\n",
       "      <th></th>\n",
       "      <th></th>\n",
       "      <th></th>\n",
       "      <th></th>\n",
       "      <th></th>\n",
       "      <th></th>\n",
       "      <th></th>\n",
       "      <th></th>\n",
       "      <th></th>\n",
       "      <th></th>\n",
       "      <th></th>\n",
       "    </tr>\n",
       "  </thead>\n",
       "  <tbody>\n",
       "    <tr>\n",
       "      <th>30000153</th>\n",
       "      <th>12466550</th>\n",
       "      <td>0</td>\n",
       "      <td>0</td>\n",
       "      <td>0</td>\n",
       "      <td>9999999.0</td>\n",
       "      <td>9999999.0</td>\n",
       "      <td>9999999.0</td>\n",
       "      <td>1</td>\n",
       "      <td>0</td>\n",
       "      <td>0</td>\n",
       "      <td>2.0</td>\n",
       "      <td>9999999.0</td>\n",
       "      <td>9999999.0</td>\n",
       "      <td>61.0</td>\n",
       "      <td>0</td>\n",
       "      <td>WHITE</td>\n",
       "      <td>0</td>\n",
       "      <td>1</td>\n",
       "      <td>72.0</td>\n",
       "      <td>68.0</td>\n",
       "      <td>0</td>\n",
       "      <td>0</td>\n",
       "      <td>0</td>\n",
       "      <td>0</td>\n",
       "      <td>0</td>\n",
       "      <td>0</td>\n",
       "      <td>0</td>\n",
       "      <td>0</td>\n",
       "      <td>0</td>\n",
       "      <td>0</td>\n",
       "      <td>0</td>\n",
       "      <td>0</td>\n",
       "      <td>0</td>\n",
       "      <td>0</td>\n",
       "      <td>29.1</td>\n",
       "      <td>39.1</td>\n",
       "      <td>9.8</td>\n",
       "      <td>13.0</td>\n",
       "      <td>162.0</td>\n",
       "      <td>177.0</td>\n",
       "      <td>15.2</td>\n",
       "      <td>17.9</td>\n",
       "      <td>15.2</td>\n",
       "      <td>17.9</td>\n",
       "      <td>NaN</td>\n",
       "      <td>NaN</td>\n",
       "      <td>NaN</td>\n",
       "      <td>NaN</td>\n",
       "      <td>NaN</td>\n",
       "      <td>NaN</td>\n",
       "      <td>12.0</td>\n",
       "      <td>12.0</td>\n",
       "      <td>19.0</td>\n",
       "      <td>23.0</td>\n",
       "      <td>22.0</td>\n",
       "      <td>25.0</td>\n",
       "      <td>7.4</td>\n",
       "      <td>8.0</td>\n",
       "      <td>115.0</td>\n",
       "      <td>115.0</td>\n",
       "      <td>0.9</td>\n",
       "      <td>1.2</td>\n",
       "      <td>144.0</td>\n",
       "      <td>192.0</td>\n",
       "      <td>142.0</td>\n",
       "      <td>145.0</td>\n",
       "      <td>4.4</td>\n",
       "      <td>4.8</td>\n",
       "      <td>13.1</td>\n",
       "      <td>13.2</td>\n",
       "      <td>NaN</td>\n",
       "      <td>NaN</td>\n",
       "      <td>22.8</td>\n",
       "      <td>25.3</td>\n",
       "      <td>1.1</td>\n",
       "      <td>1.1</td>\n",
       "      <td>NaN</td>\n",
       "      <td>NaN</td>\n",
       "      <td>65.0</td>\n",
       "      <td>62.0</td>\n",
       "      <td>83.0</td>\n",
       "      <td>128.0</td>\n",
       "      <td>106.576923</td>\n",
       "      <td>108.0</td>\n",
       "      <td>169.0</td>\n",
       "      <td>134.857143</td>\n",
       "      <td>55.0</td>\n",
       "      <td>90.0</td>\n",
       "      <td>67.178571</td>\n",
       "      <td>10.0</td>\n",
       "      <td>22.0</td>\n",
       "      <td>15.000000</td>\n",
       "      <td>36.00</td>\n",
       "      <td>38.22</td>\n",
       "      <td>37.312500</td>\n",
       "      <td>92.0</td>\n",
       "      <td>100.0</td>\n",
       "      <td>0</td>\n",
       "      <td>0</td>\n",
       "      <td>NaN</td>\n",
       "      <td>280.0</td>\n",
       "      <td>1</td>\n",
       "      <td>1</td>\n",
       "      <td>0</td>\n",
       "      <td>0</td>\n",
       "      <td>0</td>\n",
       "      <td>99999999.0</td>\n",
       "      <td>99999999.0</td>\n",
       "      <td>70.0</td>\n",
       "      <td>70.0</td>\n",
       "      <td>73.0</td>\n",
       "    </tr>\n",
       "    <tr>\n",
       "      <th>30001148</th>\n",
       "      <th>12980335</th>\n",
       "      <td>1</td>\n",
       "      <td>0</td>\n",
       "      <td>0</td>\n",
       "      <td>2.0</td>\n",
       "      <td>9999999.0</td>\n",
       "      <td>9999999.0</td>\n",
       "      <td>1</td>\n",
       "      <td>0</td>\n",
       "      <td>0</td>\n",
       "      <td>1.0</td>\n",
       "      <td>9999999.0</td>\n",
       "      <td>9999999.0</td>\n",
       "      <td>68.0</td>\n",
       "      <td>0</td>\n",
       "      <td>NaN</td>\n",
       "      <td>0</td>\n",
       "      <td>1</td>\n",
       "      <td>73.0</td>\n",
       "      <td>71.0</td>\n",
       "      <td>0</td>\n",
       "      <td>0</td>\n",
       "      <td>0</td>\n",
       "      <td>0</td>\n",
       "      <td>1</td>\n",
       "      <td>0</td>\n",
       "      <td>0</td>\n",
       "      <td>0</td>\n",
       "      <td>0</td>\n",
       "      <td>0</td>\n",
       "      <td>0</td>\n",
       "      <td>1</td>\n",
       "      <td>0</td>\n",
       "      <td>0</td>\n",
       "      <td>25.2</td>\n",
       "      <td>32.3</td>\n",
       "      <td>8.5</td>\n",
       "      <td>11.0</td>\n",
       "      <td>160.0</td>\n",
       "      <td>198.0</td>\n",
       "      <td>7.4</td>\n",
       "      <td>11.7</td>\n",
       "      <td>7.4</td>\n",
       "      <td>11.7</td>\n",
       "      <td>NaN</td>\n",
       "      <td>NaN</td>\n",
       "      <td>NaN</td>\n",
       "      <td>NaN</td>\n",
       "      <td>NaN</td>\n",
       "      <td>NaN</td>\n",
       "      <td>10.0</td>\n",
       "      <td>10.0</td>\n",
       "      <td>25.0</td>\n",
       "      <td>27.0</td>\n",
       "      <td>9.0</td>\n",
       "      <td>12.0</td>\n",
       "      <td>NaN</td>\n",
       "      <td>NaN</td>\n",
       "      <td>108.0</td>\n",
       "      <td>111.0</td>\n",
       "      <td>0.6</td>\n",
       "      <td>0.6</td>\n",
       "      <td>119.0</td>\n",
       "      <td>119.0</td>\n",
       "      <td>138.0</td>\n",
       "      <td>138.0</td>\n",
       "      <td>4.2</td>\n",
       "      <td>4.7</td>\n",
       "      <td>13.6</td>\n",
       "      <td>14.9</td>\n",
       "      <td>NaN</td>\n",
       "      <td>NaN</td>\n",
       "      <td>27.3</td>\n",
       "      <td>29.5</td>\n",
       "      <td>1.2</td>\n",
       "      <td>1.3</td>\n",
       "      <td>NaN</td>\n",
       "      <td>NaN</td>\n",
       "      <td>103.0</td>\n",
       "      <td>134.0</td>\n",
       "      <td>64.0</td>\n",
       "      <td>80.0</td>\n",
       "      <td>75.520000</td>\n",
       "      <td>92.0</td>\n",
       "      <td>125.0</td>\n",
       "      <td>108.155172</td>\n",
       "      <td>48.0</td>\n",
       "      <td>76.0</td>\n",
       "      <td>58.620690</td>\n",
       "      <td>3.0</td>\n",
       "      <td>23.0</td>\n",
       "      <td>14.750000</td>\n",
       "      <td>35.33</td>\n",
       "      <td>38.17</td>\n",
       "      <td>36.390000</td>\n",
       "      <td>92.0</td>\n",
       "      <td>100.0</td>\n",
       "      <td>0</td>\n",
       "      <td>0</td>\n",
       "      <td>35.9</td>\n",
       "      <td>205.0</td>\n",
       "      <td>1</td>\n",
       "      <td>0</td>\n",
       "      <td>0</td>\n",
       "      <td>0</td>\n",
       "      <td>0</td>\n",
       "      <td>99999999.0</td>\n",
       "      <td>99999999.0</td>\n",
       "      <td>65.7</td>\n",
       "      <td>65.7</td>\n",
       "      <td>69.9</td>\n",
       "    </tr>\n",
       "    <tr>\n",
       "      <th>30001446</th>\n",
       "      <th>16513856</th>\n",
       "      <td>1</td>\n",
       "      <td>1</td>\n",
       "      <td>0</td>\n",
       "      <td>1.0</td>\n",
       "      <td>1.0</td>\n",
       "      <td>9999999.0</td>\n",
       "      <td>1</td>\n",
       "      <td>1</td>\n",
       "      <td>0</td>\n",
       "      <td>1.0</td>\n",
       "      <td>1.0</td>\n",
       "      <td>9999999.0</td>\n",
       "      <td>56.0</td>\n",
       "      <td>0</td>\n",
       "      <td>WHITE</td>\n",
       "      <td>0</td>\n",
       "      <td>0</td>\n",
       "      <td>25.0</td>\n",
       "      <td>25.0</td>\n",
       "      <td>0</td>\n",
       "      <td>0</td>\n",
       "      <td>0</td>\n",
       "      <td>0</td>\n",
       "      <td>0</td>\n",
       "      <td>0</td>\n",
       "      <td>0</td>\n",
       "      <td>1</td>\n",
       "      <td>1</td>\n",
       "      <td>1</td>\n",
       "      <td>0</td>\n",
       "      <td>0</td>\n",
       "      <td>0</td>\n",
       "      <td>1</td>\n",
       "      <td>20.6</td>\n",
       "      <td>23.6</td>\n",
       "      <td>7.2</td>\n",
       "      <td>7.9</td>\n",
       "      <td>51.0</td>\n",
       "      <td>51.0</td>\n",
       "      <td>13.0</td>\n",
       "      <td>14.1</td>\n",
       "      <td>13.0</td>\n",
       "      <td>14.1</td>\n",
       "      <td>1.8</td>\n",
       "      <td>1.8</td>\n",
       "      <td>NaN</td>\n",
       "      <td>NaN</td>\n",
       "      <td>NaN</td>\n",
       "      <td>NaN</td>\n",
       "      <td>14.0</td>\n",
       "      <td>19.0</td>\n",
       "      <td>13.0</td>\n",
       "      <td>17.0</td>\n",
       "      <td>70.0</td>\n",
       "      <td>70.0</td>\n",
       "      <td>7.0</td>\n",
       "      <td>7.6</td>\n",
       "      <td>102.0</td>\n",
       "      <td>104.0</td>\n",
       "      <td>2.5</td>\n",
       "      <td>2.9</td>\n",
       "      <td>75.0</td>\n",
       "      <td>94.0</td>\n",
       "      <td>128.0</td>\n",
       "      <td>132.0</td>\n",
       "      <td>3.7</td>\n",
       "      <td>4.0</td>\n",
       "      <td>22.4</td>\n",
       "      <td>24.1</td>\n",
       "      <td>NaN</td>\n",
       "      <td>NaN</td>\n",
       "      <td>38.4</td>\n",
       "      <td>40.6</td>\n",
       "      <td>2.1</td>\n",
       "      <td>2.3</td>\n",
       "      <td>5.5</td>\n",
       "      <td>6.4</td>\n",
       "      <td>23.0</td>\n",
       "      <td>23.0</td>\n",
       "      <td>72.0</td>\n",
       "      <td>83.0</td>\n",
       "      <td>75.916667</td>\n",
       "      <td>75.0</td>\n",
       "      <td>111.0</td>\n",
       "      <td>98.090909</td>\n",
       "      <td>41.0</td>\n",
       "      <td>63.0</td>\n",
       "      <td>54.045455</td>\n",
       "      <td>14.0</td>\n",
       "      <td>28.0</td>\n",
       "      <td>20.333333</td>\n",
       "      <td>35.89</td>\n",
       "      <td>36.72</td>\n",
       "      <td>36.220000</td>\n",
       "      <td>90.0</td>\n",
       "      <td>100.0</td>\n",
       "      <td>0</td>\n",
       "      <td>0</td>\n",
       "      <td>NaN</td>\n",
       "      <td>40.0</td>\n",
       "      <td>0</td>\n",
       "      <td>0</td>\n",
       "      <td>0</td>\n",
       "      <td>0</td>\n",
       "      <td>0</td>\n",
       "      <td>99999999.0</td>\n",
       "      <td>99999999.0</td>\n",
       "      <td>119.3</td>\n",
       "      <td>119.3</td>\n",
       "      <td>119.3</td>\n",
       "    </tr>\n",
       "    <tr>\n",
       "      <th>30001656</th>\n",
       "      <th>19609454</th>\n",
       "      <td>0</td>\n",
       "      <td>0</td>\n",
       "      <td>0</td>\n",
       "      <td>9999999.0</td>\n",
       "      <td>9999999.0</td>\n",
       "      <td>9999999.0</td>\n",
       "      <td>1</td>\n",
       "      <td>1</td>\n",
       "      <td>0</td>\n",
       "      <td>1.0</td>\n",
       "      <td>9999999.0</td>\n",
       "      <td>9999999.0</td>\n",
       "      <td>68.0</td>\n",
       "      <td>1</td>\n",
       "      <td>WHITE</td>\n",
       "      <td>0</td>\n",
       "      <td>1</td>\n",
       "      <td>75.0</td>\n",
       "      <td>71.0</td>\n",
       "      <td>0</td>\n",
       "      <td>0</td>\n",
       "      <td>0</td>\n",
       "      <td>0</td>\n",
       "      <td>0</td>\n",
       "      <td>0</td>\n",
       "      <td>0</td>\n",
       "      <td>0</td>\n",
       "      <td>0</td>\n",
       "      <td>0</td>\n",
       "      <td>0</td>\n",
       "      <td>0</td>\n",
       "      <td>0</td>\n",
       "      <td>0</td>\n",
       "      <td>32.9</td>\n",
       "      <td>37.9</td>\n",
       "      <td>12.4</td>\n",
       "      <td>13.6</td>\n",
       "      <td>245.0</td>\n",
       "      <td>304.0</td>\n",
       "      <td>10.8</td>\n",
       "      <td>14.5</td>\n",
       "      <td>10.8</td>\n",
       "      <td>14.5</td>\n",
       "      <td>3.8</td>\n",
       "      <td>3.8</td>\n",
       "      <td>NaN</td>\n",
       "      <td>NaN</td>\n",
       "      <td>NaN</td>\n",
       "      <td>NaN</td>\n",
       "      <td>9.0</td>\n",
       "      <td>16.0</td>\n",
       "      <td>26.0</td>\n",
       "      <td>26.0</td>\n",
       "      <td>13.0</td>\n",
       "      <td>18.0</td>\n",
       "      <td>7.7</td>\n",
       "      <td>7.7</td>\n",
       "      <td>97.0</td>\n",
       "      <td>99.0</td>\n",
       "      <td>0.5</td>\n",
       "      <td>0.6</td>\n",
       "      <td>83.0</td>\n",
       "      <td>103.0</td>\n",
       "      <td>128.0</td>\n",
       "      <td>137.0</td>\n",
       "      <td>3.5</td>\n",
       "      <td>3.7</td>\n",
       "      <td>11.7</td>\n",
       "      <td>11.7</td>\n",
       "      <td>NaN</td>\n",
       "      <td>NaN</td>\n",
       "      <td>20.1</td>\n",
       "      <td>20.1</td>\n",
       "      <td>1.0</td>\n",
       "      <td>1.0</td>\n",
       "      <td>0.6</td>\n",
       "      <td>0.6</td>\n",
       "      <td>94.0</td>\n",
       "      <td>99.0</td>\n",
       "      <td>69.0</td>\n",
       "      <td>102.0</td>\n",
       "      <td>82.148148</td>\n",
       "      <td>103.0</td>\n",
       "      <td>174.0</td>\n",
       "      <td>138.333333</td>\n",
       "      <td>58.0</td>\n",
       "      <td>107.0</td>\n",
       "      <td>72.000000</td>\n",
       "      <td>11.0</td>\n",
       "      <td>24.0</td>\n",
       "      <td>15.375000</td>\n",
       "      <td>36.33</td>\n",
       "      <td>37.50</td>\n",
       "      <td>36.928571</td>\n",
       "      <td>99.0</td>\n",
       "      <td>100.0</td>\n",
       "      <td>0</td>\n",
       "      <td>0</td>\n",
       "      <td>NaN</td>\n",
       "      <td>375.0</td>\n",
       "      <td>1</td>\n",
       "      <td>1</td>\n",
       "      <td>0</td>\n",
       "      <td>0</td>\n",
       "      <td>0</td>\n",
       "      <td>99999999.0</td>\n",
       "      <td>99999999.0</td>\n",
       "      <td>71.0</td>\n",
       "      <td>71.0</td>\n",
       "      <td>75.7</td>\n",
       "    </tr>\n",
       "    <tr>\n",
       "      <th>30001947</th>\n",
       "      <th>15904173</th>\n",
       "      <td>0</td>\n",
       "      <td>0</td>\n",
       "      <td>0</td>\n",
       "      <td>9999999.0</td>\n",
       "      <td>9999999.0</td>\n",
       "      <td>9999999.0</td>\n",
       "      <td>0</td>\n",
       "      <td>0</td>\n",
       "      <td>0</td>\n",
       "      <td>9999999.0</td>\n",
       "      <td>9999999.0</td>\n",
       "      <td>9999999.0</td>\n",
       "      <td>46.0</td>\n",
       "      <td>0</td>\n",
       "      <td>WHITE</td>\n",
       "      <td>0</td>\n",
       "      <td>0</td>\n",
       "      <td>96.0</td>\n",
       "      <td>85.0</td>\n",
       "      <td>0</td>\n",
       "      <td>0</td>\n",
       "      <td>1</td>\n",
       "      <td>0</td>\n",
       "      <td>1</td>\n",
       "      <td>0</td>\n",
       "      <td>0</td>\n",
       "      <td>0</td>\n",
       "      <td>0</td>\n",
       "      <td>0</td>\n",
       "      <td>0</td>\n",
       "      <td>0</td>\n",
       "      <td>0</td>\n",
       "      <td>0</td>\n",
       "      <td>21.7</td>\n",
       "      <td>28.6</td>\n",
       "      <td>6.9</td>\n",
       "      <td>8.7</td>\n",
       "      <td>161.0</td>\n",
       "      <td>371.0</td>\n",
       "      <td>4.9</td>\n",
       "      <td>13.5</td>\n",
       "      <td>4.9</td>\n",
       "      <td>13.5</td>\n",
       "      <td>2.4</td>\n",
       "      <td>2.7</td>\n",
       "      <td>NaN</td>\n",
       "      <td>NaN</td>\n",
       "      <td>NaN</td>\n",
       "      <td>NaN</td>\n",
       "      <td>8.0</td>\n",
       "      <td>34.0</td>\n",
       "      <td>21.0</td>\n",
       "      <td>29.0</td>\n",
       "      <td>14.0</td>\n",
       "      <td>21.0</td>\n",
       "      <td>7.7</td>\n",
       "      <td>8.6</td>\n",
       "      <td>93.0</td>\n",
       "      <td>106.0</td>\n",
       "      <td>0.8</td>\n",
       "      <td>0.9</td>\n",
       "      <td>137.0</td>\n",
       "      <td>309.0</td>\n",
       "      <td>136.0</td>\n",
       "      <td>143.0</td>\n",
       "      <td>3.9</td>\n",
       "      <td>5.2</td>\n",
       "      <td>11.5</td>\n",
       "      <td>49.8</td>\n",
       "      <td>NaN</td>\n",
       "      <td>NaN</td>\n",
       "      <td>31.0</td>\n",
       "      <td>73.3</td>\n",
       "      <td>1.1</td>\n",
       "      <td>4.7</td>\n",
       "      <td>1.3</td>\n",
       "      <td>1.3</td>\n",
       "      <td>102.0</td>\n",
       "      <td>91.0</td>\n",
       "      <td>54.0</td>\n",
       "      <td>112.0</td>\n",
       "      <td>87.606061</td>\n",
       "      <td>91.0</td>\n",
       "      <td>177.0</td>\n",
       "      <td>121.212121</td>\n",
       "      <td>41.0</td>\n",
       "      <td>95.0</td>\n",
       "      <td>59.984848</td>\n",
       "      <td>9.0</td>\n",
       "      <td>38.0</td>\n",
       "      <td>16.720588</td>\n",
       "      <td>36.39</td>\n",
       "      <td>37.78</td>\n",
       "      <td>36.990909</td>\n",
       "      <td>96.0</td>\n",
       "      <td>100.0</td>\n",
       "      <td>0</td>\n",
       "      <td>0</td>\n",
       "      <td>NaN</td>\n",
       "      <td>300.0</td>\n",
       "      <td>0</td>\n",
       "      <td>1</td>\n",
       "      <td>0</td>\n",
       "      <td>0</td>\n",
       "      <td>0</td>\n",
       "      <td>99999999.0</td>\n",
       "      <td>99999999.0</td>\n",
       "      <td>80.4</td>\n",
       "      <td>80.4</td>\n",
       "      <td>80.4</td>\n",
       "    </tr>\n",
       "  </tbody>\n",
       "</table>\n",
       "</div>"
      ],
      "text/plain": [
       "                     aki_kdigo_grade_1  aki_kdigo_grade_2  aki_kdigo_grade_3  \\\n",
       "stay_id  subject_id                                                            \n",
       "30000153 12466550                    0                  0                  0   \n",
       "30001148 12980335                    1                  0                  0   \n",
       "30001446 16513856                    1                  1                  0   \n",
       "30001656 19609454                    0                  0                  0   \n",
       "30001947 15904173                    0                  0                  0   \n",
       "\n",
       "                     day_detection_kdigo_grade_1  day_detection_kdigo_grade_2  \\\n",
       "stay_id  subject_id                                                             \n",
       "30000153 12466550                      9999999.0                    9999999.0   \n",
       "30001148 12980335                            2.0                    9999999.0   \n",
       "30001446 16513856                            1.0                          1.0   \n",
       "30001656 19609454                      9999999.0                    9999999.0   \n",
       "30001947 15904173                      9999999.0                    9999999.0   \n",
       "\n",
       "                     day_detection_kdigo_grade_3  aki_mkdigo_grade_1  \\\n",
       "stay_id  subject_id                                                    \n",
       "30000153 12466550                      9999999.0                   1   \n",
       "30001148 12980335                      9999999.0                   1   \n",
       "30001446 16513856                      9999999.0                   1   \n",
       "30001656 19609454                      9999999.0                   1   \n",
       "30001947 15904173                      9999999.0                   0   \n",
       "\n",
       "                     aki_mkdigo_grade_2  aki_mkdigo_grade_3  \\\n",
       "stay_id  subject_id                                           \n",
       "30000153 12466550                     0                   0   \n",
       "30001148 12980335                     0                   0   \n",
       "30001446 16513856                     1                   0   \n",
       "30001656 19609454                     1                   0   \n",
       "30001947 15904173                     0                   0   \n",
       "\n",
       "                     day_detection_mkdigo_grade_1  \\\n",
       "stay_id  subject_id                                 \n",
       "30000153 12466550                             2.0   \n",
       "30001148 12980335                             1.0   \n",
       "30001446 16513856                             1.0   \n",
       "30001656 19609454                             1.0   \n",
       "30001947 15904173                       9999999.0   \n",
       "\n",
       "                     day_detection_mkdigo_grade_2  \\\n",
       "stay_id  subject_id                                 \n",
       "30000153 12466550                       9999999.0   \n",
       "30001148 12980335                       9999999.0   \n",
       "30001446 16513856                             1.0   \n",
       "30001656 19609454                       9999999.0   \n",
       "30001947 15904173                       9999999.0   \n",
       "\n",
       "                     day_detection_mkdigo_grade_3   age  female ethnicity  \\\n",
       "stay_id  subject_id                                                         \n",
       "30000153 12466550                       9999999.0  61.0       0     WHITE   \n",
       "30001148 12980335                       9999999.0  68.0       0       NaN   \n",
       "30001446 16513856                       9999999.0  56.0       0     WHITE   \n",
       "30001656 19609454                       9999999.0  68.0       1     WHITE   \n",
       "30001947 15904173                       9999999.0  46.0       0     WHITE   \n",
       "\n",
       "                     ckd  is_mdrd  egfr_epi_scr  egfr_mdrd_scr  \\\n",
       "stay_id  subject_id                                              \n",
       "30000153 12466550      0        1          72.0           68.0   \n",
       "30001148 12980335      0        1          73.0           71.0   \n",
       "30001446 16513856      0        0          25.0           25.0   \n",
       "30001656 19609454      0        1          75.0           71.0   \n",
       "30001947 15904173      0        0          96.0           85.0   \n",
       "\n",
       "                     kidney_transplant  congestive_heart_failure  \\\n",
       "stay_id  subject_id                                                \n",
       "30000153 12466550                    0                         0   \n",
       "30001148 12980335                    0                         0   \n",
       "30001446 16513856                    0                         0   \n",
       "30001656 19609454                    0                         0   \n",
       "30001947 15904173                    0                         0   \n",
       "\n",
       "                     diabetes_type2  chronic_kidney_disease  hypertension  \\\n",
       "stay_id  subject_id                                                         \n",
       "30000153 12466550                 0                       0             0   \n",
       "30001148 12980335                 0                       0             1   \n",
       "30001446 16513856                 0                       0             0   \n",
       "30001656 19609454                 0                       0             0   \n",
       "30001947 15904173                 1                       0             1   \n",
       "\n",
       "                     obesity_icd  peripheral_vascular_disease  \\\n",
       "stay_id  subject_id                                             \n",
       "30000153 12466550              0                            0   \n",
       "30001148 12980335              0                            0   \n",
       "30001446 16513856              0                            0   \n",
       "30001656 19609454              0                            0   \n",
       "30001947 15904173              0                            0   \n",
       "\n",
       "                     chronic_liver_disease  mild_liver_disease  \\\n",
       "stay_id  subject_id                                              \n",
       "30000153 12466550                        0                   0   \n",
       "30001148 12980335                        0                   0   \n",
       "30001446 16513856                        1                   1   \n",
       "30001656 19609454                        0                   0   \n",
       "30001947 15904173                        0                   0   \n",
       "\n",
       "                     severe_liver_disease  myocardial_infarct  \\\n",
       "stay_id  subject_id                                             \n",
       "30000153 12466550                       0                   0   \n",
       "30001148 12980335                       0                   0   \n",
       "30001446 16513856                       1                   0   \n",
       "30001656 19609454                       0                   0   \n",
       "30001947 15904173                       0                   0   \n",
       "\n",
       "                     chronic_pulmonary_disease  chronic_heart_failure  sepsis  \\\n",
       "stay_id  subject_id                                                             \n",
       "30000153 12466550                            0                      0       0   \n",
       "30001148 12980335                            1                      0       0   \n",
       "30001446 16513856                            0                      0       1   \n",
       "30001656 19609454                            0                      0       0   \n",
       "30001947 15904173                            0                      0       0   \n",
       "\n",
       "                     hematocrit_min  hematocrit_max  hemoglobin_min  \\\n",
       "stay_id  subject_id                                                   \n",
       "30000153 12466550              29.1            39.1             9.8   \n",
       "30001148 12980335              25.2            32.3             8.5   \n",
       "30001446 16513856              20.6            23.6             7.2   \n",
       "30001656 19609454              32.9            37.9            12.4   \n",
       "30001947 15904173              21.7            28.6             6.9   \n",
       "\n",
       "                     hemoglobin_max  platelets_min  platelets_max  wbc_min  \\\n",
       "stay_id  subject_id                                                          \n",
       "30000153 12466550              13.0          162.0          177.0     15.2   \n",
       "30001148 12980335              11.0          160.0          198.0      7.4   \n",
       "30001446 16513856               7.9           51.0           51.0     13.0   \n",
       "30001656 19609454              13.6          245.0          304.0     10.8   \n",
       "30001947 15904173               8.7          161.0          371.0      4.9   \n",
       "\n",
       "                     wbc_max  wbc_bd_min  wbc_bd_max  albumin_min  \\\n",
       "stay_id  subject_id                                                 \n",
       "30000153 12466550       17.9        15.2        17.9          NaN   \n",
       "30001148 12980335       11.7         7.4        11.7          NaN   \n",
       "30001446 16513856       14.1        13.0        14.1          1.8   \n",
       "30001656 19609454       14.5        10.8        14.5          3.8   \n",
       "30001947 15904173       13.5         4.9        13.5          2.4   \n",
       "\n",
       "                     albumin_max  globulin_min  globulin_max  \\\n",
       "stay_id  subject_id                                            \n",
       "30000153 12466550            NaN           NaN           NaN   \n",
       "30001148 12980335            NaN           NaN           NaN   \n",
       "30001446 16513856            1.8           NaN           NaN   \n",
       "30001656 19609454            3.8           NaN           NaN   \n",
       "30001947 15904173            2.7           NaN           NaN   \n",
       "\n",
       "                     total_protein_min  total_protein_max  aniongap_min  \\\n",
       "stay_id  subject_id                                                       \n",
       "30000153 12466550                  NaN                NaN          12.0   \n",
       "30001148 12980335                  NaN                NaN          10.0   \n",
       "30001446 16513856                  NaN                NaN          14.0   \n",
       "30001656 19609454                  NaN                NaN           9.0   \n",
       "30001947 15904173                  NaN                NaN           8.0   \n",
       "\n",
       "                     aniongap_max  bicarbonate_min  bicarbonate_max  bun_min  \\\n",
       "stay_id  subject_id                                                            \n",
       "30000153 12466550            12.0             19.0             23.0     22.0   \n",
       "30001148 12980335            10.0             25.0             27.0      9.0   \n",
       "30001446 16513856            19.0             13.0             17.0     70.0   \n",
       "30001656 19609454            16.0             26.0             26.0     13.0   \n",
       "30001947 15904173            34.0             21.0             29.0     14.0   \n",
       "\n",
       "                     bun_max  calcium_min  calcium_max  chloride_min  \\\n",
       "stay_id  subject_id                                                    \n",
       "30000153 12466550       25.0          7.4          8.0         115.0   \n",
       "30001148 12980335       12.0          NaN          NaN         108.0   \n",
       "30001446 16513856       70.0          7.0          7.6         102.0   \n",
       "30001656 19609454       18.0          7.7          7.7          97.0   \n",
       "30001947 15904173       21.0          7.7          8.6          93.0   \n",
       "\n",
       "                     chloride_max  creatinine_min  creatinine_max  \\\n",
       "stay_id  subject_id                                                 \n",
       "30000153 12466550           115.0             0.9             1.2   \n",
       "30001148 12980335           111.0             0.6             0.6   \n",
       "30001446 16513856           104.0             2.5             2.9   \n",
       "30001656 19609454            99.0             0.5             0.6   \n",
       "30001947 15904173           106.0             0.8             0.9   \n",
       "\n",
       "                     glucose_min  glucose_max  sodium_min  sodium_max  \\\n",
       "stay_id  subject_id                                                     \n",
       "30000153 12466550          144.0        192.0       142.0       145.0   \n",
       "30001148 12980335          119.0        119.0       138.0       138.0   \n",
       "30001446 16513856           75.0         94.0       128.0       132.0   \n",
       "30001656 19609454           83.0        103.0       128.0       137.0   \n",
       "30001947 15904173          137.0        309.0       136.0       143.0   \n",
       "\n",
       "                     potassium_min  potassium_max  pt_min  pt_max  \\\n",
       "stay_id  subject_id                                                 \n",
       "30000153 12466550              4.4            4.8    13.1    13.2   \n",
       "30001148 12980335              4.2            4.7    13.6    14.9   \n",
       "30001446 16513856              3.7            4.0    22.4    24.1   \n",
       "30001656 19609454              3.5            3.7    11.7    11.7   \n",
       "30001947 15904173              3.9            5.2    11.5    49.8   \n",
       "\n",
       "                     thrombin_min  thrombin_max  ptt_min  ptt_max  inr_min  \\\n",
       "stay_id  subject_id                                                          \n",
       "30000153 12466550             NaN           NaN     22.8     25.3      1.1   \n",
       "30001148 12980335             NaN           NaN     27.3     29.5      1.2   \n",
       "30001446 16513856             NaN           NaN     38.4     40.6      2.1   \n",
       "30001656 19609454             NaN           NaN     20.1     20.1      1.0   \n",
       "30001947 15904173             NaN           NaN     31.0     73.3      1.1   \n",
       "\n",
       "                     inr_max  bilirubin_total_min  bilirubin_total_max  \\\n",
       "stay_id  subject_id                                                      \n",
       "30000153 12466550        1.1                  NaN                  NaN   \n",
       "30001148 12980335        1.3                  NaN                  NaN   \n",
       "30001446 16513856        2.3                  5.5                  6.4   \n",
       "30001656 19609454        1.0                  0.6                  0.6   \n",
       "30001947 15904173        4.7                  1.3                  1.3   \n",
       "\n",
       "                     egfr_epi_scr_max  egfr_mdrd_scr_max  heart_rate_min  \\\n",
       "stay_id  subject_id                                                        \n",
       "30000153 12466550                65.0               62.0            83.0   \n",
       "30001148 12980335               103.0              134.0            64.0   \n",
       "30001446 16513856                23.0               23.0            72.0   \n",
       "30001656 19609454                94.0               99.0            69.0   \n",
       "30001947 15904173               102.0               91.0            54.0   \n",
       "\n",
       "                     heart_rate_max  heart_rate_mean  sbp_min  sbp_max  \\\n",
       "stay_id  subject_id                                                      \n",
       "30000153 12466550             128.0       106.576923    108.0    169.0   \n",
       "30001148 12980335              80.0        75.520000     92.0    125.0   \n",
       "30001446 16513856              83.0        75.916667     75.0    111.0   \n",
       "30001656 19609454             102.0        82.148148    103.0    174.0   \n",
       "30001947 15904173             112.0        87.606061     91.0    177.0   \n",
       "\n",
       "                       sbp_mean  dbp_min  dbp_max   dbp_mean  resp_rate_min  \\\n",
       "stay_id  subject_id                                                           \n",
       "30000153 12466550    134.857143     55.0     90.0  67.178571           10.0   \n",
       "30001148 12980335    108.155172     48.0     76.0  58.620690            3.0   \n",
       "30001446 16513856     98.090909     41.0     63.0  54.045455           14.0   \n",
       "30001656 19609454    138.333333     58.0    107.0  72.000000           11.0   \n",
       "30001947 15904173    121.212121     41.0     95.0  59.984848            9.0   \n",
       "\n",
       "                     resp_rate_max  resp_rate_mean  temperature_min  \\\n",
       "stay_id  subject_id                                                   \n",
       "30000153 12466550             22.0       15.000000            36.00   \n",
       "30001148 12980335             23.0       14.750000            35.33   \n",
       "30001446 16513856             28.0       20.333333            35.89   \n",
       "30001656 19609454             24.0       15.375000            36.33   \n",
       "30001947 15904173             38.0       16.720588            36.39   \n",
       "\n",
       "                     temperature_max  temperature_mean  spo2_min  spo2_max  \\\n",
       "stay_id  subject_id                                                          \n",
       "30000153 12466550              38.22         37.312500      92.0     100.0   \n",
       "30001148 12980335              38.17         36.390000      92.0     100.0   \n",
       "30001446 16513856              36.72         36.220000      90.0     100.0   \n",
       "30001656 19609454              37.50         36.928571      99.0     100.0   \n",
       "30001947 15904173              37.78         36.990909      96.0     100.0   \n",
       "\n",
       "                     arbs_acei  cyclosporine   bmi  urineoutput_24hr  \\\n",
       "stay_id  subject_id                                                    \n",
       "30000153 12466550            0             0   NaN             280.0   \n",
       "30001148 12980335            0             0  35.9             205.0   \n",
       "30001446 16513856            0             0   NaN              40.0   \n",
       "30001656 19609454            0             0   NaN             375.0   \n",
       "30001947 15904173            0             0   NaN             300.0   \n",
       "\n",
       "                     supplemental_oxygen  invasive_vent  hfnc  \\\n",
       "stay_id  subject_id                                             \n",
       "30000153 12466550                      1              1     0   \n",
       "30001148 12980335                      1              0     0   \n",
       "30001446 16513856                      0              0     0   \n",
       "30001656 19609454                      1              1     0   \n",
       "30001947 15904173                      0              1     0   \n",
       "\n",
       "                     non_invasive_vent  tracheostomy  min_day_rrt_present  \\\n",
       "stay_id  subject_id                                                         \n",
       "30000153 12466550                    0             0           99999999.0   \n",
       "30001148 12980335                    0             0           99999999.0   \n",
       "30001446 16513856                    0             0           99999999.0   \n",
       "30001656 19609454                    0             0           99999999.0   \n",
       "30001947 15904173                    0             0           99999999.0   \n",
       "\n",
       "                     min_day_rrt_active  weight_admit  weight_min  weight_max  \n",
       "stay_id  subject_id                                                            \n",
       "30000153 12466550            99999999.0          70.0        70.0        73.0  \n",
       "30001148 12980335            99999999.0          65.7        65.7        69.9  \n",
       "30001446 16513856            99999999.0         119.3       119.3       119.3  \n",
       "30001656 19609454            99999999.0          71.0        71.0        75.7  \n",
       "30001947 15904173            99999999.0          80.4        80.4        80.4  "
      ]
     },
     "execution_count": 26,
     "metadata": {},
     "output_type": "execute_result"
    }
   ],
   "source": [
    "data.head(5)"
   ]
  },
  {
   "cell_type": "code",
   "execution_count": 27,
   "metadata": {},
   "outputs": [],
   "source": [
    "# data.dropna(axis=1, thresh = int(0.3*data.shape[0]), inplace=True)"
   ]
  },
  {
   "cell_type": "code",
   "execution_count": 28,
   "metadata": {},
   "outputs": [],
   "source": [
    "# pd.set_option('display.max_rows', None)"
   ]
  },
  {
   "cell_type": "code",
   "execution_count": 29,
   "metadata": {},
   "outputs": [],
   "source": [
    "# data.isna().sum()/len(data)*100"
   ]
  },
  {
   "cell_type": "code",
   "execution_count": 30,
   "metadata": {},
   "outputs": [],
   "source": [
    "# prediction_window = 3\n",
    "\n",
    "# data.loc[(((data['aki_kdigo_grade_1']== 1)| (data['aki_kdigo_grade_2']== 1) | (data['aki_kdigo_grade_3']==1)) \\\n",
    "#     &( (data['day_detection_kdigo_grade_1']<=prediction_window)| (data['day_detection_kdigo_grade_2']<=prediction_window) | (data['day_detection_kdigo_grade_3']<=prediction_window)) \\\n",
    "#         |(data['min_day_rrt_present']<= prediction_window)), 'outcome'] = 1\n",
    "\n",
    "\n",
    "# data.loc[data.outcome.isna(),'outcome']=0"
   ]
  },
  {
   "cell_type": "code",
   "execution_count": 31,
   "metadata": {},
   "outputs": [],
   "source": [
    "prediction_window = 3\n",
    "\n",
    "data.loc[(( (data['aki_kdigo_grade_1']== 1)) \\\n",
    "    &( (data['day_detection_kdigo_grade_1']<=prediction_window))), 'outcome'] = 1\n",
    "\n",
    "\n",
    "data.loc[data.outcome.isna(),'outcome']=0"
   ]
  },
  {
   "cell_type": "code",
   "execution_count": 32,
   "metadata": {},
   "outputs": [],
   "source": [
    "drop_X   = [\n",
    "'day_detection_kdigo_grade_1',\n",
    "'day_detection_kdigo_grade_2',\n",
    "'day_detection_kdigo_grade_3',\n",
    "'day_detection_mkdigo_grade_1',\n",
    "'day_detection_mkdigo_grade_2',\n",
    "'day_detection_mkdigo_grade_3',\n",
    "'min_day_rrt_active',\n",
    "'min_day_rrt_present',\n",
    "'ckd',\n",
    "'chronic_kidney_disease'\n",
    "]\n",
    "# CRP and vomit_nausea as they had mostly empty\n",
    "\n",
    "data.drop(drop_X, inplace=True, axis=1)"
   ]
  },
  {
   "cell_type": "markdown",
   "metadata": {},
   "source": [
    "## Missingness percentage"
   ]
  },
  {
   "cell_type": "code",
   "execution_count": 33,
   "metadata": {},
   "outputs": [],
   "source": [
    "# data.reset_index().drop_duplicates(subset=['stay_id','subject_id','hadm_id']).set_index(['stay_id','subject_id','hadm_id'])"
   ]
  },
  {
   "cell_type": "code",
   "execution_count": 34,
   "metadata": {},
   "outputs": [],
   "source": [
    "# # remove unpopulated columns\n",
    "# data.pipe(sort)\\\n",
    "#               .pipe(replace_inf).pipe(drop_empty)"
   ]
  },
  {
   "cell_type": "code",
   "execution_count": 35,
   "metadata": {},
   "outputs": [],
   "source": [
    "# split by column type\n",
    "data_num = data.pipe(sort).pipe(replace_inf).pipe(drop_empty).pipe(select, 'numerical')\n",
    "\n",
    "data_cat = data.pipe(sort).pipe(replace_inf).pipe(drop_empty).pipe(select, 'categorical')"
   ]
  },
  {
   "cell_type": "code",
   "execution_count": 36,
   "metadata": {},
   "outputs": [],
   "source": [
    "# data_cat = data_cat.pipe(filter_categorical, cutoff=20, plot=False)\\\n",
    "#                                             .pipe(sort).pipe(spy, title='Before onehot', figsize=[12,4])\\\n",
    "#                                             .fillna('other').pipe(onehot)\n",
    "# data_cat = data_cat.fillna('other').pipe(onehot)\n",
    "data_cat = pd.get_dummies(data_cat,prefix=[''], prefix_sep='', columns = ['ethnicity'], drop_first=True)"
   ]
  },
  {
   "cell_type": "code",
   "execution_count": 37,
   "metadata": {},
   "outputs": [],
   "source": [
    "# processed = pd.merge(data_num, data_cat, left_index=True, right_index=True)\n",
    "processed = pd.merge(data_num, data_cat, left_index=True, right_index=True, how='inner')"
   ]
  },
  {
   "cell_type": "code",
   "execution_count": 38,
   "metadata": {},
   "outputs": [
    {
     "data": {
      "text/plain": [
       "23795"
      ]
     },
     "execution_count": 38,
     "metadata": {},
     "output_type": "execute_result"
    }
   ],
   "source": [
    "processed['is_mdrd'].sum()"
   ]
  },
  {
   "cell_type": "code",
   "execution_count": 39,
   "metadata": {},
   "outputs": [
    {
     "data": {
      "text/plain": [
       "0    8836\n",
       "1    4308\n",
       "Name: aki_kdigo_grade_1, dtype: int64"
      ]
     },
     "execution_count": 39,
     "metadata": {},
     "output_type": "execute_result"
    }
   ],
   "source": [
    "tmp1 = processed[processed['is_mdrd']==0]\n",
    "tmp1.aki_kdigo_grade_1.value_counts()"
   ]
  },
  {
   "cell_type": "code",
   "execution_count": 40,
   "metadata": {},
   "outputs": [
    {
     "data": {
      "text/plain": [
       "64.41701183031483"
      ]
     },
     "execution_count": 40,
     "metadata": {},
     "output_type": "execute_result"
    }
   ],
   "source": [
    "# processed.is_mdrd.value_counts()\n",
    "processed['is_mdrd'].sum()/len(processed)*100"
   ]
  },
  {
   "cell_type": "code",
   "execution_count": 41,
   "metadata": {},
   "outputs": [],
   "source": [
    "processed2 = processed.copy()\n",
    "processed.drop(['egfr_epi_scr','egfr_mdrd_scr'], inplace=True, axis=1)\n"
   ]
  },
  {
   "cell_type": "code",
   "execution_count": 42,
   "metadata": {},
   "outputs": [
    {
     "data": {
      "text/plain": [
       "0.3160886867538374"
      ]
     },
     "execution_count": 42,
     "metadata": {},
     "output_type": "execute_result"
    }
   ],
   "source": [
    "(processed[processed['aki_kdigo_grade_1']==1].shape[0])/processed.shape[0]"
   ]
  },
  {
   "cell_type": "code",
   "execution_count": 43,
   "metadata": {},
   "outputs": [],
   "source": [
    "drop_X   = [\n",
    "    'aki_kdigo_grade_1',\n",
    "    'aki_mkdigo_grade_1',\n",
    "\n",
    "    'aki_kdigo_grade_2',\n",
    "    'aki_mkdigo_grade_2',\n",
    "\n",
    "    'aki_kdigo_grade_3',\n",
    "    'aki_mkdigo_grade_3',\n",
    "    'is_mdrd'\n",
    "\n",
    "]\n",
    " \n",
    "select_y = ['outcome']\n",
    "\n",
    "processed_X = processed.pipe(filter_regex, drop_X+select_y)\n",
    "processed_Y = processed.filter(regex='|'.join(select_y))\n",
    "raw_Y = data_num.pipe(replace_inf).pipe(drop_empty).filter(regex='|'.join(select_y)).pipe(remove_outliers)\n",
    "df_y = raw_Y[select_y]\n",
    "\n",
    "\n",
    "df_X, df_y = match(processed_X, df_y)"
   ]
  },
  {
   "cell_type": "code",
   "execution_count": 44,
   "metadata": {},
   "outputs": [
    {
     "data": {
      "text/plain": [
       "0    20430\n",
       "1    16509\n",
       "Name: female, dtype: int64"
      ]
     },
     "execution_count": 44,
     "metadata": {},
     "output_type": "execute_result"
    }
   ],
   "source": [
    "df_X.female.value_counts()"
   ]
  },
  {
   "cell_type": "code",
   "execution_count": 45,
   "metadata": {},
   "outputs": [],
   "source": [
    "X, y = df_X, df_y\n",
    "\n",
    "from sklearn.model_selection import train_test_split\n",
    "\n",
    "\n",
    "# X_train_0, X_test, y_train_0, y_test = train_test_split(X, y, test_size=0.2, random_state=42, shuffle=True, stratify=y) # \n",
    "\n",
    "# X_train, X_valid, y_train, y_valid = train_test_split(X_train_0, y_train_0, test_size=0.2, random_state=42, shuffle=True, stratify=y_train_0)\n",
    "\n",
    "\n",
    "X_train, X_test, y_train, y_test = train_test_split(X, y, test_size=0.2, random_state=42, shuffle=True, stratify=y)"
   ]
  },
  {
   "cell_type": "code",
   "execution_count": 46,
   "metadata": {},
   "outputs": [],
   "source": [
    "# X_train, y_train = df_X, df_y\n",
    "# X_train, y_train = up_sample(X_train, y_train,'outcome')\n",
    "X_train,  y_train = [\n",
    "    df.reset_index(drop=True)\n",
    "    for df in up_sample(X_train, y_train,'outcome')]"
   ]
  },
  {
   "cell_type": "code",
   "execution_count": 47,
   "metadata": {},
   "outputs": [],
   "source": [
    "# from imblearn.under_sampling import RandomUnderSampler\n",
    "\n",
    "# rus = RandomUnderSampler(random_state=42, sampling_strategy='auto')\n",
    "# X_train, y_train = rus.fit_resample(X_train, y_train)"
   ]
  },
  {
   "cell_type": "code",
   "execution_count": 48,
   "metadata": {},
   "outputs": [],
   "source": [
    "# dfwiz_compare(X_train,X_test, label=['df_train','df_test'])"
   ]
  },
  {
   "cell_type": "code",
   "execution_count": 49,
   "metadata": {},
   "outputs": [
    {
     "data": {
      "text/plain": [
       "outcome\n",
       "0.0        25263\n",
       "1.0        11676\n",
       "dtype: int64"
      ]
     },
     "execution_count": 49,
     "metadata": {},
     "output_type": "execute_result"
    }
   ],
   "source": [
    "df_y.value_counts()"
   ]
  },
  {
   "cell_type": "code",
   "execution_count": null,
   "metadata": {},
   "outputs": [],
   "source": []
  },
  {
   "cell_type": "markdown",
   "metadata": {},
   "source": [
    "___________________\n",
    "### Define pipeline"
   ]
  },
  {
   "cell_type": "code",
   "execution_count": 50,
   "metadata": {},
   "outputs": [],
   "source": [
    "import lightgbm as lgbm  # standard alias\n",
    "\n",
    "pipe = Pipeline(steps=[\n",
    "# ('resample', upsampler()),\n",
    "('scaler', MinMaxScaler()),\n",
    "('imputer',IterativeImputer(max_iter=10, random_state=42, missing_values=np.nan)),\n",
    "('model', lgbm.LGBMClassifier(n_jobs=-1, n_estimators=300))\n",
    "])"
   ]
  },
  {
   "cell_type": "markdown",
   "metadata": {},
   "source": [
    "___________________\n",
    "### Cross validation search"
   ]
  },
  {
   "cell_type": "code",
   "execution_count": 51,
   "metadata": {},
   "outputs": [],
   "source": [
    "# ########### **************************************8\n",
    "# # Make sure simpler models are at the start of array. The search picks numbers on the left side if they are within the error of maximum score.   \n",
    "\n",
    "\n",
    "# param_grid ={'model__num_leaves': [6, 10, 20, 50], \n",
    "#              'model__min_child_samples': [100, 200, 300, 400, 500], \n",
    "#              'model__min_child_weight': [1e-5,  1e-2,  1,  1e2,  1e4],\n",
    "#              'model__subsample' : [0.2, 0.5, 0.8], \n",
    "#              'model__reg_alpha': [0, 1e-1, 1, 5,  10, 50, 100],\n",
    "#              'model__reg_lambda': [0, 1e-1, 1,  10,  50, 100]}\n",
    "\n",
    "\n",
    "\n",
    "\n",
    "\n",
    "\n",
    "# score, best_params, pipeline_final = param_graph(X_train, y_train, pipe, param_grid, cv=5, max_iter = 4, sample_ratio = 0.1, refit=False, use_error=True)\n",
    "\n",
    "# # dump(pipeline_final , open('pipeline_final_LGBM.pkl', 'wb'))"
   ]
  },
  {
   "cell_type": "code",
   "execution_count": 52,
   "metadata": {},
   "outputs": [],
   "source": [
    "# import lightgbm as lgbm  # standard alias\n",
    "\n",
    "# pipe = Pipeline(steps=[\n",
    "# # ('resample', upsampler()),\n",
    "# ('scaler', MinMaxScaler()),\n",
    "# ('imputer',IterativeImputer(max_iter=10, random_state=42, missing_values=np.nan, sample_posterior=True)),\n",
    "# ('model', lgbm.LGBMClassifier(n_jobs=-1))\n",
    "# ])"
   ]
  },
  {
   "cell_type": "code",
   "execution_count": 53,
   "metadata": {},
   "outputs": [],
   "source": [
    "# from skopt import BayesSearchCV\n",
    "# from sklearn.model_selection import StratifiedKFold\n",
    "# from sklearn.model_selection import train_test_split\n",
    "# from sklearn.metrics import recall_score\n",
    "# from sklearn.metrics import f1_score\n",
    "\n",
    "\n",
    "# bayes_cv_tuner = BayesSearchCV(\n",
    "#     estimator = pipe\n",
    "#     ,search_spaces = {\n",
    "#         'model__n_estimators': (100,200,300,400),\n",
    "#         'model__num_leaves': (6, 10, 20, 50), \n",
    "#         'model__min_child_samples': (100, 200, 300, 400, 500), \n",
    "#         'model__min_child_weight': (1e-5,  1e-2,  1,  1e2,  1e4),\n",
    "#         'model__subsample' : (0.2, 0.5, 0.8), \n",
    "#         'model__reg_alpha': (0, 1e-1, 1, 5,  10, 50, 100),\n",
    "#         'model__reg_lambda': (0, 1e-1, 1,  10,  50, 100)\n",
    "\n",
    "#     }, \n",
    "#     cv = StratifiedKFold(\n",
    "#         n_splits=5,\n",
    "#         shuffle=True,\n",
    "#     ),\n",
    "#     # cv=3,\n",
    "#     n_jobs = 3,\n",
    "#     n_iter = 10,   \n",
    "#     verbose = 0,\n",
    "#     scoring='f1'\n",
    "# )\n",
    "\n",
    "# sample_ratio = 0.1\n",
    "# n_samples = int(len(X_train)*sample_ratio)\n",
    "# X, y = resample(X_train.values, y_train.values, n_samples=n_samples, stratify=y_train.values, random_state=10)\n",
    "# result = bayes_cv_tuner.fit(X, y.ravel())\n",
    "# # print(result.score(X_test, y_test))\n",
    "# print(result.best_params_)\n",
    "# print(result.best_score_)"
   ]
  },
  {
   "cell_type": "markdown",
   "metadata": {},
   "source": [
    "__________\n",
    "### Fitting Pipeline one time"
   ]
  },
  {
   "cell_type": "code",
   "execution_count": 54,
   "metadata": {},
   "outputs": [
    {
     "name": "stdout",
     "output_type": "stream",
     "text": [
      "\n",
      "\n",
      "______________________________________________________________________________________________________________________________________________________\n",
      "\n",
      "Train Accuracy:\n",
      "\n"
     ]
    },
    {
     "data": {
      "image/png": "[encoded data removed]",
      "text/plain": [
       "<Figure size 720x432 with 1 Axes>"
      ]
     },
     "metadata": {},
     "output_type": "display_data"
    },
    {
     "data": {
      "image/png": "[encoded data removed]",
      "text/plain": [
       "<Figure size 504x504 with 1 Axes>"
      ]
     },
     "metadata": {},
     "output_type": "display_data"
    },
    {
     "name": "stdout",
     "output_type": "stream",
     "text": [
      "\n",
      "Classification report\n",
      "\n",
      "              precision    recall  f1-score   support\n",
      "\n",
      "         0.0       0.89      0.91      0.90     20210\n",
      "         1.0       0.90      0.88      0.89     20210\n",
      "\n",
      "    accuracy                           0.89     40420\n",
      "   macro avg       0.89      0.89      0.89     40420\n",
      "weighted avg       0.89      0.89      0.89     40420\n",
      "\n",
      "\n",
      "_________________________________________\n",
      "\n",
      "Specificity\n",
      "\n",
      "0.91\n",
      "\n",
      "_________________________________________\n"
     ]
    }
   ],
   "source": [
    "# manual params setting\n",
    "# best_params = {'model__num_leaves': 20, 'model__min_child_samples': 100, 'model__min_child_weight': 0.01, 'model__subsample': 0.8, 'model__reg_alpha': 0, 'model__reg_lambda': 0.1}\n",
    "# best_params = {'model__n_estimators': 400,'model__num_leaves': 20, 'model__min_child_samples': 300, 'model__min_child_weight': 0.01, 'model__subsample': 0.2, 'model__reg_alpha': 1, 'model__reg_lambda': 50}\n",
    "# best_params = {'model__min_child_samples': 300, 'model__min_child_weight': 1, 'model__n_estimators': 400, 'model__num_leaves': 20, 'model__reg_alpha': 1.0, 'model__reg_lambda': 50, 'model__subsample': 0.2}\n",
    "best_params = {'model__n_estimators': 400,'model__num_leaves': 50, 'model__min_child_samples': 100, 'model__min_child_weight': 1, 'model__subsample': 0.2, 'model__reg_alpha': 50, 'model__reg_lambda': 0}\n",
    "# Or get parameters from search above\n",
    "best_params2 = best_params\n",
    "\n",
    "sample_ratio = 1\n",
    "n_samples = int(len(X_train)*sample_ratio)\n",
    "X, y = resample(X_train.values, y_train.outcome.values, n_samples=n_samples, stratify=y_train.values, random_state=10)\n",
    "pipeline_final = copy.deepcopy(pipe)\n",
    "pipeline_final.set_params(**best_params2)\n",
    "pipeline_final.fit(X, y.ravel());\n",
    "\n",
    "\n",
    "print(\"\")\n",
    "print(\"\")\n",
    "print(\"_\"*150)\n",
    "print(\"\")\n",
    "print(\"Train Accuracy:\")\n",
    "print(\"\")\n",
    "\n",
    "y_pred = pipeline_final.predict(X)\n",
    "y_pred_proba = pipeline_final.predict_proba(X)\n",
    "\n",
    "confusion_matrix_plot(y, y_pred, y_pred_proba)\n",
    "\n",
    "\n",
    "\n",
    "\n",
    "# dump(pipeline_final, open('pipe_rf.pkl', 'wb'))\n"
   ]
  },
  {
   "cell_type": "markdown",
   "metadata": {},
   "source": [
    "__________\n",
    "### Test accuracy"
   ]
  },
  {
   "cell_type": "code",
   "execution_count": 55,
   "metadata": {},
   "outputs": [
    {
     "data": {
      "image/png": "[encoded data removed]",
      "text/plain": [
       "<Figure size 432x360 with 1 Axes>"
      ]
     },
     "metadata": {},
     "output_type": "display_data"
    },
    {
     "data": {
      "image/png": "[encoded data removed]",
      "text/plain": [
       "<Figure size 504x504 with 1 Axes>"
      ]
     },
     "metadata": {},
     "output_type": "display_data"
    },
    {
     "name": "stdout",
     "output_type": "stream",
     "text": [
      "\n",
      "Classification report\n",
      "\n",
      "              precision    recall  f1-score   support\n",
      "\n",
      "         0.0       0.90      0.76      0.83      5053\n",
      "         1.0       0.61      0.83      0.70      2335\n",
      "\n",
      "    accuracy                           0.78      7388\n",
      "   macro avg       0.76      0.79      0.76      7388\n",
      "weighted avg       0.81      0.78      0.79      7388\n",
      "\n",
      "\n",
      "_________________________________________\n",
      "\n",
      "Specificity\n",
      "\n",
      "0.76\n",
      "\n",
      "_________________________________________\n"
     ]
    }
   ],
   "source": [
    "\n",
    "# X,y = pipeline_final.named_steps['resample'].fit_resample(X_test, y_test)\n",
    "plt.rcParams[\"figure.figsize\"] = (6,5)\n",
    "clf_threshold = 0.38\n",
    "\n",
    "X,y = X_test.values, y_test.values\n",
    "\n",
    "y_pred = pipeline_final.predict(X)\n",
    "y_pred_proba = pipeline_final.predict_proba(X)\n",
    "y_pred  = (y_pred_proba[:,1] >= clf_threshold).astype(int)\n",
    "\n",
    "confusion_matrix_plot(y, y_pred, y_pred_proba)\n"
   ]
  },
  {
   "cell_type": "code",
   "execution_count": 56,
   "metadata": {},
   "outputs": [
    {
     "data": {
      "text/plain": [
       "outcome\n",
       "0.0        25263\n",
       "1.0        11676\n",
       "dtype: int64"
      ]
     },
     "execution_count": 56,
     "metadata": {},
     "output_type": "execute_result"
    }
   ],
   "source": [
    "df_y.value_counts()"
   ]
  },
  {
   "cell_type": "code",
   "execution_count": 57,
   "metadata": {},
   "outputs": [
    {
     "name": "stdout",
     "output_type": "stream",
     "text": [
      "Stored 'fpr_XGB_grade123' (ndarray)\n",
      "Stored 'tpr_XGB_grade123' (ndarray)\n"
     ]
    }
   ],
   "source": [
    "fpr_XGB_grade123, tpr_XGB_grade123, _ = metrics.roc_curve(y,   y_pred_proba[::,1])\n",
    "%store fpr_XGB_grade123\n",
    "%store tpr_XGB_grade123"
   ]
  },
  {
   "cell_type": "code",
   "execution_count": 58,
   "metadata": {},
   "outputs": [],
   "source": [
    "%store -r fpr_RF_grade123\n",
    "%store -r tpr_RF_grade123\n",
    "\n",
    "%store -r fpr_ANN_grade123\n",
    "%store -r tpr_ANN_grade123\n",
    "\n",
    "%store -r fpr_LR_grade123\n",
    "%store -r tpr_LR_grade123"
   ]
  },
  {
   "cell_type": "code",
   "execution_count": 59,
   "metadata": {},
   "outputs": [
    {
     "data": {
      "image/png": "[encoded data removed]",
      "text/plain": [
       "<Figure size 648x576 with 1 Axes>"
      ]
     },
     "metadata": {},
     "output_type": "display_data"
    }
   ],
   "source": [
    "# plt.rcParams[\"figure.figsize\"] = (7.5,6)\n",
    "plt.rcParams[\"figure.figsize\"] = (9,8)\n",
    "mpl.rcParams['lines.linewidth'] = 1.5\n",
    "plt.plot(fpr_XGB_grade123,tpr_XGB_grade123,label=\"XGB, AUC=\"+str(round(0.90,2)))\n",
    "plt.plot(fpr_RF_grade123,tpr_RF_grade123,label=\"RF, AUC=\"+str(round(0.86,2)))\n",
    "plt.plot(fpr_LR_grade123,tpr_LR_grade123,label=\"LR, AUC=\"+str(round(0.86,2)))\n",
    "plt.plot(fpr_ANN_grade123,tpr_ANN_grade123,label=\"ANN, AUC=\"+str(round(0.84,2)))\n",
    "plt.plot([0, 1], [0, 1], marker=\".\", alpha=0.4)\n",
    "plt.ylabel('True Positive Rate')\n",
    "plt.xlabel('False Positive Rate')\n",
    "plt.legend(loc=4)\n",
    "plt.show()"
   ]
  },
  {
   "cell_type": "code",
   "execution_count": 60,
   "metadata": {},
   "outputs": [],
   "source": [
    "final_estimator = pipeline_final._final_estimator"
   ]
  },
  {
   "cell_type": "code",
   "execution_count": 61,
   "metadata": {},
   "outputs": [
    {
     "data": {
      "image/png": "[encoded data removed]",
      "text/plain": [
       "<Figure size 864x1440 with 1 Axes>"
      ]
     },
     "metadata": {},
     "output_type": "display_data"
    }
   ],
   "source": [
    "importances = final_estimator.feature_importances_\n",
    "indices = np.argsort(importances)\n",
    "\n",
    "features = X_train.columns\n",
    "plt.rcParams[\"figure.figsize\"] = (12,20)\n",
    "plt.title('Feature Importances')\n",
    "plt.barh(range(len(indices)), importances[indices], color='b', align='center')\n",
    "plt.yticks(range(len(indices)), [features[i] for i in indices])\n",
    "plt.xlabel('Relative Importance')\n",
    "plt.show()"
   ]
  },
  {
   "cell_type": "code",
   "execution_count": 62,
   "metadata": {},
   "outputs": [],
   "source": [
    "def scale_impute(df, pipe):\n",
    "    data_scaled = pipe.named_steps['scaler'].transform(df)\n",
    "    df_scaled = pd.DataFrame(data_scaled, columns=df.columns)\n",
    "    data_imputed = pipe.named_steps['imputer'].transform(df_scaled)\n",
    "    df_result = pd.DataFrame(data_imputed, columns=df.columns)\n",
    "    return df_result"
   ]
  },
  {
   "cell_type": "markdown",
   "metadata": {},
   "source": [
    "## SHAP"
   ]
  },
  {
   "cell_type": "code",
   "execution_count": 63,
   "metadata": {},
   "outputs": [
    {
     "name": "stdout",
     "output_type": "stream",
     "text": [
      "Preparation of a new explainer is initiated\n",
      "\n",
      "  -> data              : 40420 rows 87 cols\n",
      "  -> target variable   : Parameter 'y' was a pandas.DataFrame. Converted to a numpy.ndarray.\n",
      "  -> target variable   : 40420 values\n",
      "  -> model_class       : lightgbm.sklearn.LGBMClassifier (default)\n",
      "  -> label             : Not specified, model's class short name will be used. (default)\n",
      "  -> predict function  : <function yhat_proba_default at 0x7fbc13585820> will be used (default)\n",
      "  -> predict function  : Accepts pandas.DataFrame and numpy.ndarray.\n",
      "  -> predicted values  : min = 0.00815, mean = 0.502, max = 0.996\n",
      "  -> model type        : classification will be used (default)\n",
      "  -> residual function : difference between y and yhat (default)\n",
      "  -> residuals         : min = -0.993, mean = -0.00208, max = 0.974\n",
      "  -> model_info        : package imblearn\n",
      "\n",
      "A new explainer has been created!\n"
     ]
    }
   ],
   "source": [
    "import dalex as dx\n",
    "\n",
    "exp = dx.Explainer(pipeline_final, X_train, y_train)"
   ]
  },
  {
   "cell_type": "code",
   "execution_count": 64,
   "metadata": {},
   "outputs": [
    {
     "data": {
      "application/vnd.plotly.v1+json": {
       "config": {
        "displaylogo": false,
        "modeBarButtonsToRemove": [
         "sendDataToCloud",
         "lasso2d",
         "autoScale2d",
         "select2d",
         "zoom2d",
         "pan2d",
         "zoomIn2d",
         "zoomOut2d",
         "resetScale2d",
         "toggleSpikelines",
         "hoverCompareCartesian",
         "hoverClosestCartesian"
        ],
        "plotlyServerURL": "https://plot.ly",
        "staticPlot": false,
        "toImageButtonOptions": {
         "height": null,
         "width": null
        }
       },
       "data": [
        {
         "base": 0.062392721937988595,
         "hoverinfo": "text",
         "hoverlabel": {
          "bgcolor": "rgba(0,0,0,0.8)"
         },
         "hovertext": [
          "Model: LGBMClassifier loss after<br>variable: egfr_mdrd_scr_max is permuted: 0.161<br>Drop-out loss change: +0.099",
          "Model: LGBMClassifier loss after<br>variable: creatinine_max is permuted: 0.104<br>Drop-out loss change: +0.042",
          "Model: LGBMClassifier loss after<br>variable: creatinine_min is permuted: 0.104<br>Drop-out loss change: +0.041",
          "Model: LGBMClassifier loss after<br>variable: ptt_max is permuted: 0.067<br>Drop-out loss change: +0.005",
          "Model: LGBMClassifier loss after<br>variable: weight_max is permuted: 0.067<br>Drop-out loss change: +0.005",
          "Model: LGBMClassifier loss after<br>variable: sbp_max is permuted: 0.067<br>Drop-out loss change: +0.005",
          "Model: LGBMClassifier loss after<br>variable: invasive_vent is permuted: 0.067<br>Drop-out loss change: +0.005",
          "Model: LGBMClassifier loss after<br>variable: platelets_max is permuted: 0.067<br>Drop-out loss change: +0.004",
          "Model: LGBMClassifier loss after<br>variable: calcium_max is permuted: 0.067<br>Drop-out loss change: +0.004",
          "Model: LGBMClassifier loss after<br>variable: hematocrit_min is permuted: 0.066<br>Drop-out loss change: +0.004"
         ],
         "marker": {
          "color": "#46bac2"
         },
         "orientation": "h",
         "showlegend": false,
         "text": [
          "+0.099",
          "+0.042",
          "+0.041",
          "+0.005",
          "+0.005",
          "+0.005",
          "+0.005",
          "+0.004",
          "+0.004",
          "+0.004"
         ],
         "textposition": "outside",
         "type": "bar",
         "x": [
          0.0986024216251625,
          0.0415813618708273,
          0.04149173547025673,
          0.004811682418990916,
          0.004686799273950708,
          0.004680419095441445,
          0.004540996935950982,
          0.004238057638478128,
          0.004185786911466961,
          0.004063251478474299
         ],
         "xaxis": "x",
         "y": [
          "egfr_mdrd_scr_max",
          "creatinine_max",
          "creatinine_min",
          "ptt_max",
          "weight_max",
          "sbp_max",
          "invasive_vent",
          "platelets_max",
          "calcium_max",
          "hematocrit_min"
         ],
         "yaxis": "y"
        }
       ],
       "layout": {
        "annotations": [
         {
          "font": {
           "size": 16
          },
          "showarrow": false,
          "text": "LGBMClassifier",
          "x": 0.5,
          "xanchor": "center",
          "xref": "paper",
          "y": 1,
          "yanchor": "bottom",
          "yref": "paper"
         },
         {
          "font": {
           "size": 16
          },
          "showarrow": false,
          "text": "drop-out loss",
          "x": 0.5,
          "xanchor": "center",
          "xref": "paper",
          "y": 0,
          "yanchor": "top",
          "yref": "paper",
          "yshift": -30
         }
        ],
        "font": {
         "color": "#371ea3"
        },
        "height": 383,
        "margin": {
         "b": 71,
         "r": 30,
         "t": 78
        },
        "shapes": [
         {
          "line": {
           "color": "#371ea3",
           "dash": "dot",
           "width": 1.5
          },
          "type": "line",
          "x0": 0.062392721937988595,
          "x1": 0.062392721937988595,
          "xref": "x",
          "y0": -1,
          "y1": 10,
          "yref": "y"
         }
        ],
        "template": {
         "data": {
          "scatter": [
           {
            "type": "scatter"
           }
          ]
         }
        },
        "title": {
         "text": "Variable Importance",
         "x": 0.15
        },
        "xaxis": {
         "anchor": "y",
         "automargin": true,
         "domain": [
          0,
          1
         ],
         "fixedrange": true,
         "gridwidth": 2,
         "range": [
          0.04758714037420171,
          0.17578749180518796
         ],
         "tickcolor": "white",
         "ticklen": 3,
         "ticks": "outside",
         "type": "linear",
         "zeroline": false
        },
        "yaxis": {
         "anchor": "x",
         "automargin": true,
         "autorange": "reversed",
         "domain": [
          0,
          1
         ],
         "fixedrange": true,
         "gridwidth": 2,
         "tickcolor": "white",
         "ticklen": 10,
         "ticks": "outside",
         "type": "category"
        }
       }
      }
     },
     "metadata": {},
     "output_type": "display_data"
    }
   ],
   "source": [
    "exp.model_parts().plot()"
   ]
  },
  {
   "cell_type": "code",
   "execution_count": null,
   "metadata": {},
   "outputs": [],
   "source": [
    "row_number = 1\n",
    "exp.predict_parts(X_test.iloc[[row_number]], N=100).plot(min_max=[0,1])"
   ]
  },
  {
   "cell_type": "code",
   "execution_count": null,
   "metadata": {},
   "outputs": [],
   "source": [
    "import shap\n",
    "\n",
    "X_test_t = scale_impute_via_pipeline(df=X_test,pipe=pipeline_final)\n",
    "shap.initjs()\n",
    "explainer = shap.TreeExplainer(final_estimator)\n",
    "shap_values = explainer.shap_values(X_test_t)"
   ]
  },
  {
   "cell_type": "code",
   "execution_count": null,
   "metadata": {},
   "outputs": [],
   "source": [
    "df_X.temperature_min.describe()"
   ]
  },
  {
   "cell_type": "code",
   "execution_count": null,
   "metadata": {},
   "outputs": [],
   "source": [
    "df_X.temperature_min.median()"
   ]
  },
  {
   "cell_type": "code",
   "execution_count": null,
   "metadata": {},
   "outputs": [],
   "source": [
    "shap.dependence_plot(\"age\",shap_values[1], X_test_t)"
   ]
  },
  {
   "cell_type": "code",
   "execution_count": null,
   "metadata": {},
   "outputs": [],
   "source": [
    "shap.summary_plot(shap_values[1], X_test_t)"
   ]
  },
  {
   "cell_type": "code",
   "execution_count": null,
   "metadata": {},
   "outputs": [],
   "source": [
    "\n",
    "X_train_t = scale_impute_via_pipeline(X_train, pipeline_final)\n",
    "shap.initjs()\n",
    "# X_sampled = df_X_train_imp.sample(100, random_state=10)\n",
    "explainer = shap.TreeExplainer(final_estimator)\n",
    "shap_values = explainer.shap_values(X_train_t)"
   ]
  },
  {
   "cell_type": "code",
   "execution_count": null,
   "metadata": {},
   "outputs": [],
   "source": [
    "shap.dependence_plot(\"age\",shap_values[1], X_train)"
   ]
  },
  {
   "cell_type": "code",
   "execution_count": null,
   "metadata": {},
   "outputs": [],
   "source": [
    "shap.summary_plot(shap_values[1], X_train_t,max_display=50)"
   ]
  },
  {
   "cell_type": "code",
   "execution_count": null,
   "metadata": {},
   "outputs": [],
   "source": [
    "import shap\n",
    "\n",
    "X_test_t = scale_impute(df=X_test,pipe=pipeline_final)\n",
    "shap.initjs()\n",
    "explainer = shap.TreeExplainer(pipeline_final._final_estimator)\n",
    "shap_values = explainer.shap_values(X_test_t)\n",
    "shap.summary_plot(shap_values[1], X_test_t, max_display=50)"
   ]
  },
  {
   "cell_type": "code",
   "execution_count": null,
   "metadata": {},
   "outputs": [],
   "source": [
    "for name in X_train.columns:\n",
    "    shap.dependence_plot(name, shap_values[1], X_train)"
   ]
  },
  {
   "cell_type": "code",
   "execution_count": null,
   "metadata": {},
   "outputs": [],
   "source": [
    "# compute SHAP values\n",
    "\n",
    "# compute SHAP values\n",
    "X_test_t = scale_impute(df=X_test,pipe=pipeline_final)\n",
    "shap.initjs()\n",
    "explainer = shap.Explainer(pipeline_final._final_estimator, X_test_t)\n",
    "shap_values = explainer(X_test_t,check_additivity=False)\n",
    "shap.plots.beeswarm(shap_values,max_display=50)"
   ]
  },
  {
   "cell_type": "code",
   "execution_count": null,
   "metadata": {},
   "outputs": [],
   "source": [
    "row_number=1\n",
    "single_observation = X_train.iloc[[row_number]].values[0]\n",
    "X_train_t = scale_impute(df=X_train,pipe=pipeline_final)\n",
    "\n",
    "# data = shap_values.data[row_number]\n",
    "# data = single_observation\n",
    "\n",
    "shap.initjs()\n",
    "explainer = shap.Explainer(final_estimator,X_train_t, check_additivity=False)\n",
    "# shap_values = explainer(X_train_t)\n",
    "shap_values = explainer(single_observation)\n",
    "\n",
    "\n",
    "\n",
    "class ShapObject:\n",
    "    \n",
    "    def __init__(self, base_values, data, values, feature_names):\n",
    "        self.base_values = base_values # Single value\n",
    "        self.data = data # Raw feature values for 1 row of data\n",
    "        self.values = values # SHAP values for the same row of data\n",
    "        self.feature_names = feature_names # Column names\n",
    "        \n",
    "\n",
    "\n",
    "\n",
    "shap_object = ShapObject(base_values = shap_values.base_values[row_number],\n",
    "                         values = shap_values.values[row_number],\n",
    "                         feature_names = single_observation.columns,\n",
    "                         data = single_observation)\n",
    "\n",
    "                         \n",
    "\n",
    "shap.waterfall_plot(shap_object, max_display=10)\n"
   ]
  },
  {
   "cell_type": "markdown",
   "metadata": {},
   "source": [
    "## Histograms"
   ]
  },
  {
   "cell_type": "code",
   "execution_count": 65,
   "metadata": {},
   "outputs": [],
   "source": [
    "# combining X_test,y_test and y_pred in one dataset\n",
    "# del(df_test_all)\n",
    "df_test_all = X_test.copy()\n",
    "df_test_all['y_actual'] = y_test\n",
    "df_test_all['y_pred'] = y_pred\n",
    "# df_test_all"
   ]
  },
  {
   "cell_type": "code",
   "execution_count": 66,
   "metadata": {},
   "outputs": [],
   "source": [
    "# labeling the category of error\n",
    "\n",
    "pd.options.mode.chained_assignment = None  # To suppress a warning for commands below \n",
    "\n",
    "df_test_all['error_category'] = 0 # create'error_category' column\n",
    "for i in df_test_all.index:\n",
    "     if df_test_all['y_actual'][i] == 0 and df_test_all['y_pred'][i] == 0: # True negative 0 \n",
    "          df_test_all['error_category'][i] = 0\n",
    "     if df_test_all['y_actual'][i] == 0 and df_test_all['y_pred'][i] == 1: # False positive 1\n",
    "          df_test_all['error_category'][i] = 1\n",
    "     if df_test_all['y_actual'][i] == 1 and df_test_all['y_pred'][i] == 1: # True positive 2\n",
    "          df_test_all['error_category'][i] = 2\n",
    "     if df_test_all['y_actual'][i] == 1 and df_test_all['y_pred'][i] == 0: # False negative 3\n",
    "          df_test_all['error_category'][i] = 3\n",
    "\n",
    "# df_test_all"
   ]
  },
  {
   "cell_type": "code",
   "execution_count": 67,
   "metadata": {},
   "outputs": [],
   "source": [
    "df_TN = df_test_all[df_test_all.error_category==0]\n",
    "df_FP = df_test_all[df_test_all.error_category==1]\n",
    "\n",
    "df_TP = df_test_all[df_test_all.error_category==2]\n",
    "df_FN = df_test_all[df_test_all.error_category==3]"
   ]
  },
  {
   "cell_type": "code",
   "execution_count": null,
   "metadata": {},
   "outputs": [],
   "source": [
    "import shap\n",
    "\n",
    "df_TN_shap = df_TN.drop(['y_pred','y_actual','error_category'], axis=1)\n",
    "df_TN_shap = scale_impute_via_pipeline(df_TN_shap)\n",
    "shap.initjs()\n",
    "# X_sampled = df_X_train_imp.sample(100, random_state=10)\n",
    "explainer = shap.TreeExplainer(final_estimator)\n",
    "shap_values = explainer.shap_values(df_TN_shap)\n",
    "shap.summary_plot(shap_values[1], df_TN_shap)"
   ]
  },
  {
   "cell_type": "code",
   "execution_count": null,
   "metadata": {},
   "outputs": [],
   "source": [
    "error_df = {\"df_TN\":df_TN, \"df_FP\":df_FP, \"df_TP\":df_TP, \"df_FN\":df_FN}\n",
    "# error_df = {\"df_FP\":df_FP, \"df_FN\":df_FN}\n",
    "\n",
    "import shap\n",
    "shap.initjs()\n",
    "\n",
    "for k,df in error_df.items():\n",
    "    df_shap = df.drop(['y_pred','y_actual','error_category'], axis=1)\n",
    "    df_shap = scale_impute_via_pipeline(df_shap, final_estimator)\n",
    "\n",
    "    explainer = shap.TreeExplainer(final_estimator)\n",
    "    shap_values = explainer.shap_values(df_shap)\n",
    "    print(\"SHAP: \"+k)\n",
    "    shap.summary_plot(shap_values[1], df_shap)"
   ]
  },
  {
   "cell_type": "code",
   "execution_count": null,
   "metadata": {},
   "outputs": [],
   "source": [
    "df_FN.shape"
   ]
  },
  {
   "cell_type": "code",
   "execution_count": null,
   "metadata": {},
   "outputs": [],
   "source": [
    "common_processed = processed2.copy()\n",
    "common_FN = pd.merge(df_FN, common_processed, how='inner', left_index=True, right_index=True, suffixes=('', '_drop'))\n",
    "common_FN.drop([col for col in common_FN.columns if 'drop' in col], axis=1, inplace=True)\n",
    "\n",
    "common_FN.aki_kdigo_grade_1.value_counts()"
   ]
  },
  {
   "cell_type": "code",
   "execution_count": null,
   "metadata": {},
   "outputs": [],
   "source": [
    "common_FN.aki_kdigo_grade_2.value_counts()"
   ]
  },
  {
   "cell_type": "code",
   "execution_count": null,
   "metadata": {},
   "outputs": [],
   "source": [
    "common_FN.aki_kdigo_grade_3.value_counts()"
   ]
  },
  {
   "cell_type": "markdown",
   "metadata": {},
   "source": [
    "## Dalex"
   ]
  },
  {
   "cell_type": "code",
   "execution_count": 78,
   "metadata": {},
   "outputs": [
    {
     "name": "stdout",
     "output_type": "stream",
     "text": [
      "Preparation of a new explainer is initiated\n",
      "\n",
      "  -> data              : 40420 rows 87 cols\n",
      "  -> target variable   : Parameter 'y' was a pandas.DataFrame. Converted to a numpy.ndarray.\n",
      "  -> target variable   : 40420 values\n",
      "  -> model_class       : lightgbm.sklearn.LGBMClassifier (default)\n",
      "  -> label             : Not specified, model's class short name will be used. (default)\n",
      "  -> predict function  : <function yhat_proba_default at 0x7fbc13585820> will be used (default)\n",
      "  -> predict function  : Accepts pandas.DataFrame and numpy.ndarray.\n",
      "  -> predicted values  : min = 0.00815, mean = 0.502, max = 0.996\n",
      "  -> model type        : classification will be used (default)\n",
      "  -> residual function : difference between y and yhat (default)\n",
      "  -> residuals         : min = -0.993, mean = -0.00208, max = 0.974\n",
      "  -> model_info        : package imblearn\n",
      "\n",
      "A new explainer has been created!\n"
     ]
    }
   ],
   "source": [
    "import dalex as dx\n",
    "\n",
    "exp = dx.Explainer(pipeline_final, X_train, y_train)"
   ]
  },
  {
   "cell_type": "code",
   "execution_count": 69,
   "metadata": {},
   "outputs": [
    {
     "data": {
      "application/vnd.plotly.v1+json": {
       "config": {
        "plotlyServerURL": "https://plot.ly"
       },
       "data": [
        {
         "line": {
          "shape": "hv"
         },
         "marker": {
          "color": "#46bac2"
         },
         "name": "LGBMClassifier",
         "type": "scatter",
         "x": [
          0,
          0.00004948045522018802,
          0.0001979218208807521,
          0.00024740227610094015,
          0.00024740227610094015,
          0.0006432459178624443,
          0.0008411677387431965,
          0.0009896091044037606,
          0.0018307768431469569,
          0.002078179119247897,
          0.0032162295893122216,
          0.004898565066798615,
          0.005294408708560119,
          0.0062345373577436915,
          0.00752102919346858,
          0.009500247402276101,
          0.009846610588817417,
          0.010539336961900049,
          0.012122711528946067,
          0.012963879267689262,
          0.01553686293913904,
          0.017664522513607124,
          0.018159327065809007,
          0.020435428005937655,
          0.02177140029688273,
          0.023156853043047997,
          0.024096981692231567,
          0.028500742206828304,
          0.04096981692231569,
          0.04562097971301336,
          0.0653142008906482,
          0.08050470064324591,
          0.09406234537357744,
          0.10573973280554182,
          0.11227115289460662,
          0.13161801088570016,
          0.14398812469074715,
          0.1462642256308758,
          0.14977733795150916,
          0.15393369619000494,
          0.15665512122711528,
          0.1859970311726868,
          0.18649183572488867,
          0.1946066303809995,
          0.19658584858980702,
          0.20183077684314696,
          0.22083127164769917,
          0.24354280059376546,
          0.24799604156358238,
          0.25264720435428006,
          0.2562097971301336,
          0.26467095497278575,
          0.27733795150915386,
          0.28025729836714497,
          0.2822365165759525,
          0.3041068777832756,
          0.3140029688273132,
          0.328154379020287,
          0.3310242454230579,
          0.3461652647204354,
          0.35764473033151906,
          0.37585353785254827,
          0.390796635329045,
          0.41014349332013855,
          0.41098466105888176,
          0.41499257793171695,
          0.4160811479465611,
          0.42182088075210294,
          0.43686293913904006,
          0.4475507174666007,
          0.4646214745175656,
          0.4697179614052449,
          0.48446313706086097,
          0.4978228599703117,
          0.5143988124690747,
          0.5234042553191489,
          0.5335972290945077,
          0.5363681345868382,
          0.5457199406234537,
          0.6147946561108362,
          0.6353785254824345,
          0.6425531914893617,
          0.6495794161306284,
          0.6753587333003463,
          0.750519544779812,
          0.7549233052944087,
          0.7561603166749135,
          0.7705591291439882,
          0.7863433943592281,
          0.8046511627906977,
          0.8540821375556655,
          0.8651162790697674,
          0.8727857496288965,
          0.8742206828302821,
          0.8970806531420089,
          0.9034636318654131,
          0.9114299851558635,
          0.9301830776843147,
          0.9319148936170213,
          0.946561108362197,
          0.9555665512122712,
          0.9965363681345868
         ],
         "y": [
          0,
          0.0062345373577436915,
          0.07822859970311727,
          0.11355764473033152,
          0.11573478476001979,
          0.14492825333993073,
          0.17808015833745672,
          0.18456209797130133,
          0.23735774369124196,
          0.25809005442850075,
          0.3024245423057892,
          0.3334487877288471,
          0.3454725383473528,
          0.36373082632360215,
          0.3912914398812469,
          0.41999010390895597,
          0.4255813953488372,
          0.43087580405739734,
          0.4543790202869866,
          0.4649678377041069,
          0.4913409203364671,
          0.5141019297377536,
          0.5186046511627908,
          0.5377041068777832,
          0.5460168233547749,
          0.5598218703612073,
          0.5675903018307769,
          0.5931222167243939,
          0.655022266204849,
          0.6759524987629886,
          0.7437902028698664,
          0.7811479465611083,
          0.8087580405739733,
          0.8291934685799109,
          0.8365165759524987,
          0.8611578426521524,
          0.871301335972291,
          0.8733795150915389,
          0.8754082137555665,
          0.8788718456209798,
          0.8800098960910441,
          0.9007422068283029,
          0.900791687283523,
          0.9046511627906977,
          0.9054923305294409,
          0.9087580405739732,
          0.9192478970806531,
          0.927115289460663,
          0.9295398317664523,
          0.9305789213260762,
          0.9325086590796635,
          0.9358238495794161,
          0.9393369619000494,
          0.9399802078179119,
          0.940524492825334,
          0.9459673428995546,
          0.9488372093023256,
          0.9536368134586838,
          0.9546264225630876,
          0.9582384957941613,
          0.9610588817417121,
          0.964473033151905,
          0.9673923800098961,
          0.9706580900544285,
          0.9706580900544285,
          0.9714992577931717,
          0.9715982187036121,
          0.9725383473527957,
          0.9748639287481445,
          0.9760019792182089,
          0.9781791192478971,
          0.9788718456209797,
          0.980009896091044,
          0.9812469074715487,
          0.9823354774863928,
          0.9828797624938149,
          0.9835230084116774,
          0.9840672934190995,
          0.9847600197921821,
          0.989213260761999,
          0.9904502721425037,
          0.9912914398812469,
          0.9916378030677883,
          0.9926768926274122,
          0.9954972785749628,
          0.9956457199406235,
          0.9957446808510638,
          0.9962394854032657,
          0.9965363681345868,
          0.9966353290450272,
          0.9978228599703117,
          0.998416625432954,
          0.998416625432954,
          0.998416625432954,
          0.9988619495299357,
          0.9988619495299357,
          0.9990598713508164,
          0.9994557149925779,
          0.9995051954477981,
          0.9995051954477981,
          0.9996536368134586,
          1
         ]
        }
       ],
       "layout": {
        "font": {
         "color": "#371ea3"
        },
        "margin": {
         "b": 71,
         "r": 30,
         "t": 78
        },
        "template": {
         "data": {
          "scatter": [
           {
            "type": "scatter"
           }
          ]
         }
        },
        "title": {
         "text": "Receiver Operating Characteristic",
         "x": 0.15
        },
        "xaxis": {
         "automargin": true,
         "fixedrange": true,
         "gridwidth": 2,
         "tickcolor": "white",
         "ticklen": 10,
         "ticks": "outside",
         "title": {
          "text": "False positive rate"
         },
         "type": "linear",
         "zeroline": false
        },
        "yaxis": {
         "automargin": true,
         "fixedrange": true,
         "gridwidth": 2,
         "tickcolor": "white",
         "ticklen": 10,
         "ticks": "outside",
         "title": {
          "text": "True positive rate"
         },
         "type": "linear",
         "zeroline": false
        }
       }
      }
     },
     "metadata": {},
     "output_type": "display_data"
    }
   ],
   "source": [
    "exp.model_performance(model_type='classification').plot(geom='roc')"
   ]
  },
  {
   "cell_type": "code",
   "execution_count": 77,
   "metadata": {},
   "outputs": [
    {
     "data": {
      "application/vnd.plotly.v1+json": {
       "config": {
        "displaylogo": false,
        "modeBarButtonsToRemove": [
         "sendDataToCloud",
         "lasso2d",
         "autoScale2d",
         "select2d",
         "zoom2d",
         "pan2d",
         "zoomIn2d",
         "zoomOut2d",
         "resetScale2d",
         "toggleSpikelines",
         "hoverCompareCartesian",
         "hoverClosestCartesian"
        ],
        "plotlyServerURL": "https://plot.ly",
        "staticPlot": false,
        "toImageButtonOptions": {
         "height": null,
         "width": null
        }
       },
       "data": [
        {
         "base": 0.4386109962794543,
         "hoverinfo": "text",
         "hoverlabel": {
          "bgcolor": "rgba(0,0,0,0.8)"
         },
         "hovertext": [
          "Model: LGBMClassifier loss after<br>variable: invasive_vent is permuted: 0.448<br>Drop-out loss change: +0.009",
          "Model: LGBMClassifier loss after<br>variable: sbp_mean is permuted: 0.447<br>Drop-out loss change: +0.009",
          "Model: LGBMClassifier loss after<br>variable: pt_max is permuted: 0.445<br>Drop-out loss change: +0.007",
          "Model: LGBMClassifier loss after<br>variable: temperature_mean is permuted: 0.445<br>Drop-out loss change: +0.006",
          "Model: LGBMClassifier loss after<br>variable: ptt_max is permuted: 0.444<br>Drop-out loss change: +0.006",
          "Model: LGBMClassifier loss after<br>variable: hemoglobin_min is permuted: 0.443<br>Drop-out loss change: +0.005",
          "Model: LGBMClassifier loss after<br>variable: bun_max is permuted: 0.443<br>Drop-out loss change: +0.004",
          "Model: LGBMClassifier loss after<br>variable: creatinine_min is permuted: 0.443<br>Drop-out loss change: +0.004",
          "Model: LGBMClassifier loss after<br>variable: potassium_min is permuted: 0.443<br>Drop-out loss change: +0.004",
          "Model: LGBMClassifier loss after<br>variable: inr_min is permuted: 0.443<br>Drop-out loss change: +0.004",
          "Model: LGBMClassifier loss after<br>variable: dbp_mean is permuted: 0.442<br>Drop-out loss change: +0.003",
          "Model: LGBMClassifier loss after<br>variable: congestive_heart_failure is permuted: 0.442<br>Drop-out loss change: +0.003",
          "Model: LGBMClassifier loss after<br>variable: bicarbonate_min is permuted: 0.442<br>Drop-out loss change: +0.003",
          "Model: LGBMClassifier loss after<br>variable: albumin_max is permuted: 0.442<br>Drop-out loss change: +0.003",
          "Model: LGBMClassifier loss after<br>variable: sodium_max is permuted: 0.441<br>Drop-out loss change: +0.003",
          "Model: LGBMClassifier loss after<br>variable: glucose_max is permuted: 0.441<br>Drop-out loss change: +0.003",
          "Model: LGBMClassifier loss after<br>variable: hematocrit_min is permuted: 0.441<br>Drop-out loss change: +0.003",
          "Model: LGBMClassifier loss after<br>variable: platelets_min is permuted: 0.441<br>Drop-out loss change: +0.002",
          "Model: LGBMClassifier loss after<br>variable: bilirubin_total_max is permuted: 0.441<br>Drop-out loss change: +0.002",
          "Model: LGBMClassifier loss after<br>variable: chloride_min is permuted: 0.441<br>Drop-out loss change: +0.002",
          "Model: LGBMClassifier loss after<br>variable: dbp_min is permuted: 0.441<br>Drop-out loss change: +0.002",
          "Model: LGBMClassifier loss after<br>variable: weight_max is permuted: 0.441<br>Drop-out loss change: +0.002",
          "Model: LGBMClassifier loss after<br>variable: weight_min is permuted: 0.441<br>Drop-out loss change: +0.002",
          "Model: LGBMClassifier loss after<br>variable: heart_rate_min is permuted: 0.441<br>Drop-out loss change: +0.002",
          "Model: LGBMClassifier loss after<br>variable: creatinine_max is permuted: 0.441<br>Drop-out loss change: +0.002",
          "Model: LGBMClassifier loss after<br>variable: inr_max is permuted: 0.441<br>Drop-out loss change: +0.002",
          "Model: LGBMClassifier loss after<br>variable: weight_admit is permuted: 0.441<br>Drop-out loss change: +0.002",
          "Model: LGBMClassifier loss after<br>variable: pt_min is permuted: 0.44<br>Drop-out loss change: +0.002",
          "Model: LGBMClassifier loss after<br>variable: bmi is permuted: 0.44<br>Drop-out loss change: +0.002",
          "Model: LGBMClassifier loss after<br>variable: temperature_min is permuted: 0.44<br>Drop-out loss change: +0.002"
         ],
         "marker": {
          "color": "#46bac2"
         },
         "orientation": "h",
         "showlegend": false,
         "text": [
          "+0.009",
          "+0.009",
          "+0.007",
          "+0.006",
          "+0.006",
          "+0.005",
          "+0.004",
          "+0.004",
          "+0.004",
          "+0.004",
          "+0.003",
          "+0.003",
          "+0.003",
          "+0.003",
          "+0.003",
          "+0.003",
          "+0.003",
          "+0.002",
          "+0.002",
          "+0.002",
          "+0.002",
          "+0.002",
          "+0.002",
          "+0.002",
          "+0.002",
          "+0.002",
          "+0.002",
          "+0.002",
          "+0.002",
          "+0.002"
         ],
         "textposition": "outside",
         "type": "bar",
         "x": [
          0.009011988424968975,
          0.008681273253410504,
          0.006531624638280387,
          0.005911533691608184,
          0.005663497312939192,
          0.004878048780487865,
          0.004381976023150158,
          0.0043406366267051966,
          0.004092600248036482,
          0.003927242662257191,
          0.0033484911120297833,
          0.003265812319140249,
          0.003265812319140138,
          0.0031831335262504923,
          0.002604381976023251,
          0.002563042579578456,
          0.0025217031831334946,
          0.002480363786688755,
          0.00243902439024396,
          0.0023976849937991096,
          0.0023563455973543146,
          0.0023563455973543146,
          0.002315006200909464,
          0.002315006200909464,
          0.0020669698222406385,
          0.001984291029351104,
          0.001901612236461403,
          0.001860272840016719,
          0.001860272840016608,
          0.0018189334435717575
         ],
         "xaxis": "x",
         "y": [
          "invasive_vent",
          "sbp_mean",
          "pt_max",
          "temperature_mean",
          "ptt_max",
          "hemoglobin_min",
          "bun_max",
          "creatinine_min",
          "potassium_min",
          "inr_min",
          "dbp_mean",
          "congestive_heart_failure",
          "bicarbonate_min",
          "albumin_max",
          "sodium_max",
          "glucose_max",
          "hematocrit_min",
          "platelets_min",
          "bilirubin_total_max",
          "chloride_min",
          "dbp_min",
          "weight_max",
          "weight_min",
          "heart_rate_min",
          "creatinine_max",
          "inr_max",
          "weight_admit",
          "pt_min",
          "bmi",
          "temperature_min"
         ],
         "yaxis": "y"
        }
       ],
       "layout": {
        "annotations": [
         {
          "font": {
           "size": 16
          },
          "showarrow": false,
          "text": "LGBMClassifier",
          "x": 0.5,
          "xanchor": "center",
          "xref": "paper",
          "y": 1,
          "yanchor": "bottom",
          "yref": "paper"
         },
         {
          "font": {
           "size": 16
          },
          "showarrow": false,
          "text": "drop-out loss",
          "x": 0.5,
          "xanchor": "center",
          "xref": "paper",
          "y": 0,
          "yanchor": "top",
          "yref": "paper",
          "yshift": -30
         }
        ],
        "font": {
         "color": "#371ea3"
        },
        "height": 783,
        "margin": {
         "b": 71,
         "r": 30,
         "t": 78
        },
        "shapes": [
         {
          "line": {
           "color": "#371ea3",
           "dash": "dot",
           "width": 1.5
          },
          "type": "line",
          "x0": 0.4386109962794543,
          "x1": 0.4386109962794543,
          "xref": "x",
          "y0": -1,
          "y1": 30,
          "yref": "y"
         }
        ],
        "template": {
         "data": {
          "scatter": [
           {
            "type": "scatter"
           }
          ]
         }
        },
        "title": {
         "text": "Variable Importance",
         "x": 0.15
        },
        "xaxis": {
         "anchor": "y",
         "automargin": true,
         "domain": [
          0,
          1
         ],
         "fixedrange": true,
         "gridwidth": 2,
         "range": [
          0.4316494419181481,
          0.4497064902852418
         ],
         "tickcolor": "white",
         "ticklen": 3,
         "ticks": "outside",
         "type": "linear",
         "zeroline": false
        },
        "yaxis": {
         "anchor": "x",
         "automargin": true,
         "autorange": "reversed",
         "domain": [
          0,
          1
         ],
         "fixedrange": true,
         "gridwidth": 2,
         "tickcolor": "white",
         "ticklen": 10,
         "ticks": "outside",
         "type": "category"
        }
       }
      }
     },
     "metadata": {},
     "output_type": "display_data"
    }
   ],
   "source": [
    "exp.model_parts().plot(max_vars=30)"
   ]
  },
  {
   "cell_type": "code",
   "execution_count": null,
   "metadata": {},
   "outputs": [],
   "source": [
    "row_number = 1\n",
    "exp.predict_parts(X_test.iloc[[row_number]], N=100).plot(min_max=[0,1])"
   ]
  },
  {
   "cell_type": "code",
   "execution_count": null,
   "metadata": {},
   "outputs": [],
   "source": [
    "y_test.iloc[[row_number]]"
   ]
  },
  {
   "cell_type": "code",
   "execution_count": null,
   "metadata": {},
   "outputs": [],
   "source": [
    "y_pred[row_number]"
   ]
  },
  {
   "cell_type": "code",
   "execution_count": null,
   "metadata": {},
   "outputs": [],
   "source": [
    "import dalex as dx\n",
    "\n",
    "error_df = {\"df_TN\":df_TN, \"df_FP\":df_FP, \"df_TP\":df_TP, \"df_FN\":df_FN}\n",
    "# error_df = {\"df_FP\":df_FP, \"df_FN\":df_FN}\n",
    "\n",
    "for k,df in error_df.items():\n",
    "    df_shap = df.drop(['y_pred','y_actual','error_category'], axis=1)\n",
    "\n",
    "    row_number = 1\n",
    "    print(\"SHAP: \"+k)\n",
    "    exp.predict_parts(df_shap.iloc[[row_number]], N=100).plot(min_max=[0,1])"
   ]
  },
  {
   "cell_type": "code",
   "execution_count": 80,
   "metadata": {},
   "outputs": [
    {
     "data": {
      "text/html": [
       "<div>\n",
       "<style scoped>\n",
       "    .dataframe tbody tr th:only-of-type {\n",
       "        vertical-align: middle;\n",
       "    }\n",
       "\n",
       "    .dataframe tbody tr th {\n",
       "        vertical-align: top;\n",
       "    }\n",
       "\n",
       "    .dataframe thead th {\n",
       "        text-align: right;\n",
       "    }\n",
       "</style>\n",
       "<table border=\"1\" class=\"dataframe\">\n",
       "  <thead>\n",
       "    <tr style=\"text-align: right;\">\n",
       "      <th></th>\n",
       "      <th></th>\n",
       "      <th>age</th>\n",
       "      <th>urineoutput_24hr</th>\n",
       "      <th>weight_max</th>\n",
       "      <th>resp_rate_mean</th>\n",
       "      <th>chronic_pulmonary_disease</th>\n",
       "      <th>hfnc</th>\n",
       "      <th>arbs_acei</th>\n",
       "      <th>invasive_vent</th>\n",
       "      <th>BLACK/AFRICAN AMERICAN</th>\n",
       "      <th>glucose_max</th>\n",
       "      <th>egfr_mdrd_scr_max</th>\n",
       "      <th>heart_rate_max</th>\n",
       "      <th>bun_min</th>\n",
       "      <th>sodium_min</th>\n",
       "      <th>chloride_max</th>\n",
       "      <th>hematocrit_max</th>\n",
       "      <th>obesity_icd</th>\n",
       "      <th>wbc_bd_min</th>\n",
       "      <th>female</th>\n",
       "      <th>platelets_min</th>\n",
       "      <th>platelets_max</th>\n",
       "      <th>egfr_epi_scr_max</th>\n",
       "      <th>albumin_max</th>\n",
       "      <th>inr_max</th>\n",
       "      <th>wbc_bd_max</th>\n",
       "      <th>ptt_min</th>\n",
       "      <th>diabetes_type2</th>\n",
       "      <th>cyclosporine</th>\n",
       "      <th>supplemental_oxygen</th>\n",
       "      <th>temperature_min</th>\n",
       "      <th>calcium_max</th>\n",
       "      <th>dbp_mean</th>\n",
       "      <th>creatinine_max</th>\n",
       "      <th>pt_max</th>\n",
       "      <th>ptt_max</th>\n",
       "      <th>bicarbonate_min</th>\n",
       "      <th>resp_rate_max</th>\n",
       "      <th>tracheostomy</th>\n",
       "      <th>mild_liver_disease</th>\n",
       "      <th>hematocrit_min</th>\n",
       "      <th>heart_rate_min</th>\n",
       "      <th>dbp_min</th>\n",
       "      <th>chronic_liver_disease</th>\n",
       "      <th>sepsis</th>\n",
       "      <th>HISPANIC/LATINO</th>\n",
       "      <th>sbp_mean</th>\n",
       "      <th>resp_rate_min</th>\n",
       "      <th>inr_min</th>\n",
       "      <th>calcium_min</th>\n",
       "      <th>sbp_min</th>\n",
       "      <th>sodium_max</th>\n",
       "      <th>potassium_max</th>\n",
       "      <th>wbc_max</th>\n",
       "      <th>weight_admit</th>\n",
       "      <th>wbc_min</th>\n",
       "      <th>chronic_heart_failure</th>\n",
       "      <th>bicarbonate_max</th>\n",
       "      <th>bun_max</th>\n",
       "      <th>WHITE</th>\n",
       "      <th>spo2_min</th>\n",
       "      <th>weight_min</th>\n",
       "      <th>creatinine_min</th>\n",
       "      <th>peripheral_vascular_disease</th>\n",
       "      <th>bilirubin_total_max</th>\n",
       "      <th>bilirubin_total_min</th>\n",
       "      <th>chloride_min</th>\n",
       "      <th>congestive_heart_failure</th>\n",
       "      <th>dbp_max</th>\n",
       "      <th>temperature_mean</th>\n",
       "      <th>kidney_transplant</th>\n",
       "      <th>non_invasive_vent</th>\n",
       "      <th>myocardial_infarct</th>\n",
       "      <th>spo2_max</th>\n",
       "      <th>sbp_max</th>\n",
       "      <th>hemoglobin_max</th>\n",
       "      <th>temperature_max</th>\n",
       "      <th>potassium_min</th>\n",
       "      <th>albumin_min</th>\n",
       "      <th>hypertension</th>\n",
       "      <th>severe_liver_disease</th>\n",
       "      <th>pt_min</th>\n",
       "      <th>hemoglobin_min</th>\n",
       "      <th>glucose_min</th>\n",
       "      <th>aniongap_min</th>\n",
       "      <th>heart_rate_mean</th>\n",
       "      <th>bmi</th>\n",
       "      <th>aniongap_max</th>\n",
       "    </tr>\n",
       "    <tr>\n",
       "      <th>stay_id</th>\n",
       "      <th>subject_id</th>\n",
       "      <th></th>\n",
       "      <th></th>\n",
       "      <th></th>\n",
       "      <th></th>\n",
       "      <th></th>\n",
       "      <th></th>\n",
       "      <th></th>\n",
       "      <th></th>\n",
       "      <th></th>\n",
       "      <th></th>\n",
       "      <th></th>\n",
       "      <th></th>\n",
       "      <th></th>\n",
       "      <th></th>\n",
       "      <th></th>\n",
       "      <th></th>\n",
       "      <th></th>\n",
       "      <th></th>\n",
       "      <th></th>\n",
       "      <th></th>\n",
       "      <th></th>\n",
       "      <th></th>\n",
       "      <th></th>\n",
       "      <th></th>\n",
       "      <th></th>\n",
       "      <th></th>\n",
       "      <th></th>\n",
       "      <th></th>\n",
       "      <th></th>\n",
       "      <th></th>\n",
       "      <th></th>\n",
       "      <th></th>\n",
       "      <th></th>\n",
       "      <th></th>\n",
       "      <th></th>\n",
       "      <th></th>\n",
       "      <th></th>\n",
       "      <th></th>\n",
       "      <th></th>\n",
       "      <th></th>\n",
       "      <th></th>\n",
       "      <th></th>\n",
       "      <th></th>\n",
       "      <th></th>\n",
       "      <th></th>\n",
       "      <th></th>\n",
       "      <th></th>\n",
       "      <th></th>\n",
       "      <th></th>\n",
       "      <th></th>\n",
       "      <th></th>\n",
       "      <th></th>\n",
       "      <th></th>\n",
       "      <th></th>\n",
       "      <th></th>\n",
       "      <th></th>\n",
       "      <th></th>\n",
       "      <th></th>\n",
       "      <th></th>\n",
       "      <th></th>\n",
       "      <th></th>\n",
       "      <th></th>\n",
       "      <th></th>\n",
       "      <th></th>\n",
       "      <th></th>\n",
       "      <th></th>\n",
       "      <th></th>\n",
       "      <th></th>\n",
       "      <th></th>\n",
       "      <th></th>\n",
       "      <th></th>\n",
       "      <th></th>\n",
       "      <th></th>\n",
       "      <th></th>\n",
       "      <th></th>\n",
       "      <th></th>\n",
       "      <th></th>\n",
       "      <th></th>\n",
       "      <th></th>\n",
       "      <th></th>\n",
       "      <th></th>\n",
       "      <th></th>\n",
       "      <th></th>\n",
       "      <th></th>\n",
       "      <th></th>\n",
       "      <th></th>\n",
       "      <th></th>\n",
       "    </tr>\n",
       "  </thead>\n",
       "  <tbody>\n",
       "    <tr>\n",
       "      <th>33349310</th>\n",
       "      <th>14873885</th>\n",
       "      <td>78.0</td>\n",
       "      <td>25.0</td>\n",
       "      <td>80.0</td>\n",
       "      <td>20.480769</td>\n",
       "      <td>0</td>\n",
       "      <td>0</td>\n",
       "      <td>1</td>\n",
       "      <td>1</td>\n",
       "      <td>0</td>\n",
       "      <td>130.0</td>\n",
       "      <td>65.0</td>\n",
       "      <td>122.0</td>\n",
       "      <td>12.0</td>\n",
       "      <td>143.0</td>\n",
       "      <td>109.0</td>\n",
       "      <td>37.9</td>\n",
       "      <td>0</td>\n",
       "      <td>7.8</td>\n",
       "      <td>0</td>\n",
       "      <td>79.0</td>\n",
       "      <td>148.0</td>\n",
       "      <td>64.0</td>\n",
       "      <td>NaN</td>\n",
       "      <td>1.5</td>\n",
       "      <td>10.2</td>\n",
       "      <td>30.8</td>\n",
       "      <td>0</td>\n",
       "      <td>0</td>\n",
       "      <td>0</td>\n",
       "      <td>36.33</td>\n",
       "      <td>8.1</td>\n",
       "      <td>64.208333</td>\n",
       "      <td>1.1</td>\n",
       "      <td>16.7</td>\n",
       "      <td>33.9</td>\n",
       "      <td>20.0</td>\n",
       "      <td>31.0</td>\n",
       "      <td>0</td>\n",
       "      <td>0</td>\n",
       "      <td>20.6</td>\n",
       "      <td>70.0</td>\n",
       "      <td>46.0</td>\n",
       "      <td>0</td>\n",
       "      <td>0</td>\n",
       "      <td>0</td>\n",
       "      <td>111.166667</td>\n",
       "      <td>13.0</td>\n",
       "      <td>1.1</td>\n",
       "      <td>8.1</td>\n",
       "      <td>86.0</td>\n",
       "      <td>144.0</td>\n",
       "      <td>3.9</td>\n",
       "      <td>10.2</td>\n",
       "      <td>72.3</td>\n",
       "      <td>7.8</td>\n",
       "      <td>1</td>\n",
       "      <td>22.0</td>\n",
       "      <td>16.0</td>\n",
       "      <td>0</td>\n",
       "      <td>92.0</td>\n",
       "      <td>72.3</td>\n",
       "      <td>0.9</td>\n",
       "      <td>1</td>\n",
       "      <td>NaN</td>\n",
       "      <td>NaN</td>\n",
       "      <td>108.0</td>\n",
       "      <td>1</td>\n",
       "      <td>83.0</td>\n",
       "      <td>36.33</td>\n",
       "      <td>0</td>\n",
       "      <td>0</td>\n",
       "      <td>0</td>\n",
       "      <td>100.0</td>\n",
       "      <td>129.0</td>\n",
       "      <td>12.2</td>\n",
       "      <td>36.33</td>\n",
       "      <td>3.5</td>\n",
       "      <td>NaN</td>\n",
       "      <td>0</td>\n",
       "      <td>0</td>\n",
       "      <td>12.2</td>\n",
       "      <td>6.5</td>\n",
       "      <td>99.0</td>\n",
       "      <td>12.0</td>\n",
       "      <td>100.083333</td>\n",
       "      <td>43.04</td>\n",
       "      <td>14.0</td>\n",
       "    </tr>\n",
       "  </tbody>\n",
       "</table>\n",
       "</div>"
      ],
      "text/plain": [
       "                      age  urineoutput_24hr  weight_max  resp_rate_mean  \\\n",
       "stay_id  subject_id                                                       \n",
       "33349310 14873885    78.0              25.0        80.0       20.480769   \n",
       "\n",
       "                     chronic_pulmonary_disease  hfnc  arbs_acei  \\\n",
       "stay_id  subject_id                                               \n",
       "33349310 14873885                            0     0          1   \n",
       "\n",
       "                     invasive_vent  BLACK/AFRICAN AMERICAN  glucose_max  \\\n",
       "stay_id  subject_id                                                       \n",
       "33349310 14873885                1                       0        130.0   \n",
       "\n",
       "                     egfr_mdrd_scr_max  heart_rate_max  bun_min  sodium_min  \\\n",
       "stay_id  subject_id                                                           \n",
       "33349310 14873885                 65.0           122.0     12.0       143.0   \n",
       "\n",
       "                     chloride_max  hematocrit_max  obesity_icd  wbc_bd_min  \\\n",
       "stay_id  subject_id                                                          \n",
       "33349310 14873885           109.0            37.9            0         7.8   \n",
       "\n",
       "                     female  platelets_min  platelets_max  egfr_epi_scr_max  \\\n",
       "stay_id  subject_id                                                           \n",
       "33349310 14873885         0           79.0          148.0              64.0   \n",
       "\n",
       "                     albumin_max  inr_max  wbc_bd_max  ptt_min  \\\n",
       "stay_id  subject_id                                              \n",
       "33349310 14873885            NaN      1.5        10.2     30.8   \n",
       "\n",
       "                     diabetes_type2  cyclosporine  supplemental_oxygen  \\\n",
       "stay_id  subject_id                                                      \n",
       "33349310 14873885                 0             0                    0   \n",
       "\n",
       "                     temperature_min  calcium_max   dbp_mean  creatinine_max  \\\n",
       "stay_id  subject_id                                                            \n",
       "33349310 14873885              36.33          8.1  64.208333             1.1   \n",
       "\n",
       "                     pt_max  ptt_max  bicarbonate_min  resp_rate_max  \\\n",
       "stay_id  subject_id                                                    \n",
       "33349310 14873885      16.7     33.9             20.0           31.0   \n",
       "\n",
       "                     tracheostomy  mild_liver_disease  hematocrit_min  \\\n",
       "stay_id  subject_id                                                     \n",
       "33349310 14873885               0                   0            20.6   \n",
       "\n",
       "                     heart_rate_min  dbp_min  chronic_liver_disease  sepsis  \\\n",
       "stay_id  subject_id                                                           \n",
       "33349310 14873885              70.0     46.0                      0       0   \n",
       "\n",
       "                     HISPANIC/LATINO    sbp_mean  resp_rate_min  inr_min  \\\n",
       "stay_id  subject_id                                                        \n",
       "33349310 14873885                  0  111.166667           13.0      1.1   \n",
       "\n",
       "                     calcium_min  sbp_min  sodium_max  potassium_max  wbc_max  \\\n",
       "stay_id  subject_id                                                             \n",
       "33349310 14873885            8.1     86.0       144.0            3.9     10.2   \n",
       "\n",
       "                     weight_admit  wbc_min  chronic_heart_failure  \\\n",
       "stay_id  subject_id                                                 \n",
       "33349310 14873885            72.3      7.8                      1   \n",
       "\n",
       "                     bicarbonate_max  bun_max  WHITE  spo2_min  weight_min  \\\n",
       "stay_id  subject_id                                                          \n",
       "33349310 14873885               22.0     16.0      0      92.0        72.3   \n",
       "\n",
       "                     creatinine_min  peripheral_vascular_disease  \\\n",
       "stay_id  subject_id                                                \n",
       "33349310 14873885               0.9                            1   \n",
       "\n",
       "                     bilirubin_total_max  bilirubin_total_min  chloride_min  \\\n",
       "stay_id  subject_id                                                           \n",
       "33349310 14873885                    NaN                  NaN         108.0   \n",
       "\n",
       "                     congestive_heart_failure  dbp_max  temperature_mean  \\\n",
       "stay_id  subject_id                                                        \n",
       "33349310 14873885                           1     83.0             36.33   \n",
       "\n",
       "                     kidney_transplant  non_invasive_vent  myocardial_infarct  \\\n",
       "stay_id  subject_id                                                             \n",
       "33349310 14873885                    0                  0                   0   \n",
       "\n",
       "                     spo2_max  sbp_max  hemoglobin_max  temperature_max  \\\n",
       "stay_id  subject_id                                                       \n",
       "33349310 14873885       100.0    129.0            12.2            36.33   \n",
       "\n",
       "                     potassium_min  albumin_min  hypertension  \\\n",
       "stay_id  subject_id                                             \n",
       "33349310 14873885              3.5          NaN             0   \n",
       "\n",
       "                     severe_liver_disease  pt_min  hemoglobin_min  \\\n",
       "stay_id  subject_id                                                 \n",
       "33349310 14873885                       0    12.2             6.5   \n",
       "\n",
       "                     glucose_min  aniongap_min  heart_rate_mean    bmi  \\\n",
       "stay_id  subject_id                                                      \n",
       "33349310 14873885           99.0          12.0       100.083333  43.04   \n",
       "\n",
       "                     aniongap_max  \n",
       "stay_id  subject_id                \n",
       "33349310 14873885            14.0  "
      ]
     },
     "execution_count": 80,
     "metadata": {},
     "output_type": "execute_result"
    }
   ],
   "source": [
    "df_shap.iloc[[457]]"
   ]
  },
  {
   "cell_type": "markdown",
   "metadata": {},
   "source": [
    "## Break-down plot using Dalex"
   ]
  },
  {
   "cell_type": "code",
   "execution_count": 71,
   "metadata": {},
   "outputs": [
    {
     "name": "stdout",
     "output_type": "stream",
     "text": [
      "Using DALEX on false positive instance with row number: 228\n"
     ]
    },
    {
     "data": {
      "application/vnd.plotly.v1+json": {
       "config": {
        "displaylogo": false,
        "modeBarButtonsToRemove": [
         "sendDataToCloud",
         "lasso2d",
         "autoScale2d",
         "select2d",
         "zoom2d",
         "pan2d",
         "zoomIn2d",
         "zoomOut2d",
         "resetScale2d",
         "toggleSpikelines",
         "hoverCompareCartesian",
         "hoverClosestCartesian"
        ],
        "plotlyServerURL": "https://plot.ly",
        "staticPlot": false,
        "toImageButtonOptions": {
         "height": null,
         "width": null
        }
       },
       "data": [
        {
         "base": 0.38,
         "connector": {
          "line": {
           "color": "#371ea3",
           "dash": "solid",
           "width": 1
          },
          "mode": "spanning"
         },
         "decreasing": {
          "marker": {
           "color": "#f05a71"
          }
         },
         "hoverinfo": "text+delta",
         "hoverlabel": {
          "bgcolor": "rgba(0,0,0,0.8)"
         },
         "hovertext": [
          "Average response: 0.562<br>Prediction: 0.382",
          "creatinine_max = 1.3<br>increases average response by",
          "egfr_mdrd_scr_max = 60.0<br>decreases average response by",
          "creatinine_min = 1.0<br>decreases average response by",
          "sbp_min = 121.0<br>decreases average response by",
          "potassium_max = 3.4<br>decreases average response by",
          "invasive_vent = 0.0<br>decreases average response by",
          "hematocrit_min = 38.3<br>increases average response by",
          "bmi:weight_admit = 70.87:122.6<br>increases average response by",
          "congestive_heart_failure = 1.0<br>increases average response by",
          "albumin_min = 3.4<br>decreases average response by",
          "hemoglobin_min = 12.3<br>decreases average response by",
          "pt_max = 25.4<br>increases average response by",
          "glucose_max = 184.0<br>decreases average response by",
          "inr_min = 2.3<br>decreases average response by",
          "bicarbonate_min = 25.0<br>decreases average response by",
          "sbp_mean = 144.0<br>decreases average response by",
          "ptt_max = 36.2<br>decreases average response by",
          "sbp_max = 182.0<br>increases average response by",
          "bilirubin_total_min = 6.6<br>increases average response by",
          "mild_liver_disease = 1.0<br>increases average response by",
          "hemoglobin_max:hematocrit_max = 12.3:38.3<br>decreases average response by",
          "sodium_min = 145.0<br>decreases average response by",
          "supplemental_oxygen = 0.0<br>increases average response by",
          "temperature_mean = 36.53<br>increases average response by",
          "potassium_min = 3.1<br>increases average response by",
          "calcium_max = 9.2<br>increases average response by",
          "dbp_mean = 103.3<br>increases average response by",
          "albumin_max = 3.6<br>increases average response by",
          "bilirubin_total_max = 6.7<br>decreases average response by",
          "aniongap_max = 17.0<br>increases average response by",
          "+ all other factors<br>decreases average response by",
          "Average response: 0.562<br>Prediction: 0.382"
         ],
         "increasing": {
          "marker": {
           "color": "#8bdcbe"
          }
         },
         "measure": [
          "relative",
          "relative",
          "relative",
          "relative",
          "relative",
          "relative",
          "relative",
          "relative",
          "relative",
          "relative",
          "relative",
          "relative",
          "relative",
          "relative",
          "relative",
          "relative",
          "relative",
          "relative",
          "relative",
          "relative",
          "relative",
          "relative",
          "relative",
          "relative",
          "relative",
          "relative",
          "relative",
          "relative",
          "relative",
          "relative",
          "relative",
          "relative",
          "total"
         ],
         "orientation": "h",
         "showlegend": false,
         "text": [
          "0.562",
          "+0.119",
          "-0.077",
          "-0.104",
          "-0.072",
          "-0.038",
          "-0.026",
          "+0.004",
          "+0.004",
          "+0.034",
          "-0.003",
          "-0.009",
          "+0.006",
          "-0.0",
          "-0.006",
          "-0.016",
          "-0.004",
          "-0.019",
          "+0.014",
          "+0.008",
          "+0.01",
          "0.0",
          "-0.003",
          "+0.002",
          "+0.001",
          "+0.013",
          "+0.008",
          "+0.005",
          "+0.008",
          "-0.004",
          "+0.001",
          "-0.037",
          "0.382"
         ],
         "textposition": "outside",
         "totals": {
          "marker": {
           "color": "#371ea3"
          }
         },
         "type": "waterfall",
         "x": [
          0.182,
          0.119,
          -0.077,
          -0.104,
          -0.072,
          -0.038,
          -0.026,
          0.004,
          0.004,
          0.034,
          -0.003,
          -0.009,
          0.006,
          0,
          -0.006,
          -0.016,
          -0.004,
          -0.019,
          0.014,
          0.008,
          0.01,
          0,
          -0.003,
          0.002,
          0.001,
          0.013,
          0.008,
          0.005,
          0.008,
          -0.004,
          0.001,
          -0.037,
          0.002
         ],
         "xaxis": "x",
         "y": [
          "intercept",
          "creatinine_max = 1.3",
          "egfr_mdrd_scr_max = 60.0",
          "creatinine_min = 1.0",
          "sbp_min = 121.0",
          "potassium_max = 3.4",
          "invasive_vent = 0.0",
          "hematocrit_min = 38.3",
          "bmi:weight_admit = 70.87:122.6",
          "congestive_heart_failure = 1.0",
          "albumin_min = 3.4",
          "hemoglobin_min = 12.3",
          "pt_max = 25.4",
          "glucose_max = 184.0",
          "inr_min = 2.3",
          "bicarbonate_min = 25.0",
          "sbp_mean = 144.0",
          "ptt_max = 36.2",
          "sbp_max = 182.0",
          "bilirubin_total_min = 6.6",
          "mild_liver_disease = 1.0",
          "hemoglobin_max:hematocrit_max = 12.3:38.3",
          "sodium_min = 145.0",
          "supplemental_oxygen = 0.0",
          "temperature_mean = 36.53",
          "potassium_min = 3.1",
          "calcium_max = 9.2",
          "dbp_mean = 103.3",
          "albumin_max = 3.6",
          "bilirubin_total_max = 6.7",
          "aniongap_max = 17.0",
          "+ all other factors",
          "prediction"
         ],
         "yaxis": "y"
        }
       ],
       "layout": {
        "annotations": [
         {
          "font": {
           "size": 16
          },
          "showarrow": false,
          "text": "LGBMClassifier",
          "x": 0.5,
          "xanchor": "center",
          "xref": "paper",
          "y": 1,
          "yanchor": "bottom",
          "yref": "paper"
         },
         {
          "font": {
           "size": 16
          },
          "showarrow": false,
          "text": "contribution",
          "x": 0.5,
          "xanchor": "center",
          "xref": "paper",
          "y": 0,
          "yanchor": "top",
          "yref": "paper",
          "yshift": -30
         }
        ],
        "font": {
         "color": "#371ea3"
        },
        "height": 813,
        "margin": {
         "b": 71,
         "r": 30,
         "t": 78
        },
        "shapes": [
         {
          "line": {
           "color": "#371ea3",
           "dash": "dot",
           "width": 1.5
          },
          "type": "line",
          "x0": 0.38,
          "x1": 0.38,
          "xref": "x",
          "y0": -1,
          "y1": 33,
          "yref": "y"
         }
        ],
        "template": {
         "data": {
          "scatter": [
           {
            "type": "scatter"
           }
          ]
         }
        },
        "title": {
         "text": "Break Down",
         "x": 0.15
        },
        "xaxis": {
         "anchor": "y",
         "automargin": true,
         "domain": [
          0,
          1
         ],
         "fixedrange": true,
         "gridwidth": 2,
         "range": [
          0,
          1
         ],
         "tickcolor": "white",
         "ticklen": 3,
         "ticks": "outside",
         "type": "linear",
         "zeroline": false
        },
        "yaxis": {
         "anchor": "x",
         "automargin": true,
         "autorange": "reversed",
         "domain": [
          0,
          1
         ],
         "fixedrange": true,
         "gridwidth": 2,
         "tickcolor": "white",
         "ticklen": 10,
         "ticks": "outside",
         "type": "category"
        }
       }
      }
     },
     "metadata": {},
     "output_type": "display_data"
    },
    {
     "name": "stdout",
     "output_type": "stream",
     "text": [
      "Using DALEX on false positive instance with row number: 51\n"
     ]
    },
    {
     "data": {
      "application/vnd.plotly.v1+json": {
       "config": {
        "displaylogo": false,
        "modeBarButtonsToRemove": [
         "sendDataToCloud",
         "lasso2d",
         "autoScale2d",
         "select2d",
         "zoom2d",
         "pan2d",
         "zoomIn2d",
         "zoomOut2d",
         "resetScale2d",
         "toggleSpikelines",
         "hoverCompareCartesian",
         "hoverClosestCartesian"
        ],
        "plotlyServerURL": "https://plot.ly",
        "staticPlot": false,
        "toImageButtonOptions": {
         "height": null,
         "width": null
        }
       },
       "data": [
        {
         "base": 0.38,
         "connector": {
          "line": {
           "color": "#371ea3",
           "dash": "solid",
           "width": 1
          },
          "mode": "spanning"
         },
         "decreasing": {
          "marker": {
           "color": "#f05a71"
          }
         },
         "hoverinfo": "text+delta",
         "hoverlabel": {
          "bgcolor": "rgba(0,0,0,0.8)"
         },
         "hovertext": [
          "Average response: 0.53<br>Prediction: 0.721",
          "egfr_mdrd_scr_max = 79.0<br>decreases average response by",
          "creatinine_min:creatinine_max = 0.7:0.9<br>decreases average response by",
          "chloride_max = 117.0<br>increases average response by",
          "ptt_min = 61.1<br>increases average response by",
          "ptt_max = 67.5<br>increases average response by",
          "age = 89.0<br>decreases average response by",
          "sbp_mean = 129.3<br>decreases average response by",
          "sbp_max = 177.0<br>increases average response by",
          "invasive_vent = 0.0<br>decreases average response by",
          "hematocrit_min = 22.6<br>increases average response by",
          "temperature_min = 35.0<br>increases average response by",
          "glucose_max = 84.0<br>increases average response by",
          "pt_min = 15.5<br>decreases average response by",
          "wbc_bd_max = 11.3<br>increases average response by",
          "temperature_mean = 36.48<br>increases average response by",
          "sbp_min = 83.0<br>increases average response by",
          "potassium_max = 4.2<br>decreases average response by",
          "resp_rate_mean = 20.18<br>decreases average response by",
          "platelets_min = 65.0<br>increases average response by",
          "potassium_min = 4.0<br>decreases average response by",
          "egfr_epi_scr_max = 75.0<br>increases average response by",
          "wbc_bd_min = 8.7<br>decreases average response by",
          "aniongap_min = 8.0<br>decreases average response by",
          "platelets_max = 88.0<br>decreases average response by",
          "dbp_min = 38.0<br>increases average response by",
          "sodium_min = 141.0<br>increases average response by",
          "sodium_max = 144.0<br>decreases average response by",
          "hemoglobin_min = 8.1<br>increases average response by",
          "weight_max = 81.4<br>increases average response by",
          "bmi = 39.67<br>increases average response by",
          "+ all other factors<br>increases average response by",
          "Average response: 0.53<br>Prediction: 0.721"
         ],
         "increasing": {
          "marker": {
           "color": "#8bdcbe"
          }
         },
         "measure": [
          "relative",
          "relative",
          "relative",
          "relative",
          "relative",
          "relative",
          "relative",
          "relative",
          "relative",
          "relative",
          "relative",
          "relative",
          "relative",
          "relative",
          "relative",
          "relative",
          "relative",
          "relative",
          "relative",
          "relative",
          "relative",
          "relative",
          "relative",
          "relative",
          "relative",
          "relative",
          "relative",
          "relative",
          "relative",
          "relative",
          "relative",
          "relative",
          "total"
         ],
         "orientation": "h",
         "showlegend": false,
         "text": [
          "0.53",
          "-0.115",
          "-0.074",
          "+0.045",
          "+0.036",
          "+0.033",
          "-0.026",
          "-0.012",
          "+0.029",
          "-0.003",
          "+0.022",
          "+0.032",
          "+0.009",
          "-0.008",
          "+0.003",
          "+0.009",
          "+0.013",
          "-0.017",
          "-0.004",
          "+0.019",
          "-0.012",
          "+0.003",
          "-0.008",
          "-0.007",
          "-0.008",
          "+0.006",
          "+0.002",
          "-0.006",
          "+0.031",
          "+0.014",
          "+0.001",
          "+0.185",
          "0.721"
         ],
         "textposition": "outside",
         "totals": {
          "marker": {
           "color": "#371ea3"
          }
         },
         "type": "waterfall",
         "x": [
          0.15,
          -0.115,
          -0.074,
          0.045,
          0.036,
          0.033,
          -0.026,
          -0.012,
          0.029,
          -0.003,
          0.022,
          0.032,
          0.009,
          -0.008,
          0.003,
          0.009,
          0.013,
          -0.017,
          -0.004,
          0.019,
          -0.012,
          0.003,
          -0.008,
          -0.007,
          -0.008,
          0.006,
          0.002,
          -0.006,
          0.031,
          0.014,
          0.001,
          0.185,
          0.341
         ],
         "xaxis": "x",
         "y": [
          "intercept",
          "egfr_mdrd_scr_max = 79.0",
          "creatinine_min:creatinine_max = 0.7:0.9",
          "chloride_max = 117.0",
          "ptt_min = 61.1",
          "ptt_max = 67.5",
          "age = 89.0",
          "sbp_mean = 129.3",
          "sbp_max = 177.0",
          "invasive_vent = 0.0",
          "hematocrit_min = 22.6",
          "temperature_min = 35.0",
          "glucose_max = 84.0",
          "pt_min = 15.5",
          "wbc_bd_max = 11.3",
          "temperature_mean = 36.48",
          "sbp_min = 83.0",
          "potassium_max = 4.2",
          "resp_rate_mean = 20.18",
          "platelets_min = 65.0",
          "potassium_min = 4.0",
          "egfr_epi_scr_max = 75.0",
          "wbc_bd_min = 8.7",
          "aniongap_min = 8.0",
          "platelets_max = 88.0",
          "dbp_min = 38.0",
          "sodium_min = 141.0",
          "sodium_max = 144.0",
          "hemoglobin_min = 8.1",
          "weight_max = 81.4",
          "bmi = 39.67",
          "+ all other factors",
          "prediction"
         ],
         "yaxis": "y"
        }
       ],
       "layout": {
        "annotations": [
         {
          "font": {
           "size": 16
          },
          "showarrow": false,
          "text": "LGBMClassifier",
          "x": 0.5,
          "xanchor": "center",
          "xref": "paper",
          "y": 1,
          "yanchor": "bottom",
          "yref": "paper"
         },
         {
          "font": {
           "size": 16
          },
          "showarrow": false,
          "text": "contribution",
          "x": 0.5,
          "xanchor": "center",
          "xref": "paper",
          "y": 0,
          "yanchor": "top",
          "yref": "paper",
          "yshift": -30
         }
        ],
        "font": {
         "color": "#371ea3"
        },
        "height": 813,
        "margin": {
         "b": 71,
         "r": 30,
         "t": 78
        },
        "shapes": [
         {
          "line": {
           "color": "#371ea3",
           "dash": "dot",
           "width": 1.5
          },
          "type": "line",
          "x0": 0.38,
          "x1": 0.38,
          "xref": "x",
          "y0": -1,
          "y1": 33,
          "yref": "y"
         }
        ],
        "template": {
         "data": {
          "scatter": [
           {
            "type": "scatter"
           }
          ]
         }
        },
        "title": {
         "text": "Break Down",
         "x": 0.15
        },
        "xaxis": {
         "anchor": "y",
         "automargin": true,
         "domain": [
          0,
          1
         ],
         "fixedrange": true,
         "gridwidth": 2,
         "range": [
          0,
          1
         ],
         "tickcolor": "white",
         "ticklen": 3,
         "ticks": "outside",
         "type": "linear",
         "zeroline": false
        },
        "yaxis": {
         "anchor": "x",
         "automargin": true,
         "autorange": "reversed",
         "domain": [
          0,
          1
         ],
         "fixedrange": true,
         "gridwidth": 2,
         "tickcolor": "white",
         "ticklen": 10,
         "ticks": "outside",
         "type": "category"
        }
       }
      }
     },
     "metadata": {},
     "output_type": "display_data"
    },
    {
     "name": "stdout",
     "output_type": "stream",
     "text": [
      "Using DALEX on false positive instance with row number: 563\n"
     ]
    },
    {
     "data": {
      "application/vnd.plotly.v1+json": {
       "config": {
        "displaylogo": false,
        "modeBarButtonsToRemove": [
         "sendDataToCloud",
         "lasso2d",
         "autoScale2d",
         "select2d",
         "zoom2d",
         "pan2d",
         "zoomIn2d",
         "zoomOut2d",
         "resetScale2d",
         "toggleSpikelines",
         "hoverCompareCartesian",
         "hoverClosestCartesian"
        ],
        "plotlyServerURL": "https://plot.ly",
        "staticPlot": false,
        "toImageButtonOptions": {
         "height": null,
         "width": null
        }
       },
       "data": [
        {
         "base": 0.38,
         "connector": {
          "line": {
           "color": "#371ea3",
           "dash": "solid",
           "width": 1
          },
          "mode": "spanning"
         },
         "decreasing": {
          "marker": {
           "color": "#f05a71"
          }
         },
         "hoverinfo": "text+delta",
         "hoverlabel": {
          "bgcolor": "rgba(0,0,0,0.8)"
         },
         "hovertext": [
          "Average response: 0.444<br>Prediction: 0.491",
          "egfr_mdrd_scr_max = 54.0<br>increases average response by",
          "pt_max = 10.1<br>decreases average response by",
          "creatinine_max = 1.0<br>increases average response by",
          "platelets_max = 330.0<br>decreases average response by",
          "potassium_max = 5.1<br>increases average response by",
          "invasive_vent = 0.0<br>decreases average response by",
          "hematocrit_min = 31.1<br>decreases average response by",
          "congestive_heart_failure = 1.0<br>increases average response by",
          "sbp_max = 123.0<br>decreases average response by",
          "ptt_max = 31.2<br>decreases average response by",
          "weight_max = 96.0<br>increases average response by",
          "female = 1.0<br>decreases average response by",
          "hematocrit_max = 42.2<br>decreases average response by",
          "myocardial_infarct = 1.0<br>increases average response by",
          "temperature_min = 36.67<br>decreases average response by",
          "wbc_bd_max = 19.0<br>increases average response by",
          "spo2_min = 85.0<br>increases average response by",
          "chloride_max = 105.0<br>decreases average response by",
          "potassium_min = 4.1<br>decreases average response by",
          "egfr_epi_scr_max = 55.0<br>increases average response by",
          "aniongap_max = 20.0<br>decreases average response by",
          "bicarbonate_min = 22.0<br>decreases average response by",
          "temperature_mean = 37.06<br>decreases average response by",
          "creatinine_min = 0.7<br>increases average response by",
          "resp_rate_mean = 20.66<br>decreases average response by",
          "calcium_min = 8.3<br>decreases average response by",
          "pt_min:ptt_min = 10.1:31.2<br>increases average response by",
          "platelets_min = 203.0<br>increases average response by",
          "hemoglobin_max = 13.5<br>decreases average response by",
          "calcium_max = 9.7<br>decreases average response by",
          "+ all other factors<br>increases average response by",
          "Average response: 0.444<br>Prediction: 0.491"
         ],
         "increasing": {
          "marker": {
           "color": "#8bdcbe"
          }
         },
         "measure": [
          "relative",
          "relative",
          "relative",
          "relative",
          "relative",
          "relative",
          "relative",
          "relative",
          "relative",
          "relative",
          "relative",
          "relative",
          "relative",
          "relative",
          "relative",
          "relative",
          "relative",
          "relative",
          "relative",
          "relative",
          "relative",
          "relative",
          "relative",
          "relative",
          "relative",
          "relative",
          "relative",
          "relative",
          "relative",
          "relative",
          "relative",
          "relative",
          "total"
         ],
         "orientation": "h",
         "showlegend": false,
         "text": [
          "0.444",
          "+0.057",
          "-0.037",
          "+0.007",
          "-0.018",
          "+0.013",
          "-0.033",
          "-0.014",
          "+0.033",
          "-0.026",
          "-0.004",
          "+0.03",
          "-0.002",
          "-0.004",
          "+0.012",
          "-0.005",
          "+0.008",
          "+0.026",
          "-0.004",
          "-0.01",
          "+0.014",
          "-0.011",
          "-0.004",
          "-0.005",
          "+0.004",
          "-0.006",
          "-0.005",
          "+0.026",
          "+0.001",
          "-0.007",
          "-0.016",
          "+0.031",
          "0.491"
         ],
         "textposition": "outside",
         "totals": {
          "marker": {
           "color": "#371ea3"
          }
         },
         "type": "waterfall",
         "x": [
          0.064,
          0.057,
          -0.037,
          0.007,
          -0.018,
          0.013,
          -0.033,
          -0.014,
          0.033,
          -0.026,
          -0.004,
          0.03,
          -0.002,
          -0.004,
          0.012,
          -0.005,
          0.008,
          0.026,
          -0.004,
          -0.01,
          0.014,
          -0.011,
          -0.004,
          -0.005,
          0.004,
          -0.006,
          -0.005,
          0.026,
          0.001,
          -0.007,
          -0.016,
          0.031,
          0.111
         ],
         "xaxis": "x",
         "y": [
          "intercept",
          "egfr_mdrd_scr_max = 54.0",
          "pt_max = 10.1",
          "creatinine_max = 1.0",
          "platelets_max = 330.0",
          "potassium_max = 5.1",
          "invasive_vent = 0.0",
          "hematocrit_min = 31.1",
          "congestive_heart_failure = 1.0",
          "sbp_max = 123.0",
          "ptt_max = 31.2",
          "weight_max = 96.0",
          "female = 1.0",
          "hematocrit_max = 42.2",
          "myocardial_infarct = 1.0",
          "temperature_min = 36.67",
          "wbc_bd_max = 19.0",
          "spo2_min = 85.0",
          "chloride_max = 105.0",
          "potassium_min = 4.1",
          "egfr_epi_scr_max = 55.0",
          "aniongap_max = 20.0",
          "bicarbonate_min = 22.0",
          "temperature_mean = 37.06",
          "creatinine_min = 0.7",
          "resp_rate_mean = 20.66",
          "calcium_min = 8.3",
          "pt_min:ptt_min = 10.1:31.2",
          "platelets_min = 203.0",
          "hemoglobin_max = 13.5",
          "calcium_max = 9.7",
          "+ all other factors",
          "prediction"
         ],
         "yaxis": "y"
        }
       ],
       "layout": {
        "annotations": [
         {
          "font": {
           "size": 16
          },
          "showarrow": false,
          "text": "LGBMClassifier",
          "x": 0.5,
          "xanchor": "center",
          "xref": "paper",
          "y": 1,
          "yanchor": "bottom",
          "yref": "paper"
         },
         {
          "font": {
           "size": 16
          },
          "showarrow": false,
          "text": "contribution",
          "x": 0.5,
          "xanchor": "center",
          "xref": "paper",
          "y": 0,
          "yanchor": "top",
          "yref": "paper",
          "yshift": -30
         }
        ],
        "font": {
         "color": "#371ea3"
        },
        "height": 813,
        "margin": {
         "b": 71,
         "r": 30,
         "t": 78
        },
        "shapes": [
         {
          "line": {
           "color": "#371ea3",
           "dash": "dot",
           "width": 1.5
          },
          "type": "line",
          "x0": 0.38,
          "x1": 0.38,
          "xref": "x",
          "y0": -1,
          "y1": 33,
          "yref": "y"
         }
        ],
        "template": {
         "data": {
          "scatter": [
           {
            "type": "scatter"
           }
          ]
         }
        },
        "title": {
         "text": "Break Down",
         "x": 0.15
        },
        "xaxis": {
         "anchor": "y",
         "automargin": true,
         "domain": [
          0,
          1
         ],
         "fixedrange": true,
         "gridwidth": 2,
         "range": [
          0,
          1
         ],
         "tickcolor": "white",
         "ticklen": 3,
         "ticks": "outside",
         "type": "linear",
         "zeroline": false
        },
        "yaxis": {
         "anchor": "x",
         "automargin": true,
         "autorange": "reversed",
         "domain": [
          0,
          1
         ],
         "fixedrange": true,
         "gridwidth": 2,
         "tickcolor": "white",
         "ticklen": 10,
         "ticks": "outside",
         "type": "category"
        }
       }
      }
     },
     "metadata": {},
     "output_type": "display_data"
    },
    {
     "name": "stdout",
     "output_type": "stream",
     "text": [
      "Using DALEX on false positive instance with row number: 501\n"
     ]
    },
    {
     "data": {
      "application/vnd.plotly.v1+json": {
       "config": {
        "displaylogo": false,
        "modeBarButtonsToRemove": [
         "sendDataToCloud",
         "lasso2d",
         "autoScale2d",
         "select2d",
         "zoom2d",
         "pan2d",
         "zoomIn2d",
         "zoomOut2d",
         "resetScale2d",
         "toggleSpikelines",
         "hoverCompareCartesian",
         "hoverClosestCartesian"
        ],
        "plotlyServerURL": "https://plot.ly",
        "staticPlot": false,
        "toImageButtonOptions": {
         "height": null,
         "width": null
        }
       },
       "data": [
        {
         "base": 0.38,
         "connector": {
          "line": {
           "color": "#371ea3",
           "dash": "solid",
           "width": 1
          },
          "mode": "spanning"
         },
         "decreasing": {
          "marker": {
           "color": "#f05a71"
          }
         },
         "hoverinfo": "text+delta",
         "hoverlabel": {
          "bgcolor": "rgba(0,0,0,0.8)"
         },
         "hovertext": [
          "Average response: 0.479<br>Prediction: 0.893",
          "egfr_mdrd_scr_max = 49.0<br>increases average response by",
          "creatinine_max = 1.4<br>increases average response by",
          "creatinine_min = 1.3<br>increases average response by",
          "invasive_vent = 1.0<br>increases average response by",
          "egfr_epi_scr_max = 47.0<br>increases average response by",
          "dbp_min = 4.0<br>decreases average response by",
          "peripheral_vascular_disease = 1.0<br>increases average response by",
          "congestive_heart_failure = 1.0<br>increases average response by",
          "potassium_max = 5.9<br>increases average response by",
          "temperature_min = 36.56<br>decreases average response by",
          "aniongap_min = 6.0<br>decreases average response by",
          "hematocrit_min = 25.1<br>decreases average response by",
          "ptt_min = 24.4<br>decreases average response by",
          "chloride_max = 115.0<br>decreases average response by",
          "ptt_max = 27.9<br>increases average response by",
          "aniongap_max = 7.0<br>decreases average response by",
          "bicarbonate_max = 21.0<br>decreases average response by",
          "chloride_min:glucose_max = 113.0:nan<br>decreases average response by",
          "myocardial_infarct = 1.0<br>increases average response by",
          "platelets_min = 88.0<br>decreases average response by",
          "calcium_min = 8.0<br>decreases average response by",
          "bmi = 50.6<br>increases average response by",
          "sodium_min = 140.0<br>decreases average response by",
          "hemoglobin_max:hematocrit_max = 10.3:32.7<br>increases average response by",
          "calcium_max = 8.0<br>decreases average response by",
          "wbc_min:wbc_bd_min = 17.4:17.4<br>increases average response by",
          "bun_max = 27.0<br>decreases average response by",
          "hemoglobin_min = 7.8<br>increases average response by",
          "weight_admit = 85.0<br>decreases average response by",
          "potassium_min = 5.6<br>increases average response by",
          "+ all other factors<br>increases average response by",
          "Average response: 0.479<br>Prediction: 0.893"
         ],
         "increasing": {
          "marker": {
           "color": "#8bdcbe"
          }
         },
         "measure": [
          "relative",
          "relative",
          "relative",
          "relative",
          "relative",
          "relative",
          "relative",
          "relative",
          "relative",
          "relative",
          "relative",
          "relative",
          "relative",
          "relative",
          "relative",
          "relative",
          "relative",
          "relative",
          "relative",
          "relative",
          "relative",
          "relative",
          "relative",
          "relative",
          "relative",
          "relative",
          "relative",
          "relative",
          "relative",
          "relative",
          "relative",
          "relative",
          "total"
         ],
         "orientation": "h",
         "showlegend": false,
         "text": [
          "0.479",
          "+0.198",
          "+0.1",
          "+0.012",
          "+0.034",
          "+0.039",
          "-0.012",
          "+0.01",
          "+0.004",
          "+0.008",
          "-0.001",
          "-0.012",
          "-0.002",
          "-0.006",
          "-0.003",
          "+0.012",
          "-0.02",
          "-0.007",
          "0.0",
          "+0.004",
          "-0.0",
          "-0.008",
          "+0.001",
          "-0.004",
          "+0.007",
          "-0.005",
          "+0.006",
          "-0.002",
          "+0.006",
          "-0.001",
          "+0.014",
          "+0.042",
          "0.893"
         ],
         "textposition": "outside",
         "totals": {
          "marker": {
           "color": "#371ea3"
          }
         },
         "type": "waterfall",
         "x": [
          0.099,
          0.198,
          0.1,
          0.012,
          0.034,
          0.039,
          -0.012,
          0.01,
          0.004,
          0.008,
          -0.001,
          -0.012,
          -0.002,
          -0.006,
          -0.003,
          0.012,
          -0.02,
          -0.007,
          0,
          0.004,
          0,
          -0.008,
          0.001,
          -0.004,
          0.007,
          -0.005,
          0.006,
          -0.002,
          0.006,
          -0.001,
          0.014,
          0.042,
          0.513
         ],
         "xaxis": "x",
         "y": [
          "intercept",
          "egfr_mdrd_scr_max = 49.0",
          "creatinine_max = 1.4",
          "creatinine_min = 1.3",
          "invasive_vent = 1.0",
          "egfr_epi_scr_max = 47.0",
          "dbp_min = 4.0",
          "peripheral_vascular_disease = 1.0",
          "congestive_heart_failure = 1.0",
          "potassium_max = 5.9",
          "temperature_min = 36.56",
          "aniongap_min = 6.0",
          "hematocrit_min = 25.1",
          "ptt_min = 24.4",
          "chloride_max = 115.0",
          "ptt_max = 27.9",
          "aniongap_max = 7.0",
          "bicarbonate_max = 21.0",
          "chloride_min:glucose_max = 113.0:nan",
          "myocardial_infarct = 1.0",
          "platelets_min = 88.0",
          "calcium_min = 8.0",
          "bmi = 50.6",
          "sodium_min = 140.0",
          "hemoglobin_max:hematocrit_max = 10.3:32.7",
          "calcium_max = 8.0",
          "wbc_min:wbc_bd_min = 17.4:17.4",
          "bun_max = 27.0",
          "hemoglobin_min = 7.8",
          "weight_admit = 85.0",
          "potassium_min = 5.6",
          "+ all other factors",
          "prediction"
         ],
         "yaxis": "y"
        }
       ],
       "layout": {
        "annotations": [
         {
          "font": {
           "size": 16
          },
          "showarrow": false,
          "text": "LGBMClassifier",
          "x": 0.5,
          "xanchor": "center",
          "xref": "paper",
          "y": 1,
          "yanchor": "bottom",
          "yref": "paper"
         },
         {
          "font": {
           "size": 16
          },
          "showarrow": false,
          "text": "contribution",
          "x": 0.5,
          "xanchor": "center",
          "xref": "paper",
          "y": 0,
          "yanchor": "top",
          "yref": "paper",
          "yshift": -30
         }
        ],
        "font": {
         "color": "#371ea3"
        },
        "height": 813,
        "margin": {
         "b": 71,
         "r": 30,
         "t": 78
        },
        "shapes": [
         {
          "line": {
           "color": "#371ea3",
           "dash": "dot",
           "width": 1.5
          },
          "type": "line",
          "x0": 0.38,
          "x1": 0.38,
          "xref": "x",
          "y0": -1,
          "y1": 33,
          "yref": "y"
         }
        ],
        "template": {
         "data": {
          "scatter": [
           {
            "type": "scatter"
           }
          ]
         }
        },
        "title": {
         "text": "Break Down",
         "x": 0.15
        },
        "xaxis": {
         "anchor": "y",
         "automargin": true,
         "domain": [
          0,
          1
         ],
         "fixedrange": true,
         "gridwidth": 2,
         "range": [
          0,
          1
         ],
         "tickcolor": "white",
         "ticklen": 3,
         "ticks": "outside",
         "type": "linear",
         "zeroline": false
        },
        "yaxis": {
         "anchor": "x",
         "automargin": true,
         "autorange": "reversed",
         "domain": [
          0,
          1
         ],
         "fixedrange": true,
         "gridwidth": 2,
         "tickcolor": "white",
         "ticklen": 10,
         "ticks": "outside",
         "type": "category"
        }
       }
      }
     },
     "metadata": {},
     "output_type": "display_data"
    },
    {
     "name": "stdout",
     "output_type": "stream",
     "text": [
      "Using DALEX on false positive instance with row number: 457\n"
     ]
    },
    {
     "data": {
      "application/vnd.plotly.v1+json": {
       "config": {
        "displaylogo": false,
        "modeBarButtonsToRemove": [
         "sendDataToCloud",
         "lasso2d",
         "autoScale2d",
         "select2d",
         "zoom2d",
         "pan2d",
         "zoomIn2d",
         "zoomOut2d",
         "resetScale2d",
         "toggleSpikelines",
         "hoverCompareCartesian",
         "hoverClosestCartesian"
        ],
        "plotlyServerURL": "https://plot.ly",
        "staticPlot": false,
        "toImageButtonOptions": {
         "height": null,
         "width": null
        }
       },
       "data": [
        {
         "base": 0.38,
         "connector": {
          "line": {
           "color": "#371ea3",
           "dash": "solid",
           "width": 1
          },
          "mode": "spanning"
         },
         "decreasing": {
          "marker": {
           "color": "#f05a71"
          }
         },
         "hoverinfo": "text+delta",
         "hoverlabel": {
          "bgcolor": "rgba(0,0,0,0.8)"
         },
         "hovertext": [
          "Average response: 0.517<br>Prediction: 0.779",
          "egfr_mdrd_scr_max = 65.0<br>decreases average response by",
          "creatinine_min = 0.9<br>decreases average response by",
          "creatinine_max = 1.1<br>increases average response by",
          "potassium_max = 3.9<br>decreases average response by",
          "invasive_vent = 1.0<br>increases average response by",
          "congestive_heart_failure = 1.0<br>increases average response by",
          "peripheral_vascular_disease = 1.0<br>increases average response by",
          "supplemental_oxygen = 0.0<br>decreases average response by",
          "sbp_max = 129.0<br>decreases average response by",
          "platelets_min = 79.0<br>increases average response by",
          "temperature_mean = 36.33<br>increases average response by",
          "pt_max = 16.7<br>increases average response by",
          "wbc_bd_max = 10.2<br>decreases average response by",
          "sbp_mean = 111.2<br>increases average response by",
          "hematocrit_min = 20.6<br>decreases average response by",
          "platelets_max = 148.0<br>increases average response by",
          "calcium_min = 8.1<br>decreases average response by",
          "resp_rate_mean = 20.48<br>decreases average response by",
          "hemoglobin_min = 6.5<br>increases average response by",
          "urineoutput_24hr = 25.0<br>increases average response by",
          "diabetes_type2 = 0.0<br>decreases average response by",
          "potassium_min = 3.5<br>increases average response by",
          "ptt_max = 33.9<br>decreases average response by",
          "calcium_max = 8.1<br>increases average response by",
          "wbc_bd_min = 7.8<br>decreases average response by",
          "sodium_min = 143.0<br>decreases average response by",
          "bmi:weight_admit = 43.04:72.3<br>increases average response by",
          "sodium_max = 144.0<br>decreases average response by",
          "sbp_min = 86.0<br>increases average response by",
          "hemoglobin_max:hematocrit_max = 12.2:37.9<br>increases average response by",
          "+ all other factors<br>increases average response by",
          "Average response: 0.517<br>Prediction: 0.779"
         ],
         "increasing": {
          "marker": {
           "color": "#8bdcbe"
          }
         },
         "measure": [
          "relative",
          "relative",
          "relative",
          "relative",
          "relative",
          "relative",
          "relative",
          "relative",
          "relative",
          "relative",
          "relative",
          "relative",
          "relative",
          "relative",
          "relative",
          "relative",
          "relative",
          "relative",
          "relative",
          "relative",
          "relative",
          "relative",
          "relative",
          "relative",
          "relative",
          "relative",
          "relative",
          "relative",
          "relative",
          "relative",
          "relative",
          "relative",
          "total"
         ],
         "orientation": "h",
         "showlegend": false,
         "text": [
          "0.517",
          "-0.079",
          "-0.076",
          "+0.027",
          "-0.049",
          "+0.055",
          "+0.029",
          "+0.017",
          "-0.005",
          "-0.013",
          "+0.03",
          "+0.03",
          "+0.018",
          "-0.013",
          "+0.022",
          "-0.007",
          "+0.021",
          "-0.007",
          "-0.002",
          "+0.02",
          "+0.024",
          "-0.013",
          "+0.015",
          "-0.01",
          "+0.016",
          "-0.007",
          "-0.003",
          "+0.004",
          "-0.004",
          "+0.016",
          "+0.027",
          "+0.182",
          "0.779"
         ],
         "textposition": "outside",
         "totals": {
          "marker": {
           "color": "#371ea3"
          }
         },
         "type": "waterfall",
         "x": [
          0.137,
          -0.079,
          -0.076,
          0.027,
          -0.049,
          0.055,
          0.029,
          0.017,
          -0.005,
          -0.013,
          0.03,
          0.03,
          0.018,
          -0.013,
          0.022,
          -0.007,
          0.021,
          -0.007,
          -0.002,
          0.02,
          0.024,
          -0.013,
          0.015,
          -0.01,
          0.016,
          -0.007,
          -0.003,
          0.004,
          -0.004,
          0.016,
          0.027,
          0.182,
          0.399
         ],
         "xaxis": "x",
         "y": [
          "intercept",
          "egfr_mdrd_scr_max = 65.0",
          "creatinine_min = 0.9",
          "creatinine_max = 1.1",
          "potassium_max = 3.9",
          "invasive_vent = 1.0",
          "congestive_heart_failure = 1.0",
          "peripheral_vascular_disease = 1.0",
          "supplemental_oxygen = 0.0",
          "sbp_max = 129.0",
          "platelets_min = 79.0",
          "temperature_mean = 36.33",
          "pt_max = 16.7",
          "wbc_bd_max = 10.2",
          "sbp_mean = 111.2",
          "hematocrit_min = 20.6",
          "platelets_max = 148.0",
          "calcium_min = 8.1",
          "resp_rate_mean = 20.48",
          "hemoglobin_min = 6.5",
          "urineoutput_24hr = 25.0",
          "diabetes_type2 = 0.0",
          "potassium_min = 3.5",
          "ptt_max = 33.9",
          "calcium_max = 8.1",
          "wbc_bd_min = 7.8",
          "sodium_min = 143.0",
          "bmi:weight_admit = 43.04:72.3",
          "sodium_max = 144.0",
          "sbp_min = 86.0",
          "hemoglobin_max:hematocrit_max = 12.2:37.9",
          "+ all other factors",
          "prediction"
         ],
         "yaxis": "y"
        }
       ],
       "layout": {
        "annotations": [
         {
          "font": {
           "size": 16
          },
          "showarrow": false,
          "text": "LGBMClassifier",
          "x": 0.5,
          "xanchor": "center",
          "xref": "paper",
          "y": 1,
          "yanchor": "bottom",
          "yref": "paper"
         },
         {
          "font": {
           "size": 16
          },
          "showarrow": false,
          "text": "contribution",
          "x": 0.5,
          "xanchor": "center",
          "xref": "paper",
          "y": 0,
          "yanchor": "top",
          "yref": "paper",
          "yshift": -30
         }
        ],
        "font": {
         "color": "#371ea3"
        },
        "height": 813,
        "margin": {
         "b": 71,
         "r": 30,
         "t": 78
        },
        "shapes": [
         {
          "line": {
           "color": "#371ea3",
           "dash": "dot",
           "width": 1.5
          },
          "type": "line",
          "x0": 0.38,
          "x1": 0.38,
          "xref": "x",
          "y0": -1,
          "y1": 33,
          "yref": "y"
         }
        ],
        "template": {
         "data": {
          "scatter": [
           {
            "type": "scatter"
           }
          ]
         }
        },
        "title": {
         "text": "Break Down",
         "x": 0.15
        },
        "xaxis": {
         "anchor": "y",
         "automargin": true,
         "domain": [
          0,
          1
         ],
         "fixedrange": true,
         "gridwidth": 2,
         "range": [
          0,
          1
         ],
         "tickcolor": "white",
         "ticklen": 3,
         "ticks": "outside",
         "type": "linear",
         "zeroline": false
        },
        "yaxis": {
         "anchor": "x",
         "automargin": true,
         "autorange": "reversed",
         "domain": [
          0,
          1
         ],
         "fixedrange": true,
         "gridwidth": 2,
         "tickcolor": "white",
         "ticklen": 10,
         "ticks": "outside",
         "type": "category"
        }
       }
      }
     },
     "metadata": {},
     "output_type": "display_data"
    },
    {
     "name": "stdout",
     "output_type": "stream",
     "text": [
      "Using DALEX on false positive instance with row number: 285\n"
     ]
    },
    {
     "data": {
      "application/vnd.plotly.v1+json": {
       "config": {
        "displaylogo": false,
        "modeBarButtonsToRemove": [
         "sendDataToCloud",
         "lasso2d",
         "autoScale2d",
         "select2d",
         "zoom2d",
         "pan2d",
         "zoomIn2d",
         "zoomOut2d",
         "resetScale2d",
         "toggleSpikelines",
         "hoverCompareCartesian",
         "hoverClosestCartesian"
        ],
        "plotlyServerURL": "https://plot.ly",
        "staticPlot": false,
        "toImageButtonOptions": {
         "height": null,
         "width": null
        }
       },
       "data": [
        {
         "base": 0.38,
         "connector": {
          "line": {
           "color": "#371ea3",
           "dash": "solid",
           "width": 1
          },
          "mode": "spanning"
         },
         "decreasing": {
          "marker": {
           "color": "#f05a71"
          }
         },
         "hoverinfo": "text+delta",
         "hoverlabel": {
          "bgcolor": "rgba(0,0,0,0.8)"
         },
         "hovertext": [
          "Average response: 0.503<br>Prediction: 0.504",
          "creatinine_max = 1.3<br>increases average response by",
          "sbp_min = 122.0<br>decreases average response by",
          "creatinine_min = 1.2<br>decreases average response by",
          "egfr_mdrd_scr_max = 52.0<br>increases average response by",
          "egfr_epi_scr_max = 48.0<br>increases average response by",
          "congestive_heart_failure = 1.0<br>increases average response by",
          "albumin_min = 4.4<br>decreases average response by",
          "albumin_max = 4.4<br>decreases average response by",
          "potassium_max = 5.0<br>increases average response by",
          "hematocrit_min = 21.0<br>decreases average response by",
          "age = 91.0<br>decreases average response by",
          "sbp_mean = 136.2<br>decreases average response by",
          "invasive_vent = 0.0<br>decreases average response by",
          "sbp_max = 155.0<br>increases average response by",
          "aniongap_min = 14.0<br>increases average response by",
          "supplemental_oxygen = 0.0<br>increases average response by",
          "wbc_bd_max = 8.1<br>decreases average response by",
          "hemoglobin_min = 7.0<br>increases average response by",
          "calcium_max = 9.1<br>increases average response by",
          "pt_min = 15.1<br>decreases average response by",
          "resp_rate_max = 22.0<br>decreases average response by",
          "temperature_min = 36.5<br>decreases average response by",
          "diabetes_type2 = 0.0<br>decreases average response by",
          "female = 0.0<br>decreases average response by",
          "ptt_min = 36.2<br>increases average response by",
          "chloride_max = 107.0<br>decreases average response by",
          "hemoglobin_max = 8.7<br>decreases average response by",
          "wbc_bd_min = 6.7<br>increases average response by",
          "dbp_mean = 57.41<br>decreases average response by",
          "bmi:bilirubin_total_max = 44.39:1.7<br>increases average response by",
          "+ all other factors<br>decreases average response by",
          "Average response: 0.503<br>Prediction: 0.504"
         ],
         "increasing": {
          "marker": {
           "color": "#8bdcbe"
          }
         },
         "measure": [
          "relative",
          "relative",
          "relative",
          "relative",
          "relative",
          "relative",
          "relative",
          "relative",
          "relative",
          "relative",
          "relative",
          "relative",
          "relative",
          "relative",
          "relative",
          "relative",
          "relative",
          "relative",
          "relative",
          "relative",
          "relative",
          "relative",
          "relative",
          "relative",
          "relative",
          "relative",
          "relative",
          "relative",
          "relative",
          "relative",
          "relative",
          "relative",
          "total"
         ],
         "orientation": "h",
         "showlegend": false,
         "text": [
          "0.503",
          "+0.124",
          "-0.071",
          "-0.072",
          "+0.035",
          "+0.042",
          "+0.041",
          "-0.04",
          "-0.003",
          "+0.007",
          "-0.004",
          "-0.018",
          "-0.025",
          "-0.014",
          "+0.01",
          "+0.021",
          "+0.004",
          "-0.007",
          "+0.008",
          "+0.011",
          "-0.007",
          "-0.009",
          "-0.001",
          "-0.002",
          "0.0",
          "+0.017",
          "-0.0",
          "-0.018",
          "+0.002",
          "-0.003",
          "+0.006",
          "-0.035",
          "0.504"
         ],
         "textposition": "outside",
         "totals": {
          "marker": {
           "color": "#371ea3"
          }
         },
         "type": "waterfall",
         "x": [
          0.123,
          0.124,
          -0.071,
          -0.072,
          0.035,
          0.042,
          0.041,
          -0.04,
          -0.003,
          0.007,
          -0.004,
          -0.018,
          -0.025,
          -0.014,
          0.01,
          0.021,
          0.004,
          -0.007,
          0.008,
          0.011,
          -0.007,
          -0.009,
          -0.001,
          -0.002,
          0,
          0.017,
          0,
          -0.018,
          0.002,
          -0.003,
          0.006,
          -0.035,
          0.124
         ],
         "xaxis": "x",
         "y": [
          "intercept",
          "creatinine_max = 1.3",
          "sbp_min = 122.0",
          "creatinine_min = 1.2",
          "egfr_mdrd_scr_max = 52.0",
          "egfr_epi_scr_max = 48.0",
          "congestive_heart_failure = 1.0",
          "albumin_min = 4.4",
          "albumin_max = 4.4",
          "potassium_max = 5.0",
          "hematocrit_min = 21.0",
          "age = 91.0",
          "sbp_mean = 136.2",
          "invasive_vent = 0.0",
          "sbp_max = 155.0",
          "aniongap_min = 14.0",
          "supplemental_oxygen = 0.0",
          "wbc_bd_max = 8.1",
          "hemoglobin_min = 7.0",
          "calcium_max = 9.1",
          "pt_min = 15.1",
          "resp_rate_max = 22.0",
          "temperature_min = 36.5",
          "diabetes_type2 = 0.0",
          "female = 0.0",
          "ptt_min = 36.2",
          "chloride_max = 107.0",
          "hemoglobin_max = 8.7",
          "wbc_bd_min = 6.7",
          "dbp_mean = 57.41",
          "bmi:bilirubin_total_max = 44.39:1.7",
          "+ all other factors",
          "prediction"
         ],
         "yaxis": "y"
        }
       ],
       "layout": {
        "annotations": [
         {
          "font": {
           "size": 16
          },
          "showarrow": false,
          "text": "LGBMClassifier",
          "x": 0.5,
          "xanchor": "center",
          "xref": "paper",
          "y": 1,
          "yanchor": "bottom",
          "yref": "paper"
         },
         {
          "font": {
           "size": 16
          },
          "showarrow": false,
          "text": "contribution",
          "x": 0.5,
          "xanchor": "center",
          "xref": "paper",
          "y": 0,
          "yanchor": "top",
          "yref": "paper",
          "yshift": -30
         }
        ],
        "font": {
         "color": "#371ea3"
        },
        "height": 813,
        "margin": {
         "b": 71,
         "r": 30,
         "t": 78
        },
        "shapes": [
         {
          "line": {
           "color": "#371ea3",
           "dash": "dot",
           "width": 1.5
          },
          "type": "line",
          "x0": 0.38,
          "x1": 0.38,
          "xref": "x",
          "y0": -1,
          "y1": 33,
          "yref": "y"
         }
        ],
        "template": {
         "data": {
          "scatter": [
           {
            "type": "scatter"
           }
          ]
         }
        },
        "title": {
         "text": "Break Down",
         "x": 0.15
        },
        "xaxis": {
         "anchor": "y",
         "automargin": true,
         "domain": [
          0,
          1
         ],
         "fixedrange": true,
         "gridwidth": 2,
         "range": [
          0,
          1
         ],
         "tickcolor": "white",
         "ticklen": 3,
         "ticks": "outside",
         "type": "linear",
         "zeroline": false
        },
        "yaxis": {
         "anchor": "x",
         "automargin": true,
         "autorange": "reversed",
         "domain": [
          0,
          1
         ],
         "fixedrange": true,
         "gridwidth": 2,
         "tickcolor": "white",
         "ticklen": 10,
         "ticks": "outside",
         "type": "category"
        }
       }
      }
     },
     "metadata": {},
     "output_type": "display_data"
    },
    {
     "name": "stdout",
     "output_type": "stream",
     "text": [
      "Using DALEX on false positive instance with row number: 209\n"
     ]
    },
    {
     "data": {
      "application/vnd.plotly.v1+json": {
       "config": {
        "displaylogo": false,
        "modeBarButtonsToRemove": [
         "sendDataToCloud",
         "lasso2d",
         "autoScale2d",
         "select2d",
         "zoom2d",
         "pan2d",
         "zoomIn2d",
         "zoomOut2d",
         "resetScale2d",
         "toggleSpikelines",
         "hoverCompareCartesian",
         "hoverClosestCartesian"
        ],
        "plotlyServerURL": "https://plot.ly",
        "staticPlot": false,
        "toImageButtonOptions": {
         "height": null,
         "width": null
        }
       },
       "data": [
        {
         "base": 0.38,
         "connector": {
          "line": {
           "color": "#371ea3",
           "dash": "solid",
           "width": 1
          },
          "mode": "spanning"
         },
         "decreasing": {
          "marker": {
           "color": "#f05a71"
          }
         },
         "hoverinfo": "text+delta",
         "hoverlabel": {
          "bgcolor": "rgba(0,0,0,0.8)"
         },
         "hovertext": [
          "Average response: 0.461<br>Prediction: 0.429",
          "egfr_mdrd_scr_max = 59.0<br>decreases average response by",
          "creatinine_min:creatinine_max = 0.7:0.9<br>decreases average response by",
          "weight_max = 54.3<br>decreases average response by",
          "platelets_max = 338.0<br>decreases average response by",
          "age = 91.0<br>decreases average response by",
          "ptt_max = 150.0<br>increases average response by",
          "hematocrit_min = 20.8<br>increases average response by",
          "invasive_vent = 0.0<br>decreases average response by",
          "temperature_min = 36.67<br>decreases average response by",
          "dbp_min = 36.0<br>decreases average response by",
          "female = 1.0<br>decreases average response by",
          "wbc_bd_max = 29.0<br>increases average response by",
          "wbc_min:bun_min = 22.9:49.0<br>increases average response by",
          "platelets_min = 221.0<br>decreases average response by",
          "potassium_max = 4.8<br>increases average response by",
          "bun_max = 64.0<br>decreases average response by",
          "glucose_max = 201.0<br>decreases average response by",
          "myocardial_infarct = 1.0<br>increases average response by",
          "sodium_min = 143.0<br>decreases average response by",
          "supplemental_oxygen = 0.0<br>decreases average response by",
          "egfr_epi_scr_max = 56.0<br>increases average response by",
          "temperature_mean = 36.97<br>decreases average response by",
          "pt_max = 150.0<br>increases average response by",
          "congestive_heart_failure = 0.0<br>decreases average response by",
          "hemoglobin_min = 6.8<br>increases average response by",
          "wbc_bd_min = 22.9<br>increases average response by",
          "hemoglobin_max:hematocrit_max = 10.0:29.5<br>increases average response by",
          "aniongap_max = 17.0<br>decreases average response by",
          "bmi:wbc_max = nan:29.0<br>decreases average response by",
          "sodium_max = 145.0<br>decreases average response by",
          "+ all other factors<br>increases average response by",
          "Average response: 0.461<br>Prediction: 0.429"
         ],
         "increasing": {
          "marker": {
           "color": "#8bdcbe"
          }
         },
         "measure": [
          "relative",
          "relative",
          "relative",
          "relative",
          "relative",
          "relative",
          "relative",
          "relative",
          "relative",
          "relative",
          "relative",
          "relative",
          "relative",
          "relative",
          "relative",
          "relative",
          "relative",
          "relative",
          "relative",
          "relative",
          "relative",
          "relative",
          "relative",
          "relative",
          "relative",
          "relative",
          "relative",
          "relative",
          "relative",
          "relative",
          "relative",
          "relative",
          "total"
         ],
         "orientation": "h",
         "showlegend": false,
         "text": [
          "0.461",
          "-0.041",
          "-0.039",
          "-0.038",
          "-0.027",
          "-0.021",
          "+0.048",
          "+0.063",
          "-0.028",
          "-0.023",
          "-0.012",
          "-0.011",
          "+0.015",
          "+0.016",
          "-0.012",
          "+0.001",
          "-0.014",
          "-0.007",
          "+0.006",
          "-0.003",
          "-0.009",
          "+0.017",
          "-0.005",
          "+0.049",
          "-0.007",
          "+0.028",
          "+0.02",
          "+0.008",
          "-0.008",
          "0.0",
          "-0.007",
          "+0.009",
          "0.429"
         ],
         "textposition": "outside",
         "totals": {
          "marker": {
           "color": "#371ea3"
          }
         },
         "type": "waterfall",
         "x": [
          0.081,
          -0.041,
          -0.039,
          -0.038,
          -0.027,
          -0.021,
          0.048,
          0.063,
          -0.028,
          -0.023,
          -0.012,
          -0.011,
          0.015,
          0.016,
          -0.012,
          0.001,
          -0.014,
          -0.007,
          0.006,
          -0.003,
          -0.009,
          0.017,
          -0.005,
          0.049,
          -0.007,
          0.028,
          0.02,
          0.008,
          -0.008,
          0,
          -0.007,
          0.009,
          0.049
         ],
         "xaxis": "x",
         "y": [
          "intercept",
          "egfr_mdrd_scr_max = 59.0",
          "creatinine_min:creatinine_max = 0.7:0.9",
          "weight_max = 54.3",
          "platelets_max = 338.0",
          "age = 91.0",
          "ptt_max = 150.0",
          "hematocrit_min = 20.8",
          "invasive_vent = 0.0",
          "temperature_min = 36.67",
          "dbp_min = 36.0",
          "female = 1.0",
          "wbc_bd_max = 29.0",
          "wbc_min:bun_min = 22.9:49.0",
          "platelets_min = 221.0",
          "potassium_max = 4.8",
          "bun_max = 64.0",
          "glucose_max = 201.0",
          "myocardial_infarct = 1.0",
          "sodium_min = 143.0",
          "supplemental_oxygen = 0.0",
          "egfr_epi_scr_max = 56.0",
          "temperature_mean = 36.97",
          "pt_max = 150.0",
          "congestive_heart_failure = 0.0",
          "hemoglobin_min = 6.8",
          "wbc_bd_min = 22.9",
          "hemoglobin_max:hematocrit_max = 10.0:29.5",
          "aniongap_max = 17.0",
          "bmi:wbc_max = nan:29.0",
          "sodium_max = 145.0",
          "+ all other factors",
          "prediction"
         ],
         "yaxis": "y"
        }
       ],
       "layout": {
        "annotations": [
         {
          "font": {
           "size": 16
          },
          "showarrow": false,
          "text": "LGBMClassifier",
          "x": 0.5,
          "xanchor": "center",
          "xref": "paper",
          "y": 1,
          "yanchor": "bottom",
          "yref": "paper"
         },
         {
          "font": {
           "size": 16
          },
          "showarrow": false,
          "text": "contribution",
          "x": 0.5,
          "xanchor": "center",
          "xref": "paper",
          "y": 0,
          "yanchor": "top",
          "yref": "paper",
          "yshift": -30
         }
        ],
        "font": {
         "color": "#371ea3"
        },
        "height": 813,
        "margin": {
         "b": 71,
         "r": 30,
         "t": 78
        },
        "shapes": [
         {
          "line": {
           "color": "#371ea3",
           "dash": "dot",
           "width": 1.5
          },
          "type": "line",
          "x0": 0.38,
          "x1": 0.38,
          "xref": "x",
          "y0": -1,
          "y1": 33,
          "yref": "y"
         }
        ],
        "template": {
         "data": {
          "scatter": [
           {
            "type": "scatter"
           }
          ]
         }
        },
        "title": {
         "text": "Break Down",
         "x": 0.15
        },
        "xaxis": {
         "anchor": "y",
         "automargin": true,
         "domain": [
          0,
          1
         ],
         "fixedrange": true,
         "gridwidth": 2,
         "range": [
          0,
          1
         ],
         "tickcolor": "white",
         "ticklen": 3,
         "ticks": "outside",
         "type": "linear",
         "zeroline": false
        },
        "yaxis": {
         "anchor": "x",
         "automargin": true,
         "autorange": "reversed",
         "domain": [
          0,
          1
         ],
         "fixedrange": true,
         "gridwidth": 2,
         "tickcolor": "white",
         "ticklen": 10,
         "ticks": "outside",
         "type": "category"
        }
       }
      }
     },
     "metadata": {},
     "output_type": "display_data"
    },
    {
     "name": "stdout",
     "output_type": "stream",
     "text": [
      "Using DALEX on false positive instance with row number: 1116\n"
     ]
    },
    {
     "data": {
      "application/vnd.plotly.v1+json": {
       "config": {
        "displaylogo": false,
        "modeBarButtonsToRemove": [
         "sendDataToCloud",
         "lasso2d",
         "autoScale2d",
         "select2d",
         "zoom2d",
         "pan2d",
         "zoomIn2d",
         "zoomOut2d",
         "resetScale2d",
         "toggleSpikelines",
         "hoverCompareCartesian",
         "hoverClosestCartesian"
        ],
        "plotlyServerURL": "https://plot.ly",
        "staticPlot": false,
        "toImageButtonOptions": {
         "height": null,
         "width": null
        }
       },
       "data": [
        {
         "base": 0.38,
         "connector": {
          "line": {
           "color": "#371ea3",
           "dash": "solid",
           "width": 1
          },
          "mode": "spanning"
         },
         "decreasing": {
          "marker": {
           "color": "#f05a71"
          }
         },
         "hoverinfo": "text+delta",
         "hoverlabel": {
          "bgcolor": "rgba(0,0,0,0.8)"
         },
         "hovertext": [
          "Average response: 0.554<br>Prediction: 0.57",
          "egfr_mdrd_scr_max = 103.0<br>decreases average response by",
          "creatinine_max = 0.6<br>decreases average response by",
          "creatinine_min = 0.6<br>decreases average response by",
          "egfr_epi_scr_max = 102.0<br>decreases average response by",
          "temperature_min = 34.7<br>increases average response by",
          "invasive_vent = 1.0<br>increases average response by",
          "weight_max = 64.6<br>decreases average response by",
          "congestive_heart_failure = 1.0<br>increases average response by",
          "temperature_mean = 36.34<br>increases average response by",
          "hematocrit_max = 30.7<br>increases average response by",
          "platelets_max = 139.0<br>increases average response by",
          "potassium_max = 4.5<br>increases average response by",
          "sbp_max = 129.0<br>decreases average response by",
          "bmi:weight_admit = 33.03:54.5<br>increases average response by",
          "pt_max = 16.7<br>increases average response by",
          "hematocrit_min = 24.0<br>increases average response by",
          "spo2_min = 98.0<br>decreases average response by",
          "female = 1.0<br>decreases average response by",
          "wbc_bd_max = 13.3<br>increases average response by",
          "hemoglobin_min = 7.4<br>increases average response by",
          "glucose_max = 93.0<br>increases average response by",
          "potassium_min = 3.5<br>increases average response by",
          "age = 56.0<br>increases average response by",
          "ptt_min = 24.3<br>decreases average response by",
          "diabetes_type2 = 0.0<br>decreases average response by",
          "platelets_min = 113.0<br>increases average response by",
          "chronic_pulmonary_disease = 1.0<br>decreases average response by",
          "chloride_max = 105.0<br>decreases average response by",
          "calcium_min:calcium_max = nan:nan<br>decreases average response by",
          "sbp_min = 92.0<br>increases average response by",
          "+ all other factors<br>increases average response by",
          "Average response: 0.554<br>Prediction: 0.57"
         ],
         "increasing": {
          "marker": {
           "color": "#8bdcbe"
          }
         },
         "measure": [
          "relative",
          "relative",
          "relative",
          "relative",
          "relative",
          "relative",
          "relative",
          "relative",
          "relative",
          "relative",
          "relative",
          "relative",
          "relative",
          "relative",
          "relative",
          "relative",
          "relative",
          "relative",
          "relative",
          "relative",
          "relative",
          "relative",
          "relative",
          "relative",
          "relative",
          "relative",
          "relative",
          "relative",
          "relative",
          "relative",
          "relative",
          "relative",
          "total"
         ],
         "orientation": "h",
         "showlegend": false,
         "text": [
          "0.554",
          "-0.142",
          "-0.144",
          "-0.033",
          "-0.03",
          "+0.052",
          "+0.023",
          "-0.018",
          "+0.019",
          "+0.02",
          "+0.022",
          "+0.017",
          "+0.003",
          "-0.017",
          "+0.004",
          "+0.052",
          "+0.019",
          "-0.014",
          "-0.004",
          "+0.005",
          "+0.024",
          "+0.019",
          "+0.003",
          "+0.004",
          "-0.03",
          "-0.002",
          "+0.009",
          "-0.014",
          "-0.004",
          "-0.0",
          "+0.002",
          "+0.172",
          "0.57"
         ],
         "textposition": "outside",
         "totals": {
          "marker": {
           "color": "#371ea3"
          }
         },
         "type": "waterfall",
         "x": [
          0.174,
          -0.142,
          -0.144,
          -0.033,
          -0.03,
          0.052,
          0.023,
          -0.018,
          0.019,
          0.02,
          0.022,
          0.017,
          0.003,
          -0.017,
          0.004,
          0.052,
          0.019,
          -0.014,
          -0.004,
          0.005,
          0.024,
          0.019,
          0.003,
          0.004,
          -0.03,
          -0.002,
          0.009,
          -0.014,
          -0.004,
          0,
          0.002,
          0.172,
          0.19
         ],
         "xaxis": "x",
         "y": [
          "intercept",
          "egfr_mdrd_scr_max = 103.0",
          "creatinine_max = 0.6",
          "creatinine_min = 0.6",
          "egfr_epi_scr_max = 102.0",
          "temperature_min = 34.7",
          "invasive_vent = 1.0",
          "weight_max = 64.6",
          "congestive_heart_failure = 1.0",
          "temperature_mean = 36.34",
          "hematocrit_max = 30.7",
          "platelets_max = 139.0",
          "potassium_max = 4.5",
          "sbp_max = 129.0",
          "bmi:weight_admit = 33.03:54.5",
          "pt_max = 16.7",
          "hematocrit_min = 24.0",
          "spo2_min = 98.0",
          "female = 1.0",
          "wbc_bd_max = 13.3",
          "hemoglobin_min = 7.4",
          "glucose_max = 93.0",
          "potassium_min = 3.5",
          "age = 56.0",
          "ptt_min = 24.3",
          "diabetes_type2 = 0.0",
          "platelets_min = 113.0",
          "chronic_pulmonary_disease = 1.0",
          "chloride_max = 105.0",
          "calcium_min:calcium_max = nan:nan",
          "sbp_min = 92.0",
          "+ all other factors",
          "prediction"
         ],
         "yaxis": "y"
        }
       ],
       "layout": {
        "annotations": [
         {
          "font": {
           "size": 16
          },
          "showarrow": false,
          "text": "LGBMClassifier",
          "x": 0.5,
          "xanchor": "center",
          "xref": "paper",
          "y": 1,
          "yanchor": "bottom",
          "yref": "paper"
         },
         {
          "font": {
           "size": 16
          },
          "showarrow": false,
          "text": "contribution",
          "x": 0.5,
          "xanchor": "center",
          "xref": "paper",
          "y": 0,
          "yanchor": "top",
          "yref": "paper",
          "yshift": -30
         }
        ],
        "font": {
         "color": "#371ea3"
        },
        "height": 813,
        "margin": {
         "b": 71,
         "r": 30,
         "t": 78
        },
        "shapes": [
         {
          "line": {
           "color": "#371ea3",
           "dash": "dot",
           "width": 1.5
          },
          "type": "line",
          "x0": 0.38,
          "x1": 0.38,
          "xref": "x",
          "y0": -1,
          "y1": 33,
          "yref": "y"
         }
        ],
        "template": {
         "data": {
          "scatter": [
           {
            "type": "scatter"
           }
          ]
         }
        },
        "title": {
         "text": "Break Down",
         "x": 0.15
        },
        "xaxis": {
         "anchor": "y",
         "automargin": true,
         "domain": [
          0,
          1
         ],
         "fixedrange": true,
         "gridwidth": 2,
         "range": [
          0,
          1
         ],
         "tickcolor": "white",
         "ticklen": 3,
         "ticks": "outside",
         "type": "linear",
         "zeroline": false
        },
        "yaxis": {
         "anchor": "x",
         "automargin": true,
         "autorange": "reversed",
         "domain": [
          0,
          1
         ],
         "fixedrange": true,
         "gridwidth": 2,
         "tickcolor": "white",
         "ticklen": 10,
         "ticks": "outside",
         "type": "category"
        }
       }
      }
     },
     "metadata": {},
     "output_type": "display_data"
    },
    {
     "name": "stdout",
     "output_type": "stream",
     "text": [
      "Using DALEX on false positive instance with row number: 178\n"
     ]
    },
    {
     "data": {
      "application/vnd.plotly.v1+json": {
       "config": {
        "displaylogo": false,
        "modeBarButtonsToRemove": [
         "sendDataToCloud",
         "lasso2d",
         "autoScale2d",
         "select2d",
         "zoom2d",
         "pan2d",
         "zoomIn2d",
         "zoomOut2d",
         "resetScale2d",
         "toggleSpikelines",
         "hoverCompareCartesian",
         "hoverClosestCartesian"
        ],
        "plotlyServerURL": "https://plot.ly",
        "staticPlot": false,
        "toImageButtonOptions": {
         "height": null,
         "width": null
        }
       },
       "data": [
        {
         "base": 0.38,
         "connector": {
          "line": {
           "color": "#371ea3",
           "dash": "solid",
           "width": 1
          },
          "mode": "spanning"
         },
         "decreasing": {
          "marker": {
           "color": "#f05a71"
          }
         },
         "hoverinfo": "text+delta",
         "hoverlabel": {
          "bgcolor": "rgba(0,0,0,0.8)"
         },
         "hovertext": [
          "Average response: 0.512<br>Prediction: 0.414",
          "creatinine_min:creatinine_max = 0.8:1.0<br>decreases average response by",
          "egfr_mdrd_scr_max = 52.0<br>increases average response by",
          "weight_max = 40.5<br>decreases average response by",
          "egfr_epi_scr_max = 50.0<br>increases average response by",
          "platelets_max = 310.0<br>decreases average response by",
          "hematocrit_min = 31.5<br>decreases average response by",
          "resp_rate_max = 45.0<br>increases average response by",
          "invasive_vent = 0.0<br>decreases average response by",
          "platelets_min = 259.0<br>decreases average response by",
          "congestive_heart_failure = 1.0<br>increases average response by",
          "age = 89.0<br>decreases average response by",
          "temperature_mean = 36.22<br>increases average response by",
          "bicarbonate_min = 30.0<br>decreases average response by",
          "pt_max = 13.0<br>decreases average response by",
          "ptt_max = 27.4<br>decreases average response by",
          "dbp_min = 38.0<br>decreases average response by",
          "female = 1.0<br>decreases average response by",
          "temperature_min = 35.56<br>increases average response by",
          "potassium_max = 4.8<br>increases average response by",
          "ptt_min = 27.4<br>decreases average response by",
          "diabetes_type2 = 0.0<br>decreases average response by",
          "resp_rate_mean = 23.67<br>decreases average response by",
          "chloride_max = 105.0<br>increases average response by",
          "weight_min = 40.5<br>decreases average response by",
          "heart_rate_mean = 70.36<br>decreases average response by",
          "calcium_max = 8.5<br>increases average response by",
          "hypertension = 0.0<br>decreases average response by",
          "sbp_max = 151.0<br>increases average response by",
          "aniongap_min:albumin_max = 10.0:3.2<br>decreases average response by",
          "bun_max = 22.0<br>decreases average response by",
          "+ all other factors<br>increases average response by",
          "Average response: 0.512<br>Prediction: 0.414"
         ],
         "increasing": {
          "marker": {
           "color": "#8bdcbe"
          }
         },
         "measure": [
          "relative",
          "relative",
          "relative",
          "relative",
          "relative",
          "relative",
          "relative",
          "relative",
          "relative",
          "relative",
          "relative",
          "relative",
          "relative",
          "relative",
          "relative",
          "relative",
          "relative",
          "relative",
          "relative",
          "relative",
          "relative",
          "relative",
          "relative",
          "relative",
          "relative",
          "relative",
          "relative",
          "relative",
          "relative",
          "relative",
          "relative",
          "relative",
          "total"
         ],
         "orientation": "h",
         "showlegend": false,
         "text": [
          "0.512",
          "-0.056",
          "+0.028",
          "-0.044",
          "+0.028",
          "-0.032",
          "-0.021",
          "+0.026",
          "-0.032",
          "-0.014",
          "+0.043",
          "-0.035",
          "+0.023",
          "-0.003",
          "-0.009",
          "-0.005",
          "-0.016",
          "0.0",
          "+0.008",
          "+0.007",
          "-0.008",
          "-0.011",
          "-0.006",
          "+0.001",
          "0.0",
          "-0.005",
          "+0.001",
          "-0.0",
          "+0.009",
          "-0.01",
          "-0.001",
          "+0.034",
          "0.414"
         ],
         "textposition": "outside",
         "totals": {
          "marker": {
           "color": "#371ea3"
          }
         },
         "type": "waterfall",
         "x": [
          0.132,
          -0.056,
          0.028,
          -0.044,
          0.028,
          -0.032,
          -0.021,
          0.026,
          -0.032,
          -0.014,
          0.043,
          -0.035,
          0.023,
          -0.003,
          -0.009,
          -0.005,
          -0.016,
          0,
          0.008,
          0.007,
          -0.008,
          -0.011,
          -0.006,
          0.001,
          0,
          -0.005,
          0.001,
          0,
          0.009,
          -0.01,
          -0.001,
          0.034,
          0.034
         ],
         "xaxis": "x",
         "y": [
          "intercept",
          "creatinine_min:creatinine_max = 0.8:1.0",
          "egfr_mdrd_scr_max = 52.0",
          "weight_max = 40.5",
          "egfr_epi_scr_max = 50.0",
          "platelets_max = 310.0",
          "hematocrit_min = 31.5",
          "resp_rate_max = 45.0",
          "invasive_vent = 0.0",
          "platelets_min = 259.0",
          "congestive_heart_failure = 1.0",
          "age = 89.0",
          "temperature_mean = 36.22",
          "bicarbonate_min = 30.0",
          "pt_max = 13.0",
          "ptt_max = 27.4",
          "dbp_min = 38.0",
          "female = 1.0",
          "temperature_min = 35.56",
          "potassium_max = 4.8",
          "ptt_min = 27.4",
          "diabetes_type2 = 0.0",
          "resp_rate_mean = 23.67",
          "chloride_max = 105.0",
          "weight_min = 40.5",
          "heart_rate_mean = 70.36",
          "calcium_max = 8.5",
          "hypertension = 0.0",
          "sbp_max = 151.0",
          "aniongap_min:albumin_max = 10.0:3.2",
          "bun_max = 22.0",
          "+ all other factors",
          "prediction"
         ],
         "yaxis": "y"
        }
       ],
       "layout": {
        "annotations": [
         {
          "font": {
           "size": 16
          },
          "showarrow": false,
          "text": "LGBMClassifier",
          "x": 0.5,
          "xanchor": "center",
          "xref": "paper",
          "y": 1,
          "yanchor": "bottom",
          "yref": "paper"
         },
         {
          "font": {
           "size": 16
          },
          "showarrow": false,
          "text": "contribution",
          "x": 0.5,
          "xanchor": "center",
          "xref": "paper",
          "y": 0,
          "yanchor": "top",
          "yref": "paper",
          "yshift": -30
         }
        ],
        "font": {
         "color": "#371ea3"
        },
        "height": 813,
        "margin": {
         "b": 71,
         "r": 30,
         "t": 78
        },
        "shapes": [
         {
          "line": {
           "color": "#371ea3",
           "dash": "dot",
           "width": 1.5
          },
          "type": "line",
          "x0": 0.38,
          "x1": 0.38,
          "xref": "x",
          "y0": -1,
          "y1": 33,
          "yref": "y"
         }
        ],
        "template": {
         "data": {
          "scatter": [
           {
            "type": "scatter"
           }
          ]
         }
        },
        "title": {
         "text": "Break Down",
         "x": 0.15
        },
        "xaxis": {
         "anchor": "y",
         "automargin": true,
         "domain": [
          0,
          1
         ],
         "fixedrange": true,
         "gridwidth": 2,
         "range": [
          0,
          1
         ],
         "tickcolor": "white",
         "ticklen": 3,
         "ticks": "outside",
         "type": "linear",
         "zeroline": false
        },
        "yaxis": {
         "anchor": "x",
         "automargin": true,
         "autorange": "reversed",
         "domain": [
          0,
          1
         ],
         "fixedrange": true,
         "gridwidth": 2,
         "tickcolor": "white",
         "ticklen": 10,
         "ticks": "outside",
         "type": "category"
        }
       }
      }
     },
     "metadata": {},
     "output_type": "display_data"
    },
    {
     "name": "stdout",
     "output_type": "stream",
     "text": [
      "Using DALEX on false positive instance with row number: 1209\n"
     ]
    },
    {
     "data": {
      "application/vnd.plotly.v1+json": {
       "config": {
        "displaylogo": false,
        "modeBarButtonsToRemove": [
         "sendDataToCloud",
         "lasso2d",
         "autoScale2d",
         "select2d",
         "zoom2d",
         "pan2d",
         "zoomIn2d",
         "zoomOut2d",
         "resetScale2d",
         "toggleSpikelines",
         "hoverCompareCartesian",
         "hoverClosestCartesian"
        ],
        "plotlyServerURL": "https://plot.ly",
        "staticPlot": false,
        "toImageButtonOptions": {
         "height": null,
         "width": null
        }
       },
       "data": [
        {
         "base": 0.38,
         "connector": {
          "line": {
           "color": "#371ea3",
           "dash": "solid",
           "width": 1
          },
          "mode": "spanning"
         },
         "decreasing": {
          "marker": {
           "color": "#f05a71"
          }
         },
         "hoverinfo": "text+delta",
         "hoverlabel": {
          "bgcolor": "rgba(0,0,0,0.8)"
         },
         "hovertext": [
          "Average response: 0.536<br>Prediction: 0.42",
          "creatinine_min = 0.5<br>increases average response by",
          "egfr_mdrd_scr_max = 56.0<br>decreases average response by",
          "bicarbonate_min = 2.0<br>increases average response by",
          "pt_max = 11.3<br>decreases average response by",
          "platelets_max = 436.0<br>decreases average response by",
          "bilirubin_total_min = 0.2<br>decreases average response by",
          "weight_max = 50.8<br>decreases average response by",
          "albumin_min = 4.4<br>decreases average response by",
          "bilirubin_total_max = 0.4<br>decreases average response by",
          "sbp_max = 125.0<br>decreases average response by",
          "ptt_max = 25.7<br>decreases average response by",
          "albumin_max = 4.4<br>decreases average response by",
          "invasive_vent = 0.0<br>decreases average response by",
          "platelets_min = 236.0<br>decreases average response by",
          "diabetes_type2 = 1.0<br>increases average response by",
          "potassium_min = 3.0<br>increases average response by",
          "glucose_max = 568.0<br>increases average response by",
          "ptt_min = 22.6<br>decreases average response by",
          "supplemental_oxygen = 0.0<br>decreases average response by",
          "chloride_max = 113.0<br>decreases average response by",
          "calcium_max = 9.9<br>decreases average response by",
          "wbc_bd_max = 30.2<br>increases average response by",
          "hematocrit_min = 32.3<br>decreases average response by",
          "hematocrit_max = 41.9<br>decreases average response by",
          "creatinine_max = 1.0<br>increases average response by",
          "temperature_min = 36.39<br>decreases average response by",
          "spo2_min = 97.0<br>decreases average response by",
          "hemoglobin_max = 13.8<br>decreases average response by",
          "hemoglobin_min = 11.3<br>increases average response by",
          "female = 1.0<br>decreases average response by",
          "+ all other factors<br>decreases average response by",
          "Average response: 0.536<br>Prediction: 0.42"
         ],
         "increasing": {
          "marker": {
           "color": "#8bdcbe"
          }
         },
         "measure": [
          "relative",
          "relative",
          "relative",
          "relative",
          "relative",
          "relative",
          "relative",
          "relative",
          "relative",
          "relative",
          "relative",
          "relative",
          "relative",
          "relative",
          "relative",
          "relative",
          "relative",
          "relative",
          "relative",
          "relative",
          "relative",
          "relative",
          "relative",
          "relative",
          "relative",
          "relative",
          "relative",
          "relative",
          "relative",
          "relative",
          "relative",
          "relative",
          "total"
         ],
         "orientation": "h",
         "showlegend": false,
         "text": [
          "0.536",
          "+0.078",
          "-0.058",
          "+0.052",
          "-0.03",
          "-0.037",
          "-0.008",
          "-0.037",
          "-0.024",
          "0.0",
          "-0.022",
          "-0.047",
          "-0.003",
          "-0.016",
          "-0.008",
          "+0.018",
          "+0.015",
          "+0.03",
          "-0.015",
          "-0.003",
          "0.0",
          "-0.005",
          "+0.029",
          "-0.002",
          "-0.004",
          "+0.037",
          "-0.011",
          "-0.002",
          "-0.004",
          "+0.002",
          "-0.003",
          "-0.037",
          "0.42"
         ],
         "textposition": "outside",
         "totals": {
          "marker": {
           "color": "#371ea3"
          }
         },
         "type": "waterfall",
         "x": [
          0.156,
          0.078,
          -0.058,
          0.052,
          -0.03,
          -0.037,
          -0.008,
          -0.037,
          -0.024,
          0,
          -0.022,
          -0.047,
          -0.003,
          -0.016,
          -0.008,
          0.018,
          0.015,
          0.03,
          -0.015,
          -0.003,
          0,
          -0.005,
          0.029,
          -0.002,
          -0.004,
          0.037,
          -0.011,
          -0.002,
          -0.004,
          0.002,
          -0.003,
          -0.037,
          0.04
         ],
         "xaxis": "x",
         "y": [
          "intercept",
          "creatinine_min = 0.5",
          "egfr_mdrd_scr_max = 56.0",
          "bicarbonate_min = 2.0",
          "pt_max = 11.3",
          "platelets_max = 436.0",
          "bilirubin_total_min = 0.2",
          "weight_max = 50.8",
          "albumin_min = 4.4",
          "bilirubin_total_max = 0.4",
          "sbp_max = 125.0",
          "ptt_max = 25.7",
          "albumin_max = 4.4",
          "invasive_vent = 0.0",
          "platelets_min = 236.0",
          "diabetes_type2 = 1.0",
          "potassium_min = 3.0",
          "glucose_max = 568.0",
          "ptt_min = 22.6",
          "supplemental_oxygen = 0.0",
          "chloride_max = 113.0",
          "calcium_max = 9.9",
          "wbc_bd_max = 30.2",
          "hematocrit_min = 32.3",
          "hematocrit_max = 41.9",
          "creatinine_max = 1.0",
          "temperature_min = 36.39",
          "spo2_min = 97.0",
          "hemoglobin_max = 13.8",
          "hemoglobin_min = 11.3",
          "female = 1.0",
          "+ all other factors",
          "prediction"
         ],
         "yaxis": "y"
        }
       ],
       "layout": {
        "annotations": [
         {
          "font": {
           "size": 16
          },
          "showarrow": false,
          "text": "LGBMClassifier",
          "x": 0.5,
          "xanchor": "center",
          "xref": "paper",
          "y": 1,
          "yanchor": "bottom",
          "yref": "paper"
         },
         {
          "font": {
           "size": 16
          },
          "showarrow": false,
          "text": "contribution",
          "x": 0.5,
          "xanchor": "center",
          "xref": "paper",
          "y": 0,
          "yanchor": "top",
          "yref": "paper",
          "yshift": -30
         }
        ],
        "font": {
         "color": "#371ea3"
        },
        "height": 813,
        "margin": {
         "b": 71,
         "r": 30,
         "t": 78
        },
        "shapes": [
         {
          "line": {
           "color": "#371ea3",
           "dash": "dot",
           "width": 1.5
          },
          "type": "line",
          "x0": 0.38,
          "x1": 0.38,
          "xref": "x",
          "y0": -1,
          "y1": 33,
          "yref": "y"
         }
        ],
        "template": {
         "data": {
          "scatter": [
           {
            "type": "scatter"
           }
          ]
         }
        },
        "title": {
         "text": "Break Down",
         "x": 0.15
        },
        "xaxis": {
         "anchor": "y",
         "automargin": true,
         "domain": [
          0,
          1
         ],
         "fixedrange": true,
         "gridwidth": 2,
         "range": [
          0,
          1
         ],
         "tickcolor": "white",
         "ticklen": 3,
         "ticks": "outside",
         "type": "linear",
         "zeroline": false
        },
        "yaxis": {
         "anchor": "x",
         "automargin": true,
         "autorange": "reversed",
         "domain": [
          0,
          1
         ],
         "fixedrange": true,
         "gridwidth": 2,
         "tickcolor": "white",
         "ticklen": 10,
         "ticks": "outside",
         "type": "category"
        }
       }
      }
     },
     "metadata": {},
     "output_type": "display_data"
    }
   ],
   "source": [
    "import random\n",
    "random.seed(42)\n",
    "rand_list = random.sample(range(0, df_FP.shape[0]), 10)\n",
    "\n",
    "clf_threshold = 0.38\n",
    "import dalex as dx\n",
    "\n",
    "# error_df = {\"df_TN\":df_TN, \"df_FP\":df_FP, \"df_TP\":df_TP, \"df_FN\":df_FN}\n",
    "error_df = {\"df_FP\":df_FP}\n",
    "\n",
    "for k,df in error_df.items():\n",
    "    df_shap = df.drop(['y_pred','y_actual','error_category'], axis=1)\n",
    "\n",
    "    for row_number in rand_list:\n",
    "        print(\"Using DALEX on false positive instance with row number: \"+str(row_number))\n",
    "        exp.predict_parts(df_shap.iloc[[row_number]], N=100).plot(min_max=[0,1], max_vars=30, baseline=clf_threshold)"
   ]
  },
  {
   "cell_type": "markdown",
   "metadata": {},
   "source": [
    "## SHAP plot using Dalex"
   ]
  },
  {
   "cell_type": "code",
   "execution_count": 74,
   "metadata": {},
   "outputs": [
    {
     "name": "stdout",
     "output_type": "stream",
     "text": [
      "Using DALEX SHAP on false positive instance with row number: 228\n"
     ]
    },
    {
     "data": {
      "application/vnd.plotly.v1+json": {
       "config": {
        "displaylogo": false,
        "modeBarButtonsToRemove": [
         "sendDataToCloud",
         "lasso2d",
         "autoScale2d",
         "select2d",
         "zoom2d",
         "pan2d",
         "zoomIn2d",
         "zoomOut2d",
         "resetScale2d",
         "toggleSpikelines",
         "hoverCompareCartesian",
         "hoverClosestCartesian"
        ],
        "plotlyServerURL": "https://plot.ly",
        "staticPlot": false,
        "toImageButtonOptions": {
         "height": null,
         "width": null
        }
       },
       "data": [
        {
         "base": 0.38,
         "hoverinfo": "text",
         "hoverlabel": {
          "bgcolor": "rgba(0,0,0,0.8)"
         },
         "hovertext": [
          "Average response: 0.38<br>Prediction: 0.382<br>creatinine_max = 1.3<br>increases average response <br>by 0.124",
          "Average response: 0.38<br>Prediction: 0.382<br>creatinine_min = 1.0<br>decreases average response <br>by 0.072",
          "Average response: 0.38<br>Prediction: 0.382<br>egfr_mdrd_scr_max = 60.0<br>decreases average response <br>by 0.056",
          "Average response: 0.38<br>Prediction: 0.382<br>sbp_min = 121.0<br>decreases average response <br>by 0.038",
          "Average response: 0.38<br>Prediction: 0.382<br>potassium_max = 3.4<br>decreases average response <br>by 0.033",
          "Average response: 0.38<br>Prediction: 0.382<br>invasive_vent = 0.0<br>decreases average response <br>by 0.03",
          "Average response: 0.38<br>Prediction: 0.382<br>congestive_heart_failure = 1.0<br>increases average response <br>by 0.026",
          "Average response: 0.38<br>Prediction: 0.382<br>ptt_max = 36.2<br>decreases average response <br>by 0.025",
          "Average response: 0.38<br>Prediction: 0.382<br>platelets_max = 146.0<br>increases average response <br>by 0.02",
          "Average response: 0.38<br>Prediction: 0.382<br>dbp_mean = 103.3<br>increases average response <br>by 0.019",
          "Average response: 0.38<br>Prediction: 0.382<br>mild_liver_disease = 1.0<br>increases average response <br>by 0.015",
          "Average response: 0.38<br>Prediction: 0.382<br>dbp_max = 160.0<br>decreases average response <br>by 0.014",
          "Average response: 0.38<br>Prediction: 0.382<br>bilirubin_total_min = 6.6<br>increases average response <br>by 0.012",
          "Average response: 0.38<br>Prediction: 0.382<br>temperature_min = 36.11<br>decreases average response <br>by 0.01",
          "Average response: 0.38<br>Prediction: 0.382<br>heart_rate_mean = 109.7<br>increases average response <br>by 0.01",
          "Average response: 0.38<br>Prediction: 0.382<br>hemoglobin_min = 12.3<br>decreases average response <br>by 0.008",
          "Average response: 0.38<br>Prediction: 0.382<br>urineoutput_24hr = 675.0<br>decreases average response <br>by 0.008",
          "Average response: 0.38<br>Prediction: 0.382<br>potassium_min = 3.1<br>increases average response <br>by 0.008",
          "Average response: 0.38<br>Prediction: 0.382<br>pt_min = 25.4<br>increases average response <br>by 0.008",
          "Average response: 0.38<br>Prediction: 0.382<br>albumin_min = 3.4<br>decreases average response <br>by 0.008",
          "Average response: 0.38<br>Prediction: 0.382<br>heart_rate_min = 97.0<br>increases average response <br>by 0.007",
          "Average response: 0.38<br>Prediction: 0.382<br>bicarbonate_min = 25.0<br>decreases average response <br>by 0.007",
          "Average response: 0.38<br>Prediction: 0.382<br>pt_max = 25.4<br>increases average response <br>by 0.006",
          "Average response: 0.38<br>Prediction: 0.382<br>dbp_min = 71.0<br>decreases average response <br>by 0.006",
          "Average response: 0.38<br>Prediction: 0.382<br>hematocrit_min = 38.3<br>decreases average response <br>by 0.006",
          "Average response: 0.38<br>Prediction: 0.382<br>diabetes_type2 = 0.0<br>decreases average response <br>by 0.005",
          "Average response: 0.38<br>Prediction: 0.382<br>aniongap_min = 11.0<br>decreases average response <br>by 0.005",
          "Average response: 0.38<br>Prediction: 0.382<br>weight_admit = 122.6<br>decreases average response <br>by 0.005",
          "Average response: 0.38<br>Prediction: 0.382<br>wbc_bd_min = 15.1<br>increases average response <br>by 0.005",
          "Average response: 0.38<br>Prediction: 0.382<br>+ all other factors<br>increases average response <br>by 0.004"
         ],
         "marker": {
          "color": [
           "#8bdcbe",
           "#f05a71",
           "#f05a71",
           "#f05a71",
           "#f05a71",
           "#f05a71",
           "#8bdcbe",
           "#f05a71",
           "#8bdcbe",
           "#8bdcbe",
           "#8bdcbe",
           "#f05a71",
           "#8bdcbe",
           "#f05a71",
           "#8bdcbe",
           "#f05a71",
           "#f05a71",
           "#8bdcbe",
           "#8bdcbe",
           "#f05a71",
           "#8bdcbe",
           "#f05a71",
           "#8bdcbe",
           "#f05a71",
           "#f05a71",
           "#f05a71",
           "#f05a71",
           "#f05a71",
           "#8bdcbe",
           "#8bdcbe"
          ]
         },
         "orientation": "h",
         "showlegend": false,
         "text": [
          "+0.124",
          "-0.072",
          "-0.056",
          "-0.038",
          "-0.033",
          "-0.03",
          "+0.026",
          "-0.025",
          "+0.02",
          "+0.019",
          "+0.015",
          "-0.014",
          "+0.012",
          "-0.01",
          "+0.01",
          "-0.008",
          "-0.008",
          "+0.008",
          "+0.008",
          "-0.008",
          "+0.007",
          "-0.007",
          "+0.006",
          "-0.006",
          "-0.006",
          "-0.005",
          "-0.005",
          "-0.005",
          "+0.005",
          "+0.004"
         ],
         "textposition": "outside",
         "type": "bar",
         "x": [
          0.124,
          -0.072,
          -0.056,
          -0.038,
          -0.033,
          -0.03,
          0.026,
          -0.025,
          0.02,
          0.019,
          0.015,
          -0.014,
          0.012,
          -0.01,
          0.01,
          -0.008,
          -0.008,
          0.008,
          0.008,
          -0.008,
          0.007,
          -0.007,
          0.006,
          -0.006,
          -0.006,
          -0.005,
          -0.005,
          -0.005,
          0.005,
          0.004
         ],
         "xaxis": "x",
         "y": [
          "creatinine_max = 1.3",
          "creatinine_min = 1.0",
          "egfr_mdrd_scr_max = 60.0",
          "sbp_min = 121.0",
          "potassium_max = 3.4",
          "invasive_vent = 0.0",
          "congestive_heart_failure = 1.0",
          "ptt_max = 36.2",
          "platelets_max = 146.0",
          "dbp_mean = 103.3",
          "mild_liver_disease = 1.0",
          "dbp_max = 160.0",
          "bilirubin_total_min = 6.6",
          "temperature_min = 36.11",
          "heart_rate_mean = 109.7",
          "hemoglobin_min = 12.3",
          "urineoutput_24hr = 675.0",
          "potassium_min = 3.1",
          "pt_min = 25.4",
          "albumin_min = 3.4",
          "heart_rate_min = 97.0",
          "bicarbonate_min = 25.0",
          "pt_max = 25.4",
          "dbp_min = 71.0",
          "hematocrit_min = 38.3",
          "diabetes_type2 = 0.0",
          "aniongap_min = 11.0",
          "weight_admit = 122.6",
          "wbc_bd_min = 15.1",
          "+ all other factors"
         ],
         "yaxis": "y"
        }
       ],
       "layout": {
        "annotations": [
         {
          "font": {
           "size": 16
          },
          "showarrow": false,
          "text": "LGBMClassifier",
          "x": 0.5,
          "xanchor": "center",
          "xref": "paper",
          "y": 1,
          "yanchor": "bottom",
          "yref": "paper"
         },
         {
          "font": {
           "size": 16
          },
          "showarrow": false,
          "text": "contribution",
          "x": 0.5,
          "xanchor": "center",
          "xref": "paper",
          "y": 0,
          "yanchor": "top",
          "yref": "paper",
          "yshift": -30
         }
        ],
        "font": {
         "color": "#371ea3"
        },
        "height": 773,
        "margin": {
         "b": 71,
         "r": 30,
         "t": 78
        },
        "shapes": [
         {
          "line": {
           "color": "#371ea3",
           "dash": "dot",
           "width": 1.5
          },
          "type": "line",
          "x0": 0.38,
          "x1": 0.38,
          "xref": "x",
          "y0": -1,
          "y1": 31,
          "yref": "y"
         }
        ],
        "template": {
         "data": {
          "scatter": [
           {
            "type": "scatter"
           }
          ]
         }
        },
        "title": {
         "text": "Shapley Values",
         "x": 0.15
        },
        "xaxis": {
         "anchor": "y",
         "automargin": true,
         "domain": [
          0,
          1
         ],
         "fixedrange": true,
         "gridwidth": 2,
         "range": [
          0,
          1
         ],
         "tickcolor": "white",
         "ticklen": 3,
         "ticks": "outside",
         "type": "linear",
         "zeroline": false
        },
        "yaxis": {
         "anchor": "x",
         "automargin": true,
         "autorange": "reversed",
         "domain": [
          0,
          1
         ],
         "fixedrange": true,
         "gridwidth": 2,
         "tickcolor": "white",
         "ticklen": 10,
         "ticks": "outside",
         "type": "category"
        }
       }
      }
     },
     "metadata": {},
     "output_type": "display_data"
    },
    {
     "name": "stdout",
     "output_type": "stream",
     "text": [
      "Using DALEX SHAP on false positive instance with row number: 51\n"
     ]
    },
    {
     "data": {
      "application/vnd.plotly.v1+json": {
       "config": {
        "displaylogo": false,
        "modeBarButtonsToRemove": [
         "sendDataToCloud",
         "lasso2d",
         "autoScale2d",
         "select2d",
         "zoom2d",
         "pan2d",
         "zoomIn2d",
         "zoomOut2d",
         "resetScale2d",
         "toggleSpikelines",
         "hoverCompareCartesian",
         "hoverClosestCartesian"
        ],
        "plotlyServerURL": "https://plot.ly",
        "staticPlot": false,
        "toImageButtonOptions": {
         "height": null,
         "width": null
        }
       },
       "data": [
        {
         "base": 0.38,
         "hoverinfo": "text",
         "hoverlabel": {
          "bgcolor": "rgba(0,0,0,0.8)"
         },
         "hovertext": [
          "Average response: 0.38<br>Prediction: 0.721<br>egfr_mdrd_scr_max = 79.0<br>decreases average response <br>by 0.072",
          "Average response: 0.38<br>Prediction: 0.721<br>chloride_max = 117.0<br>increases average response <br>by 0.055",
          "Average response: 0.38<br>Prediction: 0.721<br>temperature_min = 35.0<br>increases average response <br>by 0.036",
          "Average response: 0.38<br>Prediction: 0.721<br>hematocrit_min = 22.6<br>increases average response <br>by 0.034",
          "Average response: 0.38<br>Prediction: 0.721<br>ptt_max = 67.5<br>increases average response <br>by 0.029",
          "Average response: 0.38<br>Prediction: 0.721<br>ptt_min = 61.1<br>increases average response <br>by 0.026",
          "Average response: 0.38<br>Prediction: 0.721<br>hemoglobin_min = 8.1<br>increases average response <br>by 0.024",
          "Average response: 0.38<br>Prediction: 0.721<br>invasive_vent = 0.0<br>decreases average response <br>by 0.022",
          "Average response: 0.38<br>Prediction: 0.721<br>creatinine_max = 0.9<br>increases average response <br>by 0.02",
          "Average response: 0.38<br>Prediction: 0.721<br>glucose_max = 84.0<br>increases average response <br>by 0.02",
          "Average response: 0.38<br>Prediction: 0.721<br>supplemental_oxygen = 1.0<br>increases average response <br>by 0.019",
          "Average response: 0.38<br>Prediction: 0.721<br>potassium_max = 4.2<br>decreases average response <br>by 0.019",
          "Average response: 0.38<br>Prediction: 0.721<br>sbp_min = 83.0<br>increases average response <br>by 0.017",
          "Average response: 0.38<br>Prediction: 0.721<br>platelets_min = 65.0<br>increases average response <br>by 0.017",
          "Average response: 0.38<br>Prediction: 0.721<br>sbp_max = 177.0<br>increases average response <br>by 0.016",
          "Average response: 0.38<br>Prediction: 0.721<br>sbp_mean = 129.3<br>decreases average response <br>by 0.015",
          "Average response: 0.38<br>Prediction: 0.721<br>temperature_mean = 36.48<br>increases average response <br>by 0.013",
          "Average response: 0.38<br>Prediction: 0.721<br>age = 89.0<br>decreases average response <br>by 0.013",
          "Average response: 0.38<br>Prediction: 0.721<br>resp_rate_min = 8.0<br>increases average response <br>by 0.013",
          "Average response: 0.38<br>Prediction: 0.721<br>resp_rate_max = 33.0<br>increases average response <br>by 0.011",
          "Average response: 0.38<br>Prediction: 0.721<br>dbp_mean = 49.44<br>increases average response <br>by 0.01",
          "Average response: 0.38<br>Prediction: 0.721<br>pt_max = 15.9<br>increases average response <br>by 0.01",
          "Average response: 0.38<br>Prediction: 0.721<br>weight_max = 81.4<br>increases average response <br>by 0.01",
          "Average response: 0.38<br>Prediction: 0.721<br>urineoutput_24hr = 450.0<br>increases average response <br>by 0.009",
          "Average response: 0.38<br>Prediction: 0.721<br>pt_min = 15.5<br>decreases average response <br>by 0.009",
          "Average response: 0.38<br>Prediction: 0.721<br>glucose_min = 84.0<br>decreases average response <br>by 0.008",
          "Average response: 0.38<br>Prediction: 0.721<br>calcium_max = nan<br>increases average response <br>by 0.008",
          "Average response: 0.38<br>Prediction: 0.721<br>female = 0.0<br>increases average response <br>by 0.008",
          "Average response: 0.38<br>Prediction: 0.721<br>platelets_max = 88.0<br>increases average response <br>by 0.007",
          "Average response: 0.38<br>Prediction: 0.721<br>+ all other factors<br>increases average response <br>by 0.011"
         ],
         "marker": {
          "color": [
           "#f05a71",
           "#8bdcbe",
           "#8bdcbe",
           "#8bdcbe",
           "#8bdcbe",
           "#8bdcbe",
           "#8bdcbe",
           "#f05a71",
           "#8bdcbe",
           "#8bdcbe",
           "#8bdcbe",
           "#f05a71",
           "#8bdcbe",
           "#8bdcbe",
           "#8bdcbe",
           "#f05a71",
           "#8bdcbe",
           "#f05a71",
           "#8bdcbe",
           "#8bdcbe",
           "#8bdcbe",
           "#8bdcbe",
           "#8bdcbe",
           "#8bdcbe",
           "#f05a71",
           "#f05a71",
           "#8bdcbe",
           "#8bdcbe",
           "#8bdcbe",
           "#8bdcbe"
          ]
         },
         "orientation": "h",
         "showlegend": false,
         "text": [
          "-0.072",
          "+0.055",
          "+0.036",
          "+0.034",
          "+0.029",
          "+0.026",
          "+0.024",
          "-0.022",
          "+0.02",
          "+0.02",
          "+0.019",
          "-0.019",
          "+0.017",
          "+0.017",
          "+0.016",
          "-0.015",
          "+0.013",
          "-0.013",
          "+0.013",
          "+0.011",
          "+0.01",
          "+0.01",
          "+0.01",
          "+0.009",
          "-0.009",
          "-0.008",
          "+0.008",
          "+0.008",
          "+0.007",
          "+0.011"
         ],
         "textposition": "outside",
         "type": "bar",
         "x": [
          -0.072,
          0.055,
          0.036,
          0.034,
          0.029,
          0.026,
          0.024,
          -0.022,
          0.02,
          0.02,
          0.019,
          -0.019,
          0.017,
          0.017,
          0.016,
          -0.015,
          0.013,
          -0.013,
          0.013,
          0.011,
          0.01,
          0.01,
          0.01,
          0.009,
          -0.009,
          -0.008,
          0.008,
          0.008,
          0.007,
          0.011
         ],
         "xaxis": "x",
         "y": [
          "egfr_mdrd_scr_max = 79.0",
          "chloride_max = 117.0",
          "temperature_min = 35.0",
          "hematocrit_min = 22.6",
          "ptt_max = 67.5",
          "ptt_min = 61.1",
          "hemoglobin_min = 8.1",
          "invasive_vent = 0.0",
          "creatinine_max = 0.9",
          "glucose_max = 84.0",
          "supplemental_oxygen = 1.0",
          "potassium_max = 4.2",
          "sbp_min = 83.0",
          "platelets_min = 65.0",
          "sbp_max = 177.0",
          "sbp_mean = 129.3",
          "temperature_mean = 36.48",
          "age = 89.0",
          "resp_rate_min = 8.0",
          "resp_rate_max = 33.0",
          "dbp_mean = 49.44",
          "pt_max = 15.9",
          "weight_max = 81.4",
          "urineoutput_24hr = 450.0",
          "pt_min = 15.5",
          "glucose_min = 84.0",
          "calcium_max = nan",
          "female = 0.0",
          "platelets_max = 88.0",
          "+ all other factors"
         ],
         "yaxis": "y"
        }
       ],
       "layout": {
        "annotations": [
         {
          "font": {
           "size": 16
          },
          "showarrow": false,
          "text": "LGBMClassifier",
          "x": 0.5,
          "xanchor": "center",
          "xref": "paper",
          "y": 1,
          "yanchor": "bottom",
          "yref": "paper"
         },
         {
          "font": {
           "size": 16
          },
          "showarrow": false,
          "text": "contribution",
          "x": 0.5,
          "xanchor": "center",
          "xref": "paper",
          "y": 0,
          "yanchor": "top",
          "yref": "paper",
          "yshift": -30
         }
        ],
        "font": {
         "color": "#371ea3"
        },
        "height": 773,
        "margin": {
         "b": 71,
         "r": 30,
         "t": 78
        },
        "shapes": [
         {
          "line": {
           "color": "#371ea3",
           "dash": "dot",
           "width": 1.5
          },
          "type": "line",
          "x0": 0.38,
          "x1": 0.38,
          "xref": "x",
          "y0": -1,
          "y1": 31,
          "yref": "y"
         }
        ],
        "template": {
         "data": {
          "scatter": [
           {
            "type": "scatter"
           }
          ]
         }
        },
        "title": {
         "text": "Shapley Values",
         "x": 0.15
        },
        "xaxis": {
         "anchor": "y",
         "automargin": true,
         "domain": [
          0,
          1
         ],
         "fixedrange": true,
         "gridwidth": 2,
         "range": [
          0,
          1
         ],
         "tickcolor": "white",
         "ticklen": 3,
         "ticks": "outside",
         "type": "linear",
         "zeroline": false
        },
        "yaxis": {
         "anchor": "x",
         "automargin": true,
         "autorange": "reversed",
         "domain": [
          0,
          1
         ],
         "fixedrange": true,
         "gridwidth": 2,
         "tickcolor": "white",
         "ticklen": 10,
         "ticks": "outside",
         "type": "category"
        }
       }
      }
     },
     "metadata": {},
     "output_type": "display_data"
    },
    {
     "name": "stdout",
     "output_type": "stream",
     "text": [
      "Using DALEX SHAP on false positive instance with row number: 563\n"
     ]
    },
    {
     "data": {
      "application/vnd.plotly.v1+json": {
       "config": {
        "displaylogo": false,
        "modeBarButtonsToRemove": [
         "sendDataToCloud",
         "lasso2d",
         "autoScale2d",
         "select2d",
         "zoom2d",
         "pan2d",
         "zoomIn2d",
         "zoomOut2d",
         "resetScale2d",
         "toggleSpikelines",
         "hoverCompareCartesian",
         "hoverClosestCartesian"
        ],
        "plotlyServerURL": "https://plot.ly",
        "staticPlot": false,
        "toImageButtonOptions": {
         "height": null,
         "width": null
        }
       },
       "data": [
        {
         "base": 0.38,
         "hoverinfo": "text",
         "hoverlabel": {
          "bgcolor": "rgba(0,0,0,0.8)"
         },
         "hovertext": [
          "Average response: 0.38<br>Prediction: 0.491<br>egfr_mdrd_scr_max = 54.0<br>increases average response <br>by 0.062",
          "Average response: 0.38<br>Prediction: 0.491<br>pt_max = 10.1<br>decreases average response <br>by 0.048",
          "Average response: 0.38<br>Prediction: 0.491<br>sbp_max = 123.0<br>decreases average response <br>by 0.041",
          "Average response: 0.38<br>Prediction: 0.491<br>creatinine_max = 1.0<br>increases average response <br>by 0.041",
          "Average response: 0.38<br>Prediction: 0.491<br>invasive_vent = 0.0<br>decreases average response <br>by 0.037",
          "Average response: 0.38<br>Prediction: 0.491<br>potassium_max = 5.1<br>increases average response <br>by 0.034",
          "Average response: 0.38<br>Prediction: 0.491<br>congestive_heart_failure = 1.0<br>increases average response <br>by 0.032",
          "Average response: 0.38<br>Prediction: 0.491<br>resp_rate_max = 32.0<br>increases average response <br>by 0.024",
          "Average response: 0.38<br>Prediction: 0.491<br>hematocrit_min = 31.1<br>decreases average response <br>by 0.024",
          "Average response: 0.38<br>Prediction: 0.491<br>platelets_max = 330.0<br>decreases average response <br>by 0.022",
          "Average response: 0.38<br>Prediction: 0.491<br>weight_max = 96.0<br>increases average response <br>by 0.022",
          "Average response: 0.38<br>Prediction: 0.491<br>spo2_min = 85.0<br>increases average response <br>by 0.02",
          "Average response: 0.38<br>Prediction: 0.491<br>egfr_epi_scr_max = 55.0<br>increases average response <br>by 0.018",
          "Average response: 0.38<br>Prediction: 0.491<br>sbp_min = 85.0<br>increases average response <br>by 0.015",
          "Average response: 0.38<br>Prediction: 0.491<br>myocardial_infarct = 1.0<br>increases average response <br>by 0.014",
          "Average response: 0.38<br>Prediction: 0.491<br>pt_min = 10.1<br>increases average response <br>by 0.013",
          "Average response: 0.38<br>Prediction: 0.491<br>calcium_max = 9.7<br>decreases average response <br>by 0.011",
          "Average response: 0.38<br>Prediction: 0.491<br>hemoglobin_max = 13.5<br>decreases average response <br>by 0.01",
          "Average response: 0.38<br>Prediction: 0.491<br>hematocrit_max = 42.2<br>decreases average response <br>by 0.009",
          "Average response: 0.38<br>Prediction: 0.491<br>resp_rate_mean = 20.66<br>decreases average response <br>by 0.009",
          "Average response: 0.38<br>Prediction: 0.491<br>wbc_bd_max = 19.0<br>increases average response <br>by 0.008",
          "Average response: 0.38<br>Prediction: 0.491<br>temperature_mean = 37.06<br>decreases average response <br>by 0.008",
          "Average response: 0.38<br>Prediction: 0.491<br>potassium_min = 4.1<br>decreases average response <br>by 0.008",
          "Average response: 0.38<br>Prediction: 0.491<br>diabetes_type2 = 0.0<br>decreases average response <br>by 0.007",
          "Average response: 0.38<br>Prediction: 0.491<br>sodium_min = 138.0<br>decreases average response <br>by 0.007",
          "Average response: 0.38<br>Prediction: 0.491<br>hemoglobin_min = 9.9<br>increases average response <br>by 0.007",
          "Average response: 0.38<br>Prediction: 0.491<br>aniongap_max = 20.0<br>decreases average response <br>by 0.007",
          "Average response: 0.38<br>Prediction: 0.491<br>ptt_min = 31.2<br>increases average response <br>by 0.007",
          "Average response: 0.38<br>Prediction: 0.491<br>creatinine_min = 0.7<br>increases average response <br>by 0.006",
          "Average response: 0.38<br>Prediction: 0.491<br>+ all other factors<br>decreases average response <br>by 0.037"
         ],
         "marker": {
          "color": [
           "#8bdcbe",
           "#f05a71",
           "#f05a71",
           "#8bdcbe",
           "#f05a71",
           "#8bdcbe",
           "#8bdcbe",
           "#8bdcbe",
           "#f05a71",
           "#f05a71",
           "#8bdcbe",
           "#8bdcbe",
           "#8bdcbe",
           "#8bdcbe",
           "#8bdcbe",
           "#8bdcbe",
           "#f05a71",
           "#f05a71",
           "#f05a71",
           "#f05a71",
           "#8bdcbe",
           "#f05a71",
           "#f05a71",
           "#f05a71",
           "#f05a71",
           "#8bdcbe",
           "#f05a71",
           "#8bdcbe",
           "#8bdcbe",
           "#f05a71"
          ]
         },
         "orientation": "h",
         "showlegend": false,
         "text": [
          "+0.062",
          "-0.048",
          "-0.041",
          "+0.041",
          "-0.037",
          "+0.034",
          "+0.032",
          "+0.024",
          "-0.024",
          "-0.022",
          "+0.022",
          "+0.02",
          "+0.018",
          "+0.015",
          "+0.014",
          "+0.013",
          "-0.011",
          "-0.01",
          "-0.009",
          "-0.009",
          "+0.008",
          "-0.008",
          "-0.008",
          "-0.007",
          "-0.007",
          "+0.007",
          "-0.007",
          "+0.007",
          "+0.006",
          "-0.037"
         ],
         "textposition": "outside",
         "type": "bar",
         "x": [
          0.062,
          -0.048,
          -0.041,
          0.041,
          -0.037,
          0.034,
          0.032,
          0.024,
          -0.024,
          -0.022,
          0.022,
          0.02,
          0.018,
          0.015,
          0.014,
          0.013,
          -0.011,
          -0.01,
          -0.009,
          -0.009,
          0.008,
          -0.008,
          -0.008,
          -0.007,
          -0.007,
          0.007,
          -0.007,
          0.007,
          0.006,
          -0.037
         ],
         "xaxis": "x",
         "y": [
          "egfr_mdrd_scr_max = 54.0",
          "pt_max = 10.1",
          "sbp_max = 123.0",
          "creatinine_max = 1.0",
          "invasive_vent = 0.0",
          "potassium_max = 5.1",
          "congestive_heart_failure = 1.0",
          "resp_rate_max = 32.0",
          "hematocrit_min = 31.1",
          "platelets_max = 330.0",
          "weight_max = 96.0",
          "spo2_min = 85.0",
          "egfr_epi_scr_max = 55.0",
          "sbp_min = 85.0",
          "myocardial_infarct = 1.0",
          "pt_min = 10.1",
          "calcium_max = 9.7",
          "hemoglobin_max = 13.5",
          "hematocrit_max = 42.2",
          "resp_rate_mean = 20.66",
          "wbc_bd_max = 19.0",
          "temperature_mean = 37.06",
          "potassium_min = 4.1",
          "diabetes_type2 = 0.0",
          "sodium_min = 138.0",
          "hemoglobin_min = 9.9",
          "aniongap_max = 20.0",
          "ptt_min = 31.2",
          "creatinine_min = 0.7",
          "+ all other factors"
         ],
         "yaxis": "y"
        }
       ],
       "layout": {
        "annotations": [
         {
          "font": {
           "size": 16
          },
          "showarrow": false,
          "text": "LGBMClassifier",
          "x": 0.5,
          "xanchor": "center",
          "xref": "paper",
          "y": 1,
          "yanchor": "bottom",
          "yref": "paper"
         },
         {
          "font": {
           "size": 16
          },
          "showarrow": false,
          "text": "contribution",
          "x": 0.5,
          "xanchor": "center",
          "xref": "paper",
          "y": 0,
          "yanchor": "top",
          "yref": "paper",
          "yshift": -30
         }
        ],
        "font": {
         "color": "#371ea3"
        },
        "height": 773,
        "margin": {
         "b": 71,
         "r": 30,
         "t": 78
        },
        "shapes": [
         {
          "line": {
           "color": "#371ea3",
           "dash": "dot",
           "width": 1.5
          },
          "type": "line",
          "x0": 0.38,
          "x1": 0.38,
          "xref": "x",
          "y0": -1,
          "y1": 31,
          "yref": "y"
         }
        ],
        "template": {
         "data": {
          "scatter": [
           {
            "type": "scatter"
           }
          ]
         }
        },
        "title": {
         "text": "Shapley Values",
         "x": 0.15
        },
        "xaxis": {
         "anchor": "y",
         "automargin": true,
         "domain": [
          0,
          1
         ],
         "fixedrange": true,
         "gridwidth": 2,
         "range": [
          0,
          1
         ],
         "tickcolor": "white",
         "ticklen": 3,
         "ticks": "outside",
         "type": "linear",
         "zeroline": false
        },
        "yaxis": {
         "anchor": "x",
         "automargin": true,
         "autorange": "reversed",
         "domain": [
          0,
          1
         ],
         "fixedrange": true,
         "gridwidth": 2,
         "tickcolor": "white",
         "ticklen": 10,
         "ticks": "outside",
         "type": "category"
        }
       }
      }
     },
     "metadata": {},
     "output_type": "display_data"
    },
    {
     "name": "stdout",
     "output_type": "stream",
     "text": [
      "Using DALEX SHAP on false positive instance with row number: 501\n"
     ]
    },
    {
     "data": {
      "application/vnd.plotly.v1+json": {
       "config": {
        "displaylogo": false,
        "modeBarButtonsToRemove": [
         "sendDataToCloud",
         "lasso2d",
         "autoScale2d",
         "select2d",
         "zoom2d",
         "pan2d",
         "zoomIn2d",
         "zoomOut2d",
         "resetScale2d",
         "toggleSpikelines",
         "hoverCompareCartesian",
         "hoverClosestCartesian"
        ],
        "plotlyServerURL": "https://plot.ly",
        "staticPlot": false,
        "toImageButtonOptions": {
         "height": null,
         "width": null
        }
       },
       "data": [
        {
         "base": 0.38,
         "hoverinfo": "text",
         "hoverlabel": {
          "bgcolor": "rgba(0,0,0,0.8)"
         },
         "hovertext": [
          "Average response: 0.38<br>Prediction: 0.893<br>egfr_mdrd_scr_max = 49.0<br>increases average response <br>by 0.207",
          "Average response: 0.38<br>Prediction: 0.893<br>creatinine_max = 1.4<br>increases average response <br>by 0.108",
          "Average response: 0.38<br>Prediction: 0.893<br>creatinine_min = 1.3<br>decreases average response <br>by 0.045",
          "Average response: 0.38<br>Prediction: 0.893<br>egfr_epi_scr_max = 47.0<br>increases average response <br>by 0.042",
          "Average response: 0.38<br>Prediction: 0.893<br>invasive_vent = 1.0<br>increases average response <br>by 0.029",
          "Average response: 0.38<br>Prediction: 0.893<br>dbp_min = 4.0<br>decreases average response <br>by 0.023",
          "Average response: 0.38<br>Prediction: 0.893<br>potassium_max = 5.9<br>increases average response <br>by 0.019",
          "Average response: 0.38<br>Prediction: 0.893<br>sbp_min = 82.0<br>increases average response <br>by 0.014",
          "Average response: 0.38<br>Prediction: 0.893<br>ptt_max = 27.9<br>decreases average response <br>by 0.012",
          "Average response: 0.38<br>Prediction: 0.893<br>congestive_heart_failure = 1.0<br>increases average response <br>by 0.012",
          "Average response: 0.38<br>Prediction: 0.893<br>platelets_max = 104.0<br>increases average response <br>by 0.011",
          "Average response: 0.38<br>Prediction: 0.893<br>aniongap_min = 6.0<br>decreases average response <br>by 0.011",
          "Average response: 0.38<br>Prediction: 0.893<br>potassium_min = 5.6<br>increases average response <br>by 0.011",
          "Average response: 0.38<br>Prediction: 0.893<br>weight_max = 89.0<br>increases average response <br>by 0.011",
          "Average response: 0.38<br>Prediction: 0.893<br>wbc_bd_min = 17.4<br>increases average response <br>by 0.011",
          "Average response: 0.38<br>Prediction: 0.893<br>ptt_min = 24.4<br>decreases average response <br>by 0.01",
          "Average response: 0.38<br>Prediction: 0.893<br>hemoglobin_min = 7.8<br>increases average response <br>by 0.01",
          "Average response: 0.38<br>Prediction: 0.893<br>hematocrit_min = 25.1<br>increases average response <br>by 0.01",
          "Average response: 0.38<br>Prediction: 0.893<br>bicarbonate_max = 21.0<br>decreases average response <br>by 0.009",
          "Average response: 0.38<br>Prediction: 0.893<br>hematocrit_max = 32.7<br>increases average response <br>by 0.009",
          "Average response: 0.38<br>Prediction: 0.893<br>peripheral_vascular_disease = 1.0<br>increases average response <br>by 0.009",
          "Average response: 0.38<br>Prediction: 0.893<br>chloride_min = 113.0<br>increases average response <br>by 0.009",
          "Average response: 0.38<br>Prediction: 0.893<br>calcium_max = 8.0<br>decreases average response <br>by 0.007",
          "Average response: 0.38<br>Prediction: 0.893<br>bun_max = 27.0<br>decreases average response <br>by 0.006",
          "Average response: 0.38<br>Prediction: 0.893<br>sbp_mean = 112.6<br>increases average response <br>by 0.006",
          "Average response: 0.38<br>Prediction: 0.893<br>myocardial_infarct = 1.0<br>increases average response <br>by 0.006",
          "Average response: 0.38<br>Prediction: 0.893<br>wbc_bd_max = 20.5<br>increases average response <br>by 0.006",
          "Average response: 0.38<br>Prediction: 0.893<br>temperature_min = 36.56<br>decreases average response <br>by 0.006",
          "Average response: 0.38<br>Prediction: 0.893<br>urineoutput_24hr = 200.0<br>decreases average response <br>by 0.006",
          "Average response: 0.38<br>Prediction: 0.893<br>+ all other factors<br>increases average response <br>by 0.036"
         ],
         "marker": {
          "color": [
           "#8bdcbe",
           "#8bdcbe",
           "#f05a71",
           "#8bdcbe",
           "#8bdcbe",
           "#f05a71",
           "#8bdcbe",
           "#8bdcbe",
           "#f05a71",
           "#8bdcbe",
           "#8bdcbe",
           "#f05a71",
           "#8bdcbe",
           "#8bdcbe",
           "#8bdcbe",
           "#f05a71",
           "#8bdcbe",
           "#8bdcbe",
           "#f05a71",
           "#8bdcbe",
           "#8bdcbe",
           "#8bdcbe",
           "#f05a71",
           "#f05a71",
           "#8bdcbe",
           "#8bdcbe",
           "#8bdcbe",
           "#f05a71",
           "#f05a71",
           "#8bdcbe"
          ]
         },
         "orientation": "h",
         "showlegend": false,
         "text": [
          "+0.207",
          "+0.108",
          "-0.045",
          "+0.042",
          "+0.029",
          "-0.023",
          "+0.019",
          "+0.014",
          "-0.012",
          "+0.012",
          "+0.011",
          "-0.011",
          "+0.011",
          "+0.011",
          "+0.011",
          "-0.01",
          "+0.01",
          "+0.01",
          "-0.009",
          "+0.009",
          "+0.009",
          "+0.009",
          "-0.007",
          "-0.006",
          "+0.006",
          "+0.006",
          "+0.006",
          "-0.006",
          "-0.006",
          "+0.036"
         ],
         "textposition": "outside",
         "type": "bar",
         "x": [
          0.207,
          0.108,
          -0.045,
          0.042,
          0.029,
          -0.023,
          0.019,
          0.014,
          -0.012,
          0.012,
          0.011,
          -0.011,
          0.011,
          0.011,
          0.011,
          -0.01,
          0.01,
          0.01,
          -0.009,
          0.009,
          0.009,
          0.009,
          -0.007,
          -0.006,
          0.006,
          0.006,
          0.006,
          -0.006,
          -0.006,
          0.036
         ],
         "xaxis": "x",
         "y": [
          "egfr_mdrd_scr_max = 49.0",
          "creatinine_max = 1.4",
          "creatinine_min = 1.3",
          "egfr_epi_scr_max = 47.0",
          "invasive_vent = 1.0",
          "dbp_min = 4.0",
          "potassium_max = 5.9",
          "sbp_min = 82.0",
          "ptt_max = 27.9",
          "congestive_heart_failure = 1.0",
          "platelets_max = 104.0",
          "aniongap_min = 6.0",
          "potassium_min = 5.6",
          "weight_max = 89.0",
          "wbc_bd_min = 17.4",
          "ptt_min = 24.4",
          "hemoglobin_min = 7.8",
          "hematocrit_min = 25.1",
          "bicarbonate_max = 21.0",
          "hematocrit_max = 32.7",
          "peripheral_vascular_disease = 1.0",
          "chloride_min = 113.0",
          "calcium_max = 8.0",
          "bun_max = 27.0",
          "sbp_mean = 112.6",
          "myocardial_infarct = 1.0",
          "wbc_bd_max = 20.5",
          "temperature_min = 36.56",
          "urineoutput_24hr = 200.0",
          "+ all other factors"
         ],
         "yaxis": "y"
        }
       ],
       "layout": {
        "annotations": [
         {
          "font": {
           "size": 16
          },
          "showarrow": false,
          "text": "LGBMClassifier",
          "x": 0.5,
          "xanchor": "center",
          "xref": "paper",
          "y": 1,
          "yanchor": "bottom",
          "yref": "paper"
         },
         {
          "font": {
           "size": 16
          },
          "showarrow": false,
          "text": "contribution",
          "x": 0.5,
          "xanchor": "center",
          "xref": "paper",
          "y": 0,
          "yanchor": "top",
          "yref": "paper",
          "yshift": -30
         }
        ],
        "font": {
         "color": "#371ea3"
        },
        "height": 773,
        "margin": {
         "b": 71,
         "r": 30,
         "t": 78
        },
        "shapes": [
         {
          "line": {
           "color": "#371ea3",
           "dash": "dot",
           "width": 1.5
          },
          "type": "line",
          "x0": 0.38,
          "x1": 0.38,
          "xref": "x",
          "y0": -1,
          "y1": 31,
          "yref": "y"
         }
        ],
        "template": {
         "data": {
          "scatter": [
           {
            "type": "scatter"
           }
          ]
         }
        },
        "title": {
         "text": "Shapley Values",
         "x": 0.15
        },
        "xaxis": {
         "anchor": "y",
         "automargin": true,
         "domain": [
          0,
          1
         ],
         "fixedrange": true,
         "gridwidth": 2,
         "range": [
          0,
          1
         ],
         "tickcolor": "white",
         "ticklen": 3,
         "ticks": "outside",
         "type": "linear",
         "zeroline": false
        },
        "yaxis": {
         "anchor": "x",
         "automargin": true,
         "autorange": "reversed",
         "domain": [
          0,
          1
         ],
         "fixedrange": true,
         "gridwidth": 2,
         "tickcolor": "white",
         "ticklen": 10,
         "ticks": "outside",
         "type": "category"
        }
       }
      }
     },
     "metadata": {},
     "output_type": "display_data"
    },
    {
     "name": "stdout",
     "output_type": "stream",
     "text": [
      "Using DALEX SHAP on false positive instance with row number: 457\n"
     ]
    },
    {
     "data": {
      "application/vnd.plotly.v1+json": {
       "config": {
        "displaylogo": false,
        "modeBarButtonsToRemove": [
         "sendDataToCloud",
         "lasso2d",
         "autoScale2d",
         "select2d",
         "zoom2d",
         "pan2d",
         "zoomIn2d",
         "zoomOut2d",
         "resetScale2d",
         "toggleSpikelines",
         "hoverCompareCartesian",
         "hoverClosestCartesian"
        ],
        "plotlyServerURL": "https://plot.ly",
        "staticPlot": false,
        "toImageButtonOptions": {
         "height": null,
         "width": null
        }
       },
       "data": [
        {
         "base": 0.38,
         "hoverinfo": "text",
         "hoverlabel": {
          "bgcolor": "rgba(0,0,0,0.8)"
         },
         "hovertext": [
          "Average response: 0.38<br>Prediction: 0.779<br>creatinine_max = 1.1<br>increases average response <br>by 0.119",
          "Average response: 0.38<br>Prediction: 0.779<br>invasive_vent = 1.0<br>increases average response <br>by 0.07",
          "Average response: 0.38<br>Prediction: 0.779<br>egfr_mdrd_scr_max = 65.0<br>decreases average response <br>by 0.067",
          "Average response: 0.38<br>Prediction: 0.779<br>creatinine_min = 0.9<br>decreases average response <br>by 0.06",
          "Average response: 0.38<br>Prediction: 0.779<br>potassium_max = 3.9<br>decreases average response <br>by 0.05",
          "Average response: 0.38<br>Prediction: 0.779<br>congestive_heart_failure = 1.0<br>increases average response <br>by 0.04",
          "Average response: 0.38<br>Prediction: 0.779<br>sbp_mean = 111.2<br>increases average response <br>by 0.028",
          "Average response: 0.38<br>Prediction: 0.779<br>pt_max = 16.7<br>increases average response <br>by 0.024",
          "Average response: 0.38<br>Prediction: 0.779<br>platelets_max = 148.0<br>increases average response <br>by 0.024",
          "Average response: 0.38<br>Prediction: 0.779<br>temperature_mean = 36.33<br>increases average response <br>by 0.022",
          "Average response: 0.38<br>Prediction: 0.779<br>egfr_epi_scr_max = 64.0<br>increases average response <br>by 0.021",
          "Average response: 0.38<br>Prediction: 0.779<br>urineoutput_24hr = 25.0<br>increases average response <br>by 0.021",
          "Average response: 0.38<br>Prediction: 0.779<br>sbp_min = 86.0<br>increases average response <br>by 0.02",
          "Average response: 0.38<br>Prediction: 0.779<br>hemoglobin_min = 6.5<br>increases average response <br>by 0.019",
          "Average response: 0.38<br>Prediction: 0.779<br>sbp_max = 129.0<br>decreases average response <br>by 0.017",
          "Average response: 0.38<br>Prediction: 0.779<br>peripheral_vascular_disease = 1.0<br>increases average response <br>by 0.017",
          "Average response: 0.38<br>Prediction: 0.779<br>platelets_min = 79.0<br>increases average response <br>by 0.016",
          "Average response: 0.38<br>Prediction: 0.779<br>bicarbonate_min = 20.0<br>increases average response <br>by 0.015",
          "Average response: 0.38<br>Prediction: 0.779<br>bilirubin_total_max = nan<br>increases average response <br>by 0.014",
          "Average response: 0.38<br>Prediction: 0.779<br>calcium_min = 8.1<br>decreases average response <br>by 0.014",
          "Average response: 0.38<br>Prediction: 0.779<br>temperature_max = 36.33<br>increases average response <br>by 0.014",
          "Average response: 0.38<br>Prediction: 0.779<br>chloride_min = 108.0<br>increases average response <br>by 0.013",
          "Average response: 0.38<br>Prediction: 0.779<br>potassium_min = 3.5<br>increases average response <br>by 0.012",
          "Average response: 0.38<br>Prediction: 0.779<br>female = 0.0<br>increases average response <br>by 0.011",
          "Average response: 0.38<br>Prediction: 0.779<br>wbc_bd_min = 7.8<br>decreases average response <br>by 0.01",
          "Average response: 0.38<br>Prediction: 0.779<br>hemoglobin_max = 12.2<br>increases average response <br>by 0.009",
          "Average response: 0.38<br>Prediction: 0.779<br>weight_admit = 72.3<br>increases average response <br>by 0.009",
          "Average response: 0.38<br>Prediction: 0.779<br>ptt_min = 30.8<br>increases average response <br>by 0.009",
          "Average response: 0.38<br>Prediction: 0.779<br>diabetes_type2 = 0.0<br>decreases average response <br>by 0.008",
          "Average response: 0.38<br>Prediction: 0.779<br>+ all other factors<br>increases average response <br>by 0.004"
         ],
         "marker": {
          "color": [
           "#8bdcbe",
           "#8bdcbe",
           "#f05a71",
           "#f05a71",
           "#f05a71",
           "#8bdcbe",
           "#8bdcbe",
           "#8bdcbe",
           "#8bdcbe",
           "#8bdcbe",
           "#8bdcbe",
           "#8bdcbe",
           "#8bdcbe",
           "#8bdcbe",
           "#f05a71",
           "#8bdcbe",
           "#8bdcbe",
           "#8bdcbe",
           "#8bdcbe",
           "#f05a71",
           "#8bdcbe",
           "#8bdcbe",
           "#8bdcbe",
           "#8bdcbe",
           "#f05a71",
           "#8bdcbe",
           "#8bdcbe",
           "#8bdcbe",
           "#f05a71",
           "#8bdcbe"
          ]
         },
         "orientation": "h",
         "showlegend": false,
         "text": [
          "+0.119",
          "+0.07",
          "-0.067",
          "-0.06",
          "-0.05",
          "+0.04",
          "+0.028",
          "+0.024",
          "+0.024",
          "+0.022",
          "+0.021",
          "+0.021",
          "+0.02",
          "+0.019",
          "-0.017",
          "+0.017",
          "+0.016",
          "+0.015",
          "+0.014",
          "-0.014",
          "+0.014",
          "+0.013",
          "+0.012",
          "+0.011",
          "-0.01",
          "+0.009",
          "+0.009",
          "+0.009",
          "-0.008",
          "+0.004"
         ],
         "textposition": "outside",
         "type": "bar",
         "x": [
          0.119,
          0.07,
          -0.067,
          -0.06,
          -0.05,
          0.04,
          0.028,
          0.024,
          0.024,
          0.022,
          0.021,
          0.021,
          0.02,
          0.019,
          -0.017,
          0.017,
          0.016,
          0.015,
          0.014,
          -0.014,
          0.014,
          0.013,
          0.012,
          0.011,
          -0.01,
          0.009,
          0.009,
          0.009,
          -0.008,
          0.004
         ],
         "xaxis": "x",
         "y": [
          "creatinine_max = 1.1",
          "invasive_vent = 1.0",
          "egfr_mdrd_scr_max = 65.0",
          "creatinine_min = 0.9",
          "potassium_max = 3.9",
          "congestive_heart_failure = 1.0",
          "sbp_mean = 111.2",
          "pt_max = 16.7",
          "platelets_max = 148.0",
          "temperature_mean = 36.33",
          "egfr_epi_scr_max = 64.0",
          "urineoutput_24hr = 25.0",
          "sbp_min = 86.0",
          "hemoglobin_min = 6.5",
          "sbp_max = 129.0",
          "peripheral_vascular_disease = 1.0",
          "platelets_min = 79.0",
          "bicarbonate_min = 20.0",
          "bilirubin_total_max = nan",
          "calcium_min = 8.1",
          "temperature_max = 36.33",
          "chloride_min = 108.0",
          "potassium_min = 3.5",
          "female = 0.0",
          "wbc_bd_min = 7.8",
          "hemoglobin_max = 12.2",
          "weight_admit = 72.3",
          "ptt_min = 30.8",
          "diabetes_type2 = 0.0",
          "+ all other factors"
         ],
         "yaxis": "y"
        }
       ],
       "layout": {
        "annotations": [
         {
          "font": {
           "size": 16
          },
          "showarrow": false,
          "text": "LGBMClassifier",
          "x": 0.5,
          "xanchor": "center",
          "xref": "paper",
          "y": 1,
          "yanchor": "bottom",
          "yref": "paper"
         },
         {
          "font": {
           "size": 16
          },
          "showarrow": false,
          "text": "contribution",
          "x": 0.5,
          "xanchor": "center",
          "xref": "paper",
          "y": 0,
          "yanchor": "top",
          "yref": "paper",
          "yshift": -30
         }
        ],
        "font": {
         "color": "#371ea3"
        },
        "height": 773,
        "margin": {
         "b": 71,
         "r": 30,
         "t": 78
        },
        "shapes": [
         {
          "line": {
           "color": "#371ea3",
           "dash": "dot",
           "width": 1.5
          },
          "type": "line",
          "x0": 0.38,
          "x1": 0.38,
          "xref": "x",
          "y0": -1,
          "y1": 31,
          "yref": "y"
         }
        ],
        "template": {
         "data": {
          "scatter": [
           {
            "type": "scatter"
           }
          ]
         }
        },
        "title": {
         "text": "Shapley Values",
         "x": 0.15
        },
        "xaxis": {
         "anchor": "y",
         "automargin": true,
         "domain": [
          0,
          1
         ],
         "fixedrange": true,
         "gridwidth": 2,
         "range": [
          0,
          1
         ],
         "tickcolor": "white",
         "ticklen": 3,
         "ticks": "outside",
         "type": "linear",
         "zeroline": false
        },
        "yaxis": {
         "anchor": "x",
         "automargin": true,
         "autorange": "reversed",
         "domain": [
          0,
          1
         ],
         "fixedrange": true,
         "gridwidth": 2,
         "tickcolor": "white",
         "ticklen": 10,
         "ticks": "outside",
         "type": "category"
        }
       }
      }
     },
     "metadata": {},
     "output_type": "display_data"
    },
    {
     "name": "stdout",
     "output_type": "stream",
     "text": [
      "Using DALEX SHAP on false positive instance with row number: 285\n"
     ]
    },
    {
     "data": {
      "application/vnd.plotly.v1+json": {
       "config": {
        "displaylogo": false,
        "modeBarButtonsToRemove": [
         "sendDataToCloud",
         "lasso2d",
         "autoScale2d",
         "select2d",
         "zoom2d",
         "pan2d",
         "zoomIn2d",
         "zoomOut2d",
         "resetScale2d",
         "toggleSpikelines",
         "hoverCompareCartesian",
         "hoverClosestCartesian"
        ],
        "plotlyServerURL": "https://plot.ly",
        "staticPlot": false,
        "toImageButtonOptions": {
         "height": null,
         "width": null
        }
       },
       "data": [
        {
         "base": 0.38,
         "hoverinfo": "text",
         "hoverlabel": {
          "bgcolor": "rgba(0,0,0,0.8)"
         },
         "hovertext": [
          "Average response: 0.38<br>Prediction: 0.504<br>creatinine_max = 1.3<br>increases average response <br>by 0.109",
          "Average response: 0.38<br>Prediction: 0.504<br>egfr_mdrd_scr_max = 52.0<br>increases average response <br>by 0.066",
          "Average response: 0.38<br>Prediction: 0.504<br>sbp_min = 122.0<br>decreases average response <br>by 0.063",
          "Average response: 0.38<br>Prediction: 0.504<br>congestive_heart_failure = 1.0<br>increases average response <br>by 0.053",
          "Average response: 0.38<br>Prediction: 0.504<br>creatinine_min = 1.2<br>decreases average response <br>by 0.053",
          "Average response: 0.38<br>Prediction: 0.504<br>invasive_vent = 0.0<br>decreases average response <br>by 0.031",
          "Average response: 0.38<br>Prediction: 0.504<br>potassium_max = 5.0<br>increases average response <br>by 0.021",
          "Average response: 0.38<br>Prediction: 0.504<br>age = 91.0<br>decreases average response <br>by 0.02",
          "Average response: 0.38<br>Prediction: 0.504<br>hemoglobin_max = 8.7<br>decreases average response <br>by 0.019",
          "Average response: 0.38<br>Prediction: 0.504<br>egfr_epi_scr_max = 48.0<br>increases average response <br>by 0.018",
          "Average response: 0.38<br>Prediction: 0.504<br>aniongap_min = 14.0<br>increases average response <br>by 0.017",
          "Average response: 0.38<br>Prediction: 0.504<br>ptt_min = 36.2<br>increases average response <br>by 0.016",
          "Average response: 0.38<br>Prediction: 0.504<br>potassium_min = 4.4<br>decreases average response <br>by 0.015",
          "Average response: 0.38<br>Prediction: 0.504<br>hematocrit_min = 21.0<br>increases average response <br>by 0.015",
          "Average response: 0.38<br>Prediction: 0.504<br>albumin_min = 4.4<br>decreases average response <br>by 0.014",
          "Average response: 0.38<br>Prediction: 0.504<br>hematocrit_max = 26.2<br>decreases average response <br>by 0.013",
          "Average response: 0.38<br>Prediction: 0.504<br>sbp_mean = 136.2<br>decreases average response <br>by 0.01",
          "Average response: 0.38<br>Prediction: 0.504<br>ptt_max = 40.3<br>increases average response <br>by 0.01",
          "Average response: 0.38<br>Prediction: 0.504<br>wbc_bd_max = 8.1<br>decreases average response <br>by 0.009",
          "Average response: 0.38<br>Prediction: 0.504<br>albumin_max = 4.4<br>decreases average response <br>by 0.008",
          "Average response: 0.38<br>Prediction: 0.504<br>pt_max = 15.4<br>increases average response <br>by 0.007",
          "Average response: 0.38<br>Prediction: 0.504<br>sbp_max = 155.0<br>increases average response <br>by 0.006",
          "Average response: 0.38<br>Prediction: 0.504<br>resp_rate_max = 22.0<br>decreases average response <br>by 0.006",
          "Average response: 0.38<br>Prediction: 0.504<br>pt_min = 15.1<br>decreases average response <br>by 0.006",
          "Average response: 0.38<br>Prediction: 0.504<br>temperature_min = 36.5<br>decreases average response <br>by 0.006",
          "Average response: 0.38<br>Prediction: 0.504<br>calcium_max = 9.1<br>increases average response <br>by 0.006",
          "Average response: 0.38<br>Prediction: 0.504<br>bun_max = 30.0<br>decreases average response <br>by 0.006",
          "Average response: 0.38<br>Prediction: 0.504<br>temperature_mean = 36.81<br>decreases average response <br>by 0.005",
          "Average response: 0.38<br>Prediction: 0.504<br>diabetes_type2 = 0.0<br>decreases average response <br>by 0.005",
          "Average response: 0.38<br>Prediction: 0.504<br>+ all other factors<br>decreases average response <br>by 0.005"
         ],
         "marker": {
          "color": [
           "#8bdcbe",
           "#8bdcbe",
           "#f05a71",
           "#8bdcbe",
           "#f05a71",
           "#f05a71",
           "#8bdcbe",
           "#f05a71",
           "#f05a71",
           "#8bdcbe",
           "#8bdcbe",
           "#8bdcbe",
           "#f05a71",
           "#8bdcbe",
           "#f05a71",
           "#f05a71",
           "#f05a71",
           "#8bdcbe",
           "#f05a71",
           "#f05a71",
           "#8bdcbe",
           "#8bdcbe",
           "#f05a71",
           "#f05a71",
           "#f05a71",
           "#8bdcbe",
           "#f05a71",
           "#f05a71",
           "#f05a71",
           "#f05a71"
          ]
         },
         "orientation": "h",
         "showlegend": false,
         "text": [
          "+0.109",
          "+0.066",
          "-0.063",
          "+0.053",
          "-0.053",
          "-0.031",
          "+0.021",
          "-0.02",
          "-0.019",
          "+0.018",
          "+0.017",
          "+0.016",
          "-0.015",
          "+0.015",
          "-0.014",
          "-0.013",
          "-0.01",
          "+0.01",
          "-0.009",
          "-0.008",
          "+0.007",
          "+0.006",
          "-0.006",
          "-0.006",
          "-0.006",
          "+0.006",
          "-0.006",
          "-0.005",
          "-0.005",
          "-0.005"
         ],
         "textposition": "outside",
         "type": "bar",
         "x": [
          0.109,
          0.066,
          -0.063,
          0.053,
          -0.053,
          -0.031,
          0.021,
          -0.02,
          -0.019,
          0.018,
          0.017,
          0.016,
          -0.015,
          0.015,
          -0.014,
          -0.013,
          -0.01,
          0.01,
          -0.009,
          -0.008,
          0.007,
          0.006,
          -0.006,
          -0.006,
          -0.006,
          0.006,
          -0.006,
          -0.005,
          -0.005,
          -0.005
         ],
         "xaxis": "x",
         "y": [
          "creatinine_max = 1.3",
          "egfr_mdrd_scr_max = 52.0",
          "sbp_min = 122.0",
          "congestive_heart_failure = 1.0",
          "creatinine_min = 1.2",
          "invasive_vent = 0.0",
          "potassium_max = 5.0",
          "age = 91.0",
          "hemoglobin_max = 8.7",
          "egfr_epi_scr_max = 48.0",
          "aniongap_min = 14.0",
          "ptt_min = 36.2",
          "potassium_min = 4.4",
          "hematocrit_min = 21.0",
          "albumin_min = 4.4",
          "hematocrit_max = 26.2",
          "sbp_mean = 136.2",
          "ptt_max = 40.3",
          "wbc_bd_max = 8.1",
          "albumin_max = 4.4",
          "pt_max = 15.4",
          "sbp_max = 155.0",
          "resp_rate_max = 22.0",
          "pt_min = 15.1",
          "temperature_min = 36.5",
          "calcium_max = 9.1",
          "bun_max = 30.0",
          "temperature_mean = 36.81",
          "diabetes_type2 = 0.0",
          "+ all other factors"
         ],
         "yaxis": "y"
        }
       ],
       "layout": {
        "annotations": [
         {
          "font": {
           "size": 16
          },
          "showarrow": false,
          "text": "LGBMClassifier",
          "x": 0.5,
          "xanchor": "center",
          "xref": "paper",
          "y": 1,
          "yanchor": "bottom",
          "yref": "paper"
         },
         {
          "font": {
           "size": 16
          },
          "showarrow": false,
          "text": "contribution",
          "x": 0.5,
          "xanchor": "center",
          "xref": "paper",
          "y": 0,
          "yanchor": "top",
          "yref": "paper",
          "yshift": -30
         }
        ],
        "font": {
         "color": "#371ea3"
        },
        "height": 773,
        "margin": {
         "b": 71,
         "r": 30,
         "t": 78
        },
        "shapes": [
         {
          "line": {
           "color": "#371ea3",
           "dash": "dot",
           "width": 1.5
          },
          "type": "line",
          "x0": 0.38,
          "x1": 0.38,
          "xref": "x",
          "y0": -1,
          "y1": 31,
          "yref": "y"
         }
        ],
        "template": {
         "data": {
          "scatter": [
           {
            "type": "scatter"
           }
          ]
         }
        },
        "title": {
         "text": "Shapley Values",
         "x": 0.15
        },
        "xaxis": {
         "anchor": "y",
         "automargin": true,
         "domain": [
          0,
          1
         ],
         "fixedrange": true,
         "gridwidth": 2,
         "range": [
          0,
          1
         ],
         "tickcolor": "white",
         "ticklen": 3,
         "ticks": "outside",
         "type": "linear",
         "zeroline": false
        },
        "yaxis": {
         "anchor": "x",
         "automargin": true,
         "autorange": "reversed",
         "domain": [
          0,
          1
         ],
         "fixedrange": true,
         "gridwidth": 2,
         "tickcolor": "white",
         "ticklen": 10,
         "ticks": "outside",
         "type": "category"
        }
       }
      }
     },
     "metadata": {},
     "output_type": "display_data"
    },
    {
     "name": "stdout",
     "output_type": "stream",
     "text": [
      "Using DALEX SHAP on false positive instance with row number: 209\n"
     ]
    },
    {
     "data": {
      "application/vnd.plotly.v1+json": {
       "config": {
        "displaylogo": false,
        "modeBarButtonsToRemove": [
         "sendDataToCloud",
         "lasso2d",
         "autoScale2d",
         "select2d",
         "zoom2d",
         "pan2d",
         "zoomIn2d",
         "zoomOut2d",
         "resetScale2d",
         "toggleSpikelines",
         "hoverCompareCartesian",
         "hoverClosestCartesian"
        ],
        "plotlyServerURL": "https://plot.ly",
        "staticPlot": false,
        "toImageButtonOptions": {
         "height": null,
         "width": null
        }
       },
       "data": [
        {
         "base": 0.38,
         "hoverinfo": "text",
         "hoverlabel": {
          "bgcolor": "rgba(0,0,0,0.8)"
         },
         "hovertext": [
          "Average response: 0.38<br>Prediction: 0.429<br>egfr_mdrd_scr_max = 59.0<br>decreases average response <br>by 0.049",
          "Average response: 0.38<br>Prediction: 0.429<br>ptt_max = 150.0<br>increases average response <br>by 0.043",
          "Average response: 0.38<br>Prediction: 0.429<br>invasive_vent = 0.0<br>decreases average response <br>by 0.043",
          "Average response: 0.38<br>Prediction: 0.429<br>pt_max = 150.0<br>increases average response <br>by 0.036",
          "Average response: 0.38<br>Prediction: 0.429<br>wbc_bd_min = 22.9<br>increases average response <br>by 0.029",
          "Average response: 0.38<br>Prediction: 0.429<br>hematocrit_min = 20.8<br>increases average response <br>by 0.029",
          "Average response: 0.38<br>Prediction: 0.429<br>wbc_bd_max = 29.0<br>increases average response <br>by 0.026",
          "Average response: 0.38<br>Prediction: 0.429<br>platelets_max = 338.0<br>decreases average response <br>by 0.026",
          "Average response: 0.38<br>Prediction: 0.429<br>creatinine_max = 0.9<br>decreases average response <br>by 0.019",
          "Average response: 0.38<br>Prediction: 0.429<br>age = 91.0<br>decreases average response <br>by 0.019",
          "Average response: 0.38<br>Prediction: 0.429<br>bun_min = 49.0<br>increases average response <br>by 0.018",
          "Average response: 0.38<br>Prediction: 0.429<br>myocardial_infarct = 1.0<br>increases average response <br>by 0.018",
          "Average response: 0.38<br>Prediction: 0.429<br>egfr_epi_scr_max = 56.0<br>increases average response <br>by 0.017",
          "Average response: 0.38<br>Prediction: 0.429<br>potassium_max = 4.8<br>increases average response <br>by 0.017",
          "Average response: 0.38<br>Prediction: 0.429<br>weight_max = 54.3<br>decreases average response <br>by 0.015",
          "Average response: 0.38<br>Prediction: 0.429<br>creatinine_min = 0.7<br>decreases average response <br>by 0.013",
          "Average response: 0.38<br>Prediction: 0.429<br>sbp_min = 86.0<br>increases average response <br>by 0.013",
          "Average response: 0.38<br>Prediction: 0.429<br>supplemental_oxygen = 0.0<br>decreases average response <br>by 0.011",
          "Average response: 0.38<br>Prediction: 0.429<br>calcium_max = 8.3<br>increases average response <br>by 0.01",
          "Average response: 0.38<br>Prediction: 0.429<br>temperature_mean = 36.97<br>decreases average response <br>by 0.009",
          "Average response: 0.38<br>Prediction: 0.429<br>hemoglobin_min = 6.8<br>increases average response <br>by 0.009",
          "Average response: 0.38<br>Prediction: 0.429<br>female = 1.0<br>decreases average response <br>by 0.009",
          "Average response: 0.38<br>Prediction: 0.429<br>glucose_max = 201.0<br>decreases average response <br>by 0.009",
          "Average response: 0.38<br>Prediction: 0.429<br>temperature_min = 36.67<br>decreases average response <br>by 0.008",
          "Average response: 0.38<br>Prediction: 0.429<br>platelets_min = 221.0<br>decreases average response <br>by 0.008",
          "Average response: 0.38<br>Prediction: 0.429<br>bun_max = 64.0<br>decreases average response <br>by 0.007",
          "Average response: 0.38<br>Prediction: 0.429<br>bicarbonate_max = 23.0<br>decreases average response <br>by 0.007",
          "Average response: 0.38<br>Prediction: 0.429<br>dbp_min = 36.0<br>decreases average response <br>by 0.007",
          "Average response: 0.38<br>Prediction: 0.429<br>dbp_mean = 55.39<br>decreases average response <br>by 0.006",
          "Average response: 0.38<br>Prediction: 0.429<br>+ all other factors<br>decreases average response <br>by 0.024"
         ],
         "marker": {
          "color": [
           "#f05a71",
           "#8bdcbe",
           "#f05a71",
           "#8bdcbe",
           "#8bdcbe",
           "#8bdcbe",
           "#8bdcbe",
           "#f05a71",
           "#f05a71",
           "#f05a71",
           "#8bdcbe",
           "#8bdcbe",
           "#8bdcbe",
           "#8bdcbe",
           "#f05a71",
           "#f05a71",
           "#8bdcbe",
           "#f05a71",
           "#8bdcbe",
           "#f05a71",
           "#8bdcbe",
           "#f05a71",
           "#f05a71",
           "#f05a71",
           "#f05a71",
           "#f05a71",
           "#f05a71",
           "#f05a71",
           "#f05a71",
           "#f05a71"
          ]
         },
         "orientation": "h",
         "showlegend": false,
         "text": [
          "-0.049",
          "+0.043",
          "-0.043",
          "+0.036",
          "+0.029",
          "+0.029",
          "+0.026",
          "-0.026",
          "-0.019",
          "-0.019",
          "+0.018",
          "+0.018",
          "+0.017",
          "+0.017",
          "-0.015",
          "-0.013",
          "+0.013",
          "-0.011",
          "+0.01",
          "-0.009",
          "+0.009",
          "-0.009",
          "-0.009",
          "-0.008",
          "-0.008",
          "-0.007",
          "-0.007",
          "-0.007",
          "-0.006",
          "-0.024"
         ],
         "textposition": "outside",
         "type": "bar",
         "x": [
          -0.049,
          0.043,
          -0.043,
          0.036,
          0.029,
          0.029,
          0.026,
          -0.026,
          -0.019,
          -0.019,
          0.018,
          0.018,
          0.017,
          0.017,
          -0.015,
          -0.013,
          0.013,
          -0.011,
          0.01,
          -0.009,
          0.009,
          -0.009,
          -0.009,
          -0.008,
          -0.008,
          -0.007,
          -0.007,
          -0.007,
          -0.006,
          -0.024
         ],
         "xaxis": "x",
         "y": [
          "egfr_mdrd_scr_max = 59.0",
          "ptt_max = 150.0",
          "invasive_vent = 0.0",
          "pt_max = 150.0",
          "wbc_bd_min = 22.9",
          "hematocrit_min = 20.8",
          "wbc_bd_max = 29.0",
          "platelets_max = 338.0",
          "creatinine_max = 0.9",
          "age = 91.0",
          "bun_min = 49.0",
          "myocardial_infarct = 1.0",
          "egfr_epi_scr_max = 56.0",
          "potassium_max = 4.8",
          "weight_max = 54.3",
          "creatinine_min = 0.7",
          "sbp_min = 86.0",
          "supplemental_oxygen = 0.0",
          "calcium_max = 8.3",
          "temperature_mean = 36.97",
          "hemoglobin_min = 6.8",
          "female = 1.0",
          "glucose_max = 201.0",
          "temperature_min = 36.67",
          "platelets_min = 221.0",
          "bun_max = 64.0",
          "bicarbonate_max = 23.0",
          "dbp_min = 36.0",
          "dbp_mean = 55.39",
          "+ all other factors"
         ],
         "yaxis": "y"
        }
       ],
       "layout": {
        "annotations": [
         {
          "font": {
           "size": 16
          },
          "showarrow": false,
          "text": "LGBMClassifier",
          "x": 0.5,
          "xanchor": "center",
          "xref": "paper",
          "y": 1,
          "yanchor": "bottom",
          "yref": "paper"
         },
         {
          "font": {
           "size": 16
          },
          "showarrow": false,
          "text": "contribution",
          "x": 0.5,
          "xanchor": "center",
          "xref": "paper",
          "y": 0,
          "yanchor": "top",
          "yref": "paper",
          "yshift": -30
         }
        ],
        "font": {
         "color": "#371ea3"
        },
        "height": 773,
        "margin": {
         "b": 71,
         "r": 30,
         "t": 78
        },
        "shapes": [
         {
          "line": {
           "color": "#371ea3",
           "dash": "dot",
           "width": 1.5
          },
          "type": "line",
          "x0": 0.38,
          "x1": 0.38,
          "xref": "x",
          "y0": -1,
          "y1": 31,
          "yref": "y"
         }
        ],
        "template": {
         "data": {
          "scatter": [
           {
            "type": "scatter"
           }
          ]
         }
        },
        "title": {
         "text": "Shapley Values",
         "x": 0.15
        },
        "xaxis": {
         "anchor": "y",
         "automargin": true,
         "domain": [
          0,
          1
         ],
         "fixedrange": true,
         "gridwidth": 2,
         "range": [
          0,
          1
         ],
         "tickcolor": "white",
         "ticklen": 3,
         "ticks": "outside",
         "type": "linear",
         "zeroline": false
        },
        "yaxis": {
         "anchor": "x",
         "automargin": true,
         "autorange": "reversed",
         "domain": [
          0,
          1
         ],
         "fixedrange": true,
         "gridwidth": 2,
         "tickcolor": "white",
         "ticklen": 10,
         "ticks": "outside",
         "type": "category"
        }
       }
      }
     },
     "metadata": {},
     "output_type": "display_data"
    },
    {
     "name": "stdout",
     "output_type": "stream",
     "text": [
      "Using DALEX SHAP on false positive instance with row number: 1116\n"
     ]
    },
    {
     "data": {
      "application/vnd.plotly.v1+json": {
       "config": {
        "displaylogo": false,
        "modeBarButtonsToRemove": [
         "sendDataToCloud",
         "lasso2d",
         "autoScale2d",
         "select2d",
         "zoom2d",
         "pan2d",
         "zoomIn2d",
         "zoomOut2d",
         "resetScale2d",
         "toggleSpikelines",
         "hoverCompareCartesian",
         "hoverClosestCartesian"
        ],
        "plotlyServerURL": "https://plot.ly",
        "staticPlot": false,
        "toImageButtonOptions": {
         "height": null,
         "width": null
        }
       },
       "data": [
        {
         "base": 0.38,
         "hoverinfo": "text",
         "hoverlabel": {
          "bgcolor": "rgba(0,0,0,0.8)"
         },
         "hovertext": [
          "Average response: 0.38<br>Prediction: 0.57<br>creatinine_max = 0.6<br>decreases average response <br>by 0.115",
          "Average response: 0.38<br>Prediction: 0.57<br>egfr_mdrd_scr_max = 103.0<br>decreases average response <br>by 0.086",
          "Average response: 0.38<br>Prediction: 0.57<br>pt_max = 16.7<br>increases average response <br>by 0.047",
          "Average response: 0.38<br>Prediction: 0.57<br>egfr_epi_scr_max = 102.0<br>decreases average response <br>by 0.045",
          "Average response: 0.38<br>Prediction: 0.57<br>temperature_mean = 36.34<br>increases average response <br>by 0.036",
          "Average response: 0.38<br>Prediction: 0.57<br>hematocrit_min = 24.0<br>increases average response <br>by 0.032",
          "Average response: 0.38<br>Prediction: 0.57<br>invasive_vent = 1.0<br>increases average response <br>by 0.029",
          "Average response: 0.38<br>Prediction: 0.57<br>congestive_heart_failure = 1.0<br>increases average response <br>by 0.029",
          "Average response: 0.38<br>Prediction: 0.57<br>potassium_max = 4.5<br>increases average response <br>by 0.027",
          "Average response: 0.38<br>Prediction: 0.57<br>temperature_min = 34.7<br>increases average response <br>by 0.026",
          "Average response: 0.38<br>Prediction: 0.57<br>sbp_max = 129.0<br>decreases average response <br>by 0.024",
          "Average response: 0.38<br>Prediction: 0.57<br>creatinine_min = 0.6<br>increases average response <br>by 0.023",
          "Average response: 0.38<br>Prediction: 0.57<br>weight_max = 64.6<br>decreases average response <br>by 0.019",
          "Average response: 0.38<br>Prediction: 0.57<br>hematocrit_max = 30.7<br>increases average response <br>by 0.018",
          "Average response: 0.38<br>Prediction: 0.57<br>hemoglobin_min = 7.4<br>increases average response <br>by 0.016",
          "Average response: 0.38<br>Prediction: 0.57<br>weight_admit = 54.5<br>increases average response <br>by 0.016",
          "Average response: 0.38<br>Prediction: 0.57<br>sbp_min = 92.0<br>increases average response <br>by 0.016",
          "Average response: 0.38<br>Prediction: 0.57<br>urineoutput_24hr = 805.0<br>increases average response <br>by 0.015",
          "Average response: 0.38<br>Prediction: 0.57<br>female = 1.0<br>decreases average response <br>by 0.013",
          "Average response: 0.38<br>Prediction: 0.57<br>spo2_min = 98.0<br>decreases average response <br>by 0.012",
          "Average response: 0.38<br>Prediction: 0.57<br>chronic_pulmonary_disease = 1.0<br>decreases average response <br>by 0.012",
          "Average response: 0.38<br>Prediction: 0.57<br>glucose_max = 93.0<br>increases average response <br>by 0.012",
          "Average response: 0.38<br>Prediction: 0.57<br>wbc_bd_max = 13.3<br>increases average response <br>by 0.011",
          "Average response: 0.38<br>Prediction: 0.57<br>dbp_min = 48.0<br>increases average response <br>by 0.011",
          "Average response: 0.38<br>Prediction: 0.57<br>platelets_min = 113.0<br>increases average response <br>by 0.01",
          "Average response: 0.38<br>Prediction: 0.57<br>resp_rate_max = 29.0<br>increases average response <br>by 0.01",
          "Average response: 0.38<br>Prediction: 0.57<br>platelets_max = 139.0<br>increases average response <br>by 0.01",
          "Average response: 0.38<br>Prediction: 0.57<br>hemoglobin_max = 10.3<br>increases average response <br>by 0.009",
          "Average response: 0.38<br>Prediction: 0.57<br>ptt_min = 24.3<br>decreases average response <br>by 0.008",
          "Average response: 0.38<br>Prediction: 0.57<br>+ all other factors<br>increases average response <br>by 0.048"
         ],
         "marker": {
          "color": [
           "#f05a71",
           "#f05a71",
           "#8bdcbe",
           "#f05a71",
           "#8bdcbe",
           "#8bdcbe",
           "#8bdcbe",
           "#8bdcbe",
           "#8bdcbe",
           "#8bdcbe",
           "#f05a71",
           "#8bdcbe",
           "#f05a71",
           "#8bdcbe",
           "#8bdcbe",
           "#8bdcbe",
           "#8bdcbe",
           "#8bdcbe",
           "#f05a71",
           "#f05a71",
           "#f05a71",
           "#8bdcbe",
           "#8bdcbe",
           "#8bdcbe",
           "#8bdcbe",
           "#8bdcbe",
           "#8bdcbe",
           "#8bdcbe",
           "#f05a71",
           "#8bdcbe"
          ]
         },
         "orientation": "h",
         "showlegend": false,
         "text": [
          "-0.115",
          "-0.086",
          "+0.047",
          "-0.045",
          "+0.036",
          "+0.032",
          "+0.029",
          "+0.029",
          "+0.027",
          "+0.026",
          "-0.024",
          "+0.023",
          "-0.019",
          "+0.018",
          "+0.016",
          "+0.016",
          "+0.016",
          "+0.015",
          "-0.013",
          "-0.012",
          "-0.012",
          "+0.012",
          "+0.011",
          "+0.011",
          "+0.01",
          "+0.01",
          "+0.01",
          "+0.009",
          "-0.008",
          "+0.048"
         ],
         "textposition": "outside",
         "type": "bar",
         "x": [
          -0.115,
          -0.086,
          0.047,
          -0.045,
          0.036,
          0.032,
          0.029,
          0.029,
          0.027,
          0.026,
          -0.024,
          0.023,
          -0.019,
          0.018,
          0.016,
          0.016,
          0.016,
          0.015,
          -0.013,
          -0.012,
          -0.012,
          0.012,
          0.011,
          0.011,
          0.01,
          0.01,
          0.01,
          0.009,
          -0.008,
          0.048
         ],
         "xaxis": "x",
         "y": [
          "creatinine_max = 0.6",
          "egfr_mdrd_scr_max = 103.0",
          "pt_max = 16.7",
          "egfr_epi_scr_max = 102.0",
          "temperature_mean = 36.34",
          "hematocrit_min = 24.0",
          "invasive_vent = 1.0",
          "congestive_heart_failure = 1.0",
          "potassium_max = 4.5",
          "temperature_min = 34.7",
          "sbp_max = 129.0",
          "creatinine_min = 0.6",
          "weight_max = 64.6",
          "hematocrit_max = 30.7",
          "hemoglobin_min = 7.4",
          "weight_admit = 54.5",
          "sbp_min = 92.0",
          "urineoutput_24hr = 805.0",
          "female = 1.0",
          "spo2_min = 98.0",
          "chronic_pulmonary_disease = 1.0",
          "glucose_max = 93.0",
          "wbc_bd_max = 13.3",
          "dbp_min = 48.0",
          "platelets_min = 113.0",
          "resp_rate_max = 29.0",
          "platelets_max = 139.0",
          "hemoglobin_max = 10.3",
          "ptt_min = 24.3",
          "+ all other factors"
         ],
         "yaxis": "y"
        }
       ],
       "layout": {
        "annotations": [
         {
          "font": {
           "size": 16
          },
          "showarrow": false,
          "text": "LGBMClassifier",
          "x": 0.5,
          "xanchor": "center",
          "xref": "paper",
          "y": 1,
          "yanchor": "bottom",
          "yref": "paper"
         },
         {
          "font": {
           "size": 16
          },
          "showarrow": false,
          "text": "contribution",
          "x": 0.5,
          "xanchor": "center",
          "xref": "paper",
          "y": 0,
          "yanchor": "top",
          "yref": "paper",
          "yshift": -30
         }
        ],
        "font": {
         "color": "#371ea3"
        },
        "height": 773,
        "margin": {
         "b": 71,
         "r": 30,
         "t": 78
        },
        "shapes": [
         {
          "line": {
           "color": "#371ea3",
           "dash": "dot",
           "width": 1.5
          },
          "type": "line",
          "x0": 0.38,
          "x1": 0.38,
          "xref": "x",
          "y0": -1,
          "y1": 31,
          "yref": "y"
         }
        ],
        "template": {
         "data": {
          "scatter": [
           {
            "type": "scatter"
           }
          ]
         }
        },
        "title": {
         "text": "Shapley Values",
         "x": 0.15
        },
        "xaxis": {
         "anchor": "y",
         "automargin": true,
         "domain": [
          0,
          1
         ],
         "fixedrange": true,
         "gridwidth": 2,
         "range": [
          0,
          1
         ],
         "tickcolor": "white",
         "ticklen": 3,
         "ticks": "outside",
         "type": "linear",
         "zeroline": false
        },
        "yaxis": {
         "anchor": "x",
         "automargin": true,
         "autorange": "reversed",
         "domain": [
          0,
          1
         ],
         "fixedrange": true,
         "gridwidth": 2,
         "tickcolor": "white",
         "ticklen": 10,
         "ticks": "outside",
         "type": "category"
        }
       }
      }
     },
     "metadata": {},
     "output_type": "display_data"
    },
    {
     "name": "stdout",
     "output_type": "stream",
     "text": [
      "Using DALEX SHAP on false positive instance with row number: 178\n"
     ]
    },
    {
     "data": {
      "application/vnd.plotly.v1+json": {
       "config": {
        "displaylogo": false,
        "modeBarButtonsToRemove": [
         "sendDataToCloud",
         "lasso2d",
         "autoScale2d",
         "select2d",
         "zoom2d",
         "pan2d",
         "zoomIn2d",
         "zoomOut2d",
         "resetScale2d",
         "toggleSpikelines",
         "hoverCompareCartesian",
         "hoverClosestCartesian"
        ],
        "plotlyServerURL": "https://plot.ly",
        "staticPlot": false,
        "toImageButtonOptions": {
         "height": null,
         "width": null
        }
       },
       "data": [
        {
         "base": 0.38,
         "hoverinfo": "text",
         "hoverlabel": {
          "bgcolor": "rgba(0,0,0,0.8)"
         },
         "hovertext": [
          "Average response: 0.38<br>Prediction: 0.414<br>creatinine_min = 0.8<br>decreases average response <br>by 0.063",
          "Average response: 0.38<br>Prediction: 0.414<br>weight_max = 40.5<br>decreases average response <br>by 0.04",
          "Average response: 0.38<br>Prediction: 0.414<br>egfr_epi_scr_max = 50.0<br>increases average response <br>by 0.038",
          "Average response: 0.38<br>Prediction: 0.414<br>platelets_max = 310.0<br>decreases average response <br>by 0.032",
          "Average response: 0.38<br>Prediction: 0.414<br>invasive_vent = 0.0<br>decreases average response <br>by 0.032",
          "Average response: 0.38<br>Prediction: 0.414<br>age = 89.0<br>decreases average response <br>by 0.029",
          "Average response: 0.38<br>Prediction: 0.414<br>egfr_mdrd_scr_max = 52.0<br>increases average response <br>by 0.028",
          "Average response: 0.38<br>Prediction: 0.414<br>creatinine_max = 1.0<br>increases average response <br>by 0.024",
          "Average response: 0.38<br>Prediction: 0.414<br>resp_rate_max = 45.0<br>increases average response <br>by 0.024",
          "Average response: 0.38<br>Prediction: 0.414<br>temperature_mean = 36.22<br>increases average response <br>by 0.021",
          "Average response: 0.38<br>Prediction: 0.414<br>potassium_max = 4.8<br>increases average response <br>by 0.02",
          "Average response: 0.38<br>Prediction: 0.414<br>congestive_heart_failure = 1.0<br>increases average response <br>by 0.018",
          "Average response: 0.38<br>Prediction: 0.414<br>temperature_min = 35.56<br>increases average response <br>by 0.018",
          "Average response: 0.38<br>Prediction: 0.414<br>hematocrit_min = 31.5<br>decreases average response <br>by 0.015",
          "Average response: 0.38<br>Prediction: 0.414<br>platelets_min = 259.0<br>decreases average response <br>by 0.013",
          "Average response: 0.38<br>Prediction: 0.414<br>bicarbonate_max = 30.0<br>increases average response <br>by 0.011",
          "Average response: 0.38<br>Prediction: 0.414<br>potassium_min = 4.8<br>increases average response <br>by 0.011",
          "Average response: 0.38<br>Prediction: 0.414<br>dbp_min = 38.0<br>decreases average response <br>by 0.011",
          "Average response: 0.38<br>Prediction: 0.414<br>bicarbonate_min = 30.0<br>increases average response <br>by 0.011",
          "Average response: 0.38<br>Prediction: 0.414<br>sbp_min = 83.0<br>increases average response <br>by 0.009",
          "Average response: 0.38<br>Prediction: 0.414<br>wbc_bd_max = 15.6<br>increases average response <br>by 0.009",
          "Average response: 0.38<br>Prediction: 0.414<br>heart_rate_min = 44.0<br>increases average response <br>by 0.008",
          "Average response: 0.38<br>Prediction: 0.414<br>pt_max = 13.0<br>decreases average response <br>by 0.008",
          "Average response: 0.38<br>Prediction: 0.414<br>resp_rate_mean = 23.67<br>decreases average response <br>by 0.008",
          "Average response: 0.38<br>Prediction: 0.414<br>dbp_max = 93.0<br>increases average response <br>by 0.007",
          "Average response: 0.38<br>Prediction: 0.414<br>diabetes_type2 = 0.0<br>decreases average response <br>by 0.007",
          "Average response: 0.38<br>Prediction: 0.414<br>ptt_max = 27.4<br>decreases average response <br>by 0.007",
          "Average response: 0.38<br>Prediction: 0.414<br>supplemental_oxygen = 1.0<br>increases average response <br>by 0.007",
          "Average response: 0.38<br>Prediction: 0.414<br>aniongap_max = 10.0<br>increases average response <br>by 0.007",
          "Average response: 0.38<br>Prediction: 0.414<br>+ all other factors<br>decreases average response <br>by 0.045"
         ],
         "marker": {
          "color": [
           "#f05a71",
           "#f05a71",
           "#8bdcbe",
           "#f05a71",
           "#f05a71",
           "#f05a71",
           "#8bdcbe",
           "#8bdcbe",
           "#8bdcbe",
           "#8bdcbe",
           "#8bdcbe",
           "#8bdcbe",
           "#8bdcbe",
           "#f05a71",
           "#f05a71",
           "#8bdcbe",
           "#8bdcbe",
           "#f05a71",
           "#8bdcbe",
           "#8bdcbe",
           "#8bdcbe",
           "#8bdcbe",
           "#f05a71",
           "#f05a71",
           "#8bdcbe",
           "#f05a71",
           "#f05a71",
           "#8bdcbe",
           "#8bdcbe",
           "#f05a71"
          ]
         },
         "orientation": "h",
         "showlegend": false,
         "text": [
          "-0.063",
          "-0.04",
          "+0.038",
          "-0.032",
          "-0.032",
          "-0.029",
          "+0.028",
          "+0.024",
          "+0.024",
          "+0.021",
          "+0.02",
          "+0.018",
          "+0.018",
          "-0.015",
          "-0.013",
          "+0.011",
          "+0.011",
          "-0.011",
          "+0.011",
          "+0.009",
          "+0.009",
          "+0.008",
          "-0.008",
          "-0.008",
          "+0.007",
          "-0.007",
          "-0.007",
          "+0.007",
          "+0.007",
          "-0.045"
         ],
         "textposition": "outside",
         "type": "bar",
         "x": [
          -0.063,
          -0.04,
          0.038,
          -0.032,
          -0.032,
          -0.029,
          0.028,
          0.024,
          0.024,
          0.021,
          0.02,
          0.018,
          0.018,
          -0.015,
          -0.013,
          0.011,
          0.011,
          -0.011,
          0.011,
          0.009,
          0.009,
          0.008,
          -0.008,
          -0.008,
          0.007,
          -0.007,
          -0.007,
          0.007,
          0.007,
          -0.045
         ],
         "xaxis": "x",
         "y": [
          "creatinine_min = 0.8",
          "weight_max = 40.5",
          "egfr_epi_scr_max = 50.0",
          "platelets_max = 310.0",
          "invasive_vent = 0.0",
          "age = 89.0",
          "egfr_mdrd_scr_max = 52.0",
          "creatinine_max = 1.0",
          "resp_rate_max = 45.0",
          "temperature_mean = 36.22",
          "potassium_max = 4.8",
          "congestive_heart_failure = 1.0",
          "temperature_min = 35.56",
          "hematocrit_min = 31.5",
          "platelets_min = 259.0",
          "bicarbonate_max = 30.0",
          "potassium_min = 4.8",
          "dbp_min = 38.0",
          "bicarbonate_min = 30.0",
          "sbp_min = 83.0",
          "wbc_bd_max = 15.6",
          "heart_rate_min = 44.0",
          "pt_max = 13.0",
          "resp_rate_mean = 23.67",
          "dbp_max = 93.0",
          "diabetes_type2 = 0.0",
          "ptt_max = 27.4",
          "supplemental_oxygen = 1.0",
          "aniongap_max = 10.0",
          "+ all other factors"
         ],
         "yaxis": "y"
        }
       ],
       "layout": {
        "annotations": [
         {
          "font": {
           "size": 16
          },
          "showarrow": false,
          "text": "LGBMClassifier",
          "x": 0.5,
          "xanchor": "center",
          "xref": "paper",
          "y": 1,
          "yanchor": "bottom",
          "yref": "paper"
         },
         {
          "font": {
           "size": 16
          },
          "showarrow": false,
          "text": "contribution",
          "x": 0.5,
          "xanchor": "center",
          "xref": "paper",
          "y": 0,
          "yanchor": "top",
          "yref": "paper",
          "yshift": -30
         }
        ],
        "font": {
         "color": "#371ea3"
        },
        "height": 773,
        "margin": {
         "b": 71,
         "r": 30,
         "t": 78
        },
        "shapes": [
         {
          "line": {
           "color": "#371ea3",
           "dash": "dot",
           "width": 1.5
          },
          "type": "line",
          "x0": 0.38,
          "x1": 0.38,
          "xref": "x",
          "y0": -1,
          "y1": 31,
          "yref": "y"
         }
        ],
        "template": {
         "data": {
          "scatter": [
           {
            "type": "scatter"
           }
          ]
         }
        },
        "title": {
         "text": "Shapley Values",
         "x": 0.15
        },
        "xaxis": {
         "anchor": "y",
         "automargin": true,
         "domain": [
          0,
          1
         ],
         "fixedrange": true,
         "gridwidth": 2,
         "range": [
          0,
          1
         ],
         "tickcolor": "white",
         "ticklen": 3,
         "ticks": "outside",
         "type": "linear",
         "zeroline": false
        },
        "yaxis": {
         "anchor": "x",
         "automargin": true,
         "autorange": "reversed",
         "domain": [
          0,
          1
         ],
         "fixedrange": true,
         "gridwidth": 2,
         "tickcolor": "white",
         "ticklen": 10,
         "ticks": "outside",
         "type": "category"
        }
       }
      }
     },
     "metadata": {},
     "output_type": "display_data"
    },
    {
     "name": "stdout",
     "output_type": "stream",
     "text": [
      "Using DALEX SHAP on false positive instance with row number: 1209\n"
     ]
    },
    {
     "data": {
      "application/vnd.plotly.v1+json": {
       "config": {
        "displaylogo": false,
        "modeBarButtonsToRemove": [
         "sendDataToCloud",
         "lasso2d",
         "autoScale2d",
         "select2d",
         "zoom2d",
         "pan2d",
         "zoomIn2d",
         "zoomOut2d",
         "resetScale2d",
         "toggleSpikelines",
         "hoverCompareCartesian",
         "hoverClosestCartesian"
        ],
        "plotlyServerURL": "https://plot.ly",
        "staticPlot": false,
        "toImageButtonOptions": {
         "height": null,
         "width": null
        }
       },
       "data": [
        {
         "base": 0.38,
         "hoverinfo": "text",
         "hoverlabel": {
          "bgcolor": "rgba(0,0,0,0.8)"
         },
         "hovertext": [
          "Average response: 0.38<br>Prediction: 0.42<br>creatinine_min = 0.5<br>increases average response <br>by 0.1",
          "Average response: 0.38<br>Prediction: 0.42<br>bicarbonate_min = 2.0<br>increases average response <br>by 0.086",
          "Average response: 0.38<br>Prediction: 0.42<br>glucose_max = 568.0<br>increases average response <br>by 0.042",
          "Average response: 0.38<br>Prediction: 0.42<br>egfr_mdrd_scr_max = 56.0<br>decreases average response <br>by 0.041",
          "Average response: 0.38<br>Prediction: 0.42<br>diabetes_type2 = 1.0<br>increases average response <br>by 0.031",
          "Average response: 0.38<br>Prediction: 0.42<br>ptt_max = 25.7<br>decreases average response <br>by 0.03",
          "Average response: 0.38<br>Prediction: 0.42<br>sbp_max = 125.0<br>decreases average response <br>by 0.025",
          "Average response: 0.38<br>Prediction: 0.42<br>weight_max = 50.8<br>decreases average response <br>by 0.024",
          "Average response: 0.38<br>Prediction: 0.42<br>invasive_vent = 0.0<br>decreases average response <br>by 0.023",
          "Average response: 0.38<br>Prediction: 0.42<br>creatinine_max = 1.0<br>increases average response <br>by 0.023",
          "Average response: 0.38<br>Prediction: 0.42<br>bun_max = 38.0<br>decreases average response <br>by 0.023",
          "Average response: 0.38<br>Prediction: 0.42<br>wbc_bd_max = 30.2<br>increases average response <br>by 0.022",
          "Average response: 0.38<br>Prediction: 0.42<br>albumin_min = 4.4<br>decreases average response <br>by 0.021",
          "Average response: 0.38<br>Prediction: 0.42<br>platelets_max = 436.0<br>decreases average response <br>by 0.021",
          "Average response: 0.38<br>Prediction: 0.42<br>ptt_min = 22.6<br>decreases average response <br>by 0.018",
          "Average response: 0.38<br>Prediction: 0.42<br>hematocrit_max = 41.9<br>decreases average response <br>by 0.016",
          "Average response: 0.38<br>Prediction: 0.42<br>albumin_max = 4.4<br>decreases average response <br>by 0.014",
          "Average response: 0.38<br>Prediction: 0.42<br>bicarbonate_max = 21.0<br>decreases average response <br>by 0.013",
          "Average response: 0.38<br>Prediction: 0.42<br>pt_max = 11.3<br>decreases average response <br>by 0.013",
          "Average response: 0.38<br>Prediction: 0.42<br>calcium_min = 7.7<br>decreases average response <br>by 0.012",
          "Average response: 0.38<br>Prediction: 0.42<br>potassium_min = 3.0<br>increases average response <br>by 0.011",
          "Average response: 0.38<br>Prediction: 0.42<br>aniongap_max = 36.0<br>increases average response <br>by 0.011",
          "Average response: 0.38<br>Prediction: 0.42<br>temperature_min = 36.39<br>decreases average response <br>by 0.01",
          "Average response: 0.38<br>Prediction: 0.42<br>sodium_min = 140.0<br>decreases average response <br>by 0.009",
          "Average response: 0.38<br>Prediction: 0.42<br>platelets_min = 236.0<br>decreases average response <br>by 0.009",
          "Average response: 0.38<br>Prediction: 0.42<br>hematocrit_min = 32.3<br>decreases average response <br>by 0.008",
          "Average response: 0.38<br>Prediction: 0.42<br>resp_rate_max = 28.0<br>increases average response <br>by 0.008",
          "Average response: 0.38<br>Prediction: 0.42<br>bilirubin_total_min = 0.2<br>decreases average response <br>by 0.008",
          "Average response: 0.38<br>Prediction: 0.42<br>potassium_max = 4.3<br>increases average response <br>by 0.008",
          "Average response: 0.38<br>Prediction: 0.42<br>+ all other factors<br>decreases average response <br>by 0.039"
         ],
         "marker": {
          "color": [
           "#8bdcbe",
           "#8bdcbe",
           "#8bdcbe",
           "#f05a71",
           "#8bdcbe",
           "#f05a71",
           "#f05a71",
           "#f05a71",
           "#f05a71",
           "#8bdcbe",
           "#f05a71",
           "#8bdcbe",
           "#f05a71",
           "#f05a71",
           "#f05a71",
           "#f05a71",
           "#f05a71",
           "#f05a71",
           "#f05a71",
           "#f05a71",
           "#8bdcbe",
           "#8bdcbe",
           "#f05a71",
           "#f05a71",
           "#f05a71",
           "#f05a71",
           "#8bdcbe",
           "#f05a71",
           "#8bdcbe",
           "#f05a71"
          ]
         },
         "orientation": "h",
         "showlegend": false,
         "text": [
          "+0.1",
          "+0.086",
          "+0.042",
          "-0.041",
          "+0.031",
          "-0.03",
          "-0.025",
          "-0.024",
          "-0.023",
          "+0.023",
          "-0.023",
          "+0.022",
          "-0.021",
          "-0.021",
          "-0.018",
          "-0.016",
          "-0.014",
          "-0.013",
          "-0.013",
          "-0.012",
          "+0.011",
          "+0.011",
          "-0.01",
          "-0.009",
          "-0.009",
          "-0.008",
          "+0.008",
          "-0.008",
          "+0.008",
          "-0.039"
         ],
         "textposition": "outside",
         "type": "bar",
         "x": [
          0.1,
          0.086,
          0.042,
          -0.041,
          0.031,
          -0.03,
          -0.025,
          -0.024,
          -0.023,
          0.023,
          -0.023,
          0.022,
          -0.021,
          -0.021,
          -0.018,
          -0.016,
          -0.014,
          -0.013,
          -0.013,
          -0.012,
          0.011,
          0.011,
          -0.01,
          -0.009,
          -0.009,
          -0.008,
          0.008,
          -0.008,
          0.008,
          -0.039
         ],
         "xaxis": "x",
         "y": [
          "creatinine_min = 0.5",
          "bicarbonate_min = 2.0",
          "glucose_max = 568.0",
          "egfr_mdrd_scr_max = 56.0",
          "diabetes_type2 = 1.0",
          "ptt_max = 25.7",
          "sbp_max = 125.0",
          "weight_max = 50.8",
          "invasive_vent = 0.0",
          "creatinine_max = 1.0",
          "bun_max = 38.0",
          "wbc_bd_max = 30.2",
          "albumin_min = 4.4",
          "platelets_max = 436.0",
          "ptt_min = 22.6",
          "hematocrit_max = 41.9",
          "albumin_max = 4.4",
          "bicarbonate_max = 21.0",
          "pt_max = 11.3",
          "calcium_min = 7.7",
          "potassium_min = 3.0",
          "aniongap_max = 36.0",
          "temperature_min = 36.39",
          "sodium_min = 140.0",
          "platelets_min = 236.0",
          "hematocrit_min = 32.3",
          "resp_rate_max = 28.0",
          "bilirubin_total_min = 0.2",
          "potassium_max = 4.3",
          "+ all other factors"
         ],
         "yaxis": "y"
        }
       ],
       "layout": {
        "annotations": [
         {
          "font": {
           "size": 16
          },
          "showarrow": false,
          "text": "LGBMClassifier",
          "x": 0.5,
          "xanchor": "center",
          "xref": "paper",
          "y": 1,
          "yanchor": "bottom",
          "yref": "paper"
         },
         {
          "font": {
           "size": 16
          },
          "showarrow": false,
          "text": "contribution",
          "x": 0.5,
          "xanchor": "center",
          "xref": "paper",
          "y": 0,
          "yanchor": "top",
          "yref": "paper",
          "yshift": -30
         }
        ],
        "font": {
         "color": "#371ea3"
        },
        "height": 773,
        "margin": {
         "b": 71,
         "r": 30,
         "t": 78
        },
        "shapes": [
         {
          "line": {
           "color": "#371ea3",
           "dash": "dot",
           "width": 1.5
          },
          "type": "line",
          "x0": 0.38,
          "x1": 0.38,
          "xref": "x",
          "y0": -1,
          "y1": 31,
          "yref": "y"
         }
        ],
        "template": {
         "data": {
          "scatter": [
           {
            "type": "scatter"
           }
          ]
         }
        },
        "title": {
         "text": "Shapley Values",
         "x": 0.15
        },
        "xaxis": {
         "anchor": "y",
         "automargin": true,
         "domain": [
          0,
          1
         ],
         "fixedrange": true,
         "gridwidth": 2,
         "range": [
          0,
          1
         ],
         "tickcolor": "white",
         "ticklen": 3,
         "ticks": "outside",
         "type": "linear",
         "zeroline": false
        },
        "yaxis": {
         "anchor": "x",
         "automargin": true,
         "autorange": "reversed",
         "domain": [
          0,
          1
         ],
         "fixedrange": true,
         "gridwidth": 2,
         "tickcolor": "white",
         "ticklen": 10,
         "ticks": "outside",
         "type": "category"
        }
       }
      }
     },
     "metadata": {},
     "output_type": "display_data"
    }
   ],
   "source": [
    "import random\n",
    "random.seed(42)\n",
    "rand_list = random.sample(range(0, df_FP.shape[0]), 10)\n",
    "\n",
    "clf_threshold = 0.38\n",
    "import dalex as dx\n",
    "\n",
    "# error_df = {\"df_TN\":df_TN, \"df_FP\":df_FP, \"df_TP\":df_TP, \"df_FN\":df_FN}\n",
    "error_df = {\"df_FP\":df_FP}\n",
    "\n",
    "for k,df in error_df.items():\n",
    "    df_shap = df.drop(['y_pred','y_actual','error_category'], axis=1)\n",
    "\n",
    "    for row_number in rand_list:\n",
    "        print(\"Using DALEX SHAP on false positive instance with row number: \"+str(row_number))\n",
    "        exp.predict_parts(df_shap.iloc[[row_number]], N=100, type='shap').plot(min_max=[0,1], max_vars=30, baseline=clf_threshold)"
   ]
  },
  {
   "cell_type": "code",
   "execution_count": null,
   "metadata": {},
   "outputs": [],
   "source": [
    "df_FP.creatinine_max.describe()"
   ]
  },
  {
   "cell_type": "code",
   "execution_count": null,
   "metadata": {},
   "outputs": [],
   "source": [
    "df_TN.creatinine_min.describe()"
   ]
  },
  {
   "cell_type": "code",
   "execution_count": 72,
   "metadata": {},
   "outputs": [
    {
     "name": "stdout",
     "output_type": "stream",
     "text": [
      "Using DALEX on true negative instance with row number: 2619\n"
     ]
    },
    {
     "data": {
      "application/vnd.plotly.v1+json": {
       "config": {
        "displaylogo": false,
        "modeBarButtonsToRemove": [
         "sendDataToCloud",
         "lasso2d",
         "autoScale2d",
         "select2d",
         "zoom2d",
         "pan2d",
         "zoomIn2d",
         "zoomOut2d",
         "resetScale2d",
         "toggleSpikelines",
         "hoverCompareCartesian",
         "hoverClosestCartesian"
        ],
        "plotlyServerURL": "https://plot.ly",
        "staticPlot": false,
        "toImageButtonOptions": {
         "height": null,
         "width": null
        }
       },
       "data": [
        {
         "base": 0.38,
         "connector": {
          "line": {
           "color": "#371ea3",
           "dash": "solid",
           "width": 1
          },
          "mode": "spanning"
         },
         "decreasing": {
          "marker": {
           "color": "#f05a71"
          }
         },
         "hoverinfo": "text+delta",
         "hoverlabel": {
          "bgcolor": "rgba(0,0,0,0.8)"
         },
         "hovertext": [
          "Average response: 0.532<br>Prediction: 0.146",
          "egfr_mdrd_scr_max = 83.0<br>decreases average response by",
          "creatinine_min = 0.5<br>increases average response by",
          "creatinine_max = 0.7<br>decreases average response by",
          "invasive_vent = 1.0<br>increases average response by",
          "ptt_max = 135.2<br>increases average response by",
          "platelets_max = 391.0<br>decreases average response by",
          "weight_max = 64.0<br>decreases average response by",
          "bilirubin_total_max = 0.5<br>decreases average response by",
          "egfr_epi_scr_max = 90.0<br>decreases average response by",
          "platelets_min = 321.0<br>decreases average response by",
          "dbp_min = 24.0<br>increases average response by",
          "potassium_max = 4.6<br>increases average response by",
          "bilirubin_total_min = 0.5<br>increases average response by",
          "hematocrit_min = 36.7<br>decreases average response by",
          "sbp_min = 71.0<br>increases average response by",
          "pt_max = 12.6<br>decreases average response by",
          "glucose_max = 140.0<br>decreases average response by",
          "chloride_min = 95.0<br>decreases average response by",
          "temperature_mean = 37.17<br>decreases average response by",
          "ptt_min = 57.5<br>increases average response by",
          "hemoglobin_max = 13.9<br>decreases average response by",
          "hemoglobin_min = 12.4<br>decreases average response by",
          "wbc_bd_min = 21.8<br>increases average response by",
          "wbc_min:hematocrit_max = 21.8:41.5<br>decreases average response by",
          "wbc_bd_max = 24.5<br>increases average response by",
          "congestive_heart_failure = 0.0<br>decreases average response by",
          "supplemental_oxygen = 0.0<br>decreases average response by",
          "female = 1.0<br>decreases average response by",
          "temperature_min = 36.89<br>decreases average response by",
          "aniongap_max = 18.0<br>decreases average response by",
          "+ all other factors<br>decreases average response by",
          "Average response: 0.532<br>Prediction: 0.146"
         ],
         "increasing": {
          "marker": {
           "color": "#8bdcbe"
          }
         },
         "measure": [
          "relative",
          "relative",
          "relative",
          "relative",
          "relative",
          "relative",
          "relative",
          "relative",
          "relative",
          "relative",
          "relative",
          "relative",
          "relative",
          "relative",
          "relative",
          "relative",
          "relative",
          "relative",
          "relative",
          "relative",
          "relative",
          "relative",
          "relative",
          "relative",
          "relative",
          "relative",
          "relative",
          "relative",
          "relative",
          "relative",
          "relative",
          "relative",
          "total"
         ],
         "orientation": "h",
         "showlegend": false,
         "text": [
          "0.532",
          "-0.085",
          "+0.084",
          "-0.167",
          "+0.044",
          "+0.025",
          "-0.053",
          "-0.041",
          "0.0",
          "-0.026",
          "-0.022",
          "+0.001",
          "+0.01",
          "+0.001",
          "-0.037",
          "+0.014",
          "-0.02",
          "-0.005",
          "-0.001",
          "-0.018",
          "+0.006",
          "-0.006",
          "-0.018",
          "+0.018",
          "-0.018",
          "+0.004",
          "-0.004",
          "-0.0",
          "-0.002",
          "-0.01",
          "-0.002",
          "-0.055",
          "0.146"
         ],
         "textposition": "outside",
         "totals": {
          "marker": {
           "color": "#371ea3"
          }
         },
         "type": "waterfall",
         "x": [
          0.152,
          -0.085,
          0.084,
          -0.167,
          0.044,
          0.025,
          -0.053,
          -0.041,
          0,
          -0.026,
          -0.022,
          0.001,
          0.01,
          0.001,
          -0.037,
          0.014,
          -0.02,
          -0.005,
          -0.001,
          -0.018,
          0.006,
          -0.006,
          -0.018,
          0.018,
          -0.018,
          0.004,
          -0.004,
          0,
          -0.002,
          -0.01,
          -0.002,
          -0.055,
          -0.234
         ],
         "xaxis": "x",
         "y": [
          "intercept",
          "egfr_mdrd_scr_max = 83.0",
          "creatinine_min = 0.5",
          "creatinine_max = 0.7",
          "invasive_vent = 1.0",
          "ptt_max = 135.2",
          "platelets_max = 391.0",
          "weight_max = 64.0",
          "bilirubin_total_max = 0.5",
          "egfr_epi_scr_max = 90.0",
          "platelets_min = 321.0",
          "dbp_min = 24.0",
          "potassium_max = 4.6",
          "bilirubin_total_min = 0.5",
          "hematocrit_min = 36.7",
          "sbp_min = 71.0",
          "pt_max = 12.6",
          "glucose_max = 140.0",
          "chloride_min = 95.0",
          "temperature_mean = 37.17",
          "ptt_min = 57.5",
          "hemoglobin_max = 13.9",
          "hemoglobin_min = 12.4",
          "wbc_bd_min = 21.8",
          "wbc_min:hematocrit_max = 21.8:41.5",
          "wbc_bd_max = 24.5",
          "congestive_heart_failure = 0.0",
          "supplemental_oxygen = 0.0",
          "female = 1.0",
          "temperature_min = 36.89",
          "aniongap_max = 18.0",
          "+ all other factors",
          "prediction"
         ],
         "yaxis": "y"
        }
       ],
       "layout": {
        "annotations": [
         {
          "font": {
           "size": 16
          },
          "showarrow": false,
          "text": "LGBMClassifier",
          "x": 0.5,
          "xanchor": "center",
          "xref": "paper",
          "y": 1,
          "yanchor": "bottom",
          "yref": "paper"
         },
         {
          "font": {
           "size": 16
          },
          "showarrow": false,
          "text": "contribution",
          "x": 0.5,
          "xanchor": "center",
          "xref": "paper",
          "y": 0,
          "yanchor": "top",
          "yref": "paper",
          "yshift": -30
         }
        ],
        "font": {
         "color": "#371ea3"
        },
        "height": 813,
        "margin": {
         "b": 71,
         "r": 30,
         "t": 78
        },
        "shapes": [
         {
          "line": {
           "color": "#371ea3",
           "dash": "dot",
           "width": 1.5
          },
          "type": "line",
          "x0": 0.38,
          "x1": 0.38,
          "xref": "x",
          "y0": -1,
          "y1": 33,
          "yref": "y"
         }
        ],
        "template": {
         "data": {
          "scatter": [
           {
            "type": "scatter"
           }
          ]
         }
        },
        "title": {
         "text": "Break Down",
         "x": 0.15
        },
        "xaxis": {
         "anchor": "y",
         "automargin": true,
         "domain": [
          0,
          1
         ],
         "fixedrange": true,
         "gridwidth": 2,
         "range": [
          0,
          1
         ],
         "tickcolor": "white",
         "ticklen": 3,
         "ticks": "outside",
         "type": "linear",
         "zeroline": false
        },
        "yaxis": {
         "anchor": "x",
         "automargin": true,
         "autorange": "reversed",
         "domain": [
          0,
          1
         ],
         "fixedrange": true,
         "gridwidth": 2,
         "tickcolor": "white",
         "ticklen": 10,
         "ticks": "outside",
         "type": "category"
        }
       }
      }
     },
     "metadata": {},
     "output_type": "display_data"
    },
    {
     "name": "stdout",
     "output_type": "stream",
     "text": [
      "Using DALEX on true negative instance with row number: 456\n"
     ]
    },
    {
     "data": {
      "application/vnd.plotly.v1+json": {
       "config": {
        "displaylogo": false,
        "modeBarButtonsToRemove": [
         "sendDataToCloud",
         "lasso2d",
         "autoScale2d",
         "select2d",
         "zoom2d",
         "pan2d",
         "zoomIn2d",
         "zoomOut2d",
         "resetScale2d",
         "toggleSpikelines",
         "hoverCompareCartesian",
         "hoverClosestCartesian"
        ],
        "plotlyServerURL": "https://plot.ly",
        "staticPlot": false,
        "toImageButtonOptions": {
         "height": null,
         "width": null
        }
       },
       "data": [
        {
         "base": 0.38,
         "connector": {
          "line": {
           "color": "#371ea3",
           "dash": "solid",
           "width": 1
          },
          "mode": "spanning"
         },
         "decreasing": {
          "marker": {
           "color": "#f05a71"
          }
         },
         "hoverinfo": "text+delta",
         "hoverlabel": {
          "bgcolor": "rgba(0,0,0,0.8)"
         },
         "hovertext": [
          "Average response: 0.578<br>Prediction: 0.049",
          "egfr_mdrd_scr_max = 90.0<br>decreases average response by",
          "creatinine_min:creatinine_max = 0.9:0.9<br>decreases average response by",
          "egfr_epi_scr_max = 101.0<br>decreases average response by",
          "potassium_max = 3.4<br>decreases average response by",
          "ptt_max = 25.9<br>decreases average response by",
          "invasive_vent = 0.0<br>decreases average response by",
          "pt_max = 12.1<br>decreases average response by",
          "hemoglobin_min = 14.2<br>decreases average response by",
          "hematocrit_max = 43.0<br>decreases average response by",
          "chloride_max = 103.0<br>decreases average response by",
          "bicarbonate_max = 20.0<br>decreases average response by",
          "hemoglobin_max = 14.2<br>increases average response by",
          "platelets_max = 115.0<br>increases average response by",
          "dbp_mean = 74.57<br>decreases average response by",
          "spo2_min = 97.0<br>decreases average response by",
          "bicarbonate_min = 20.0<br>increases average response by",
          "hematocrit_min = 43.0<br>decreases average response by",
          "temperature_min = 36.44<br>decreases average response by",
          "ptt_min = 25.9<br>decreases average response by",
          "sbp_mean = 123.6<br>decreases average response by",
          "potassium_min = 3.4<br>increases average response by",
          "resp_rate_max = 22.0<br>decreases average response by",
          "hypertension = 0.0<br>decreases average response by",
          "wbc_bd_max = 10.7<br>decreases average response by",
          "dbp_min = 61.0<br>increases average response by",
          "congestive_heart_failure = 0.0<br>decreases average response by",
          "age = 47.0<br>decreases average response by",
          "diabetes_type2 = 0.0<br>decreases average response by",
          "sodium_min = 135.0<br>decreases average response by",
          "supplemental_oxygen = 1.0<br>increases average response by",
          "+ all other factors<br>decreases average response by",
          "Average response: 0.578<br>Prediction: 0.049"
         ],
         "increasing": {
          "marker": {
           "color": "#8bdcbe"
          }
         },
         "measure": [
          "relative",
          "relative",
          "relative",
          "relative",
          "relative",
          "relative",
          "relative",
          "relative",
          "relative",
          "relative",
          "relative",
          "relative",
          "relative",
          "relative",
          "relative",
          "relative",
          "relative",
          "relative",
          "relative",
          "relative",
          "relative",
          "relative",
          "relative",
          "relative",
          "relative",
          "relative",
          "relative",
          "relative",
          "relative",
          "relative",
          "relative",
          "relative",
          "total"
         ],
         "orientation": "h",
         "showlegend": false,
         "text": [
          "0.578",
          "-0.137",
          "-0.159",
          "-0.04",
          "-0.038",
          "-0.017",
          "-0.012",
          "-0.015",
          "-0.011",
          "-0.009",
          "-0.006",
          "-0.006",
          "+0.001",
          "+0.004",
          "-0.004",
          "-0.004",
          "+0.002",
          "-0.01",
          "-0.005",
          "-0.01",
          "-0.003",
          "+0.01",
          "-0.002",
          "-0.005",
          "-0.001",
          "+0.004",
          "-0.006",
          "-0.003",
          "-0.003",
          "-0.001",
          "+0.004",
          "-0.047",
          "0.049"
         ],
         "textposition": "outside",
         "totals": {
          "marker": {
           "color": "#371ea3"
          }
         },
         "type": "waterfall",
         "x": [
          0.198,
          -0.137,
          -0.159,
          -0.04,
          -0.038,
          -0.017,
          -0.012,
          -0.015,
          -0.011,
          -0.009,
          -0.006,
          -0.006,
          0.001,
          0.004,
          -0.004,
          -0.004,
          0.002,
          -0.01,
          -0.005,
          -0.01,
          -0.003,
          0.01,
          -0.002,
          -0.005,
          -0.001,
          0.004,
          -0.006,
          -0.003,
          -0.003,
          -0.001,
          0.004,
          -0.047,
          -0.331
         ],
         "xaxis": "x",
         "y": [
          "intercept",
          "egfr_mdrd_scr_max = 90.0",
          "creatinine_min:creatinine_max = 0.9:0.9",
          "egfr_epi_scr_max = 101.0",
          "potassium_max = 3.4",
          "ptt_max = 25.9",
          "invasive_vent = 0.0",
          "pt_max = 12.1",
          "hemoglobin_min = 14.2",
          "hematocrit_max = 43.0",
          "chloride_max = 103.0",
          "bicarbonate_max = 20.0",
          "hemoglobin_max = 14.2",
          "platelets_max = 115.0",
          "dbp_mean = 74.57",
          "spo2_min = 97.0",
          "bicarbonate_min = 20.0",
          "hematocrit_min = 43.0",
          "temperature_min = 36.44",
          "ptt_min = 25.9",
          "sbp_mean = 123.6",
          "potassium_min = 3.4",
          "resp_rate_max = 22.0",
          "hypertension = 0.0",
          "wbc_bd_max = 10.7",
          "dbp_min = 61.0",
          "congestive_heart_failure = 0.0",
          "age = 47.0",
          "diabetes_type2 = 0.0",
          "sodium_min = 135.0",
          "supplemental_oxygen = 1.0",
          "+ all other factors",
          "prediction"
         ],
         "yaxis": "y"
        }
       ],
       "layout": {
        "annotations": [
         {
          "font": {
           "size": 16
          },
          "showarrow": false,
          "text": "LGBMClassifier",
          "x": 0.5,
          "xanchor": "center",
          "xref": "paper",
          "y": 1,
          "yanchor": "bottom",
          "yref": "paper"
         },
         {
          "font": {
           "size": 16
          },
          "showarrow": false,
          "text": "contribution",
          "x": 0.5,
          "xanchor": "center",
          "xref": "paper",
          "y": 0,
          "yanchor": "top",
          "yref": "paper",
          "yshift": -30
         }
        ],
        "font": {
         "color": "#371ea3"
        },
        "height": 813,
        "margin": {
         "b": 71,
         "r": 30,
         "t": 78
        },
        "shapes": [
         {
          "line": {
           "color": "#371ea3",
           "dash": "dot",
           "width": 1.5
          },
          "type": "line",
          "x0": 0.38,
          "x1": 0.38,
          "xref": "x",
          "y0": -1,
          "y1": 33,
          "yref": "y"
         }
        ],
        "template": {
         "data": {
          "scatter": [
           {
            "type": "scatter"
           }
          ]
         }
        },
        "title": {
         "text": "Break Down",
         "x": 0.15
        },
        "xaxis": {
         "anchor": "y",
         "automargin": true,
         "domain": [
          0,
          1
         ],
         "fixedrange": true,
         "gridwidth": 2,
         "range": [
          0,
          1
         ],
         "tickcolor": "white",
         "ticklen": 3,
         "ticks": "outside",
         "type": "linear",
         "zeroline": false
        },
        "yaxis": {
         "anchor": "x",
         "automargin": true,
         "autorange": "reversed",
         "domain": [
          0,
          1
         ],
         "fixedrange": true,
         "gridwidth": 2,
         "tickcolor": "white",
         "ticklen": 10,
         "ticks": "outside",
         "type": "category"
        }
       }
      }
     },
     "metadata": {},
     "output_type": "display_data"
    },
    {
     "name": "stdout",
     "output_type": "stream",
     "text": [
      "Using DALEX on true negative instance with row number: 102\n"
     ]
    },
    {
     "data": {
      "application/vnd.plotly.v1+json": {
       "config": {
        "displaylogo": false,
        "modeBarButtonsToRemove": [
         "sendDataToCloud",
         "lasso2d",
         "autoScale2d",
         "select2d",
         "zoom2d",
         "pan2d",
         "zoomIn2d",
         "zoomOut2d",
         "resetScale2d",
         "toggleSpikelines",
         "hoverCompareCartesian",
         "hoverClosestCartesian"
        ],
        "plotlyServerURL": "https://plot.ly",
        "staticPlot": false,
        "toImageButtonOptions": {
         "height": null,
         "width": null
        }
       },
       "data": [
        {
         "base": 0.38,
         "connector": {
          "line": {
           "color": "#371ea3",
           "dash": "solid",
           "width": 1
          },
          "mode": "spanning"
         },
         "decreasing": {
          "marker": {
           "color": "#f05a71"
          }
         },
         "hoverinfo": "text+delta",
         "hoverlabel": {
          "bgcolor": "rgba(0,0,0,0.8)"
         },
         "hovertext": [
          "Average response: 0.592<br>Prediction: 0.07",
          "egfr_mdrd_scr_max = 85.0<br>decreases average response by",
          "creatinine_min = 0.9<br>decreases average response by",
          "sbp_min = 121.0<br>decreases average response by",
          "invasive_vent = 0.0<br>decreases average response by",
          "ptt_max = 108.4<br>increases average response by",
          "creatinine_max = 0.9<br>decreases average response by",
          "heart_rate_mean = 54.14<br>decreases average response by",
          "albumin_min = 3.8<br>decreases average response by",
          "sbp_mean = 138.0<br>decreases average response by",
          "ptt_min = 102.1<br>increases average response by",
          "potassium_max = 4.2<br>decreases average response by",
          "egfr_epi_scr_max = 90.0<br>decreases average response by",
          "hematocrit_min = 38.9<br>decreases average response by",
          "hemoglobin_min = 14.0<br>decreases average response by",
          "bilirubin_total_max = 0.5<br>decreases average response by",
          "temperature_mean = 36.96<br>decreases average response by",
          "diabetes_type2 = 1.0<br>increases average response by",
          "albumin_max = 3.8<br>decreases average response by",
          "bilirubin_total_min = 0.5<br>decreases average response by",
          "platelets_max = 174.0<br>decreases average response by",
          "sbp_max = 163.0<br>increases average response by",
          "aniongap_min = 14.0<br>increases average response by",
          "hemoglobin_max = 14.1<br>decreases average response by",
          "pt_min = 14.4<br>decreases average response by",
          "wbc_bd_max = 9.5<br>decreases average response by",
          "temperature_min = 36.89<br>decreases average response by",
          "potassium_min = 4.1<br>decreases average response by",
          "chloride_max = 104.0<br>decreases average response by",
          "congestive_heart_failure = 0.0<br>decreases average response by",
          "bicarbonate_min = 22.0<br>decreases average response by",
          "+ all other factors<br>decreases average response by",
          "Average response: 0.592<br>Prediction: 0.07"
         ],
         "increasing": {
          "marker": {
           "color": "#8bdcbe"
          }
         },
         "measure": [
          "relative",
          "relative",
          "relative",
          "relative",
          "relative",
          "relative",
          "relative",
          "relative",
          "relative",
          "relative",
          "relative",
          "relative",
          "relative",
          "relative",
          "relative",
          "relative",
          "relative",
          "relative",
          "relative",
          "relative",
          "relative",
          "relative",
          "relative",
          "relative",
          "relative",
          "relative",
          "relative",
          "relative",
          "relative",
          "relative",
          "relative",
          "relative",
          "total"
         ],
         "orientation": "h",
         "showlegend": false,
         "text": [
          "0.592",
          "-0.115",
          "-0.065",
          "-0.05",
          "-0.023",
          "+0.045",
          "-0.091",
          "-0.026",
          "-0.021",
          "-0.002",
          "+0.045",
          "-0.0",
          "-0.011",
          "-0.041",
          "-0.016",
          "-0.008",
          "-0.01",
          "+0.005",
          "-0.001",
          "-0.003",
          "-0.003",
          "+0.011",
          "+0.002",
          "-0.006",
          "-0.008",
          "-0.002",
          "-0.005",
          "-0.017",
          "-0.014",
          "-0.006",
          "-0.021",
          "-0.068",
          "0.07"
         ],
         "textposition": "outside",
         "totals": {
          "marker": {
           "color": "#371ea3"
          }
         },
         "type": "waterfall",
         "x": [
          0.212,
          -0.115,
          -0.065,
          -0.05,
          -0.023,
          0.045,
          -0.091,
          -0.026,
          -0.021,
          -0.002,
          0.045,
          0,
          -0.011,
          -0.041,
          -0.016,
          -0.008,
          -0.01,
          0.005,
          -0.001,
          -0.003,
          -0.003,
          0.011,
          0.002,
          -0.006,
          -0.008,
          -0.002,
          -0.005,
          -0.017,
          -0.014,
          -0.006,
          -0.021,
          -0.068,
          -0.31
         ],
         "xaxis": "x",
         "y": [
          "intercept",
          "egfr_mdrd_scr_max = 85.0",
          "creatinine_min = 0.9",
          "sbp_min = 121.0",
          "invasive_vent = 0.0",
          "ptt_max = 108.4",
          "creatinine_max = 0.9",
          "heart_rate_mean = 54.14",
          "albumin_min = 3.8",
          "sbp_mean = 138.0",
          "ptt_min = 102.1",
          "potassium_max = 4.2",
          "egfr_epi_scr_max = 90.0",
          "hematocrit_min = 38.9",
          "hemoglobin_min = 14.0",
          "bilirubin_total_max = 0.5",
          "temperature_mean = 36.96",
          "diabetes_type2 = 1.0",
          "albumin_max = 3.8",
          "bilirubin_total_min = 0.5",
          "platelets_max = 174.0",
          "sbp_max = 163.0",
          "aniongap_min = 14.0",
          "hemoglobin_max = 14.1",
          "pt_min = 14.4",
          "wbc_bd_max = 9.5",
          "temperature_min = 36.89",
          "potassium_min = 4.1",
          "chloride_max = 104.0",
          "congestive_heart_failure = 0.0",
          "bicarbonate_min = 22.0",
          "+ all other factors",
          "prediction"
         ],
         "yaxis": "y"
        }
       ],
       "layout": {
        "annotations": [
         {
          "font": {
           "size": 16
          },
          "showarrow": false,
          "text": "LGBMClassifier",
          "x": 0.5,
          "xanchor": "center",
          "xref": "paper",
          "y": 1,
          "yanchor": "bottom",
          "yref": "paper"
         },
         {
          "font": {
           "size": 16
          },
          "showarrow": false,
          "text": "contribution",
          "x": 0.5,
          "xanchor": "center",
          "xref": "paper",
          "y": 0,
          "yanchor": "top",
          "yref": "paper",
          "yshift": -30
         }
        ],
        "font": {
         "color": "#371ea3"
        },
        "height": 813,
        "margin": {
         "b": 71,
         "r": 30,
         "t": 78
        },
        "shapes": [
         {
          "line": {
           "color": "#371ea3",
           "dash": "dot",
           "width": 1.5
          },
          "type": "line",
          "x0": 0.38,
          "x1": 0.38,
          "xref": "x",
          "y0": -1,
          "y1": 33,
          "yref": "y"
         }
        ],
        "template": {
         "data": {
          "scatter": [
           {
            "type": "scatter"
           }
          ]
         }
        },
        "title": {
         "text": "Break Down",
         "x": 0.15
        },
        "xaxis": {
         "anchor": "y",
         "automargin": true,
         "domain": [
          0,
          1
         ],
         "fixedrange": true,
         "gridwidth": 2,
         "range": [
          0,
          1
         ],
         "tickcolor": "white",
         "ticklen": 3,
         "ticks": "outside",
         "type": "linear",
         "zeroline": false
        },
        "yaxis": {
         "anchor": "x",
         "automargin": true,
         "autorange": "reversed",
         "domain": [
          0,
          1
         ],
         "fixedrange": true,
         "gridwidth": 2,
         "tickcolor": "white",
         "ticklen": 10,
         "ticks": "outside",
         "type": "category"
        }
       }
      }
     },
     "metadata": {},
     "output_type": "display_data"
    },
    {
     "name": "stdout",
     "output_type": "stream",
     "text": [
      "Using DALEX on true negative instance with row number: 3037\n"
     ]
    },
    {
     "data": {
      "application/vnd.plotly.v1+json": {
       "config": {
        "displaylogo": false,
        "modeBarButtonsToRemove": [
         "sendDataToCloud",
         "lasso2d",
         "autoScale2d",
         "select2d",
         "zoom2d",
         "pan2d",
         "zoomIn2d",
         "zoomOut2d",
         "resetScale2d",
         "toggleSpikelines",
         "hoverCompareCartesian",
         "hoverClosestCartesian"
        ],
        "plotlyServerURL": "https://plot.ly",
        "staticPlot": false,
        "toImageButtonOptions": {
         "height": null,
         "width": null
        }
       },
       "data": [
        {
         "base": 0.38,
         "connector": {
          "line": {
           "color": "#371ea3",
           "dash": "solid",
           "width": 1
          },
          "mode": "spanning"
         },
         "decreasing": {
          "marker": {
           "color": "#f05a71"
          }
         },
         "hoverinfo": "text+delta",
         "hoverlabel": {
          "bgcolor": "rgba(0,0,0,0.8)"
         },
         "hovertext": [
          "Average response: 0.465<br>Prediction: 0.075",
          "creatinine_max = 0.5<br>decreases average response by",
          "egfr_mdrd_scr_max = 184.0<br>decreases average response by",
          "creatinine_min = 0.5<br>decreases average response by",
          "egfr_epi_scr_max = 136.0<br>decreases average response by",
          "potassium_max = 3.7<br>decreases average response by",
          "invasive_vent = 1.0<br>increases average response by",
          "sbp_max = 113.0<br>decreases average response by",
          "pt_max = 12.5<br>decreases average response by",
          "congestive_heart_failure = 1.0<br>increases average response by",
          "hematocrit_min = 34.7<br>decreases average response by",
          "temperature_mean = 37.26<br>decreases average response by",
          "weight_max = 70.0<br>decreases average response by",
          "resp_rate_max = 35.0<br>increases average response by",
          "hemoglobin_min = 11.4<br>decreases average response by",
          "platelets_min = 82.0<br>increases average response by",
          "temperature_min = 36.67<br>decreases average response by",
          "sbp_min = 86.0<br>decreases average response by",
          "bicarbonate_min = 25.0<br>decreases average response by",
          "calcium_max = 8.0<br>decreases average response by",
          "bilirubin_total_max = 1.0<br>decreases average response by",
          "albumin_min = 2.6<br>decreases average response by",
          "calcium_min = 7.7<br>decreases average response by",
          "resp_rate_mean = 25.67<br>decreases average response by",
          "ptt_max = 38.1<br>decreases average response by",
          "wbc_bd_max = 13.6<br>decreases average response by",
          "spo2_min = 98.0<br>decreases average response by",
          "urineoutput_24hr = 275.0<br>decreases average response by",
          "potassium_min = 3.5<br>decreases average response by",
          "platelets_max = 97.0<br>decreases average response by",
          "chloride_max = 107.0<br>decreases average response by",
          "+ all other factors<br>decreases average response by",
          "Average response: 0.465<br>Prediction: 0.075"
         ],
         "increasing": {
          "marker": {
           "color": "#8bdcbe"
          }
         },
         "measure": [
          "relative",
          "relative",
          "relative",
          "relative",
          "relative",
          "relative",
          "relative",
          "relative",
          "relative",
          "relative",
          "relative",
          "relative",
          "relative",
          "relative",
          "relative",
          "relative",
          "relative",
          "relative",
          "relative",
          "relative",
          "relative",
          "relative",
          "relative",
          "relative",
          "relative",
          "relative",
          "relative",
          "relative",
          "relative",
          "relative",
          "relative",
          "relative",
          "total"
         ],
         "orientation": "h",
         "showlegend": false,
         "text": [
          "0.465",
          "-0.093",
          "-0.11",
          "-0.015",
          "-0.025",
          "-0.026",
          "+0.014",
          "-0.013",
          "-0.021",
          "+0.024",
          "-0.017",
          "-0.022",
          "-0.004",
          "+0.021",
          "-0.004",
          "+0.022",
          "-0.005",
          "-0.002",
          "-0.006",
          "-0.001",
          "-0.005",
          "-0.01",
          "-0.011",
          "-0.001",
          "-0.004",
          "-0.0",
          "-0.006",
          "-0.003",
          "-0.002",
          "-0.0",
          "-0.006",
          "-0.061",
          "0.075"
         ],
         "textposition": "outside",
         "totals": {
          "marker": {
           "color": "#371ea3"
          }
         },
         "type": "waterfall",
         "x": [
          0.085,
          -0.093,
          -0.11,
          -0.015,
          -0.025,
          -0.026,
          0.014,
          -0.013,
          -0.021,
          0.024,
          -0.017,
          -0.022,
          -0.004,
          0.021,
          -0.004,
          0.022,
          -0.005,
          -0.002,
          -0.006,
          -0.001,
          -0.005,
          -0.01,
          -0.011,
          -0.001,
          -0.004,
          0,
          -0.006,
          -0.003,
          -0.002,
          0,
          -0.006,
          -0.061,
          -0.305
         ],
         "xaxis": "x",
         "y": [
          "intercept",
          "creatinine_max = 0.5",
          "egfr_mdrd_scr_max = 184.0",
          "creatinine_min = 0.5",
          "egfr_epi_scr_max = 136.0",
          "potassium_max = 3.7",
          "invasive_vent = 1.0",
          "sbp_max = 113.0",
          "pt_max = 12.5",
          "congestive_heart_failure = 1.0",
          "hematocrit_min = 34.7",
          "temperature_mean = 37.26",
          "weight_max = 70.0",
          "resp_rate_max = 35.0",
          "hemoglobin_min = 11.4",
          "platelets_min = 82.0",
          "temperature_min = 36.67",
          "sbp_min = 86.0",
          "bicarbonate_min = 25.0",
          "calcium_max = 8.0",
          "bilirubin_total_max = 1.0",
          "albumin_min = 2.6",
          "calcium_min = 7.7",
          "resp_rate_mean = 25.67",
          "ptt_max = 38.1",
          "wbc_bd_max = 13.6",
          "spo2_min = 98.0",
          "urineoutput_24hr = 275.0",
          "potassium_min = 3.5",
          "platelets_max = 97.0",
          "chloride_max = 107.0",
          "+ all other factors",
          "prediction"
         ],
         "yaxis": "y"
        }
       ],
       "layout": {
        "annotations": [
         {
          "font": {
           "size": 16
          },
          "showarrow": false,
          "text": "LGBMClassifier",
          "x": 0.5,
          "xanchor": "center",
          "xref": "paper",
          "y": 1,
          "yanchor": "bottom",
          "yref": "paper"
         },
         {
          "font": {
           "size": 16
          },
          "showarrow": false,
          "text": "contribution",
          "x": 0.5,
          "xanchor": "center",
          "xref": "paper",
          "y": 0,
          "yanchor": "top",
          "yref": "paper",
          "yshift": -30
         }
        ],
        "font": {
         "color": "#371ea3"
        },
        "height": 813,
        "margin": {
         "b": 71,
         "r": 30,
         "t": 78
        },
        "shapes": [
         {
          "line": {
           "color": "#371ea3",
           "dash": "dot",
           "width": 1.5
          },
          "type": "line",
          "x0": 0.38,
          "x1": 0.38,
          "xref": "x",
          "y0": -1,
          "y1": 33,
          "yref": "y"
         }
        ],
        "template": {
         "data": {
          "scatter": [
           {
            "type": "scatter"
           }
          ]
         }
        },
        "title": {
         "text": "Break Down",
         "x": 0.15
        },
        "xaxis": {
         "anchor": "y",
         "automargin": true,
         "domain": [
          0,
          1
         ],
         "fixedrange": true,
         "gridwidth": 2,
         "range": [
          0,
          1
         ],
         "tickcolor": "white",
         "ticklen": 3,
         "ticks": "outside",
         "type": "linear",
         "zeroline": false
        },
        "yaxis": {
         "anchor": "x",
         "automargin": true,
         "autorange": "reversed",
         "domain": [
          0,
          1
         ],
         "fixedrange": true,
         "gridwidth": 2,
         "tickcolor": "white",
         "ticklen": 10,
         "ticks": "outside",
         "type": "category"
        }
       }
      }
     },
     "metadata": {},
     "output_type": "display_data"
    },
    {
     "name": "stdout",
     "output_type": "stream",
     "text": [
      "Using DALEX on true negative instance with row number: 1126\n"
     ]
    },
    {
     "data": {
      "application/vnd.plotly.v1+json": {
       "config": {
        "displaylogo": false,
        "modeBarButtonsToRemove": [
         "sendDataToCloud",
         "lasso2d",
         "autoScale2d",
         "select2d",
         "zoom2d",
         "pan2d",
         "zoomIn2d",
         "zoomOut2d",
         "resetScale2d",
         "toggleSpikelines",
         "hoverCompareCartesian",
         "hoverClosestCartesian"
        ],
        "plotlyServerURL": "https://plot.ly",
        "staticPlot": false,
        "toImageButtonOptions": {
         "height": null,
         "width": null
        }
       },
       "data": [
        {
         "base": 0.38,
         "connector": {
          "line": {
           "color": "#371ea3",
           "dash": "solid",
           "width": 1
          },
          "mode": "spanning"
         },
         "decreasing": {
          "marker": {
           "color": "#f05a71"
          }
         },
         "hoverinfo": "text+delta",
         "hoverlabel": {
          "bgcolor": "rgba(0,0,0,0.8)"
         },
         "hovertext": [
          "Average response: 0.626<br>Prediction: 0.036",
          "egfr_mdrd_scr_max = 105.0<br>decreases average response by",
          "creatinine_max = 0.8<br>decreases average response by",
          "egfr_epi_scr_max = 108.0<br>decreases average response by",
          "invasive_vent = 0.0<br>decreases average response by",
          "bilirubin_total_min = 0.3<br>decreases average response by",
          "bilirubin_total_max = 0.3<br>increases average response by",
          "weight_max = 73.7<br>decreases average response by",
          "potassium_max = 4.2<br>decreases average response by",
          "platelets_min = 241.0<br>decreases average response by",
          "pt_max = 12.6<br>decreases average response by",
          "platelets_max = 241.0<br>increases average response by",
          "hematocrit_min = 33.0<br>decreases average response by",
          "bmi:weight_admit = 43.35:73.7<br>decreases average response by",
          "supplemental_oxygen = 0.0<br>decreases average response by",
          "bicarbonate_min = 25.0<br>decreases average response by",
          "sodium_min = 144.0<br>decreases average response by",
          "sbp_min = 97.0<br>decreases average response by",
          "calcium_min = 8.1<br>decreases average response by",
          "albumin_max = 3.0<br>increases average response by",
          "sodium_max = 147.0<br>decreases average response by",
          "glucose_min:creatinine_min = 100.0:0.7<br>decreases average response by",
          "urineoutput_24hr = 300.0<br>decreases average response by",
          "dbp_min = 56.0<br>decreases average response by",
          "dbp_mean = 72.83<br>decreases average response by",
          "albumin_min = 3.0<br>decreases average response by",
          "resp_rate_max = 30.0<br>decreases average response by",
          "aniongap_min = 11.0<br>decreases average response by",
          "congestive_heart_failure = 0.0<br>decreases average response by",
          "diabetes_type2 = 0.0<br>decreases average response by",
          "ptt_max = 32.8<br>decreases average response by",
          "+ all other factors<br>decreases average response by",
          "Average response: 0.626<br>Prediction: 0.036"
         ],
         "increasing": {
          "marker": {
           "color": "#8bdcbe"
          }
         },
         "measure": [
          "relative",
          "relative",
          "relative",
          "relative",
          "relative",
          "relative",
          "relative",
          "relative",
          "relative",
          "relative",
          "relative",
          "relative",
          "relative",
          "relative",
          "relative",
          "relative",
          "relative",
          "relative",
          "relative",
          "relative",
          "relative",
          "relative",
          "relative",
          "relative",
          "relative",
          "relative",
          "relative",
          "relative",
          "relative",
          "relative",
          "relative",
          "relative",
          "total"
         ],
         "orientation": "h",
         "showlegend": false,
         "text": [
          "0.626",
          "-0.155",
          "-0.136",
          "-0.047",
          "-0.018",
          "-0.018",
          "+0.002",
          "-0.013",
          "-0.008",
          "-0.015",
          "-0.012",
          "+0.003",
          "-0.008",
          "-0.003",
          "-0.001",
          "-0.01",
          "-0.007",
          "-0.002",
          "-0.012",
          "+0.006",
          "-0.004",
          "-0.04",
          "-0.003",
          "0.0",
          "-0.002",
          "0.0",
          "0.0",
          "-0.001",
          "-0.012",
          "-0.009",
          "-0.007",
          "-0.058",
          "0.036"
         ],
         "textposition": "outside",
         "totals": {
          "marker": {
           "color": "#371ea3"
          }
         },
         "type": "waterfall",
         "x": [
          0.246,
          -0.155,
          -0.136,
          -0.047,
          -0.018,
          -0.018,
          0.002,
          -0.013,
          -0.008,
          -0.015,
          -0.012,
          0.003,
          -0.008,
          -0.003,
          -0.001,
          -0.01,
          -0.007,
          -0.002,
          -0.012,
          0.006,
          -0.004,
          -0.04,
          -0.003,
          0,
          -0.002,
          0,
          0,
          -0.001,
          -0.012,
          -0.009,
          -0.007,
          -0.058,
          -0.344
         ],
         "xaxis": "x",
         "y": [
          "intercept",
          "egfr_mdrd_scr_max = 105.0",
          "creatinine_max = 0.8",
          "egfr_epi_scr_max = 108.0",
          "invasive_vent = 0.0",
          "bilirubin_total_min = 0.3",
          "bilirubin_total_max = 0.3",
          "weight_max = 73.7",
          "potassium_max = 4.2",
          "platelets_min = 241.0",
          "pt_max = 12.6",
          "platelets_max = 241.0",
          "hematocrit_min = 33.0",
          "bmi:weight_admit = 43.35:73.7",
          "supplemental_oxygen = 0.0",
          "bicarbonate_min = 25.0",
          "sodium_min = 144.0",
          "sbp_min = 97.0",
          "calcium_min = 8.1",
          "albumin_max = 3.0",
          "sodium_max = 147.0",
          "glucose_min:creatinine_min = 100.0:0.7",
          "urineoutput_24hr = 300.0",
          "dbp_min = 56.0",
          "dbp_mean = 72.83",
          "albumin_min = 3.0",
          "resp_rate_max = 30.0",
          "aniongap_min = 11.0",
          "congestive_heart_failure = 0.0",
          "diabetes_type2 = 0.0",
          "ptt_max = 32.8",
          "+ all other factors",
          "prediction"
         ],
         "yaxis": "y"
        }
       ],
       "layout": {
        "annotations": [
         {
          "font": {
           "size": 16
          },
          "showarrow": false,
          "text": "LGBMClassifier",
          "x": 0.5,
          "xanchor": "center",
          "xref": "paper",
          "y": 1,
          "yanchor": "bottom",
          "yref": "paper"
         },
         {
          "font": {
           "size": 16
          },
          "showarrow": false,
          "text": "contribution",
          "x": 0.5,
          "xanchor": "center",
          "xref": "paper",
          "y": 0,
          "yanchor": "top",
          "yref": "paper",
          "yshift": -30
         }
        ],
        "font": {
         "color": "#371ea3"
        },
        "height": 813,
        "margin": {
         "b": 71,
         "r": 30,
         "t": 78
        },
        "shapes": [
         {
          "line": {
           "color": "#371ea3",
           "dash": "dot",
           "width": 1.5
          },
          "type": "line",
          "x0": 0.38,
          "x1": 0.38,
          "xref": "x",
          "y0": -1,
          "y1": 33,
          "yref": "y"
         }
        ],
        "template": {
         "data": {
          "scatter": [
           {
            "type": "scatter"
           }
          ]
         }
        },
        "title": {
         "text": "Break Down",
         "x": 0.15
        },
        "xaxis": {
         "anchor": "y",
         "automargin": true,
         "domain": [
          0,
          1
         ],
         "fixedrange": true,
         "gridwidth": 2,
         "range": [
          0,
          1
         ],
         "tickcolor": "white",
         "ticklen": 3,
         "ticks": "outside",
         "type": "linear",
         "zeroline": false
        },
        "yaxis": {
         "anchor": "x",
         "automargin": true,
         "autorange": "reversed",
         "domain": [
          0,
          1
         ],
         "fixedrange": true,
         "gridwidth": 2,
         "tickcolor": "white",
         "ticklen": 10,
         "ticks": "outside",
         "type": "category"
        }
       }
      }
     },
     "metadata": {},
     "output_type": "display_data"
    },
    {
     "name": "stdout",
     "output_type": "stream",
     "text": [
      "Using DALEX on true negative instance with row number: 1003\n"
     ]
    },
    {
     "data": {
      "application/vnd.plotly.v1+json": {
       "config": {
        "displaylogo": false,
        "modeBarButtonsToRemove": [
         "sendDataToCloud",
         "lasso2d",
         "autoScale2d",
         "select2d",
         "zoom2d",
         "pan2d",
         "zoomIn2d",
         "zoomOut2d",
         "resetScale2d",
         "toggleSpikelines",
         "hoverCompareCartesian",
         "hoverClosestCartesian"
        ],
        "plotlyServerURL": "https://plot.ly",
        "staticPlot": false,
        "toImageButtonOptions": {
         "height": null,
         "width": null
        }
       },
       "data": [
        {
         "base": 0.38,
         "connector": {
          "line": {
           "color": "#371ea3",
           "dash": "solid",
           "width": 1
          },
          "mode": "spanning"
         },
         "decreasing": {
          "marker": {
           "color": "#f05a71"
          }
         },
         "hoverinfo": "text+delta",
         "hoverlabel": {
          "bgcolor": "rgba(0,0,0,0.8)"
         },
         "hovertext": [
          "Average response: 0.487<br>Prediction: 0.368",
          "egfr_mdrd_scr_max = 57.0<br>decreases average response by",
          "creatinine_min:creatinine_max = 0.8:1.0<br>decreases average response by",
          "temperature_mean = 35.65<br>increases average response by",
          "potassium_max = 3.9<br>decreases average response by",
          "invasive_vent = 1.0<br>increases average response by",
          "platelets_max = 282.0<br>decreases average response by",
          "diabetes_type2 = 1.0<br>increases average response by",
          "hematocrit_min = 23.4<br>increases average response by",
          "platelets_min = 252.0<br>decreases average response by",
          "temperature_min = 35.0<br>increases average response by",
          "resp_rate_max = 18.0<br>decreases average response by",
          "hematocrit_max = 30.5<br>increases average response by",
          "female = 1.0<br>decreases average response by",
          "sbp_max = 130.0<br>decreases average response by",
          "age = 56.0<br>increases average response by",
          "hemoglobin_min = 8.5<br>increases average response by",
          "sodium_min = 142.0<br>decreases average response by",
          "wbc_bd_max = 13.3<br>increases average response by",
          "temperature_max = 36.44<br>increases average response by",
          "congestive_heart_failure = 0.0<br>decreases average response by",
          "spo2_min = 98.0<br>decreases average response by",
          "dbp_min = 45.0<br>increases average response by",
          "potassium_min = 3.9<br>decreases average response by",
          "weight_max = 82.5<br>increases average response by",
          "egfr_epi_scr_max = 63.0<br>increases average response by",
          "dbp_mean = 55.65<br>decreases average response by",
          "aniongap_min:chloride_max = nan:111.0<br>increases average response by",
          "heart_rate_max = 115.0<br>decreases average response by",
          "pt_min:pt_max = 13.8:14.3<br>decreases average response by",
          "bmi:weight_admit = 43.94:72.5<br>decreases average response by",
          "+ all other factors<br>decreases average response by",
          "Average response: 0.487<br>Prediction: 0.368"
         ],
         "increasing": {
          "marker": {
           "color": "#8bdcbe"
          }
         },
         "measure": [
          "relative",
          "relative",
          "relative",
          "relative",
          "relative",
          "relative",
          "relative",
          "relative",
          "relative",
          "relative",
          "relative",
          "relative",
          "relative",
          "relative",
          "relative",
          "relative",
          "relative",
          "relative",
          "relative",
          "relative",
          "relative",
          "relative",
          "relative",
          "relative",
          "relative",
          "relative",
          "relative",
          "relative",
          "relative",
          "relative",
          "relative",
          "relative",
          "total"
         ],
         "orientation": "h",
         "showlegend": false,
         "text": [
          "0.487",
          "-0.06",
          "-0.063",
          "+0.051",
          "-0.051",
          "+0.064",
          "-0.022",
          "+0.038",
          "+0.022",
          "-0.034",
          "+0.011",
          "-0.028",
          "+0.003",
          "-0.012",
          "-0.011",
          "+0.008",
          "+0.015",
          "-0.008",
          "+0.004",
          "+0.003",
          "-0.007",
          "-0.003",
          "+0.006",
          "-0.004",
          "+0.003",
          "+0.01",
          "-0.013",
          "+0.002",
          "-0.006",
          "-0.001",
          "-0.004",
          "-0.033",
          "0.368"
         ],
         "textposition": "outside",
         "totals": {
          "marker": {
           "color": "#371ea3"
          }
         },
         "type": "waterfall",
         "x": [
          0.107,
          -0.06,
          -0.063,
          0.051,
          -0.051,
          0.064,
          -0.022,
          0.038,
          0.022,
          -0.034,
          0.011,
          -0.028,
          0.003,
          -0.012,
          -0.011,
          0.008,
          0.015,
          -0.008,
          0.004,
          0.003,
          -0.007,
          -0.003,
          0.006,
          -0.004,
          0.003,
          0.01,
          -0.013,
          0.002,
          -0.006,
          -0.001,
          -0.004,
          -0.033,
          -0.012
         ],
         "xaxis": "x",
         "y": [
          "intercept",
          "egfr_mdrd_scr_max = 57.0",
          "creatinine_min:creatinine_max = 0.8:1.0",
          "temperature_mean = 35.65",
          "potassium_max = 3.9",
          "invasive_vent = 1.0",
          "platelets_max = 282.0",
          "diabetes_type2 = 1.0",
          "hematocrit_min = 23.4",
          "platelets_min = 252.0",
          "temperature_min = 35.0",
          "resp_rate_max = 18.0",
          "hematocrit_max = 30.5",
          "female = 1.0",
          "sbp_max = 130.0",
          "age = 56.0",
          "hemoglobin_min = 8.5",
          "sodium_min = 142.0",
          "wbc_bd_max = 13.3",
          "temperature_max = 36.44",
          "congestive_heart_failure = 0.0",
          "spo2_min = 98.0",
          "dbp_min = 45.0",
          "potassium_min = 3.9",
          "weight_max = 82.5",
          "egfr_epi_scr_max = 63.0",
          "dbp_mean = 55.65",
          "aniongap_min:chloride_max = nan:111.0",
          "heart_rate_max = 115.0",
          "pt_min:pt_max = 13.8:14.3",
          "bmi:weight_admit = 43.94:72.5",
          "+ all other factors",
          "prediction"
         ],
         "yaxis": "y"
        }
       ],
       "layout": {
        "annotations": [
         {
          "font": {
           "size": 16
          },
          "showarrow": false,
          "text": "LGBMClassifier",
          "x": 0.5,
          "xanchor": "center",
          "xref": "paper",
          "y": 1,
          "yanchor": "bottom",
          "yref": "paper"
         },
         {
          "font": {
           "size": 16
          },
          "showarrow": false,
          "text": "contribution",
          "x": 0.5,
          "xanchor": "center",
          "xref": "paper",
          "y": 0,
          "yanchor": "top",
          "yref": "paper",
          "yshift": -30
         }
        ],
        "font": {
         "color": "#371ea3"
        },
        "height": 813,
        "margin": {
         "b": 71,
         "r": 30,
         "t": 78
        },
        "shapes": [
         {
          "line": {
           "color": "#371ea3",
           "dash": "dot",
           "width": 1.5
          },
          "type": "line",
          "x0": 0.38,
          "x1": 0.38,
          "xref": "x",
          "y0": -1,
          "y1": 33,
          "yref": "y"
         }
        ],
        "template": {
         "data": {
          "scatter": [
           {
            "type": "scatter"
           }
          ]
         }
        },
        "title": {
         "text": "Break Down",
         "x": 0.15
        },
        "xaxis": {
         "anchor": "y",
         "automargin": true,
         "domain": [
          0,
          1
         ],
         "fixedrange": true,
         "gridwidth": 2,
         "range": [
          0,
          1
         ],
         "tickcolor": "white",
         "ticklen": 3,
         "ticks": "outside",
         "type": "linear",
         "zeroline": false
        },
        "yaxis": {
         "anchor": "x",
         "automargin": true,
         "autorange": "reversed",
         "domain": [
          0,
          1
         ],
         "fixedrange": true,
         "gridwidth": 2,
         "tickcolor": "white",
         "ticklen": 10,
         "ticks": "outside",
         "type": "category"
        }
       }
      }
     },
     "metadata": {},
     "output_type": "display_data"
    },
    {
     "name": "stdout",
     "output_type": "stream",
     "text": [
      "Using DALEX on true negative instance with row number: 914\n"
     ]
    },
    {
     "data": {
      "application/vnd.plotly.v1+json": {
       "config": {
        "displaylogo": false,
        "modeBarButtonsToRemove": [
         "sendDataToCloud",
         "lasso2d",
         "autoScale2d",
         "select2d",
         "zoom2d",
         "pan2d",
         "zoomIn2d",
         "zoomOut2d",
         "resetScale2d",
         "toggleSpikelines",
         "hoverCompareCartesian",
         "hoverClosestCartesian"
        ],
        "plotlyServerURL": "https://plot.ly",
        "staticPlot": false,
        "toImageButtonOptions": {
         "height": null,
         "width": null
        }
       },
       "data": [
        {
         "base": 0.38,
         "connector": {
          "line": {
           "color": "#371ea3",
           "dash": "solid",
           "width": 1
          },
          "mode": "spanning"
         },
         "decreasing": {
          "marker": {
           "color": "#f05a71"
          }
         },
         "hoverinfo": "text+delta",
         "hoverlabel": {
          "bgcolor": "rgba(0,0,0,0.8)"
         },
         "hovertext": [
          "Average response: 0.523<br>Prediction: 0.026",
          "egfr_mdrd_scr_max = 95.0<br>decreases average response by",
          "creatinine_max = 0.7<br>decreases average response by",
          "egfr_epi_scr_max = 111.0<br>decreases average response by",
          "creatinine_min = 0.6<br>increases average response by",
          "sbp_min = 106.0<br>decreases average response by",
          "potassium_max = 3.8<br>decreases average response by",
          "bilirubin_total_max = 0.5<br>decreases average response by",
          "temperature_mean = 37.7<br>decreases average response by",
          "bilirubin_total_min = 0.5<br>decreases average response by",
          "platelets_max = 249.0<br>increases average response by",
          "hematocrit_min = 30.9<br>decreases average response by",
          "aniongap_min = 8.0<br>decreases average response by",
          "invasive_vent = 0.0<br>decreases average response by",
          "wbc_bd_max = 6.9<br>decreases average response by",
          "calcium_max = 8.0<br>decreases average response by",
          "female = 1.0<br>decreases average response by",
          "temperature_min = 37.11<br>decreases average response by",
          "diabetes_type2 = 0.0<br>decreases average response by",
          "platelets_min = 218.0<br>increases average response by",
          "pt_min = 14.1<br>decreases average response by",
          "temperature_max = 38.44<br>decreases average response by",
          "albumin_min = 2.8<br>decreases average response by",
          "age = 36.0<br>increases average response by",
          "congestive_heart_failure = 0.0<br>decreases average response by",
          "hypertension = 0.0<br>decreases average response by",
          "wbc_bd_min = 4.8<br>decreases average response by",
          "calcium_min = 7.9<br>decreases average response by",
          "resp_rate_min = 11.0<br>decreases average response by",
          "ptt_max = 28.8<br>decreases average response by",
          "heart_rate_max = 114.0<br>decreases average response by",
          "+ all other factors<br>decreases average response by",
          "Average response: 0.523<br>Prediction: 0.026"
         ],
         "increasing": {
          "marker": {
           "color": "#8bdcbe"
          }
         },
         "measure": [
          "relative",
          "relative",
          "relative",
          "relative",
          "relative",
          "relative",
          "relative",
          "relative",
          "relative",
          "relative",
          "relative",
          "relative",
          "relative",
          "relative",
          "relative",
          "relative",
          "relative",
          "relative",
          "relative",
          "relative",
          "relative",
          "relative",
          "relative",
          "relative",
          "relative",
          "relative",
          "relative",
          "relative",
          "relative",
          "relative",
          "relative",
          "relative",
          "total"
         ],
         "orientation": "h",
         "showlegend": false,
         "text": [
          "0.523",
          "-0.129",
          "-0.13",
          "-0.037",
          "+0.002",
          "-0.03",
          "-0.014",
          "-0.011",
          "-0.018",
          "-0.002",
          "+0.001",
          "-0.015",
          "-0.004",
          "-0.006",
          "-0.009",
          "-0.002",
          "-0.008",
          "-0.005",
          "-0.004",
          "+0.002",
          "-0.005",
          "-0.003",
          "0.0",
          "+0.002",
          "-0.006",
          "-0.002",
          "-0.002",
          "-0.005",
          "-0.004",
          "-0.006",
          "-0.002",
          "-0.044",
          "0.026"
         ],
         "textposition": "outside",
         "totals": {
          "marker": {
           "color": "#371ea3"
          }
         },
         "type": "waterfall",
         "x": [
          0.143,
          -0.129,
          -0.13,
          -0.037,
          0.002,
          -0.03,
          -0.014,
          -0.011,
          -0.018,
          -0.002,
          0.001,
          -0.015,
          -0.004,
          -0.006,
          -0.009,
          -0.002,
          -0.008,
          -0.005,
          -0.004,
          0.002,
          -0.005,
          -0.003,
          0,
          0.002,
          -0.006,
          -0.002,
          -0.002,
          -0.005,
          -0.004,
          -0.006,
          -0.002,
          -0.044,
          -0.354
         ],
         "xaxis": "x",
         "y": [
          "intercept",
          "egfr_mdrd_scr_max = 95.0",
          "creatinine_max = 0.7",
          "egfr_epi_scr_max = 111.0",
          "creatinine_min = 0.6",
          "sbp_min = 106.0",
          "potassium_max = 3.8",
          "bilirubin_total_max = 0.5",
          "temperature_mean = 37.7",
          "bilirubin_total_min = 0.5",
          "platelets_max = 249.0",
          "hematocrit_min = 30.9",
          "aniongap_min = 8.0",
          "invasive_vent = 0.0",
          "wbc_bd_max = 6.9",
          "calcium_max = 8.0",
          "female = 1.0",
          "temperature_min = 37.11",
          "diabetes_type2 = 0.0",
          "platelets_min = 218.0",
          "pt_min = 14.1",
          "temperature_max = 38.44",
          "albumin_min = 2.8",
          "age = 36.0",
          "congestive_heart_failure = 0.0",
          "hypertension = 0.0",
          "wbc_bd_min = 4.8",
          "calcium_min = 7.9",
          "resp_rate_min = 11.0",
          "ptt_max = 28.8",
          "heart_rate_max = 114.0",
          "+ all other factors",
          "prediction"
         ],
         "yaxis": "y"
        }
       ],
       "layout": {
        "annotations": [
         {
          "font": {
           "size": 16
          },
          "showarrow": false,
          "text": "LGBMClassifier",
          "x": 0.5,
          "xanchor": "center",
          "xref": "paper",
          "y": 1,
          "yanchor": "bottom",
          "yref": "paper"
         },
         {
          "font": {
           "size": 16
          },
          "showarrow": false,
          "text": "contribution",
          "x": 0.5,
          "xanchor": "center",
          "xref": "paper",
          "y": 0,
          "yanchor": "top",
          "yref": "paper",
          "yshift": -30
         }
        ],
        "font": {
         "color": "#371ea3"
        },
        "height": 813,
        "margin": {
         "b": 71,
         "r": 30,
         "t": 78
        },
        "shapes": [
         {
          "line": {
           "color": "#371ea3",
           "dash": "dot",
           "width": 1.5
          },
          "type": "line",
          "x0": 0.38,
          "x1": 0.38,
          "xref": "x",
          "y0": -1,
          "y1": 33,
          "yref": "y"
         }
        ],
        "template": {
         "data": {
          "scatter": [
           {
            "type": "scatter"
           }
          ]
         }
        },
        "title": {
         "text": "Break Down",
         "x": 0.15
        },
        "xaxis": {
         "anchor": "y",
         "automargin": true,
         "domain": [
          0,
          1
         ],
         "fixedrange": true,
         "gridwidth": 2,
         "range": [
          0,
          1
         ],
         "tickcolor": "white",
         "ticklen": 3,
         "ticks": "outside",
         "type": "linear",
         "zeroline": false
        },
        "yaxis": {
         "anchor": "x",
         "automargin": true,
         "autorange": "reversed",
         "domain": [
          0,
          1
         ],
         "fixedrange": true,
         "gridwidth": 2,
         "tickcolor": "white",
         "ticklen": 10,
         "ticks": "outside",
         "type": "category"
        }
       }
      }
     },
     "metadata": {},
     "output_type": "display_data"
    },
    {
     "name": "stdout",
     "output_type": "stream",
     "text": [
      "Using DALEX on true negative instance with row number: 571\n"
     ]
    },
    {
     "data": {
      "application/vnd.plotly.v1+json": {
       "config": {
        "displaylogo": false,
        "modeBarButtonsToRemove": [
         "sendDataToCloud",
         "lasso2d",
         "autoScale2d",
         "select2d",
         "zoom2d",
         "pan2d",
         "zoomIn2d",
         "zoomOut2d",
         "resetScale2d",
         "toggleSpikelines",
         "hoverCompareCartesian",
         "hoverClosestCartesian"
        ],
        "plotlyServerURL": "https://plot.ly",
        "staticPlot": false,
        "toImageButtonOptions": {
         "height": null,
         "width": null
        }
       },
       "data": [
        {
         "base": 0.38,
         "connector": {
          "line": {
           "color": "#371ea3",
           "dash": "solid",
           "width": 1
          },
          "mode": "spanning"
         },
         "decreasing": {
          "marker": {
           "color": "#f05a71"
          }
         },
         "hoverinfo": "text+delta",
         "hoverlabel": {
          "bgcolor": "rgba(0,0,0,0.8)"
         },
         "hovertext": [
          "Average response: 0.493<br>Prediction: 0.145",
          "egfr_mdrd_scr_max = 119.0<br>decreases average response by",
          "creatinine_max = 0.7<br>decreases average response by",
          "creatinine_min = 0.6<br>decreases average response by",
          "egfr_epi_scr_max = 110.0<br>decreases average response by",
          "potassium_max = 3.9<br>decreases average response by",
          "pt_max = 11.6<br>decreases average response by",
          "invasive_vent = 0.0<br>decreases average response by",
          "wbc_bd_max = 3.4<br>decreases average response by",
          "sbp_max = 125.0<br>decreases average response by",
          "temperature_min = 36.83<br>decreases average response by",
          "hematocrit_min = 31.2<br>decreases average response by",
          "albumin_min = 3.0<br>increases average response by",
          "potassium_min = 3.4<br>increases average response by",
          "weight_max = 101.4<br>increases average response by",
          "mild_liver_disease = 1.0<br>increases average response by",
          "temperature_mean = 37.07<br>decreases average response by",
          "aniongap_max = 19.0<br>decreases average response by",
          "resp_rate_max = 38.0<br>increases average response by",
          "weight_admit = 101.4<br>decreases average response by",
          "ptt_max = 29.0<br>decreases average response by",
          "sbp_mean = 110.8<br>increases average response by",
          "diabetes_type2 = 0.0<br>decreases average response by",
          "bicarbonate_max = 30.0<br>increases average response by",
          "calcium_max = 7.9<br>increases average response by",
          "platelets_min = 59.0<br>increases average response by",
          "glucose_min = 89.0<br>decreases average response by",
          "pt_min:ptt_min = 11.0:27.9<br>increases average response by",
          "chloride_max = 94.0<br>increases average response by",
          "chloride_min = 92.0<br>decreases average response by",
          "bicarbonate_min = 24.0<br>decreases average response by",
          "+ all other factors<br>decreases average response by",
          "Average response: 0.493<br>Prediction: 0.145"
         ],
         "increasing": {
          "marker": {
           "color": "#8bdcbe"
          }
         },
         "measure": [
          "relative",
          "relative",
          "relative",
          "relative",
          "relative",
          "relative",
          "relative",
          "relative",
          "relative",
          "relative",
          "relative",
          "relative",
          "relative",
          "relative",
          "relative",
          "relative",
          "relative",
          "relative",
          "relative",
          "relative",
          "relative",
          "relative",
          "relative",
          "relative",
          "relative",
          "relative",
          "relative",
          "relative",
          "relative",
          "relative",
          "relative",
          "relative",
          "total"
         ],
         "orientation": "h",
         "showlegend": false,
         "text": [
          "0.493",
          "-0.093",
          "-0.127",
          "-0.022",
          "-0.033",
          "-0.026",
          "-0.032",
          "-0.012",
          "-0.004",
          "-0.013",
          "-0.007",
          "-0.011",
          "+0.002",
          "+0.001",
          "+0.009",
          "+0.009",
          "-0.005",
          "-0.001",
          "+0.024",
          "0.0",
          "-0.016",
          "+0.002",
          "-0.007",
          "+0.008",
          "+0.003",
          "+0.001",
          "-0.004",
          "+0.01",
          "+0.001",
          "0.0",
          "-0.005",
          "-0.0",
          "0.145"
         ],
         "textposition": "outside",
         "totals": {
          "marker": {
           "color": "#371ea3"
          }
         },
         "type": "waterfall",
         "x": [
          0.113,
          -0.093,
          -0.127,
          -0.022,
          -0.033,
          -0.026,
          -0.032,
          -0.012,
          -0.004,
          -0.013,
          -0.007,
          -0.011,
          0.002,
          0.001,
          0.009,
          0.009,
          -0.005,
          -0.001,
          0.024,
          0,
          -0.016,
          0.002,
          -0.007,
          0.008,
          0.003,
          0.001,
          -0.004,
          0.01,
          0.001,
          0,
          -0.005,
          0,
          -0.235
         ],
         "xaxis": "x",
         "y": [
          "intercept",
          "egfr_mdrd_scr_max = 119.0",
          "creatinine_max = 0.7",
          "creatinine_min = 0.6",
          "egfr_epi_scr_max = 110.0",
          "potassium_max = 3.9",
          "pt_max = 11.6",
          "invasive_vent = 0.0",
          "wbc_bd_max = 3.4",
          "sbp_max = 125.0",
          "temperature_min = 36.83",
          "hematocrit_min = 31.2",
          "albumin_min = 3.0",
          "potassium_min = 3.4",
          "weight_max = 101.4",
          "mild_liver_disease = 1.0",
          "temperature_mean = 37.07",
          "aniongap_max = 19.0",
          "resp_rate_max = 38.0",
          "weight_admit = 101.4",
          "ptt_max = 29.0",
          "sbp_mean = 110.8",
          "diabetes_type2 = 0.0",
          "bicarbonate_max = 30.0",
          "calcium_max = 7.9",
          "platelets_min = 59.0",
          "glucose_min = 89.0",
          "pt_min:ptt_min = 11.0:27.9",
          "chloride_max = 94.0",
          "chloride_min = 92.0",
          "bicarbonate_min = 24.0",
          "+ all other factors",
          "prediction"
         ],
         "yaxis": "y"
        }
       ],
       "layout": {
        "annotations": [
         {
          "font": {
           "size": 16
          },
          "showarrow": false,
          "text": "LGBMClassifier",
          "x": 0.5,
          "xanchor": "center",
          "xref": "paper",
          "y": 1,
          "yanchor": "bottom",
          "yref": "paper"
         },
         {
          "font": {
           "size": 16
          },
          "showarrow": false,
          "text": "contribution",
          "x": 0.5,
          "xanchor": "center",
          "xref": "paper",
          "y": 0,
          "yanchor": "top",
          "yref": "paper",
          "yshift": -30
         }
        ],
        "font": {
         "color": "#371ea3"
        },
        "height": 813,
        "margin": {
         "b": 71,
         "r": 30,
         "t": 78
        },
        "shapes": [
         {
          "line": {
           "color": "#371ea3",
           "dash": "dot",
           "width": 1.5
          },
          "type": "line",
          "x0": 0.38,
          "x1": 0.38,
          "xref": "x",
          "y0": -1,
          "y1": 33,
          "yref": "y"
         }
        ],
        "template": {
         "data": {
          "scatter": [
           {
            "type": "scatter"
           }
          ]
         }
        },
        "title": {
         "text": "Break Down",
         "x": 0.15
        },
        "xaxis": {
         "anchor": "y",
         "automargin": true,
         "domain": [
          0,
          1
         ],
         "fixedrange": true,
         "gridwidth": 2,
         "range": [
          0,
          1
         ],
         "tickcolor": "white",
         "ticklen": 3,
         "ticks": "outside",
         "type": "linear",
         "zeroline": false
        },
        "yaxis": {
         "anchor": "x",
         "automargin": true,
         "autorange": "reversed",
         "domain": [
          0,
          1
         ],
         "fixedrange": true,
         "gridwidth": 2,
         "tickcolor": "white",
         "ticklen": 10,
         "ticks": "outside",
         "type": "category"
        }
       }
      }
     },
     "metadata": {},
     "output_type": "display_data"
    },
    {
     "name": "stdout",
     "output_type": "stream",
     "text": [
      "Using DALEX on true negative instance with row number: 3016\n"
     ]
    },
    {
     "data": {
      "application/vnd.plotly.v1+json": {
       "config": {
        "displaylogo": false,
        "modeBarButtonsToRemove": [
         "sendDataToCloud",
         "lasso2d",
         "autoScale2d",
         "select2d",
         "zoom2d",
         "pan2d",
         "zoomIn2d",
         "zoomOut2d",
         "resetScale2d",
         "toggleSpikelines",
         "hoverCompareCartesian",
         "hoverClosestCartesian"
        ],
        "plotlyServerURL": "https://plot.ly",
        "staticPlot": false,
        "toImageButtonOptions": {
         "height": null,
         "width": null
        }
       },
       "data": [
        {
         "base": 0.38,
         "connector": {
          "line": {
           "color": "#371ea3",
           "dash": "solid",
           "width": 1
          },
          "mode": "spanning"
         },
         "decreasing": {
          "marker": {
           "color": "#f05a71"
          }
         },
         "hoverinfo": "text+delta",
         "hoverlabel": {
          "bgcolor": "rgba(0,0,0,0.8)"
         },
         "hovertext": [
          "Average response: 0.524<br>Prediction: 0.243",
          "egfr_mdrd_scr_max = 96.0<br>decreases average response by",
          "creatinine_min:creatinine_max = 0.7:0.8<br>decreases average response by",
          "invasive_vent = 0.0<br>decreases average response by",
          "hematocrit_min = 31.2<br>decreases average response by",
          "sbp_max = 125.0<br>decreases average response by",
          "egfr_epi_scr_max = 91.0<br>decreases average response by",
          "hematocrit_max = 43.7<br>decreases average response by",
          "pt_max = 16.2<br>increases average response by",
          "sbp_mean = 110.8<br>increases average response by",
          "hemoglobin_max = 15.0<br>decreases average response by",
          "myocardial_infarct = 1.0<br>increases average response by",
          "calcium_min = 8.1<br>decreases average response by",
          "bmi:weight_admit = 46.86:82.0<br>decreases average response by",
          "ptt_min = 25.0<br>decreases average response by",
          "potassium_max = 4.8<br>increases average response by",
          "potassium_min = 4.2<br>decreases average response by",
          "sbp_min = 80.0<br>increases average response by",
          "wbc_bd_max = 18.2<br>decreases average response by",
          "calcium_max = 8.1<br>decreases average response by",
          "diabetes_type2 = 0.0<br>decreases average response by",
          "temperature_mean = 36.83<br>decreases average response by",
          "temperature_min = 36.5<br>decreases average response by",
          "wbc_bd_min = 9.1<br>decreases average response by",
          "chloride_max = 109.0<br>decreases average response by",
          "aniongap_min = 9.0<br>increases average response by",
          "dbp_mean = 64.08<br>decreases average response by",
          "resp_rate_max = 24.0<br>decreases average response by",
          "urineoutput_24hr = 100.0<br>decreases average response by",
          "glucose_max = 106.0<br>increases average response by",
          "weight_max = 85.7<br>increases average response by",
          "+ all other factors<br>increases average response by",
          "Average response: 0.524<br>Prediction: 0.243"
         ],
         "increasing": {
          "marker": {
           "color": "#8bdcbe"
          }
         },
         "measure": [
          "relative",
          "relative",
          "relative",
          "relative",
          "relative",
          "relative",
          "relative",
          "relative",
          "relative",
          "relative",
          "relative",
          "relative",
          "relative",
          "relative",
          "relative",
          "relative",
          "relative",
          "relative",
          "relative",
          "relative",
          "relative",
          "relative",
          "relative",
          "relative",
          "relative",
          "relative",
          "relative",
          "relative",
          "relative",
          "relative",
          "relative",
          "relative",
          "total"
         ],
         "orientation": "h",
         "showlegend": false,
         "text": [
          "0.524",
          "-0.093",
          "-0.141",
          "-0.032",
          "-0.035",
          "-0.022",
          "-0.007",
          "-0.02",
          "+0.012",
          "+0.002",
          "-0.001",
          "+0.012",
          "-0.007",
          "-0.001",
          "-0.006",
          "+0.009",
          "-0.003",
          "+0.006",
          "-0.002",
          "-0.004",
          "-0.007",
          "-0.006",
          "-0.005",
          "-0.01",
          "-0.008",
          "+0.001",
          "-0.008",
          "-0.011",
          "-0.001",
          "+0.013",
          "+0.001",
          "+0.094",
          "0.243"
         ],
         "textposition": "outside",
         "totals": {
          "marker": {
           "color": "#371ea3"
          }
         },
         "type": "waterfall",
         "x": [
          0.144,
          -0.093,
          -0.141,
          -0.032,
          -0.035,
          -0.022,
          -0.007,
          -0.02,
          0.012,
          0.002,
          -0.001,
          0.012,
          -0.007,
          -0.001,
          -0.006,
          0.009,
          -0.003,
          0.006,
          -0.002,
          -0.004,
          -0.007,
          -0.006,
          -0.005,
          -0.01,
          -0.008,
          0.001,
          -0.008,
          -0.011,
          -0.001,
          0.013,
          0.001,
          0.094,
          -0.137
         ],
         "xaxis": "x",
         "y": [
          "intercept",
          "egfr_mdrd_scr_max = 96.0",
          "creatinine_min:creatinine_max = 0.7:0.8",
          "invasive_vent = 0.0",
          "hematocrit_min = 31.2",
          "sbp_max = 125.0",
          "egfr_epi_scr_max = 91.0",
          "hematocrit_max = 43.7",
          "pt_max = 16.2",
          "sbp_mean = 110.8",
          "hemoglobin_max = 15.0",
          "myocardial_infarct = 1.0",
          "calcium_min = 8.1",
          "bmi:weight_admit = 46.86:82.0",
          "ptt_min = 25.0",
          "potassium_max = 4.8",
          "potassium_min = 4.2",
          "sbp_min = 80.0",
          "wbc_bd_max = 18.2",
          "calcium_max = 8.1",
          "diabetes_type2 = 0.0",
          "temperature_mean = 36.83",
          "temperature_min = 36.5",
          "wbc_bd_min = 9.1",
          "chloride_max = 109.0",
          "aniongap_min = 9.0",
          "dbp_mean = 64.08",
          "resp_rate_max = 24.0",
          "urineoutput_24hr = 100.0",
          "glucose_max = 106.0",
          "weight_max = 85.7",
          "+ all other factors",
          "prediction"
         ],
         "yaxis": "y"
        }
       ],
       "layout": {
        "annotations": [
         {
          "font": {
           "size": 16
          },
          "showarrow": false,
          "text": "LGBMClassifier",
          "x": 0.5,
          "xanchor": "center",
          "xref": "paper",
          "y": 1,
          "yanchor": "bottom",
          "yref": "paper"
         },
         {
          "font": {
           "size": 16
          },
          "showarrow": false,
          "text": "contribution",
          "x": 0.5,
          "xanchor": "center",
          "xref": "paper",
          "y": 0,
          "yanchor": "top",
          "yref": "paper",
          "yshift": -30
         }
        ],
        "font": {
         "color": "#371ea3"
        },
        "height": 813,
        "margin": {
         "b": 71,
         "r": 30,
         "t": 78
        },
        "shapes": [
         {
          "line": {
           "color": "#371ea3",
           "dash": "dot",
           "width": 1.5
          },
          "type": "line",
          "x0": 0.38,
          "x1": 0.38,
          "xref": "x",
          "y0": -1,
          "y1": 33,
          "yref": "y"
         }
        ],
        "template": {
         "data": {
          "scatter": [
           {
            "type": "scatter"
           }
          ]
         }
        },
        "title": {
         "text": "Break Down",
         "x": 0.15
        },
        "xaxis": {
         "anchor": "y",
         "automargin": true,
         "domain": [
          0,
          1
         ],
         "fixedrange": true,
         "gridwidth": 2,
         "range": [
          0,
          1
         ],
         "tickcolor": "white",
         "ticklen": 3,
         "ticks": "outside",
         "type": "linear",
         "zeroline": false
        },
        "yaxis": {
         "anchor": "x",
         "automargin": true,
         "autorange": "reversed",
         "domain": [
          0,
          1
         ],
         "fixedrange": true,
         "gridwidth": 2,
         "tickcolor": "white",
         "ticklen": 10,
         "ticks": "outside",
         "type": "category"
        }
       }
      }
     },
     "metadata": {},
     "output_type": "display_data"
    },
    {
     "name": "stdout",
     "output_type": "stream",
     "text": [
      "Using DALEX on true negative instance with row number: 419\n"
     ]
    },
    {
     "data": {
      "application/vnd.plotly.v1+json": {
       "config": {
        "displaylogo": false,
        "modeBarButtonsToRemove": [
         "sendDataToCloud",
         "lasso2d",
         "autoScale2d",
         "select2d",
         "zoom2d",
         "pan2d",
         "zoomIn2d",
         "zoomOut2d",
         "resetScale2d",
         "toggleSpikelines",
         "hoverCompareCartesian",
         "hoverClosestCartesian"
        ],
        "plotlyServerURL": "https://plot.ly",
        "staticPlot": false,
        "toImageButtonOptions": {
         "height": null,
         "width": null
        }
       },
       "data": [
        {
         "base": 0.38,
         "connector": {
          "line": {
           "color": "#371ea3",
           "dash": "solid",
           "width": 1
          },
          "mode": "spanning"
         },
         "decreasing": {
          "marker": {
           "color": "#f05a71"
          }
         },
         "hoverinfo": "text+delta",
         "hoverlabel": {
          "bgcolor": "rgba(0,0,0,0.8)"
         },
         "hovertext": [
          "Average response: 0.499<br>Prediction: 0.128",
          "egfr_mdrd_scr_max = 82.0<br>decreases average response by",
          "creatinine_max = 0.7<br>decreases average response by",
          "creatinine_min = 0.6<br>increases average response by",
          "weight_max = 66.6<br>decreases average response by",
          "platelets_max = 355.0<br>decreases average response by",
          "pt_max = 12.2<br>decreases average response by",
          "invasive_vent = 0.0<br>decreases average response by",
          "dbp_min = 24.0<br>decreases average response by",
          "egfr_epi_scr_max = 87.0<br>decreases average response by",
          "platelets_min = 276.0<br>decreases average response by",
          "hematocrit_min = 35.7<br>decreases average response by",
          "sbp_mean = 125.7<br>decreases average response by",
          "ptt_max = 22.5<br>decreases average response by",
          "bmi = 37.42<br>increases average response by",
          "hemoglobin_min = 11.9<br>decreases average response by",
          "myocardial_infarct = 1.0<br>increases average response by",
          "female = 1.0<br>decreases average response by",
          "diabetes_type2 = 0.0<br>decreases average response by",
          "temperature_min = 36.44<br>decreases average response by",
          "bicarbonate_min = 25.0<br>decreases average response by",
          "potassium_min = 3.7<br>decreases average response by",
          "chloride_max = 106.0<br>decreases average response by",
          "congestive_heart_failure = 0.0<br>decreases average response by",
          "hemoglobin_max = 13.2<br>decreases average response by",
          "pt_min:ptt_min = 11.8:21.4<br>increases average response by",
          "hematocrit_max = 40.0<br>decreases average response by",
          "resp_rate_min = 8.0<br>increases average response by",
          "hypertension = 0.0<br>decreases average response by",
          "wbc_bd_max = 14.6<br>decreases average response by",
          "wbc_min:wbc_bd_min = 13.7:13.7<br>decreases average response by",
          "+ all other factors<br>increases average response by",
          "Average response: 0.499<br>Prediction: 0.128"
         ],
         "increasing": {
          "marker": {
           "color": "#8bdcbe"
          }
         },
         "measure": [
          "relative",
          "relative",
          "relative",
          "relative",
          "relative",
          "relative",
          "relative",
          "relative",
          "relative",
          "relative",
          "relative",
          "relative",
          "relative",
          "relative",
          "relative",
          "relative",
          "relative",
          "relative",
          "relative",
          "relative",
          "relative",
          "relative",
          "relative",
          "relative",
          "relative",
          "relative",
          "relative",
          "relative",
          "relative",
          "relative",
          "relative",
          "relative",
          "total"
         ],
         "orientation": "h",
         "showlegend": false,
         "text": [
          "0.499",
          "-0.092",
          "-0.123",
          "+0.006",
          "-0.042",
          "-0.025",
          "-0.023",
          "-0.026",
          "-0.013",
          "-0.01",
          "-0.014",
          "-0.012",
          "-0.001",
          "-0.004",
          "+0.001",
          "-0.004",
          "+0.009",
          "-0.002",
          "-0.003",
          "-0.001",
          "-0.004",
          "0.0",
          "-0.002",
          "-0.005",
          "-0.005",
          "+0.003",
          "-0.009",
          "+0.003",
          "-0.0",
          "-0.003",
          "0.0",
          "+0.033",
          "0.128"
         ],
         "textposition": "outside",
         "totals": {
          "marker": {
           "color": "#371ea3"
          }
         },
         "type": "waterfall",
         "x": [
          0.119,
          -0.092,
          -0.123,
          0.006,
          -0.042,
          -0.025,
          -0.023,
          -0.026,
          -0.013,
          -0.01,
          -0.014,
          -0.012,
          -0.001,
          -0.004,
          0.001,
          -0.004,
          0.009,
          -0.002,
          -0.003,
          -0.001,
          -0.004,
          0,
          -0.002,
          -0.005,
          -0.005,
          0.003,
          -0.009,
          0.003,
          0,
          -0.003,
          0,
          0.033,
          -0.252
         ],
         "xaxis": "x",
         "y": [
          "intercept",
          "egfr_mdrd_scr_max = 82.0",
          "creatinine_max = 0.7",
          "creatinine_min = 0.6",
          "weight_max = 66.6",
          "platelets_max = 355.0",
          "pt_max = 12.2",
          "invasive_vent = 0.0",
          "dbp_min = 24.0",
          "egfr_epi_scr_max = 87.0",
          "platelets_min = 276.0",
          "hematocrit_min = 35.7",
          "sbp_mean = 125.7",
          "ptt_max = 22.5",
          "bmi = 37.42",
          "hemoglobin_min = 11.9",
          "myocardial_infarct = 1.0",
          "female = 1.0",
          "diabetes_type2 = 0.0",
          "temperature_min = 36.44",
          "bicarbonate_min = 25.0",
          "potassium_min = 3.7",
          "chloride_max = 106.0",
          "congestive_heart_failure = 0.0",
          "hemoglobin_max = 13.2",
          "pt_min:ptt_min = 11.8:21.4",
          "hematocrit_max = 40.0",
          "resp_rate_min = 8.0",
          "hypertension = 0.0",
          "wbc_bd_max = 14.6",
          "wbc_min:wbc_bd_min = 13.7:13.7",
          "+ all other factors",
          "prediction"
         ],
         "yaxis": "y"
        }
       ],
       "layout": {
        "annotations": [
         {
          "font": {
           "size": 16
          },
          "showarrow": false,
          "text": "LGBMClassifier",
          "x": 0.5,
          "xanchor": "center",
          "xref": "paper",
          "y": 1,
          "yanchor": "bottom",
          "yref": "paper"
         },
         {
          "font": {
           "size": 16
          },
          "showarrow": false,
          "text": "contribution",
          "x": 0.5,
          "xanchor": "center",
          "xref": "paper",
          "y": 0,
          "yanchor": "top",
          "yref": "paper",
          "yshift": -30
         }
        ],
        "font": {
         "color": "#371ea3"
        },
        "height": 813,
        "margin": {
         "b": 71,
         "r": 30,
         "t": 78
        },
        "shapes": [
         {
          "line": {
           "color": "#371ea3",
           "dash": "dot",
           "width": 1.5
          },
          "type": "line",
          "x0": 0.38,
          "x1": 0.38,
          "xref": "x",
          "y0": -1,
          "y1": 33,
          "yref": "y"
         }
        ],
        "template": {
         "data": {
          "scatter": [
           {
            "type": "scatter"
           }
          ]
         }
        },
        "title": {
         "text": "Break Down",
         "x": 0.15
        },
        "xaxis": {
         "anchor": "y",
         "automargin": true,
         "domain": [
          0,
          1
         ],
         "fixedrange": true,
         "gridwidth": 2,
         "range": [
          0,
          1
         ],
         "tickcolor": "white",
         "ticklen": 3,
         "ticks": "outside",
         "type": "linear",
         "zeroline": false
        },
        "yaxis": {
         "anchor": "x",
         "automargin": true,
         "autorange": "reversed",
         "domain": [
          0,
          1
         ],
         "fixedrange": true,
         "gridwidth": 2,
         "tickcolor": "white",
         "ticklen": 10,
         "ticks": "outside",
         "type": "category"
        }
       }
      }
     },
     "metadata": {},
     "output_type": "display_data"
    }
   ],
   "source": [
    "import random\n",
    "random.seed(42)\n",
    "rand_list = random.sample(range(0, df_TN.shape[0]), 10)\n",
    "\n",
    "\n",
    "import dalex as dx\n",
    "\n",
    "# error_df = {\"df_TN\":df_TN, \"df_FP\":df_FP, \"df_TP\":df_TP, \"df_FN\":df_FN}\n",
    "error_df = {\"df_TN\":df_TN}\n",
    "\n",
    "for k,df in error_df.items():\n",
    "    df_shap = df.drop(['y_pred','y_actual','error_category'], axis=1)\n",
    "\n",
    "    for row_number in rand_list:\n",
    "        print(\"Using DALEX on true negative instance with row number: \"+str(row_number))\n",
    "        exp.predict_parts(df_shap.iloc[[row_number]], N=100).plot(min_max=[0,1], max_vars=30, baseline=clf_threshold)"
   ]
  },
  {
   "cell_type": "markdown",
   "metadata": {},
   "source": [
    "## Global Dalex"
   ]
  },
  {
   "cell_type": "code",
   "execution_count": null,
   "metadata": {},
   "outputs": [],
   "source": [
    "#Merge the DataFrames\n",
    "# common_processed = processed2.copy()\n",
    "common_processed = processed.copy()\n",
    "common_FP = pd.merge(df_FP, common_processed, how='inner', left_index=True, right_index=True, suffixes=('', '_drop'))\n",
    "\n",
    "#Drop the duplicate columns\n",
    "common_FP.drop([col for col in common_FP.columns if 'drop' in col], axis=1, inplace=True)\n",
    "\n",
    "\n",
    "#Merge the DataFrames\n",
    "common_TN = pd.merge(df_TN, common_processed, how='inner', left_index=True, right_index=True, suffixes=('', '_drop'))\n",
    "\n",
    "#Drop the duplicate columns\n",
    "common_TN.drop([col for col in common_TN.columns if 'drop' in col], axis=1, inplace=True)\n",
    "\n",
    "#Merge the DataFrames\n",
    "common_TP = pd.merge(df_TP, common_processed, how='inner', left_index=True, right_index=True, suffixes=('', '_drop'))\n",
    "\n",
    "#Drop the duplicate columns\n",
    "common_TP.drop([col for col in common_TP.columns if 'drop' in col], axis=1, inplace=True)\n",
    "\n",
    "\n",
    "#Merge the DataFrames\n",
    "common_FN = pd.merge(df_FN, common_processed, how='inner', left_index=True, right_index=True, suffixes=('', '_drop'))\n",
    "\n",
    "#Drop the duplicate columns\n",
    "common_FN.drop([col for col in common_FN.columns if 'drop' in col], axis=1, inplace=True)\n",
    "\n",
    "\n",
    "#Merge the DataFrames\n",
    "common_test_all = pd.merge(df_test_all, common_processed, how='inner', left_index=True, right_index=True, suffixes=('', '_drop'))\n",
    "\n",
    "#Drop the duplicate columns\n",
    "common_test_all.drop([col for col in common_test_all.columns if 'drop' in col], axis=1, inplace=True)"
   ]
  },
  {
   "cell_type": "code",
   "execution_count": null,
   "metadata": {},
   "outputs": [],
   "source": [
    "common_FP.head(2)"
   ]
  },
  {
   "cell_type": "code",
   "execution_count": null,
   "metadata": {},
   "outputs": [],
   "source": [
    "common_FP.shape"
   ]
  },
  {
   "cell_type": "code",
   "execution_count": null,
   "metadata": {},
   "outputs": [],
   "source": [
    "import seaborn as sns\n",
    "sns.jointplot(x=\"egfr_epi_scr\", y=\"age\", data=common_FP, kind=\"hex\", joint_kws={'color':'#66ffcc'})\n",
    "plt.axvline(60, 0,10, linestyle='--', color = 'red', linewidth=1.5)\n",
    "plt.axvline(90, 0,10, linestyle='--', color = 'red', linewidth=1.5)\n"
   ]
  },
  {
   "cell_type": "code",
   "execution_count": null,
   "metadata": {},
   "outputs": [],
   "source": [
    "(common_FP[common_FP.egfr_epi_scr<60].shape[0])/(common_FP.shape[0])"
   ]
  },
  {
   "cell_type": "code",
   "execution_count": null,
   "metadata": {},
   "outputs": [],
   "source": [
    "(common_FP[common_FP.egfr_epi_scr<60].shape[0])/(processed.shape[0])"
   ]
  },
  {
   "cell_type": "code",
   "execution_count": null,
   "metadata": {},
   "outputs": [],
   "source": [
    "import seaborn as sns\n",
    "sns.jointplot(x=\"egfr_epi_scr\", y=\"age\", data=common_TN, kind=\"hex\", joint_kws={'color':\"#66ffcc\"})\n",
    "plt.axvline(60, 0,10, linestyle='--', color = 'red', linewidth=1.5)\n",
    "plt.axvline(90, 0,10, linestyle='--', color = 'red', linewidth=1.5)"
   ]
  },
  {
   "cell_type": "code",
   "execution_count": null,
   "metadata": {},
   "outputs": [],
   "source": [
    "(common_TN[common_TN.egfr_epi_scr<60].shape[0])/(common_TN.shape[0])"
   ]
  },
  {
   "cell_type": "code",
   "execution_count": null,
   "metadata": {},
   "outputs": [],
   "source": [
    "(common_FP[common_FP.egfr_epi_scr<60].shape[0])/(processed.shape[0])"
   ]
  },
  {
   "cell_type": "code",
   "execution_count": null,
   "metadata": {},
   "outputs": [],
   "source": [
    "import seaborn as sns\n",
    "sns.jointplot(x=\"egfr_epi_scr\", y=\"age\", data=common_TP, kind=\"hex\", joint_kws={'color':\"#66ffcc\"})\n",
    "plt.axvline(60, 0,10, linestyle='--', color = 'red', linewidth=1.5)\n",
    "plt.axvline(90, 0,10, linestyle='--', color = 'red', linewidth=1.5)"
   ]
  },
  {
   "cell_type": "code",
   "execution_count": null,
   "metadata": {},
   "outputs": [],
   "source": [
    "import seaborn as sns\n",
    "sns.jointplot(x=\"egfr_epi_scr\", y=\"age\", data=common_FN, kind=\"hex\", joint_kws={'color':\"#66ffcc\"})\n",
    "plt.axvline(60, 0,10, linestyle='--', color = 'red', linewidth=1.5)\n",
    "plt.axvline(90, 0,10, linestyle='--', color = 'red', linewidth=1.5)"
   ]
  },
  {
   "cell_type": "code",
   "execution_count": null,
   "metadata": {},
   "outputs": [],
   "source": [
    "import seaborn as sns\n",
    "sns.jointplot(x=\"egfr_epi_scr_max\", y=\"age\", data=common_FN, kind=\"hex\", joint_kws={'color':\"#ffe6ff\"})\n",
    "plt.axvline(60, 0,10, linestyle='--', color = 'red', linewidth=1.5)\n",
    "plt.axvline(90, 0,10, linestyle='--', color = 'red', linewidth=1.5)"
   ]
  },
  {
   "cell_type": "code",
   "execution_count": null,
   "metadata": {},
   "outputs": [],
   "source": [
    "import seaborn as sns\n",
    "sns.jointplot(x=\"egfr_epi_scr\", y=\"age\", data=common_FP, kind=\"hex\", joint_kws={'color':'#66ffcc'})\n",
    "plt.axvline(60, 0,10, linestyle='--', color = 'red', linewidth=1.5)\n",
    "plt.axvline(90, 0,10, linestyle='--', color = 'red', linewidth=1.5)\n"
   ]
  },
  {
   "cell_type": "code",
   "execution_count": null,
   "metadata": {},
   "outputs": [],
   "source": [
    "import seaborn as sns\n",
    "\n",
    "plt.rcParams[\"figure.figsize\"] = (10,6)\n",
    "plt.axvline(60, 0,10, linestyle='--', color = 'red', linewidth=1.5)\n",
    "sns.histplot(data=common_FP, x=common_FP.egfr_epi_scr, common_norm=False, bins=50, stat=\"percent\");\n",
    "plt.title(\"Kernel Density Function\");"
   ]
  },
  {
   "cell_type": "code",
   "execution_count": null,
   "metadata": {},
   "outputs": [],
   "source": [
    "import seaborn as sns\n",
    "\n",
    "plt.axvline(60, 0,10, linestyle='--', color = 'red', linewidth=1.5)\n",
    "plt.rcParams[\"figure.figsize\"] = (10,6)\n",
    "sns.histplot(data=common_FP, x=common_FP.egfr_epi_scr, hue='age', common_norm=False, bins=50, stat=\"percent\");\n",
    "plt.title(\"Kernel Density Function\");"
   ]
  },
  {
   "cell_type": "code",
   "execution_count": null,
   "metadata": {},
   "outputs": [],
   "source": [
    "# Creating bins\n",
    "x_min = np.min(common_FP.egfr_epi_scr)\n",
    "x_max = np.max(common_FP.egfr_epi_scr)\n",
    "  \n",
    "y_min = np.min(common_FP.age)\n",
    "y_max = np.max(common_FP.age)\n",
    "  \n",
    "x_bins = np.linspace(x_min, x_max, 50)\n",
    "y_bins = np.linspace(y_min, y_max, 20)\n",
    "\n",
    "fig, ax = plt.subplots(figsize =(10, 7))\n",
    "plt.hist2d(common_FP.egfr_epi_scr, common_FP.age, bins=[x_bins, y_bins])\n",
    "plt.axvline(90, 0,10, linestyle='--', color = 'blue', linewidth=1.5)\n",
    "plt.title(\"2D histogram of false positives\")\n",
    "ax.set_xlabel('minimum EGFR') \n",
    "ax.set_ylabel('Age') \n",
    "\n",
    "# show plot\n",
    "plt.tight_layout() \n",
    "plt.show()"
   ]
  },
  {
   "cell_type": "code",
   "execution_count": null,
   "metadata": {},
   "outputs": [],
   "source": [
    "# Creating bins\n",
    "x_min = np.min(common_FP.egfr_epi_scr)\n",
    "x_max = np.max(common_FP.egfr_epi_scr)\n",
    "  \n",
    "y_min = np.min(common_FP.age)\n",
    "y_max = np.max(common_FP.age)\n",
    "  \n",
    "x_bins = np.linspace(x_min, x_max, 50)\n",
    "y_bins = np.linspace(y_min, y_max, 20)\n",
    "\n",
    "fig, ax = plt.subplots(figsize =(10, 7))\n",
    "plt.hexbin(common_FP.egfr_epi_scr, common_FP.age, bins=50)\n",
    "plt.axvline(90, 0,10, linestyle='--', color = 'blue', linewidth=1.5)\n",
    "plt.title(\"2D histogram of false positives\")\n",
    "ax.set_xlabel('minimum EGFR') \n",
    "ax.set_ylabel('Age') \n",
    "\n",
    "# show plot\n",
    "plt.tight_layout() \n",
    "plt.show()"
   ]
  },
  {
   "cell_type": "code",
   "execution_count": null,
   "metadata": {},
   "outputs": [],
   "source": [
    "for i, col in enumerate(common_FP.columns):\n",
    "    plt.figure(i)\n",
    "    sns.histplot(data=common_FP, x=col, bins=50, stat='percent', common_norm=False);\n",
    "    plt.title(col);"
   ]
  },
  {
   "cell_type": "code",
   "execution_count": null,
   "metadata": {},
   "outputs": [],
   "source": [
    "df_test_all['error_category'] = 0 # create'error_category' column\n",
    "for i in df_test_all.index:\n",
    "     if df_test_all['y_actual'][i] == 0 and df_test_all['y_pred'][i] == 0: # True negative 0 \n",
    "          df_test_all['error_category'][i] = 0\n",
    "     if df_test_all['y_actual'][i] == 0 and df_test_all['y_pred'][i] == 1: # False positive 1\n",
    "          df_test_all['error_category'][i] = 1"
   ]
  },
  {
   "cell_type": "code",
   "execution_count": null,
   "metadata": {},
   "outputs": [],
   "source": [
    "# get data for True negative and  False positive and compare their distribution.\n",
    "# It plots the distribution and prints Jensen-Shanon distance.\n",
    "# from functions_compare_distribution import compare_hist_df\n",
    "from dfwiz import dfwiz, dfwiz_compare\n",
    "# healthy patients\n",
    "TN = df_test_all.query(\"error_category == 0\")[X_test.columns] # True negative\n",
    "FP = df_test_all.query(\"error_category == 1\")[X_test.columns] # False positive\n",
    "\n",
    "if len(TN) == 0 or len(FP) == 0:\n",
    "    print(\"Error! one of the dataframes are empty\")\n",
    "else:\n",
    "    # compare_hist_df(TN, FP) # plot distributions and output Jensen-Shanon distance.\n",
    "    dfwiz_compare(FP, TN,label=['FP', 'TN'])"
   ]
  },
  {
   "cell_type": "code",
   "execution_count": null,
   "metadata": {},
   "outputs": [],
   "source": [
    "for i, col in enumerate(df_test_all.columns):\n",
    "    plt.figure(i)\n",
    "    sns.kdeplot(data=df_test_all, x=col, hue='error_category', bins=50, stat='density', common_norm=False);\n",
    "    plt.title(col);"
   ]
  },
  {
   "cell_type": "code",
   "execution_count": null,
   "metadata": {},
   "outputs": [],
   "source": [
    "for i, col in enumerate(df_test_all.columns):\n",
    "    plt.figure(i)\n",
    "    sns.histplot(data=df_test_all, x=col, hue='error_category', common_norm=False, bins=50, stat=\"percent\");\n",
    "    plt.title(\"Kernel Density Function\");"
   ]
  },
  {
   "cell_type": "code",
   "execution_count": null,
   "metadata": {},
   "outputs": [],
   "source": [
    "sns.histplot(data=df_FP, x=df_FP.egfr_epi_scr, hue='age', common_norm=False, bins=50, stat=\"density\");\n",
    "plt.title(\"Kernel Density Function\");"
   ]
  },
  {
   "cell_type": "code",
   "execution_count": null,
   "metadata": {},
   "outputs": [],
   "source": [
    "for i, col in enumerate(df_test_all.columns):\n",
    "    plt.figure(i)\n",
    "    sns.histplot(data=df_test_all, x=col, hue='error_category', bins=len(df_test_all), stat='density', element=\"step\", fill=False, cumulative=True,common_norm=False);\n",
    "    plt.title(\"Cumulative distribution function\");"
   ]
  },
  {
   "cell_type": "markdown",
   "metadata": {},
   "source": [
    "## Decision Tree on validation set to differentiate between "
   ]
  },
  {
   "cell_type": "code",
   "execution_count": null,
   "metadata": {},
   "outputs": [],
   "source": [
    "# labeling the category of error\n",
    "del(df_test_all)\n",
    "\n",
    "\n",
    "# X_test_scaled_array = pipeline_final.named_steps['scaler'].transform(X_test)\n",
    "# X_test_scaled = pd.DataFrame(X_test_scaled_array, columns=X_test.columns)\n",
    "# X_test_imp_array = pipeline_final.named_steps['imputer'].transform(X_test_scaled)\n",
    "# df_test_all = pd.DataFrame(X_test_imp_array, columns=X_test.columns)\n",
    "\n",
    "\n",
    "X_test_imp_array = pipeline_final.named_steps['imputer'].transform(X_test)\n",
    "df_test_all = pd.DataFrame(X_test_imp_array, columns=X_test.columns)\n",
    "\n",
    "\n",
    "# df_test_all['y_actual'] = y_valid.values.ravel()\n",
    "df_test_all['y_actual'] = y_test.values.ravel()\n",
    "df_test_all['y_pred'] = y_pred\n",
    "\n",
    "pd.options.mode.chained_assignment = None  # To suppress a warning for commands below \n",
    "\n",
    "df_test_all['error_category'] = 0 # create'error_category' column\n",
    "for i in df_test_all.index:\n",
    "     if df_test_all['y_actual'][i] == 0 and df_test_all['y_pred'][i] == 0: # True negative 0 \n",
    "          df_test_all['error_category'][i] = 0\n",
    "     if df_test_all['y_actual'][i] == 0 and df_test_all['y_pred'][i] == 1: # False positive 1\n",
    "          df_test_all['error_category'][i] = 1\n",
    "     if df_test_all['y_actual'][i] == 1 and df_test_all['y_pred'][i] == 1: # True positive 2\n",
    "          df_test_all['error_category'][i] = 2\n",
    "     if df_test_all['y_actual'][i] == 1 and df_test_all['y_pred'][i] == 0: # False negative 3\n",
    "          df_test_all['error_category'][i] = 3"
   ]
  },
  {
   "cell_type": "code",
   "execution_count": null,
   "metadata": {},
   "outputs": [],
   "source": [
    "df_FP_TN = df_test_all.loc[(df_test_all['error_category'] == 0) | (df_test_all['error_category'] == 1)]\n",
    "df_FP_FN = df_test_all.loc[(df_test_all['error_category'] == 1) | (df_test_all['error_category'] == 3)]"
   ]
  },
  {
   "cell_type": "code",
   "execution_count": null,
   "metadata": {},
   "outputs": [],
   "source": [
    "df_FP_TN.error_category.value_counts()"
   ]
  },
  {
   "cell_type": "code",
   "execution_count": null,
   "metadata": {},
   "outputs": [],
   "source": [
    "df_FP_FN.error_category.value_counts()"
   ]
  },
  {
   "cell_type": "code",
   "execution_count": null,
   "metadata": {},
   "outputs": [],
   "source": [
    "# train a descision tree to predict the model error in negative cases ('True negative' vs 'False positive'). \n",
    "from sklearn import tree\n",
    "\n",
    "\n",
    "\n",
    "class_names = ['TN', 'FP']\n",
    "df1 = df_FP_TN.copy()\n",
    "X1 = df1[X_test.columns]\n",
    "X1\n",
    "y1 =  df1[['error_category']]\n",
    "clf = tree.DecisionTreeClassifier(max_depth = 5 , class_weight='balanced', random_state=42, criterion=\"gini\", min_impurity_decrease = 0.01)\n",
    "clf = clf.fit(X1, y1)\n",
    "\n",
    "# plot the tree\n",
    "plt.figure(figsize=(20,12))\n",
    "tree.plot_tree(clf,\n",
    "               feature_names = list(X1.columns), \n",
    "               rounded=True, \n",
    "               filled = True,\n",
    "               proportion = True,\n",
    "               class_names = class_names);\n"
   ]
  },
  {
   "cell_type": "code",
   "execution_count": null,
   "metadata": {},
   "outputs": [],
   "source": [
    "# train a descision tree to predict the model error in negative cases ('True negative' vs 'False positive'). \n",
    "from sklearn import tree\n",
    "\n",
    "\n",
    "\n",
    "class_names = ['FP', 'FN']\n",
    "df1 = df_FP_FN.copy()\n",
    "X1 = df1[X_test.columns]\n",
    "X1\n",
    "y1 =  df1[['error_category']]\n",
    "clf = tree.DecisionTreeClassifier(max_depth = 5 , class_weight='balanced', random_state=42, criterion=\"gini\", min_impurity_decrease = 0.01)\n",
    "clf = clf.fit(X1, y1)\n",
    "\n",
    "# plot the tree\n",
    "plt.figure(figsize=(20,12))\n",
    "tree.plot_tree(clf,\n",
    "               feature_names = list(X1.columns), \n",
    "               rounded=True, \n",
    "               filled = True,\n",
    "               proportion = True,\n",
    "               class_names = class_names);\n"
   ]
  },
  {
   "cell_type": "code",
   "execution_count": null,
   "metadata": {},
   "outputs": [],
   "source": [
    "X_train_new = X_train.loc[~(y_error_t==1)]\n",
    "y_train_new = y_train.loc[~(y_error_t==1)]\n",
    "\n",
    "X_valid_new = X_valid.loc[~(y_error_v==1)]\n",
    "y_valid_new = y_valid.loc[~(y_error_v==1)]"
   ]
  },
  {
   "cell_type": "code",
   "execution_count": null,
   "metadata": {},
   "outputs": [],
   "source": [
    "# X_train_new, y_train_new = up_sample(X_train_new, y_train_new,'outcome')\n",
    "X_train_new, y_train_new = up_sample(X_train, y_train,'outcome')"
   ]
  }
 ],
 "metadata": {
  "kernelspec": {
   "display_name": "Python 3.8 (XPython Raw)",
   "language": "python",
   "name": "xpython-raw"
  },
  "language_info": {
   "codemirror_mode": {
    "name": "ipython",
    "version": 3
   },
   "file_extension": ".py",
   "mimetype": "text/x-python",
   "name": "python",
   "nbconvert_exporter": "python",
   "pygments_lexer": "ipython3",
   "version": "3.8.8 (default, Apr 13 2021, 12:59:45) \n[Clang 10.0.0 ]"
  },
  "vscode": {
   "interpreter": {
    "hash": "e7ea45291871ad6e398ab50f9f84dad559e0de667f49db4aea6ebf0e175149ae"
   }
  }
 },
 "nbformat": 4,
 "nbformat_minor": 1
}
