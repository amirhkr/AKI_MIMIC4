{
 "cells": [
  {
   "cell_type": "markdown",
   "metadata": {},
   "source": [
    "# Random Forest"
   ]
  },
  {
   "cell_type": "code",
   "execution_count": 1,
   "metadata": {},
   "outputs": [],
   "source": [
    "%load_ext autoreload\n",
    "%autoreload 2"
   ]
  },
  {
   "cell_type": "code",
   "execution_count": 2,
   "metadata": {},
   "outputs": [],
   "source": [
    "import sys; sys.path.append('/Users/uqhkamel/PhD/Code/AKI_mimiciv/mimic-code-main/mimic-iv/src')\n",
    "import pandas as pd\n",
    "import matplotlib.pyplot as plt\n",
    "\n",
    "\n",
    "import numpy as np\n",
    "import sqlite3\n",
    "\n",
    "from sklearn.ensemble import RandomForestClassifier\n",
    "from sklearn.metrics import accuracy_score, confusion_matrix, classification_report, recall_score\n",
    "\n",
    "\n",
    "from pickle import dump\n",
    "from dfwiz import dfwiz\n",
    "from dfwiz import dfwiz_compare\n",
    "\n",
    "from sklearn.ensemble import RandomForestClassifier\n",
    "\n",
    "from skopt import BayesSearchCV\n",
    "from sklearn.model_selection import GridSearchCV\n",
    "\n",
    "from sklearn.model_selection import StratifiedKFold\n",
    "\n",
    "\n",
    "from sklearn.metrics import recall_score\n",
    "\n",
    "\n",
    "# from sklearn.pipeline import Pipeline\n",
    "\n",
    "\n",
    "from imblearn.pipeline import Pipeline\n",
    "from imblearn.over_sampling import SMOTE\n",
    "\n",
    "\n",
    "\n",
    "from sklearn.experimental import enable_iterative_imputer\n",
    "\n",
    "from sklearn.impute import IterativeImputer\n",
    "\n",
    "from sklearn.preprocessing import MinMaxScaler\n",
    "\n",
    "from sklearn.utils import resample\n",
    "\n",
    "import copy\n",
    "\n",
    "from sklearn import metrics\n",
    "\n",
    "\n",
    "from utils.vis import spy, look, plot_nunique, plot_dists\n",
    "from utils.processing import sort, impute, replace_inf, drop_empty, select, drop_by_nunique, scale, melt, unmelt, \\\n",
    "                             remove_outliers, get_categories, filter_categorical, onehot, filter_regex, match, cap,get_dates\n",
    "from utils.pipelines import scale_impute_via_pipeline"
   ]
  },
  {
   "cell_type": "code",
   "execution_count": 3,
   "metadata": {},
   "outputs": [],
   "source": [
    "import pandas as pd\n",
    "import psycopg2\n",
    "import matplotlib.pyplot as plt\n",
    "import torch\n",
    "import torch.nn as nn\n",
    "import torch.optim as optim\n",
    "from torch.utils.data import Dataset, DataLoader, random_split\n",
    "import torch.nn.functional as F\n",
    "import numpy as np\n",
    "pd.set_option(\"display.max_columns\", None)"
   ]
  },
  {
   "cell_type": "code",
   "execution_count": 4,
   "metadata": {},
   "outputs": [],
   "source": [
    "# global variables representing experiment parameters\n",
    "EXPERIMENT = 'Processing Demo'\n",
    "IMPUTE_NUM = 'constant'\n",
    "IMPUTE_CAT = 'other'\n",
    "FIGSIZE    = [12,3]\n",
    "\n",
    "# parameter dict\n",
    "params = {\n",
    "    'experiment':EXPERIMENT,\n",
    "    'figsize'   :FIGSIZE,\n",
    "    'impute_num':IMPUTE_NUM,\n",
    "    'impute_cat':IMPUTE_CAT,\n",
    "}"
   ]
  },
  {
   "cell_type": "code",
   "execution_count": 5,
   "metadata": {},
   "outputs": [],
   "source": [
    "\n",
    "import scipy as sp\n",
    "\n",
    "import statsmodels.api as sm\n",
    "import statsmodels.formula.api as smf\n",
    "\n",
    "from sklearn.tree import DecisionTreeRegressor, plot_tree\n",
    "from sklearn.ensemble import RandomForestRegressor\n",
    "from sklearn.model_selection import train_test_split \n",
    "\n",
    "import matplotlib as mpl\n",
    "import matplotlib.pyplot as plt\n",
    "import seaborn as sns\n",
    "\n",
    "# Remove warnings\n",
    "import warnings\n",
    "warnings.filterwarnings('ignore')\n",
    "\n",
    "# Plot settings\n",
    "plt.style.use('seaborn')\n",
    "sns.set_theme(style=\"ticks\")\n",
    "mpl.rcParams['figure.figsize'] = (10,6)\n",
    "\n",
    "# Title\n",
    "mpl.rcParams['figure.titlesize'] = 22\n",
    "mpl.rcParams['figure.titleweight'] = 'bold'\n",
    "mpl.rcParams['axes.titlesize'] = 22\n",
    "mpl.rcParams['axes.titleweight'] = 'bold'\n",
    "mpl.rcParams['axes.titlepad'] = 20\n",
    "\n",
    "# Axes labels\n",
    "mpl.rcParams['axes.labelsize'] = 16\n",
    "mpl.rcParams['axes.labelweight'] = 'bold'\n",
    "\n",
    "# Grid and thicks\n",
    "mpl.rcParams['axes.spines.right'] = False\n",
    "mpl.rcParams['axes.spines.left'] = False\n",
    "mpl.rcParams['axes.spines.top'] = False\n",
    "mpl.rcParams['axes.spines.right'] = False\n",
    "mpl.rcParams['axes.grid'] = True\n",
    "mpl.rcParams['axes.grid.axis'] = 'y'\n",
    "#mpl.rcParams['axes.xmargin'] = 0\n",
    "mpl.rcParams['ytick.left'] = False\n",
    "\n",
    "# Legend\n",
    "mpl.rcParams['legend.facecolor'] = 'w'\n",
    "mpl.rcParams['legend.title_fontsize'] = 14\n",
    "mpl.rcParams['legend.fontsize'] = 12\n",
    "mpl.rcParams['legend.frameon'] = True\n",
    "mpl.rcParams['legend.framealpha'] = 1\n",
    "mpl.rcParams['legend.fancybox'] = True\n",
    "mpl.rcParams['legend.facecolor'] = 'white'\n",
    "mpl.rcParams['legend.edgecolor'] = 'blue'\n",
    "mpl.rcParams['legend.borderpad'] = 0.6\n",
    "\n",
    "# Other\n",
    "mpl.rcParams['lines.linewidth'] = 2.5\n",
    "mpl.rcParams['lines.markersize'] = 10\n",
    "mpl.rcParams['scatter.edgecolors'] = None\n",
    "\n",
    "\n"
   ]
  },
  {
   "cell_type": "markdown",
   "metadata": {},
   "source": [
    "_________\n",
    "### upsampler func def"
   ]
  },
  {
   "cell_type": "code",
   "execution_count": 6,
   "metadata": {},
   "outputs": [],
   "source": [
    "from sklearn.base import BaseEstimator, TransformerMixin\n",
    "# from sklearn.pipeline import Pipeline\n",
    "from imblearn.pipeline import Pipeline\n",
    "\n",
    "class upsampler(BaseEstimator, TransformerMixin): \n",
    "    def __init__(self):\n",
    "        return None\n",
    "    \n",
    "    def fit(self, X, y = None):\n",
    "        return self\n",
    "    def transform(self, X, y = None):\n",
    "        return X\n",
    "\n",
    "    def sample(self, X, y = None):\n",
    "        X = np.array(X)\n",
    "        y = np.array(y)\n",
    "        if len(y[y == 0]) < len(y[y == 1]):\n",
    "            X1, y1 = resample(X[y[y == 0]], y[y == 0], random_state=0, n_samples=len(y[y == 1]))\n",
    "            X2, y2 = X[y[y == 1]], y[y == 1]\n",
    "        else:\n",
    "            print(X[y[y == 0]].shape)\n",
    "            X1, y1 = resample(X[y[y == 1]], y[y == 1], random_state=0, n_samples=len(y[y == 0]))\n",
    "            X2, y2 = X[y[y == 0]], y[y == 0]\n",
    "        X_out = np.vstack((X1, X2))\n",
    "        y_out = np.hstack((y1, y2))  \n",
    "\n",
    "        return X_out, y_out\n"
   ]
  },
  {
   "cell_type": "markdown",
   "metadata": {},
   "source": [
    "_________\n",
    "### accuracy func def"
   ]
  },
  {
   "cell_type": "code",
   "execution_count": 7,
   "metadata": {},
   "outputs": [],
   "source": [
    "def confusion_matrix_plot(y, y_pred, y_pred_proba):\n",
    "\n",
    "    fpr, tpr, _ = metrics.roc_curve(y,   y_pred_proba[::,1])\n",
    "    score = metrics.roc_auc_score(y,  y_pred_proba[::,1])\n",
    "\n",
    "    #create ROC curve\n",
    "    plt.plot(fpr,tpr,label=\"AUC=\"+str(round(score,2)))\n",
    "    plt.ylabel('True Positive Rate')\n",
    "    plt.xlabel('False Positive Rate')\n",
    "    plt.legend(loc=4)\n",
    "    plt.show()\n",
    "\n",
    "\n",
    "    cm = confusion_matrix(y, y_pred)\n",
    "    plt.figure(figsize=(7,7))\n",
    "    plt.clf()\n",
    "    plt.imshow(cm, interpolation='nearest', cmap=plt.cm.Wistia)\n",
    "    classNames = ['Negative','Positive']\n",
    "    plt.title('Confusion Matrix')\n",
    "    plt.ylabel('True label')\n",
    "    plt.xlabel('Predicted label')\n",
    "    tick_marks = np.arange(len(classNames))\n",
    "    plt.xticks(tick_marks, classNames, rotation=45)\n",
    "    plt.yticks(tick_marks, classNames)\n",
    "    s = [['TN','FP'], ['FN', 'TP']]\n",
    "    \n",
    "    for i in range(2):\n",
    "        for j in range(2):\n",
    "            plt.text(j,i, str(s[i][j])+\" = \"+str(cm[i][j]))\n",
    "    plt.show()\n",
    "    \n",
    "    accuracy = accuracy_score(y, y_pred)\n",
    "\n",
    "    # print(\"Accuracy: %.2f%%\" % (accuracy * 100.0))\n",
    "\n",
    "\n",
    "    cr = classification_report(y, y_pred)\n",
    "    print(\"\\r\\n\"+\"Classification report\"+\"\\r\\n\")\n",
    "    print(cr)\n",
    "\n",
    "    print(\"\\r\\n_________________________________________\")\n",
    "    tn, fp, fn, tp = confusion_matrix(y, y_pred).ravel()\n",
    "    specificity = tn / (tn+fp)\n",
    "    print(\"\\r\\n\"+\"Specificity\"+\"\\r\\n\")\n",
    "    print(round(specificity,2))\n",
    "\n",
    "    print(\"\\r\\n_________________________________________\")\n",
    "\n"
   ]
  },
  {
   "cell_type": "code",
   "execution_count": 8,
   "metadata": {},
   "outputs": [],
   "source": [
    "from sklearn.utils import resample\n",
    "\n",
    "def up_sample(X_train_raw, y_train_raw,col_name):\n",
    "\n",
    "    # upsampling X_train and y_train\n",
    "    df_upsampled = pd.merge(X_train_raw, y_train_raw, left_index=True, right_index=True)\n",
    "\n",
    "    X_minority = df_upsampled[df_upsampled[col_name]==1]\n",
    "    X_majority = df_upsampled[df_upsampled[col_name]!=1]\n",
    "\n",
    "    n_samples = X_majority.shape[0]\n",
    "    X_minority_upsampled = resample(X_minority,\n",
    "                                    replace=True,     # sample with replacement\n",
    "                                    n_samples=n_samples,    # to match majority class\n",
    "                                    random_state=42) # reproducible results\n",
    "\n",
    "    df_upsampled = pd.concat([X_majority, X_minority_upsampled]).sample(frac=1)\n",
    "\n",
    "    y_train_out = df_upsampled[[col_name]]\n",
    "    X_train_out = df_upsampled.drop([col_name], axis=1)\n",
    "\n",
    "    return X_train_out, y_train_out"
   ]
  },
  {
   "cell_type": "markdown",
   "metadata": {},
   "source": [
    "_________\n",
    "### define cross validation function"
   ]
  },
  {
   "cell_type": "code",
   "execution_count": 9,
   "metadata": {},
   "outputs": [],
   "source": [
    "from sklearn.model_selection import cross_val_score\n",
    "from sklearn.model_selection import train_test_split\n",
    "\n",
    "from sklearn.model_selection import StratifiedKFold\n",
    "\n",
    "\n",
    "\n",
    "def param_graph(X_train, y_train, pipe, param_grid, cv=5, max_iter = 5, sample_ratio = 0.2, refit=True, use_error=True, multi_class=False, average_metric='macro'):\n",
    "\n",
    "    print(\"This search selects lower indexes of search list if their score is within the error of maximum score.\")\n",
    "    print(\"Putting parameters for less complicated model on the left side of the grid lists leads to better generalisation. \")\n",
    "    print(\" \")\n",
    "\n",
    "    X_train = np.array(X_train)\n",
    "    y_train = np.array(y_train)\n",
    "\n",
    "    n_train = int(sample_ratio * len(y_train))\n",
    "    X_train_s, y_train_s  = resample(X_train, y_train, n_samples=n_train, stratify=y_train)\n",
    "\n",
    "    best_score = {}\n",
    "    best_params = {}\n",
    "    for k, v in param_grid.items():\n",
    "        # best_params[k] = v[int(len(v)/2)-1]\n",
    "        best_params[k] = v[0]\n",
    "    best_params_m1 = best_params.copy()\n",
    "    print(\"start_params:\", best_params)\n",
    "\n",
    "    score = {}\n",
    "    score_std = {}\n",
    "\n",
    "    for i_iter in range(max_iter):\n",
    "        print(\"_\"*100)\n",
    "        print(\"Iteration\", i_iter)\n",
    "\n",
    "        for k, v in param_grid.items():\n",
    "\n",
    "            best_params1 = best_params.copy()\n",
    "            del best_params1[k]  \n",
    "\n",
    "            score[k] = v.copy()\n",
    "            score_std[k] = v.copy()\n",
    "\n",
    "            for i_param, val_param in enumerate(v):\n",
    "                cv_sc = np.zeros(cv)\n",
    "\n",
    "                for i_cv in range(cv):\n",
    "\n",
    "                    X_train2, X_test2, y_train2, y_test2 = train_test_split(X_train_s, y_train_s, test_size=0.2, stratify=y_train_s, shuffle=True) # 80% training and 20% test\n",
    "\n",
    "                    p1 = copy.deepcopy(pipe)\n",
    "                    p1.set_params(**best_params1)\n",
    "                    params2 = {k:val_param}\n",
    "                    p1.set_params(**params2)\n",
    "\n",
    "                    p1.fit(X_train2, y_train2.ravel())\n",
    "                    # X,y = p1.named_steps['resample'].fit_resample(X_test2, y_test2)\n",
    "                    X,y = X_test2, y_test2\n",
    "                    # y_pred_proba = p1.predict_proba(X)\n",
    "                    # cv_sc[i_cv] = metrics.roc_auc_score(y,  y_pred_proba[::,1])\n",
    "                    y_pred = p1.predict(X)\n",
    "                    if(multi_class):\n",
    "                        cv_sc[i_cv] = metrics.f1_score(y, y_pred, average=average_metric)\n",
    "                    else:\n",
    "                        cv_sc[i_cv] = metrics.f1_score(y, y_pred)\n",
    "\n",
    "                    i_cv = i_cv + 1\n",
    "\n",
    "                score[k][i_param] = cv_sc.mean()\n",
    "                score_std[k][i_param] = cv_sc.std()\n",
    "\n",
    "            print(\"\")\n",
    "            print(k)\n",
    "            print(v)\n",
    "            print(score[k])\n",
    "\n",
    "            best_params[k] = v[np.argmax(score[k])]\n",
    "            best_score[k] = score[k][np.argmax(score[k])]\n",
    "\n",
    "            if use_error:\n",
    "                for i_b in  range(np.argmax(score[k]),-1,-1):\n",
    "                    err1 = (score_std[k][i_b] + score_std[k][v.index(best_params[k])] ) / 4\n",
    "                    # print(\"err1\")\n",
    "                    max_del = max(score[k]) - err1\n",
    "                    # print( i_b, score[k][i_b], max(score[k]), err1, max_del )\n",
    "                    if score[k][i_b] >= max_del:\n",
    "                        best_params[k] = v[i_b]\n",
    "                        best_score[k] = score[k][i_b]\n",
    "\n",
    "            print(\"best_param:\",  v[np.argmax(score[k])], \"score:\", max(score[k]))\n",
    "            print(\"selected_param:\",  best_params[k], \"score:\", best_score[k])\n",
    "            \n",
    "\n",
    "        \n",
    "        print(\"\")\n",
    "        print(\"best_params =\", best_params)\n",
    "        print(\"\")\n",
    "        if best_params_m1 == best_params:\n",
    "            print(\"\")\n",
    "            print(\"\")\n",
    "            print(\"Early stop. No improvement in the last iteration.\")\n",
    "            break\n",
    "        best_params_m1 = best_params.copy()\n",
    "\n",
    "    param_graph_plot(score)\n",
    "\n",
    "    if refit:\n",
    "        print(\"Refitting final model...\")\n",
    "        pipeline_final = copy.deepcopy(pipe)\n",
    "        pipeline_final.set_params(**best_params)\n",
    "        pipeline_final.fit(X_train, y_train.values.ravel())\n",
    "    else:\n",
    "        pipeline_final = None\n",
    "\n",
    "    return score, best_params, pipeline_final\n",
    "    \n",
    "\n",
    "def param_graph_plot(score):\n",
    "    ax = {}\n",
    "    fig = {}\n",
    "    for i, (k, v) in enumerate(score.items()):\n",
    "        fig[k], ax[k] = plt.subplots()\n",
    "\n",
    "    for k, v in score.items():\n",
    "        x = score[k]\n",
    "        y = v\n",
    "        ax[k].plot(x,y,\"-o\", label=\"Score\")\n",
    "        # ax[k].set_ylim([0.5, 1])\n",
    "        ax[k].set_title(k)\n",
    "        ax[k].legend()"
   ]
  },
  {
   "cell_type": "markdown",
   "metadata": {},
   "source": [
    "________\n",
    "### Define upsampler"
   ]
  },
  {
   "cell_type": "code",
   "execution_count": 10,
   "metadata": {},
   "outputs": [],
   "source": [
    "\n",
    "from sklearn.base import BaseEstimator, TransformerMixin\n",
    "# from sklearn.pipeline import Pipeline\n",
    "from imblearn.pipeline import Pipeline\n",
    "from sklearn.utils import resample\n",
    "\n",
    "\n",
    "class upsampler(BaseEstimator): \n",
    "    def __init__(self):\n",
    "        return None\n",
    "\n",
    "    def fit_resample(self, X, y = None):\n",
    "        X = np.array(X)\n",
    "        y = np.array(y).ravel()\n",
    "        if len(y[y == 0]) < len(y[y == 1]):\n",
    "            X1, y1 = resample(X[y == 0], y[y == 0], random_state=0, n_samples=len(y[y == 1]))\n",
    "            X2, y2 = X[y == 1], y[y == 1]\n",
    "        else:\n",
    "            X1, y1 = resample(X[y == 1], y[y == 1], random_state=0, n_samples=len(y[y == 0]))\n",
    "            X2, y2 = X[y == 0], y[y == 0]\n",
    "        X_out = np.vstack((X1, X2))\n",
    "        y_out = np.hstack((y1, y2))  \n",
    "        return X_out, y_out"
   ]
  },
  {
   "cell_type": "markdown",
   "metadata": {},
   "source": [
    "________\n",
    "### Load data and select index"
   ]
  },
  {
   "cell_type": "code",
   "execution_count": 11,
   "metadata": {},
   "outputs": [],
   "source": [
    "# get table from database\n",
    "# database = \"data.sqlite\"\n",
    "# con = sqlite3.connect(database)\n",
    "\n",
    "# X_train = pd.read_sql_query(\"SELECT * from X_train\", con)\n",
    "# y_train = pd.read_sql_query(\"SELECT * from y_train\", con)\n",
    "# # select index\n",
    "# index_c = ['USUBJID'] # empty list for no index\n",
    "# X_train = X_train.set_index(index_c)\n",
    "# y_train = y_train.set_index(index_c)\n",
    "\n",
    "# X_train1 = X_train[~X_train.scr_umol_l.isna()]\n",
    "# y_train1 = y_train[~X_train.scr_umol_l.isna()]\n",
    "\n",
    "# X_test = pd.read_sql_query(\"SELECT * from X_test\", con)\n",
    "# y_test = pd.read_sql_query(\"SELECT * from y_test\", con)\n",
    "# # select index\n",
    "# index_c = ['USUBJID'] # empty list for no index\n",
    "# X_test = X_test.set_index(index_c)\n",
    "# y_test = y_test.set_index(index_c)\n",
    "\n",
    "# y_test = y_test[~X_test.scr_umol_l.isna()]\n",
    "# X_test = X_test[~X_test.scr_umol_l.isna()]\n",
    "\n",
    "\n",
    "# X_train, y_train  = resample(X_train, y_train, n_samples=5000, stratify=y_train)\n",
    "# X_test, y_test  = resample(X_test, y_test, n_samples=1000, stratify=y_test)\n",
    "\n",
    "\n",
    "\n"
   ]
  },
  {
   "cell_type": "code",
   "execution_count": 12,
   "metadata": {},
   "outputs": [],
   "source": [
    "# create a database connection\n",
    "sqluser = 'uqhkamel'\n",
    "dbname = 'mimiciv'\n",
    "schema_name = 'mimic_derived'"
   ]
  },
  {
   "cell_type": "code",
   "execution_count": 13,
   "metadata": {},
   "outputs": [],
   "source": [
    "# Connect to local postgres version of mimic\n",
    "con = psycopg2.connect(dbname=dbname, user=sqluser)\n",
    "cur = con.cursor()\n",
    "cur.execute('SET search_path to {}'.format(schema_name))"
   ]
  },
  {
   "cell_type": "code",
   "execution_count": 14,
   "metadata": {},
   "outputs": [],
   "source": [
    "# query = \"select * from all_scr_preadmission_75_JOIN\"\n",
    "# data = pd.read_sql_query(query,con,index_col=['stay_id','subject_id','hadm_id'])\n",
    "query = \"select * from all_scr_preadmission_75_min_mdrd_1_180days_JOIN\"\n",
    "data = pd.read_sql_query(query,con,index_col=['stay_id','subject_id'])\n",
    "data.drop('hadm_id', inplace=True, axis=1)"
   ]
  },
  {
   "cell_type": "code",
   "execution_count": 15,
   "metadata": {},
   "outputs": [],
   "source": [
    "data['ethnicity'] = data['ethnicity'].replace(['OTHER'],np.nan)\n",
    "data['ethnicity'] = data['ethnicity'].replace(['UNKNOWN'],np.nan)\n",
    "data['ethnicity'] = data['ethnicity'].replace(['UNABLE TO OBTAIN'],np.nan)\n",
    "data['ethnicity'] = data['ethnicity'].replace(['UNABLE TO OBTAIN'],np.nan)\n",
    "data['ethnicity'] = data['ethnicity'].replace(['AMERICAN INDIAN/ALASKA NATIVE'],np.nan)\n",
    "\n",
    "data = data.fillna(value=np.nan)\n"
   ]
  },
  {
   "cell_type": "code",
   "execution_count": 16,
   "metadata": {},
   "outputs": [],
   "source": [
    "# aki_kdigo = ['aki_kdigo_grade_1','aki_kdigo_grade_2','aki_kdigo_grade_3']\n",
    "\n",
    "# outcome_var = ['day_detection_kdigo_grade_1','day_detection_kdigo_grade_2','day_detection_kdigo_grade_3']\n",
    "\n",
    "# outcome_var.append('min_day_rrt_present')\n",
    "\n",
    "\n",
    "# first_24h = 1\n",
    "# data= data[data[outcome_var].min(axis=1)>first_24h]"
   ]
  },
  {
   "cell_type": "code",
   "execution_count": 17,
   "metadata": {},
   "outputs": [
    {
     "data": {
      "text/plain": [
       "(46300, 110)"
      ]
     },
     "execution_count": 17,
     "metadata": {},
     "output_type": "execute_result"
    }
   ],
   "source": [
    "data.shape"
   ]
  },
  {
   "cell_type": "code",
   "execution_count": 18,
   "metadata": {},
   "outputs": [
    {
     "data": {
      "text/plain": [
       "(1376, 110)"
      ]
     },
     "execution_count": 18,
     "metadata": {},
     "output_type": "execute_result"
    }
   ],
   "source": [
    "data[data['min_day_rrt_present']<=1].shape"
   ]
  },
  {
   "cell_type": "code",
   "execution_count": 19,
   "metadata": {},
   "outputs": [],
   "source": [
    "outcome_var = []\n",
    "outcome_var.append('min_day_rrt_present')\n",
    "\n",
    "\n",
    "first_24h = 1\n",
    "data= data[data[outcome_var].min(axis=1)>first_24h]"
   ]
  },
  {
   "cell_type": "code",
   "execution_count": 20,
   "metadata": {},
   "outputs": [
    {
     "data": {
      "text/plain": [
       "(7354, 110)"
      ]
     },
     "execution_count": 20,
     "metadata": {},
     "output_type": "execute_result"
    }
   ],
   "source": [
    "data[data['ckd']==1].shape"
   ]
  },
  {
   "cell_type": "code",
   "execution_count": 21,
   "metadata": {},
   "outputs": [],
   "source": [
    "data = data[data['ckd']==0]"
   ]
  },
  {
   "cell_type": "code",
   "execution_count": 22,
   "metadata": {},
   "outputs": [
    {
     "data": {
      "text/plain": [
       "(127, 110)"
      ]
     },
     "execution_count": 22,
     "metadata": {},
     "output_type": "execute_result"
    }
   ],
   "source": [
    "data[data['kidney_transplant']==1].shape"
   ]
  },
  {
   "cell_type": "code",
   "execution_count": 23,
   "metadata": {},
   "outputs": [],
   "source": [
    "data = data[data['kidney_transplant']==0]"
   ]
  },
  {
   "cell_type": "code",
   "execution_count": 24,
   "metadata": {},
   "outputs": [],
   "source": [
    "# data = data[data['egfr_mdrd_scr']>60]"
   ]
  },
  {
   "cell_type": "code",
   "execution_count": 25,
   "metadata": {},
   "outputs": [],
   "source": [
    "# data[data.egfr_mdrd_scr<60].shape"
   ]
  },
  {
   "cell_type": "code",
   "execution_count": 26,
   "metadata": {},
   "outputs": [
    {
     "data": {
      "text/html": [
       "<div>\n",
       "<style scoped>\n",
       "    .dataframe tbody tr th:only-of-type {\n",
       "        vertical-align: middle;\n",
       "    }\n",
       "\n",
       "    .dataframe tbody tr th {\n",
       "        vertical-align: top;\n",
       "    }\n",
       "\n",
       "    .dataframe thead th {\n",
       "        text-align: right;\n",
       "    }\n",
       "</style>\n",
       "<table border=\"1\" class=\"dataframe\">\n",
       "  <thead>\n",
       "    <tr style=\"text-align: right;\">\n",
       "      <th></th>\n",
       "      <th></th>\n",
       "      <th>aki_kdigo_grade_1</th>\n",
       "      <th>aki_kdigo_grade_2</th>\n",
       "      <th>aki_kdigo_grade_3</th>\n",
       "      <th>day_detection_kdigo_grade_1</th>\n",
       "      <th>day_detection_kdigo_grade_2</th>\n",
       "      <th>day_detection_kdigo_grade_3</th>\n",
       "      <th>aki_mkdigo_grade_1</th>\n",
       "      <th>aki_mkdigo_grade_2</th>\n",
       "      <th>aki_mkdigo_grade_3</th>\n",
       "      <th>day_detection_mkdigo_grade_1</th>\n",
       "      <th>day_detection_mkdigo_grade_2</th>\n",
       "      <th>day_detection_mkdigo_grade_3</th>\n",
       "      <th>age</th>\n",
       "      <th>female</th>\n",
       "      <th>ethnicity</th>\n",
       "      <th>ckd</th>\n",
       "      <th>is_mdrd</th>\n",
       "      <th>egfr_epi_scr</th>\n",
       "      <th>egfr_mdrd_scr</th>\n",
       "      <th>kidney_transplant</th>\n",
       "      <th>congestive_heart_failure</th>\n",
       "      <th>diabetes_type2</th>\n",
       "      <th>chronic_kidney_disease</th>\n",
       "      <th>hypertension</th>\n",
       "      <th>obesity_icd</th>\n",
       "      <th>peripheral_vascular_disease</th>\n",
       "      <th>chronic_liver_disease</th>\n",
       "      <th>mild_liver_disease</th>\n",
       "      <th>severe_liver_disease</th>\n",
       "      <th>myocardial_infarct</th>\n",
       "      <th>chronic_pulmonary_disease</th>\n",
       "      <th>chronic_heart_failure</th>\n",
       "      <th>sepsis</th>\n",
       "      <th>hematocrit_min</th>\n",
       "      <th>hematocrit_max</th>\n",
       "      <th>hemoglobin_min</th>\n",
       "      <th>hemoglobin_max</th>\n",
       "      <th>platelets_min</th>\n",
       "      <th>platelets_max</th>\n",
       "      <th>wbc_min</th>\n",
       "      <th>wbc_max</th>\n",
       "      <th>wbc_bd_min</th>\n",
       "      <th>wbc_bd_max</th>\n",
       "      <th>albumin_min</th>\n",
       "      <th>albumin_max</th>\n",
       "      <th>globulin_min</th>\n",
       "      <th>globulin_max</th>\n",
       "      <th>total_protein_min</th>\n",
       "      <th>total_protein_max</th>\n",
       "      <th>aniongap_min</th>\n",
       "      <th>aniongap_max</th>\n",
       "      <th>bicarbonate_min</th>\n",
       "      <th>bicarbonate_max</th>\n",
       "      <th>bun_min</th>\n",
       "      <th>bun_max</th>\n",
       "      <th>calcium_min</th>\n",
       "      <th>calcium_max</th>\n",
       "      <th>chloride_min</th>\n",
       "      <th>chloride_max</th>\n",
       "      <th>creatinine_min</th>\n",
       "      <th>creatinine_max</th>\n",
       "      <th>glucose_min</th>\n",
       "      <th>glucose_max</th>\n",
       "      <th>sodium_min</th>\n",
       "      <th>sodium_max</th>\n",
       "      <th>potassium_min</th>\n",
       "      <th>potassium_max</th>\n",
       "      <th>pt_min</th>\n",
       "      <th>pt_max</th>\n",
       "      <th>thrombin_min</th>\n",
       "      <th>thrombin_max</th>\n",
       "      <th>ptt_min</th>\n",
       "      <th>ptt_max</th>\n",
       "      <th>inr_min</th>\n",
       "      <th>inr_max</th>\n",
       "      <th>bilirubin_total_min</th>\n",
       "      <th>bilirubin_total_max</th>\n",
       "      <th>egfr_epi_scr_max</th>\n",
       "      <th>egfr_mdrd_scr_max</th>\n",
       "      <th>heart_rate_min</th>\n",
       "      <th>heart_rate_max</th>\n",
       "      <th>heart_rate_mean</th>\n",
       "      <th>sbp_min</th>\n",
       "      <th>sbp_max</th>\n",
       "      <th>sbp_mean</th>\n",
       "      <th>dbp_min</th>\n",
       "      <th>dbp_max</th>\n",
       "      <th>dbp_mean</th>\n",
       "      <th>resp_rate_min</th>\n",
       "      <th>resp_rate_max</th>\n",
       "      <th>resp_rate_mean</th>\n",
       "      <th>temperature_min</th>\n",
       "      <th>temperature_max</th>\n",
       "      <th>temperature_mean</th>\n",
       "      <th>spo2_min</th>\n",
       "      <th>spo2_max</th>\n",
       "      <th>arbs_acei</th>\n",
       "      <th>cyclosporine</th>\n",
       "      <th>bmi</th>\n",
       "      <th>urineoutput_24hr</th>\n",
       "      <th>supplemental_oxygen</th>\n",
       "      <th>invasive_vent</th>\n",
       "      <th>hfnc</th>\n",
       "      <th>non_invasive_vent</th>\n",
       "      <th>tracheostomy</th>\n",
       "      <th>min_day_rrt_present</th>\n",
       "      <th>min_day_rrt_active</th>\n",
       "      <th>weight_admit</th>\n",
       "      <th>weight_min</th>\n",
       "      <th>weight_max</th>\n",
       "    </tr>\n",
       "    <tr>\n",
       "      <th>stay_id</th>\n",
       "      <th>subject_id</th>\n",
       "      <th></th>\n",
       "      <th></th>\n",
       "      <th></th>\n",
       "      <th></th>\n",
       "      <th></th>\n",
       "      <th></th>\n",
       "      <th></th>\n",
       "      <th></th>\n",
       "      <th></th>\n",
       "      <th></th>\n",
       "      <th></th>\n",
       "      <th></th>\n",
       "      <th></th>\n",
       "      <th></th>\n",
       "      <th></th>\n",
       "      <th></th>\n",
       "      <th></th>\n",
       "      <th></th>\n",
       "      <th></th>\n",
       "      <th></th>\n",
       "      <th></th>\n",
       "      <th></th>\n",
       "      <th></th>\n",
       "      <th></th>\n",
       "      <th></th>\n",
       "      <th></th>\n",
       "      <th></th>\n",
       "      <th></th>\n",
       "      <th></th>\n",
       "      <th></th>\n",
       "      <th></th>\n",
       "      <th></th>\n",
       "      <th></th>\n",
       "      <th></th>\n",
       "      <th></th>\n",
       "      <th></th>\n",
       "      <th></th>\n",
       "      <th></th>\n",
       "      <th></th>\n",
       "      <th></th>\n",
       "      <th></th>\n",
       "      <th></th>\n",
       "      <th></th>\n",
       "      <th></th>\n",
       "      <th></th>\n",
       "      <th></th>\n",
       "      <th></th>\n",
       "      <th></th>\n",
       "      <th></th>\n",
       "      <th></th>\n",
       "      <th></th>\n",
       "      <th></th>\n",
       "      <th></th>\n",
       "      <th></th>\n",
       "      <th></th>\n",
       "      <th></th>\n",
       "      <th></th>\n",
       "      <th></th>\n",
       "      <th></th>\n",
       "      <th></th>\n",
       "      <th></th>\n",
       "      <th></th>\n",
       "      <th></th>\n",
       "      <th></th>\n",
       "      <th></th>\n",
       "      <th></th>\n",
       "      <th></th>\n",
       "      <th></th>\n",
       "      <th></th>\n",
       "      <th></th>\n",
       "      <th></th>\n",
       "      <th></th>\n",
       "      <th></th>\n",
       "      <th></th>\n",
       "      <th></th>\n",
       "      <th></th>\n",
       "      <th></th>\n",
       "      <th></th>\n",
       "      <th></th>\n",
       "      <th></th>\n",
       "      <th></th>\n",
       "      <th></th>\n",
       "      <th></th>\n",
       "      <th></th>\n",
       "      <th></th>\n",
       "      <th></th>\n",
       "      <th></th>\n",
       "      <th></th>\n",
       "      <th></th>\n",
       "      <th></th>\n",
       "      <th></th>\n",
       "      <th></th>\n",
       "      <th></th>\n",
       "      <th></th>\n",
       "      <th></th>\n",
       "      <th></th>\n",
       "      <th></th>\n",
       "      <th></th>\n",
       "      <th></th>\n",
       "      <th></th>\n",
       "      <th></th>\n",
       "      <th></th>\n",
       "      <th></th>\n",
       "      <th></th>\n",
       "      <th></th>\n",
       "      <th></th>\n",
       "      <th></th>\n",
       "      <th></th>\n",
       "      <th></th>\n",
       "      <th></th>\n",
       "    </tr>\n",
       "  </thead>\n",
       "  <tbody>\n",
       "    <tr>\n",
       "      <th>30004627</th>\n",
       "      <th>12844527</th>\n",
       "      <td>0</td>\n",
       "      <td>0</td>\n",
       "      <td>0</td>\n",
       "      <td>9999999.0</td>\n",
       "      <td>9999999.0</td>\n",
       "      <td>9999999.0</td>\n",
       "      <td>0</td>\n",
       "      <td>0</td>\n",
       "      <td>0</td>\n",
       "      <td>9999999.0</td>\n",
       "      <td>9999999.0</td>\n",
       "      <td>9999999.0</td>\n",
       "      <td>63.0</td>\n",
       "      <td>0</td>\n",
       "      <td>BLACK/AFRICAN AMERICAN</td>\n",
       "      <td>0</td>\n",
       "      <td>1</td>\n",
       "      <td>64.0</td>\n",
       "      <td>61.0</td>\n",
       "      <td>0</td>\n",
       "      <td>0</td>\n",
       "      <td>0</td>\n",
       "      <td>0</td>\n",
       "      <td>0</td>\n",
       "      <td>0</td>\n",
       "      <td>0</td>\n",
       "      <td>0</td>\n",
       "      <td>0</td>\n",
       "      <td>0</td>\n",
       "      <td>0</td>\n",
       "      <td>0</td>\n",
       "      <td>0</td>\n",
       "      <td>0</td>\n",
       "      <td>30.2</td>\n",
       "      <td>33.5</td>\n",
       "      <td>10.2</td>\n",
       "      <td>11.3</td>\n",
       "      <td>171.0</td>\n",
       "      <td>205.0</td>\n",
       "      <td>7.8</td>\n",
       "      <td>10.7</td>\n",
       "      <td>7.8</td>\n",
       "      <td>10.7</td>\n",
       "      <td>NaN</td>\n",
       "      <td>NaN</td>\n",
       "      <td>NaN</td>\n",
       "      <td>NaN</td>\n",
       "      <td>NaN</td>\n",
       "      <td>NaN</td>\n",
       "      <td>12.0</td>\n",
       "      <td>13.0</td>\n",
       "      <td>23.0</td>\n",
       "      <td>24.0</td>\n",
       "      <td>29.0</td>\n",
       "      <td>29.0</td>\n",
       "      <td>8.2</td>\n",
       "      <td>8.8</td>\n",
       "      <td>106.0</td>\n",
       "      <td>107.0</td>\n",
       "      <td>1.0</td>\n",
       "      <td>1.2</td>\n",
       "      <td>135.0</td>\n",
       "      <td>148.0</td>\n",
       "      <td>138.0</td>\n",
       "      <td>139.0</td>\n",
       "      <td>4.1</td>\n",
       "      <td>4.1</td>\n",
       "      <td>13.0</td>\n",
       "      <td>13.0</td>\n",
       "      <td>NaN</td>\n",
       "      <td>NaN</td>\n",
       "      <td>28.1</td>\n",
       "      <td>28.1</td>\n",
       "      <td>1.2</td>\n",
       "      <td>1.2</td>\n",
       "      <td>NaN</td>\n",
       "      <td>NaN</td>\n",
       "      <td>64.0</td>\n",
       "      <td>61.0</td>\n",
       "      <td>55.0</td>\n",
       "      <td>81.0</td>\n",
       "      <td>71.000000</td>\n",
       "      <td>109.0</td>\n",
       "      <td>156.0</td>\n",
       "      <td>132.766667</td>\n",
       "      <td>43.0</td>\n",
       "      <td>83.0</td>\n",
       "      <td>66.900000</td>\n",
       "      <td>8.0</td>\n",
       "      <td>21.0</td>\n",
       "      <td>15.586207</td>\n",
       "      <td>36.28</td>\n",
       "      <td>36.94</td>\n",
       "      <td>36.665714</td>\n",
       "      <td>95.0</td>\n",
       "      <td>100.0</td>\n",
       "      <td>0</td>\n",
       "      <td>0</td>\n",
       "      <td>NaN</td>\n",
       "      <td>60.0</td>\n",
       "      <td>0</td>\n",
       "      <td>1</td>\n",
       "      <td>0</td>\n",
       "      <td>0</td>\n",
       "      <td>0</td>\n",
       "      <td>99999999.0</td>\n",
       "      <td>99999999.0</td>\n",
       "      <td>81.0</td>\n",
       "      <td>81.0</td>\n",
       "      <td>81.0</td>\n",
       "    </tr>\n",
       "    <tr>\n",
       "      <th>30011241</th>\n",
       "      <th>14731650</th>\n",
       "      <td>0</td>\n",
       "      <td>0</td>\n",
       "      <td>0</td>\n",
       "      <td>9999999.0</td>\n",
       "      <td>9999999.0</td>\n",
       "      <td>9999999.0</td>\n",
       "      <td>0</td>\n",
       "      <td>0</td>\n",
       "      <td>0</td>\n",
       "      <td>9999999.0</td>\n",
       "      <td>9999999.0</td>\n",
       "      <td>9999999.0</td>\n",
       "      <td>82.0</td>\n",
       "      <td>1</td>\n",
       "      <td>NaN</td>\n",
       "      <td>0</td>\n",
       "      <td>1</td>\n",
       "      <td>52.0</td>\n",
       "      <td>53.0</td>\n",
       "      <td>0</td>\n",
       "      <td>0</td>\n",
       "      <td>0</td>\n",
       "      <td>0</td>\n",
       "      <td>1</td>\n",
       "      <td>0</td>\n",
       "      <td>0</td>\n",
       "      <td>0</td>\n",
       "      <td>0</td>\n",
       "      <td>0</td>\n",
       "      <td>1</td>\n",
       "      <td>1</td>\n",
       "      <td>0</td>\n",
       "      <td>0</td>\n",
       "      <td>25.7</td>\n",
       "      <td>26.4</td>\n",
       "      <td>8.0</td>\n",
       "      <td>8.4</td>\n",
       "      <td>144.0</td>\n",
       "      <td>157.0</td>\n",
       "      <td>11.7</td>\n",
       "      <td>17.0</td>\n",
       "      <td>11.7</td>\n",
       "      <td>17.0</td>\n",
       "      <td>2.4</td>\n",
       "      <td>2.4</td>\n",
       "      <td>NaN</td>\n",
       "      <td>NaN</td>\n",
       "      <td>NaN</td>\n",
       "      <td>NaN</td>\n",
       "      <td>10.0</td>\n",
       "      <td>11.0</td>\n",
       "      <td>25.0</td>\n",
       "      <td>27.0</td>\n",
       "      <td>17.0</td>\n",
       "      <td>19.0</td>\n",
       "      <td>7.8</td>\n",
       "      <td>7.8</td>\n",
       "      <td>105.0</td>\n",
       "      <td>106.0</td>\n",
       "      <td>0.8</td>\n",
       "      <td>1.0</td>\n",
       "      <td>103.0</td>\n",
       "      <td>124.0</td>\n",
       "      <td>138.0</td>\n",
       "      <td>139.0</td>\n",
       "      <td>3.4</td>\n",
       "      <td>3.5</td>\n",
       "      <td>10.9</td>\n",
       "      <td>12.8</td>\n",
       "      <td>NaN</td>\n",
       "      <td>NaN</td>\n",
       "      <td>27.3</td>\n",
       "      <td>27.7</td>\n",
       "      <td>1.0</td>\n",
       "      <td>1.2</td>\n",
       "      <td>0.5</td>\n",
       "      <td>0.6</td>\n",
       "      <td>52.0</td>\n",
       "      <td>53.0</td>\n",
       "      <td>52.0</td>\n",
       "      <td>91.0</td>\n",
       "      <td>71.240000</td>\n",
       "      <td>101.0</td>\n",
       "      <td>147.0</td>\n",
       "      <td>119.360000</td>\n",
       "      <td>38.0</td>\n",
       "      <td>63.0</td>\n",
       "      <td>47.600000</td>\n",
       "      <td>9.0</td>\n",
       "      <td>22.0</td>\n",
       "      <td>14.888889</td>\n",
       "      <td>36.11</td>\n",
       "      <td>37.06</td>\n",
       "      <td>36.565000</td>\n",
       "      <td>94.0</td>\n",
       "      <td>100.0</td>\n",
       "      <td>0</td>\n",
       "      <td>0</td>\n",
       "      <td>NaN</td>\n",
       "      <td>90.0</td>\n",
       "      <td>0</td>\n",
       "      <td>1</td>\n",
       "      <td>0</td>\n",
       "      <td>0</td>\n",
       "      <td>0</td>\n",
       "      <td>99999999.0</td>\n",
       "      <td>99999999.0</td>\n",
       "      <td>85.0</td>\n",
       "      <td>78.0</td>\n",
       "      <td>85.0</td>\n",
       "    </tr>\n",
       "    <tr>\n",
       "      <th>30016265</th>\n",
       "      <th>16142166</th>\n",
       "      <td>0</td>\n",
       "      <td>0</td>\n",
       "      <td>0</td>\n",
       "      <td>9999999.0</td>\n",
       "      <td>9999999.0</td>\n",
       "      <td>9999999.0</td>\n",
       "      <td>0</td>\n",
       "      <td>0</td>\n",
       "      <td>0</td>\n",
       "      <td>9999999.0</td>\n",
       "      <td>9999999.0</td>\n",
       "      <td>9999999.0</td>\n",
       "      <td>79.0</td>\n",
       "      <td>1</td>\n",
       "      <td>NaN</td>\n",
       "      <td>0</td>\n",
       "      <td>0</td>\n",
       "      <td>90.0</td>\n",
       "      <td>109.0</td>\n",
       "      <td>0</td>\n",
       "      <td>1</td>\n",
       "      <td>1</td>\n",
       "      <td>0</td>\n",
       "      <td>1</td>\n",
       "      <td>0</td>\n",
       "      <td>1</td>\n",
       "      <td>0</td>\n",
       "      <td>0</td>\n",
       "      <td>0</td>\n",
       "      <td>0</td>\n",
       "      <td>0</td>\n",
       "      <td>0</td>\n",
       "      <td>0</td>\n",
       "      <td>21.0</td>\n",
       "      <td>35.4</td>\n",
       "      <td>8.0</td>\n",
       "      <td>11.8</td>\n",
       "      <td>80.0</td>\n",
       "      <td>104.0</td>\n",
       "      <td>10.2</td>\n",
       "      <td>19.5</td>\n",
       "      <td>10.2</td>\n",
       "      <td>19.5</td>\n",
       "      <td>NaN</td>\n",
       "      <td>NaN</td>\n",
       "      <td>NaN</td>\n",
       "      <td>NaN</td>\n",
       "      <td>NaN</td>\n",
       "      <td>NaN</td>\n",
       "      <td>7.0</td>\n",
       "      <td>11.0</td>\n",
       "      <td>24.0</td>\n",
       "      <td>24.0</td>\n",
       "      <td>13.0</td>\n",
       "      <td>16.0</td>\n",
       "      <td>7.7</td>\n",
       "      <td>7.7</td>\n",
       "      <td>111.0</td>\n",
       "      <td>115.0</td>\n",
       "      <td>0.4</td>\n",
       "      <td>0.5</td>\n",
       "      <td>88.0</td>\n",
       "      <td>88.0</td>\n",
       "      <td>141.0</td>\n",
       "      <td>142.0</td>\n",
       "      <td>4.1</td>\n",
       "      <td>4.5</td>\n",
       "      <td>12.9</td>\n",
       "      <td>16.7</td>\n",
       "      <td>NaN</td>\n",
       "      <td>NaN</td>\n",
       "      <td>22.7</td>\n",
       "      <td>35.3</td>\n",
       "      <td>1.2</td>\n",
       "      <td>1.5</td>\n",
       "      <td>NaN</td>\n",
       "      <td>NaN</td>\n",
       "      <td>92.0</td>\n",
       "      <td>119.0</td>\n",
       "      <td>51.0</td>\n",
       "      <td>85.0</td>\n",
       "      <td>76.742857</td>\n",
       "      <td>72.0</td>\n",
       "      <td>152.0</td>\n",
       "      <td>113.270270</td>\n",
       "      <td>31.0</td>\n",
       "      <td>74.0</td>\n",
       "      <td>45.729730</td>\n",
       "      <td>7.0</td>\n",
       "      <td>26.0</td>\n",
       "      <td>17.250000</td>\n",
       "      <td>NaN</td>\n",
       "      <td>NaN</td>\n",
       "      <td>NaN</td>\n",
       "      <td>95.0</td>\n",
       "      <td>100.0</td>\n",
       "      <td>0</td>\n",
       "      <td>0</td>\n",
       "      <td>47.94</td>\n",
       "      <td>150.0</td>\n",
       "      <td>1</td>\n",
       "      <td>1</td>\n",
       "      <td>0</td>\n",
       "      <td>0</td>\n",
       "      <td>0</td>\n",
       "      <td>99999999.0</td>\n",
       "      <td>99999999.0</td>\n",
       "      <td>81.5</td>\n",
       "      <td>81.5</td>\n",
       "      <td>94.1</td>\n",
       "    </tr>\n",
       "    <tr>\n",
       "      <th>30022756</th>\n",
       "      <th>19658144</th>\n",
       "      <td>0</td>\n",
       "      <td>0</td>\n",
       "      <td>0</td>\n",
       "      <td>9999999.0</td>\n",
       "      <td>9999999.0</td>\n",
       "      <td>9999999.0</td>\n",
       "      <td>1</td>\n",
       "      <td>1</td>\n",
       "      <td>0</td>\n",
       "      <td>1.0</td>\n",
       "      <td>9999999.0</td>\n",
       "      <td>9999999.0</td>\n",
       "      <td>89.0</td>\n",
       "      <td>1</td>\n",
       "      <td>WHITE</td>\n",
       "      <td>0</td>\n",
       "      <td>1</td>\n",
       "      <td>68.0</td>\n",
       "      <td>71.0</td>\n",
       "      <td>0</td>\n",
       "      <td>0</td>\n",
       "      <td>0</td>\n",
       "      <td>0</td>\n",
       "      <td>1</td>\n",
       "      <td>0</td>\n",
       "      <td>0</td>\n",
       "      <td>0</td>\n",
       "      <td>0</td>\n",
       "      <td>0</td>\n",
       "      <td>0</td>\n",
       "      <td>0</td>\n",
       "      <td>0</td>\n",
       "      <td>0</td>\n",
       "      <td>40.2</td>\n",
       "      <td>44.4</td>\n",
       "      <td>12.4</td>\n",
       "      <td>14.1</td>\n",
       "      <td>212.0</td>\n",
       "      <td>227.0</td>\n",
       "      <td>8.3</td>\n",
       "      <td>9.1</td>\n",
       "      <td>8.3</td>\n",
       "      <td>9.1</td>\n",
       "      <td>4.2</td>\n",
       "      <td>4.2</td>\n",
       "      <td>NaN</td>\n",
       "      <td>NaN</td>\n",
       "      <td>NaN</td>\n",
       "      <td>NaN</td>\n",
       "      <td>18.0</td>\n",
       "      <td>18.0</td>\n",
       "      <td>24.0</td>\n",
       "      <td>25.0</td>\n",
       "      <td>20.0</td>\n",
       "      <td>23.0</td>\n",
       "      <td>10.0</td>\n",
       "      <td>10.0</td>\n",
       "      <td>103.0</td>\n",
       "      <td>107.0</td>\n",
       "      <td>0.4</td>\n",
       "      <td>0.4</td>\n",
       "      <td>90.0</td>\n",
       "      <td>94.0</td>\n",
       "      <td>142.0</td>\n",
       "      <td>145.0</td>\n",
       "      <td>3.8</td>\n",
       "      <td>3.9</td>\n",
       "      <td>11.3</td>\n",
       "      <td>11.4</td>\n",
       "      <td>NaN</td>\n",
       "      <td>NaN</td>\n",
       "      <td>29.8</td>\n",
       "      <td>33.4</td>\n",
       "      <td>1.0</td>\n",
       "      <td>1.1</td>\n",
       "      <td>0.9</td>\n",
       "      <td>0.9</td>\n",
       "      <td>92.0</td>\n",
       "      <td>150.0</td>\n",
       "      <td>52.0</td>\n",
       "      <td>82.0</td>\n",
       "      <td>63.777778</td>\n",
       "      <td>94.0</td>\n",
       "      <td>155.0</td>\n",
       "      <td>128.961538</td>\n",
       "      <td>57.0</td>\n",
       "      <td>100.0</td>\n",
       "      <td>68.692308</td>\n",
       "      <td>10.0</td>\n",
       "      <td>22.0</td>\n",
       "      <td>16.629630</td>\n",
       "      <td>36.72</td>\n",
       "      <td>37.94</td>\n",
       "      <td>37.245714</td>\n",
       "      <td>94.0</td>\n",
       "      <td>97.0</td>\n",
       "      <td>1</td>\n",
       "      <td>0</td>\n",
       "      <td>NaN</td>\n",
       "      <td>110.0</td>\n",
       "      <td>0</td>\n",
       "      <td>0</td>\n",
       "      <td>0</td>\n",
       "      <td>0</td>\n",
       "      <td>0</td>\n",
       "      <td>99999999.0</td>\n",
       "      <td>99999999.0</td>\n",
       "      <td>62.0</td>\n",
       "      <td>62.0</td>\n",
       "      <td>62.0</td>\n",
       "    </tr>\n",
       "    <tr>\n",
       "      <th>30023204</th>\n",
       "      <th>18738693</th>\n",
       "      <td>1</td>\n",
       "      <td>0</td>\n",
       "      <td>0</td>\n",
       "      <td>1.0</td>\n",
       "      <td>9999999.0</td>\n",
       "      <td>9999999.0</td>\n",
       "      <td>1</td>\n",
       "      <td>1</td>\n",
       "      <td>0</td>\n",
       "      <td>1.0</td>\n",
       "      <td>9999999.0</td>\n",
       "      <td>9999999.0</td>\n",
       "      <td>46.0</td>\n",
       "      <td>0</td>\n",
       "      <td>WHITE</td>\n",
       "      <td>0</td>\n",
       "      <td>1</td>\n",
       "      <td>51.0</td>\n",
       "      <td>47.0</td>\n",
       "      <td>0</td>\n",
       "      <td>0</td>\n",
       "      <td>0</td>\n",
       "      <td>0</td>\n",
       "      <td>1</td>\n",
       "      <td>0</td>\n",
       "      <td>0</td>\n",
       "      <td>0</td>\n",
       "      <td>0</td>\n",
       "      <td>0</td>\n",
       "      <td>0</td>\n",
       "      <td>0</td>\n",
       "      <td>0</td>\n",
       "      <td>1</td>\n",
       "      <td>19.7</td>\n",
       "      <td>24.4</td>\n",
       "      <td>6.6</td>\n",
       "      <td>8.3</td>\n",
       "      <td>440.0</td>\n",
       "      <td>489.0</td>\n",
       "      <td>15.2</td>\n",
       "      <td>27.0</td>\n",
       "      <td>15.2</td>\n",
       "      <td>27.0</td>\n",
       "      <td>2.8</td>\n",
       "      <td>2.8</td>\n",
       "      <td>NaN</td>\n",
       "      <td>NaN</td>\n",
       "      <td>NaN</td>\n",
       "      <td>NaN</td>\n",
       "      <td>13.0</td>\n",
       "      <td>17.0</td>\n",
       "      <td>19.0</td>\n",
       "      <td>22.0</td>\n",
       "      <td>23.0</td>\n",
       "      <td>24.0</td>\n",
       "      <td>7.4</td>\n",
       "      <td>8.5</td>\n",
       "      <td>100.0</td>\n",
       "      <td>104.0</td>\n",
       "      <td>1.4</td>\n",
       "      <td>1.6</td>\n",
       "      <td>99.0</td>\n",
       "      <td>124.0</td>\n",
       "      <td>130.0</td>\n",
       "      <td>132.0</td>\n",
       "      <td>5.0</td>\n",
       "      <td>5.5</td>\n",
       "      <td>10.8</td>\n",
       "      <td>10.9</td>\n",
       "      <td>NaN</td>\n",
       "      <td>NaN</td>\n",
       "      <td>27.9</td>\n",
       "      <td>29.3</td>\n",
       "      <td>1.0</td>\n",
       "      <td>1.0</td>\n",
       "      <td>0.7</td>\n",
       "      <td>0.7</td>\n",
       "      <td>51.0</td>\n",
       "      <td>47.0</td>\n",
       "      <td>93.0</td>\n",
       "      <td>125.0</td>\n",
       "      <td>108.468750</td>\n",
       "      <td>63.0</td>\n",
       "      <td>128.0</td>\n",
       "      <td>106.700000</td>\n",
       "      <td>42.0</td>\n",
       "      <td>77.0</td>\n",
       "      <td>64.333333</td>\n",
       "      <td>10.0</td>\n",
       "      <td>23.0</td>\n",
       "      <td>15.935484</td>\n",
       "      <td>36.39</td>\n",
       "      <td>37.28</td>\n",
       "      <td>36.662222</td>\n",
       "      <td>91.0</td>\n",
       "      <td>100.0</td>\n",
       "      <td>0</td>\n",
       "      <td>0</td>\n",
       "      <td>NaN</td>\n",
       "      <td>50.0</td>\n",
       "      <td>1</td>\n",
       "      <td>0</td>\n",
       "      <td>0</td>\n",
       "      <td>0</td>\n",
       "      <td>0</td>\n",
       "      <td>99999999.0</td>\n",
       "      <td>99999999.0</td>\n",
       "      <td>86.1</td>\n",
       "      <td>86.1</td>\n",
       "      <td>86.1</td>\n",
       "    </tr>\n",
       "  </tbody>\n",
       "</table>\n",
       "</div>"
      ],
      "text/plain": [
       "                     aki_kdigo_grade_1  aki_kdigo_grade_2  aki_kdigo_grade_3  \\\n",
       "stay_id  subject_id                                                            \n",
       "30004627 12844527                    0                  0                  0   \n",
       "30011241 14731650                    0                  0                  0   \n",
       "30016265 16142166                    0                  0                  0   \n",
       "30022756 19658144                    0                  0                  0   \n",
       "30023204 18738693                    1                  0                  0   \n",
       "\n",
       "                     day_detection_kdigo_grade_1  day_detection_kdigo_grade_2  \\\n",
       "stay_id  subject_id                                                             \n",
       "30004627 12844527                      9999999.0                    9999999.0   \n",
       "30011241 14731650                      9999999.0                    9999999.0   \n",
       "30016265 16142166                      9999999.0                    9999999.0   \n",
       "30022756 19658144                      9999999.0                    9999999.0   \n",
       "30023204 18738693                            1.0                    9999999.0   \n",
       "\n",
       "                     day_detection_kdigo_grade_3  aki_mkdigo_grade_1  \\\n",
       "stay_id  subject_id                                                    \n",
       "30004627 12844527                      9999999.0                   0   \n",
       "30011241 14731650                      9999999.0                   0   \n",
       "30016265 16142166                      9999999.0                   0   \n",
       "30022756 19658144                      9999999.0                   1   \n",
       "30023204 18738693                      9999999.0                   1   \n",
       "\n",
       "                     aki_mkdigo_grade_2  aki_mkdigo_grade_3  \\\n",
       "stay_id  subject_id                                           \n",
       "30004627 12844527                     0                   0   \n",
       "30011241 14731650                     0                   0   \n",
       "30016265 16142166                     0                   0   \n",
       "30022756 19658144                     1                   0   \n",
       "30023204 18738693                     1                   0   \n",
       "\n",
       "                     day_detection_mkdigo_grade_1  \\\n",
       "stay_id  subject_id                                 \n",
       "30004627 12844527                       9999999.0   \n",
       "30011241 14731650                       9999999.0   \n",
       "30016265 16142166                       9999999.0   \n",
       "30022756 19658144                             1.0   \n",
       "30023204 18738693                             1.0   \n",
       "\n",
       "                     day_detection_mkdigo_grade_2  \\\n",
       "stay_id  subject_id                                 \n",
       "30004627 12844527                       9999999.0   \n",
       "30011241 14731650                       9999999.0   \n",
       "30016265 16142166                       9999999.0   \n",
       "30022756 19658144                       9999999.0   \n",
       "30023204 18738693                       9999999.0   \n",
       "\n",
       "                     day_detection_mkdigo_grade_3   age  female  \\\n",
       "stay_id  subject_id                                               \n",
       "30004627 12844527                       9999999.0  63.0       0   \n",
       "30011241 14731650                       9999999.0  82.0       1   \n",
       "30016265 16142166                       9999999.0  79.0       1   \n",
       "30022756 19658144                       9999999.0  89.0       1   \n",
       "30023204 18738693                       9999999.0  46.0       0   \n",
       "\n",
       "                                  ethnicity  ckd  is_mdrd  egfr_epi_scr  \\\n",
       "stay_id  subject_id                                                       \n",
       "30004627 12844527    BLACK/AFRICAN AMERICAN    0        1          64.0   \n",
       "30011241 14731650                       NaN    0        1          52.0   \n",
       "30016265 16142166                       NaN    0        0          90.0   \n",
       "30022756 19658144                     WHITE    0        1          68.0   \n",
       "30023204 18738693                     WHITE    0        1          51.0   \n",
       "\n",
       "                     egfr_mdrd_scr  kidney_transplant  \\\n",
       "stay_id  subject_id                                     \n",
       "30004627 12844527             61.0                  0   \n",
       "30011241 14731650             53.0                  0   \n",
       "30016265 16142166            109.0                  0   \n",
       "30022756 19658144             71.0                  0   \n",
       "30023204 18738693             47.0                  0   \n",
       "\n",
       "                     congestive_heart_failure  diabetes_type2  \\\n",
       "stay_id  subject_id                                             \n",
       "30004627 12844527                           0               0   \n",
       "30011241 14731650                           0               0   \n",
       "30016265 16142166                           1               1   \n",
       "30022756 19658144                           0               0   \n",
       "30023204 18738693                           0               0   \n",
       "\n",
       "                     chronic_kidney_disease  hypertension  obesity_icd  \\\n",
       "stay_id  subject_id                                                      \n",
       "30004627 12844527                         0             0            0   \n",
       "30011241 14731650                         0             1            0   \n",
       "30016265 16142166                         0             1            0   \n",
       "30022756 19658144                         0             1            0   \n",
       "30023204 18738693                         0             1            0   \n",
       "\n",
       "                     peripheral_vascular_disease  chronic_liver_disease  \\\n",
       "stay_id  subject_id                                                       \n",
       "30004627 12844527                              0                      0   \n",
       "30011241 14731650                              0                      0   \n",
       "30016265 16142166                              1                      0   \n",
       "30022756 19658144                              0                      0   \n",
       "30023204 18738693                              0                      0   \n",
       "\n",
       "                     mild_liver_disease  severe_liver_disease  \\\n",
       "stay_id  subject_id                                             \n",
       "30004627 12844527                     0                     0   \n",
       "30011241 14731650                     0                     0   \n",
       "30016265 16142166                     0                     0   \n",
       "30022756 19658144                     0                     0   \n",
       "30023204 18738693                     0                     0   \n",
       "\n",
       "                     myocardial_infarct  chronic_pulmonary_disease  \\\n",
       "stay_id  subject_id                                                  \n",
       "30004627 12844527                     0                          0   \n",
       "30011241 14731650                     1                          1   \n",
       "30016265 16142166                     0                          0   \n",
       "30022756 19658144                     0                          0   \n",
       "30023204 18738693                     0                          0   \n",
       "\n",
       "                     chronic_heart_failure  sepsis  hematocrit_min  \\\n",
       "stay_id  subject_id                                                  \n",
       "30004627 12844527                        0       0            30.2   \n",
       "30011241 14731650                        0       0            25.7   \n",
       "30016265 16142166                        0       0            21.0   \n",
       "30022756 19658144                        0       0            40.2   \n",
       "30023204 18738693                        0       1            19.7   \n",
       "\n",
       "                     hematocrit_max  hemoglobin_min  hemoglobin_max  \\\n",
       "stay_id  subject_id                                                   \n",
       "30004627 12844527              33.5            10.2            11.3   \n",
       "30011241 14731650              26.4             8.0             8.4   \n",
       "30016265 16142166              35.4             8.0            11.8   \n",
       "30022756 19658144              44.4            12.4            14.1   \n",
       "30023204 18738693              24.4             6.6             8.3   \n",
       "\n",
       "                     platelets_min  platelets_max  wbc_min  wbc_max  \\\n",
       "stay_id  subject_id                                                   \n",
       "30004627 12844527            171.0          205.0      7.8     10.7   \n",
       "30011241 14731650            144.0          157.0     11.7     17.0   \n",
       "30016265 16142166             80.0          104.0     10.2     19.5   \n",
       "30022756 19658144            212.0          227.0      8.3      9.1   \n",
       "30023204 18738693            440.0          489.0     15.2     27.0   \n",
       "\n",
       "                     wbc_bd_min  wbc_bd_max  albumin_min  albumin_max  \\\n",
       "stay_id  subject_id                                                     \n",
       "30004627 12844527           7.8        10.7          NaN          NaN   \n",
       "30011241 14731650          11.7        17.0          2.4          2.4   \n",
       "30016265 16142166          10.2        19.5          NaN          NaN   \n",
       "30022756 19658144           8.3         9.1          4.2          4.2   \n",
       "30023204 18738693          15.2        27.0          2.8          2.8   \n",
       "\n",
       "                     globulin_min  globulin_max  total_protein_min  \\\n",
       "stay_id  subject_id                                                  \n",
       "30004627 12844527             NaN           NaN                NaN   \n",
       "30011241 14731650             NaN           NaN                NaN   \n",
       "30016265 16142166             NaN           NaN                NaN   \n",
       "30022756 19658144             NaN           NaN                NaN   \n",
       "30023204 18738693             NaN           NaN                NaN   \n",
       "\n",
       "                     total_protein_max  aniongap_min  aniongap_max  \\\n",
       "stay_id  subject_id                                                  \n",
       "30004627 12844527                  NaN          12.0          13.0   \n",
       "30011241 14731650                  NaN          10.0          11.0   \n",
       "30016265 16142166                  NaN           7.0          11.0   \n",
       "30022756 19658144                  NaN          18.0          18.0   \n",
       "30023204 18738693                  NaN          13.0          17.0   \n",
       "\n",
       "                     bicarbonate_min  bicarbonate_max  bun_min  bun_max  \\\n",
       "stay_id  subject_id                                                       \n",
       "30004627 12844527               23.0             24.0     29.0     29.0   \n",
       "30011241 14731650               25.0             27.0     17.0     19.0   \n",
       "30016265 16142166               24.0             24.0     13.0     16.0   \n",
       "30022756 19658144               24.0             25.0     20.0     23.0   \n",
       "30023204 18738693               19.0             22.0     23.0     24.0   \n",
       "\n",
       "                     calcium_min  calcium_max  chloride_min  chloride_max  \\\n",
       "stay_id  subject_id                                                         \n",
       "30004627 12844527            8.2          8.8         106.0         107.0   \n",
       "30011241 14731650            7.8          7.8         105.0         106.0   \n",
       "30016265 16142166            7.7          7.7         111.0         115.0   \n",
       "30022756 19658144           10.0         10.0         103.0         107.0   \n",
       "30023204 18738693            7.4          8.5         100.0         104.0   \n",
       "\n",
       "                     creatinine_min  creatinine_max  glucose_min  glucose_max  \\\n",
       "stay_id  subject_id                                                             \n",
       "30004627 12844527               1.0             1.2        135.0        148.0   \n",
       "30011241 14731650               0.8             1.0        103.0        124.0   \n",
       "30016265 16142166               0.4             0.5         88.0         88.0   \n",
       "30022756 19658144               0.4             0.4         90.0         94.0   \n",
       "30023204 18738693               1.4             1.6         99.0        124.0   \n",
       "\n",
       "                     sodium_min  sodium_max  potassium_min  potassium_max  \\\n",
       "stay_id  subject_id                                                         \n",
       "30004627 12844527         138.0       139.0            4.1            4.1   \n",
       "30011241 14731650         138.0       139.0            3.4            3.5   \n",
       "30016265 16142166         141.0       142.0            4.1            4.5   \n",
       "30022756 19658144         142.0       145.0            3.8            3.9   \n",
       "30023204 18738693         130.0       132.0            5.0            5.5   \n",
       "\n",
       "                     pt_min  pt_max  thrombin_min  thrombin_max  ptt_min  \\\n",
       "stay_id  subject_id                                                        \n",
       "30004627 12844527      13.0    13.0           NaN           NaN     28.1   \n",
       "30011241 14731650      10.9    12.8           NaN           NaN     27.3   \n",
       "30016265 16142166      12.9    16.7           NaN           NaN     22.7   \n",
       "30022756 19658144      11.3    11.4           NaN           NaN     29.8   \n",
       "30023204 18738693      10.8    10.9           NaN           NaN     27.9   \n",
       "\n",
       "                     ptt_max  inr_min  inr_max  bilirubin_total_min  \\\n",
       "stay_id  subject_id                                                   \n",
       "30004627 12844527       28.1      1.2      1.2                  NaN   \n",
       "30011241 14731650       27.7      1.0      1.2                  0.5   \n",
       "30016265 16142166       35.3      1.2      1.5                  NaN   \n",
       "30022756 19658144       33.4      1.0      1.1                  0.9   \n",
       "30023204 18738693       29.3      1.0      1.0                  0.7   \n",
       "\n",
       "                     bilirubin_total_max  egfr_epi_scr_max  egfr_mdrd_scr_max  \\\n",
       "stay_id  subject_id                                                             \n",
       "30004627 12844527                    NaN              64.0               61.0   \n",
       "30011241 14731650                    0.6              52.0               53.0   \n",
       "30016265 16142166                    NaN              92.0              119.0   \n",
       "30022756 19658144                    0.9              92.0              150.0   \n",
       "30023204 18738693                    0.7              51.0               47.0   \n",
       "\n",
       "                     heart_rate_min  heart_rate_max  heart_rate_mean  sbp_min  \\\n",
       "stay_id  subject_id                                                             \n",
       "30004627 12844527              55.0            81.0        71.000000    109.0   \n",
       "30011241 14731650              52.0            91.0        71.240000    101.0   \n",
       "30016265 16142166              51.0            85.0        76.742857     72.0   \n",
       "30022756 19658144              52.0            82.0        63.777778     94.0   \n",
       "30023204 18738693              93.0           125.0       108.468750     63.0   \n",
       "\n",
       "                     sbp_max    sbp_mean  dbp_min  dbp_max   dbp_mean  \\\n",
       "stay_id  subject_id                                                     \n",
       "30004627 12844527      156.0  132.766667     43.0     83.0  66.900000   \n",
       "30011241 14731650      147.0  119.360000     38.0     63.0  47.600000   \n",
       "30016265 16142166      152.0  113.270270     31.0     74.0  45.729730   \n",
       "30022756 19658144      155.0  128.961538     57.0    100.0  68.692308   \n",
       "30023204 18738693      128.0  106.700000     42.0     77.0  64.333333   \n",
       "\n",
       "                     resp_rate_min  resp_rate_max  resp_rate_mean  \\\n",
       "stay_id  subject_id                                                 \n",
       "30004627 12844527              8.0           21.0       15.586207   \n",
       "30011241 14731650              9.0           22.0       14.888889   \n",
       "30016265 16142166              7.0           26.0       17.250000   \n",
       "30022756 19658144             10.0           22.0       16.629630   \n",
       "30023204 18738693             10.0           23.0       15.935484   \n",
       "\n",
       "                     temperature_min  temperature_max  temperature_mean  \\\n",
       "stay_id  subject_id                                                       \n",
       "30004627 12844527              36.28            36.94         36.665714   \n",
       "30011241 14731650              36.11            37.06         36.565000   \n",
       "30016265 16142166                NaN              NaN               NaN   \n",
       "30022756 19658144              36.72            37.94         37.245714   \n",
       "30023204 18738693              36.39            37.28         36.662222   \n",
       "\n",
       "                     spo2_min  spo2_max  arbs_acei  cyclosporine    bmi  \\\n",
       "stay_id  subject_id                                                       \n",
       "30004627 12844527        95.0     100.0          0             0    NaN   \n",
       "30011241 14731650        94.0     100.0          0             0    NaN   \n",
       "30016265 16142166        95.0     100.0          0             0  47.94   \n",
       "30022756 19658144        94.0      97.0          1             0    NaN   \n",
       "30023204 18738693        91.0     100.0          0             0    NaN   \n",
       "\n",
       "                     urineoutput_24hr  supplemental_oxygen  invasive_vent  \\\n",
       "stay_id  subject_id                                                         \n",
       "30004627 12844527                60.0                    0              1   \n",
       "30011241 14731650                90.0                    0              1   \n",
       "30016265 16142166               150.0                    1              1   \n",
       "30022756 19658144               110.0                    0              0   \n",
       "30023204 18738693                50.0                    1              0   \n",
       "\n",
       "                     hfnc  non_invasive_vent  tracheostomy  \\\n",
       "stay_id  subject_id                                          \n",
       "30004627 12844527       0                  0             0   \n",
       "30011241 14731650       0                  0             0   \n",
       "30016265 16142166       0                  0             0   \n",
       "30022756 19658144       0                  0             0   \n",
       "30023204 18738693       0                  0             0   \n",
       "\n",
       "                     min_day_rrt_present  min_day_rrt_active  weight_admit  \\\n",
       "stay_id  subject_id                                                          \n",
       "30004627 12844527             99999999.0          99999999.0          81.0   \n",
       "30011241 14731650             99999999.0          99999999.0          85.0   \n",
       "30016265 16142166             99999999.0          99999999.0          81.5   \n",
       "30022756 19658144             99999999.0          99999999.0          62.0   \n",
       "30023204 18738693             99999999.0          99999999.0          86.1   \n",
       "\n",
       "                     weight_min  weight_max  \n",
       "stay_id  subject_id                          \n",
       "30004627 12844527          81.0        81.0  \n",
       "30011241 14731650          78.0        85.0  \n",
       "30016265 16142166          81.5        94.1  \n",
       "30022756 19658144          62.0        62.0  \n",
       "30023204 18738693          86.1        86.1  "
      ]
     },
     "execution_count": 26,
     "metadata": {},
     "output_type": "execute_result"
    }
   ],
   "source": [
    "data.head(5)"
   ]
  },
  {
   "cell_type": "code",
   "execution_count": 27,
   "metadata": {},
   "outputs": [],
   "source": [
    "# data.dropna(axis=1, thresh = int(0.3*data.shape[0]), inplace=True)"
   ]
  },
  {
   "cell_type": "code",
   "execution_count": 28,
   "metadata": {},
   "outputs": [],
   "source": [
    "# pd.set_option('display.max_rows', None)"
   ]
  },
  {
   "cell_type": "code",
   "execution_count": 29,
   "metadata": {},
   "outputs": [],
   "source": [
    "# data.isna().sum()/len(data)*100"
   ]
  },
  {
   "cell_type": "code",
   "execution_count": 30,
   "metadata": {},
   "outputs": [],
   "source": [
    "# prediction_window = 3\n",
    "\n",
    "# data.loc[(((data['aki_kdigo_grade_1']== 1)| (data['aki_kdigo_grade_2']== 1) | (data['aki_kdigo_grade_3']==1)) \\\n",
    "#     &( (data['day_detection_kdigo_grade_1']<=prediction_window)| (data['day_detection_kdigo_grade_2']<=prediction_window) | (data['day_detection_kdigo_grade_3']<=prediction_window)) \\\n",
    "#         |(data['min_day_rrt_present']<= prediction_window)), 'outcome'] = 1\n",
    "\n",
    "\n",
    "# data.loc[data.outcome.isna(),'outcome']=0"
   ]
  },
  {
   "cell_type": "code",
   "execution_count": 31,
   "metadata": {},
   "outputs": [],
   "source": [
    "prediction_window = 3\n",
    "\n",
    "data.loc[(( (data['aki_kdigo_grade_1']== 1)) \\\n",
    "    &( (data['day_detection_kdigo_grade_1']<=prediction_window))), 'outcome'] = 1\n",
    "\n",
    "\n",
    "data.loc[data.outcome.isna(),'outcome']=0"
   ]
  },
  {
   "cell_type": "code",
   "execution_count": 32,
   "metadata": {},
   "outputs": [],
   "source": [
    "drop_X   = [\n",
    "'day_detection_kdigo_grade_1',\n",
    "'day_detection_kdigo_grade_2',\n",
    "'day_detection_kdigo_grade_3',\n",
    "'day_detection_mkdigo_grade_1',\n",
    "'day_detection_mkdigo_grade_2',\n",
    "'day_detection_mkdigo_grade_3',\n",
    "'min_day_rrt_active',\n",
    "'min_day_rrt_present',\n",
    "# 'ckd',\n",
    "'chronic_kidney_disease'\n",
    "]\n",
    "# CRP and vomit_nausea as they had mostly empty\n",
    "\n",
    "data.drop(drop_X, inplace=True, axis=1)"
   ]
  },
  {
   "cell_type": "markdown",
   "metadata": {},
   "source": [
    "## Missingness percentage"
   ]
  },
  {
   "cell_type": "code",
   "execution_count": 33,
   "metadata": {},
   "outputs": [],
   "source": [
    "# data.reset_index().drop_duplicates(subset=['stay_id','subject_id','hadm_id']).set_index(['stay_id','subject_id','hadm_id'])"
   ]
  },
  {
   "cell_type": "code",
   "execution_count": 34,
   "metadata": {},
   "outputs": [],
   "source": [
    "# # remove unpopulated columns\n",
    "# data.pipe(sort)\\\n",
    "#               .pipe(replace_inf).pipe(drop_empty)"
   ]
  },
  {
   "cell_type": "code",
   "execution_count": 35,
   "metadata": {},
   "outputs": [],
   "source": [
    "# split by column type\n",
    "data_num = data.pipe(sort).pipe(replace_inf).pipe(drop_empty).pipe(select, 'numerical')\n",
    "\n",
    "data_cat = data.pipe(sort).pipe(replace_inf).pipe(drop_empty).pipe(select, 'categorical')"
   ]
  },
  {
   "cell_type": "code",
   "execution_count": 36,
   "metadata": {},
   "outputs": [],
   "source": [
    "# data_cat = data_cat.pipe(filter_categorical, cutoff=20, plot=False)\\\n",
    "#                                             .pipe(sort).pipe(spy, title='Before onehot', figsize=[12,4])\\\n",
    "#                                             .fillna('other').pipe(onehot)\n",
    "# data_cat = data_cat.fillna('other').pipe(onehot)\n",
    "data_cat = pd.get_dummies(data_cat,prefix=[''], prefix_sep='', columns = ['ethnicity'], drop_first=True)"
   ]
  },
  {
   "cell_type": "code",
   "execution_count": 37,
   "metadata": {},
   "outputs": [],
   "source": [
    "# processed = pd.merge(data_num, data_cat, left_index=True, right_index=True)\n",
    "processed = pd.merge(data_num, data_cat, left_index=True, right_index=True, how='inner')"
   ]
  },
  {
   "cell_type": "code",
   "execution_count": 38,
   "metadata": {},
   "outputs": [
    {
     "data": {
      "text/plain": [
       "23651"
      ]
     },
     "execution_count": 38,
     "metadata": {},
     "output_type": "execute_result"
    }
   ],
   "source": [
    "processed['is_mdrd'].sum()"
   ]
  },
  {
   "cell_type": "code",
   "execution_count": 39,
   "metadata": {},
   "outputs": [
    {
     "data": {
      "text/plain": [
       "0    9864\n",
       "1    3928\n",
       "Name: aki_kdigo_grade_1, dtype: int64"
      ]
     },
     "execution_count": 39,
     "metadata": {},
     "output_type": "execute_result"
    }
   ],
   "source": [
    "tmp1 = processed[processed['is_mdrd']==0]\n",
    "tmp1.aki_kdigo_grade_1.value_counts()"
   ]
  },
  {
   "cell_type": "code",
   "execution_count": 40,
   "metadata": {},
   "outputs": [
    {
     "data": {
      "text/plain": [
       "63.165344657212295"
      ]
     },
     "execution_count": 40,
     "metadata": {},
     "output_type": "execute_result"
    }
   ],
   "source": [
    "# processed.is_mdrd.value_counts()\n",
    "processed['is_mdrd'].sum()/len(processed)*100"
   ]
  },
  {
   "cell_type": "code",
   "execution_count": 41,
   "metadata": {},
   "outputs": [],
   "source": [
    "processed2 = processed.copy()\n",
    "processed.drop(['egfr_epi_scr','egfr_mdrd_scr'], inplace=True, axis=1)\n"
   ]
  },
  {
   "cell_type": "code",
   "execution_count": 42,
   "metadata": {},
   "outputs": [
    {
     "data": {
      "text/plain": [
       "0.38252810939294396"
      ]
     },
     "execution_count": 42,
     "metadata": {},
     "output_type": "execute_result"
    }
   ],
   "source": [
    "(processed[processed['aki_kdigo_grade_1']==1].shape[0])/processed.shape[0]"
   ]
  },
  {
   "cell_type": "code",
   "execution_count": 43,
   "metadata": {},
   "outputs": [],
   "source": [
    "drop_X   = [\n",
    "    'aki_kdigo_grade_1',\n",
    "    'aki_mkdigo_grade_1',\n",
    "\n",
    "    'aki_kdigo_grade_2',\n",
    "    'aki_mkdigo_grade_2',\n",
    "\n",
    "    'aki_kdigo_grade_3',\n",
    "    'aki_mkdigo_grade_3',\n",
    "    'is_mdrd'\n",
    "\n",
    "]\n",
    " \n",
    "select_y = ['outcome']\n",
    "\n",
    "processed_X = processed.pipe(filter_regex, drop_X+select_y)\n",
    "processed_Y = processed.filter(regex='|'.join(select_y))\n",
    "raw_Y = data_num.pipe(replace_inf).pipe(drop_empty).filter(regex='|'.join(select_y)).pipe(remove_outliers)\n",
    "df_y = raw_Y[select_y]\n",
    "\n",
    "\n",
    "df_X, df_y = match(processed_X, df_y)"
   ]
  },
  {
   "cell_type": "code",
   "execution_count": 44,
   "metadata": {},
   "outputs": [
    {
     "data": {
      "text/plain": [
       "0    20682\n",
       "1    16761\n",
       "Name: female, dtype: int64"
      ]
     },
     "execution_count": 44,
     "metadata": {},
     "output_type": "execute_result"
    }
   ],
   "source": [
    "df_X.female.value_counts()"
   ]
  },
  {
   "cell_type": "code",
   "execution_count": 45,
   "metadata": {},
   "outputs": [],
   "source": [
    "X, y = df_X, df_y\n",
    "\n",
    "from sklearn.model_selection import train_test_split\n",
    "\n",
    "\n",
    "# X_train_0, X_test, y_train_0, y_test = train_test_split(X, y, test_size=0.2, random_state=42, shuffle=True, stratify=y) # \n",
    "\n",
    "# X_train, X_valid, y_train, y_valid = train_test_split(X_train_0, y_train_0, test_size=0.2, random_state=42, shuffle=True, stratify=y_train_0)\n",
    "\n",
    "\n",
    "X_train, X_test, y_train, y_test = train_test_split(X, y, test_size=0.2, random_state=42, shuffle=True, stratify=y)"
   ]
  },
  {
   "cell_type": "code",
   "execution_count": 46,
   "metadata": {},
   "outputs": [],
   "source": [
    "# X_train, y_train = df_X, df_y\n",
    "# X_train, y_train = up_sample(X_train, y_train,'outcome')\n",
    "X_train,  y_train = [\n",
    "    df.reset_index(drop=True)\n",
    "    for df in up_sample(X_train, y_train,'outcome')]"
   ]
  },
  {
   "cell_type": "code",
   "execution_count": 47,
   "metadata": {},
   "outputs": [],
   "source": [
    "# from imblearn.under_sampling import RandomUnderSampler\n",
    "\n",
    "# rus = RandomUnderSampler(random_state=42, sampling_strategy='auto')\n",
    "# X_train, y_train = rus.fit_resample(X_train, y_train)"
   ]
  },
  {
   "cell_type": "code",
   "execution_count": 48,
   "metadata": {},
   "outputs": [],
   "source": [
    "# dfwiz_compare(X_train,X_test, label=['df_train','df_test'])"
   ]
  },
  {
   "cell_type": "code",
   "execution_count": 49,
   "metadata": {},
   "outputs": [
    {
     "data": {
      "text/plain": [
       "outcome\n",
       "0.0        23120\n",
       "1.0        14323\n",
       "dtype: int64"
      ]
     },
     "execution_count": 49,
     "metadata": {},
     "output_type": "execute_result"
    }
   ],
   "source": [
    "df_y.value_counts()"
   ]
  },
  {
   "cell_type": "code",
   "execution_count": null,
   "metadata": {},
   "outputs": [],
   "source": []
  },
  {
   "cell_type": "markdown",
   "metadata": {},
   "source": [
    "___________________\n",
    "### Define pipeline"
   ]
  },
  {
   "cell_type": "code",
   "execution_count": 50,
   "metadata": {},
   "outputs": [],
   "source": [
    "import lightgbm as lgbm  # standard alias\n",
    "\n",
    "pipe = Pipeline(steps=[\n",
    "# ('resample', upsampler()),\n",
    "('scaler', MinMaxScaler()),\n",
    "('imputer',IterativeImputer(max_iter=10, random_state=42, missing_values=np.nan)),\n",
    "('model', lgbm.LGBMClassifier(n_jobs=-1, n_estimators=300))\n",
    "])"
   ]
  },
  {
   "cell_type": "markdown",
   "metadata": {},
   "source": [
    "___________________\n",
    "### Cross validation search"
   ]
  },
  {
   "cell_type": "code",
   "execution_count": 51,
   "metadata": {},
   "outputs": [],
   "source": [
    "# ########### **************************************8\n",
    "# # Make sure simpler models are at the start of array. The search picks numbers on the left side if they are within the error of maximum score.   \n",
    "\n",
    "\n",
    "# param_grid ={'model__num_leaves': [6, 10, 20, 50], \n",
    "#              'model__min_child_samples': [100, 200, 300, 400, 500], \n",
    "#              'model__min_child_weight': [1e-5,  1e-2,  1,  1e2,  1e4],\n",
    "#              'model__subsample' : [0.2, 0.5, 0.8], \n",
    "#              'model__reg_alpha': [0, 1e-1, 1, 5,  10, 50, 100],\n",
    "#              'model__reg_lambda': [0, 1e-1, 1,  10,  50, 100]}\n",
    "\n",
    "\n",
    "\n",
    "\n",
    "\n",
    "\n",
    "# score, best_params, pipeline_final = param_graph(X_train, y_train, pipe, param_grid, cv=5, max_iter = 4, sample_ratio = 0.1, refit=False, use_error=True)\n",
    "\n",
    "# # dump(pipeline_final , open('pipeline_final_LGBM.pkl', 'wb'))"
   ]
  },
  {
   "cell_type": "code",
   "execution_count": 52,
   "metadata": {},
   "outputs": [],
   "source": [
    "# import lightgbm as lgbm  # standard alias\n",
    "\n",
    "# pipe = Pipeline(steps=[\n",
    "# # ('resample', upsampler()),\n",
    "# ('scaler', MinMaxScaler()),\n",
    "# ('imputer',IterativeImputer(max_iter=10, random_state=42, missing_values=np.nan, sample_posterior=True)),\n",
    "# ('model', lgbm.LGBMClassifier(n_jobs=-1))\n",
    "# ])"
   ]
  },
  {
   "cell_type": "code",
   "execution_count": 53,
   "metadata": {},
   "outputs": [],
   "source": [
    "# from skopt import BayesSearchCV\n",
    "# from sklearn.model_selection import StratifiedKFold\n",
    "# from sklearn.model_selection import train_test_split\n",
    "# from sklearn.metrics import recall_score\n",
    "# from sklearn.metrics import f1_score\n",
    "\n",
    "\n",
    "# bayes_cv_tuner = BayesSearchCV(\n",
    "#     estimator = pipe\n",
    "#     ,search_spaces = {\n",
    "#         'model__n_estimators': (100,200,300,400),\n",
    "#         'model__num_leaves': (6, 10, 20, 50), \n",
    "#         'model__min_child_samples': (100, 200, 300, 400, 500), \n",
    "#         'model__min_child_weight': (1e-5,  1e-2,  1,  1e2,  1e4),\n",
    "#         'model__subsample' : (0.2, 0.5, 0.8), \n",
    "#         'model__reg_alpha': (0, 1e-1, 1, 5,  10, 50, 100),\n",
    "#         'model__reg_lambda': (0, 1e-1, 1,  10,  50, 100)\n",
    "\n",
    "#     }, \n",
    "#     cv = StratifiedKFold(\n",
    "#         n_splits=5,\n",
    "#         shuffle=True,\n",
    "#     ),\n",
    "#     # cv=3,\n",
    "#     n_jobs = 3,\n",
    "#     n_iter = 10,   \n",
    "#     verbose = 0,\n",
    "#     scoring='f1'\n",
    "# )\n",
    "\n",
    "# sample_ratio = 0.1\n",
    "# n_samples = int(len(X_train)*sample_ratio)\n",
    "# X, y = resample(X_train.values, y_train.values, n_samples=n_samples, stratify=y_train.values, random_state=10)\n",
    "# result = bayes_cv_tuner.fit(X, y.ravel())\n",
    "# # print(result.score(X_test, y_test))\n",
    "# print(result.best_params_)\n",
    "# print(result.best_score_)"
   ]
  },
  {
   "cell_type": "markdown",
   "metadata": {},
   "source": [
    "__________\n",
    "### Fitting Pipeline one time"
   ]
  },
  {
   "cell_type": "code",
   "execution_count": 54,
   "metadata": {},
   "outputs": [
    {
     "name": "stdout",
     "output_type": "stream",
     "text": [
      "\n",
      "\n",
      "______________________________________________________________________________________________________________________________________________________\n",
      "\n",
      "Train Accuracy:\n",
      "\n"
     ]
    },
    {
     "data": {
      "image/png": "[encoded data removed]",
      "text/plain": [
       "<Figure size 720x432 with 1 Axes>"
      ]
     },
     "metadata": {},
     "output_type": "display_data"
    },
    {
     "data": {
      "image/png": "[encoded data removed]",
      "text/plain": [
       "<Figure size 504x504 with 1 Axes>"
      ]
     },
     "metadata": {},
     "output_type": "display_data"
    },
    {
     "name": "stdout",
     "output_type": "stream",
     "text": [
      "\n",
      "Classification report\n",
      "\n",
      "              precision    recall  f1-score   support\n",
      "\n",
      "         0.0       0.88      0.95      0.91     18496\n",
      "         1.0       0.94      0.87      0.90     18496\n",
      "\n",
      "    accuracy                           0.91     36992\n",
      "   macro avg       0.91      0.91      0.91     36992\n",
      "weighted avg       0.91      0.91      0.91     36992\n",
      "\n",
      "\n",
      "_________________________________________\n",
      "\n",
      "Specificity\n",
      "\n",
      "0.95\n",
      "\n",
      "_________________________________________\n"
     ]
    }
   ],
   "source": [
    "# manual params setting\n",
    "# best_params = {'model__num_leaves': 20, 'model__min_child_samples': 100, 'model__min_child_weight': 0.01, 'model__subsample': 0.8, 'model__reg_alpha': 0, 'model__reg_lambda': 0.1}\n",
    "# best_params = {'model__n_estimators': 400,'model__num_leaves': 20, 'model__min_child_samples': 300, 'model__min_child_weight': 0.01, 'model__subsample': 0.2, 'model__reg_alpha': 1, 'model__reg_lambda': 50}\n",
    "# best_params = {'model__min_child_samples': 300, 'model__min_child_weight': 1, 'model__n_estimators': 400, 'model__num_leaves': 20, 'model__reg_alpha': 1.0, 'model__reg_lambda': 50, 'model__subsample': 0.2}\n",
    "best_params = {'model__n_estimators': 200,'model__num_leaves': 50, 'model__min_child_samples': 100, 'model__min_child_weight': 1, 'model__subsample': 0.2, 'model__reg_alpha': 50, 'model__reg_lambda': 0}\n",
    "# Or get parameters from search above\n",
    "best_params2 = best_params\n",
    "\n",
    "sample_ratio = 1\n",
    "n_samples = int(len(X_train)*sample_ratio)\n",
    "X, y = resample(X_train.values, y_train.outcome.values, n_samples=n_samples, stratify=y_train.values, random_state=10)\n",
    "pipeline_final = copy.deepcopy(pipe)\n",
    "pipeline_final.set_params(**best_params2)\n",
    "pipeline_final.fit(X, y.ravel());\n",
    "\n",
    "\n",
    "print(\"\")\n",
    "print(\"\")\n",
    "print(\"_\"*150)\n",
    "print(\"\")\n",
    "print(\"Train Accuracy:\")\n",
    "print(\"\")\n",
    "\n",
    "y_pred = pipeline_final.predict(X)\n",
    "y_pred_proba = pipeline_final.predict_proba(X)\n",
    "\n",
    "confusion_matrix_plot(y, y_pred, y_pred_proba)\n",
    "\n",
    "\n",
    "\n",
    "\n",
    "# dump(pipeline_final, open('pipe_rf.pkl', 'wb'))\n"
   ]
  },
  {
   "cell_type": "markdown",
   "metadata": {},
   "source": [
    "__________\n",
    "### Test accuracy"
   ]
  },
  {
   "cell_type": "code",
   "execution_count": 55,
   "metadata": {},
   "outputs": [
    {
     "data": {
      "image/png": "[encoded data removed]",
      "text/plain": [
       "<Figure size 432x360 with 1 Axes>"
      ]
     },
     "metadata": {},
     "output_type": "display_data"
    },
    {
     "data": {
      "image/png": "[encoded data removed]",
      "text/plain": [
       "<Figure size 504x504 with 1 Axes>"
      ]
     },
     "metadata": {},
     "output_type": "display_data"
    },
    {
     "name": "stdout",
     "output_type": "stream",
     "text": [
      "\n",
      "Classification report\n",
      "\n",
      "              precision    recall  f1-score   support\n",
      "\n",
      "         0.0       0.89      0.83      0.86      4624\n",
      "         1.0       0.76      0.83      0.79      2865\n",
      "\n",
      "    accuracy                           0.83      7489\n",
      "   macro avg       0.82      0.83      0.83      7489\n",
      "weighted avg       0.84      0.83      0.83      7489\n",
      "\n",
      "\n",
      "_________________________________________\n",
      "\n",
      "Specificity\n",
      "\n",
      "0.83\n",
      "\n",
      "_________________________________________\n"
     ]
    }
   ],
   "source": [
    "\n",
    "# X,y = pipeline_final.named_steps['resample'].fit_resample(X_test, y_test)\n",
    "plt.rcParams[\"figure.figsize\"] = (6,5)\n",
    "clf_threshold = 0.38\n",
    "\n",
    "X,y = X_test.values, y_test.values\n",
    "\n",
    "y_pred = pipeline_final.predict(X)\n",
    "y_pred_proba = pipeline_final.predict_proba(X)\n",
    "y_pred  = (y_pred_proba[:,1] >= clf_threshold).astype(int)\n",
    "\n",
    "confusion_matrix_plot(y, y_pred, y_pred_proba)\n"
   ]
  },
  {
   "cell_type": "code",
   "execution_count": null,
   "metadata": {},
   "outputs": [],
   "source": [
    "df_y.value_counts()"
   ]
  },
  {
   "cell_type": "code",
   "execution_count": null,
   "metadata": {},
   "outputs": [],
   "source": [
    "2491/(7389)"
   ]
  },
  {
   "cell_type": "code",
   "execution_count": null,
   "metadata": {},
   "outputs": [],
   "source": [
    "fpr_XGB_grade123, tpr_XGB_grade123, _ = metrics.roc_curve(y,   y_pred_proba[::,1])\n",
    "%store fpr_XGB_grade123\n",
    "%store tpr_XGB_grade123"
   ]
  },
  {
   "cell_type": "code",
   "execution_count": null,
   "metadata": {},
   "outputs": [],
   "source": [
    "%store -r fpr_RF_grade123\n",
    "%store -r tpr_RF_grade123\n",
    "\n",
    "%store -r fpr_ANN_grade123\n",
    "%store -r tpr_ANN_grade123\n",
    "\n",
    "%store -r fpr_LR_grade123\n",
    "%store -r tpr_LR_grade123"
   ]
  },
  {
   "cell_type": "code",
   "execution_count": null,
   "metadata": {},
   "outputs": [],
   "source": [
    "# plt.rcParams[\"figure.figsize\"] = (7.5,6)\n",
    "plt.rcParams[\"figure.figsize\"] = (9,8)\n",
    "mpl.rcParams['lines.linewidth'] = 1.5\n",
    "plt.plot(fpr_XGB_grade123,tpr_XGB_grade123,label=\"XGB, AUC=\"+str(round(0.88,2)))\n",
    "plt.plot(fpr_RF_grade123,tpr_RF_grade123,label=\"RF, AUC=\"+str(round(0.86,2)))\n",
    "plt.plot(fpr_LR_grade123,tpr_LR_grade123,label=\"LR, AUC=\"+str(round(0.85,2)))\n",
    "plt.plot(fpr_ANN_grade123,tpr_ANN_grade123,label=\"ANN, AUC=\"+str(round(0.84,2)))\n",
    "plt.plot([0, 1], [0, 1], marker=\".\", alpha=0.4)\n",
    "plt.ylabel('True Positive Rate')\n",
    "plt.xlabel('False Positive Rate')\n",
    "plt.legend(loc=4)\n",
    "plt.show()"
   ]
  },
  {
   "cell_type": "code",
   "execution_count": null,
   "metadata": {},
   "outputs": [],
   "source": [
    "final_estimator = pipeline_final._final_estimator"
   ]
  },
  {
   "cell_type": "code",
   "execution_count": null,
   "metadata": {},
   "outputs": [],
   "source": [
    "importances = final_estimator.feature_importances_\n",
    "indices = np.argsort(importances)\n",
    "\n",
    "features = X_train.columns\n",
    "plt.rcParams[\"figure.figsize\"] = (12,20)\n",
    "plt.title('Feature Importances')\n",
    "plt.barh(range(len(indices)), importances[indices], color='b', align='center')\n",
    "plt.yticks(range(len(indices)), [features[i] for i in indices])\n",
    "plt.xlabel('Relative Importance')\n",
    "plt.show()"
   ]
  },
  {
   "cell_type": "code",
   "execution_count": null,
   "metadata": {},
   "outputs": [],
   "source": [
    "def scale_impute(df, pipe):\n",
    "    data_scaled = pipe.named_steps['scaler'].transform(df)\n",
    "    df_scaled = pd.DataFrame(data_scaled, columns=df.columns)\n",
    "    data_imputed = pipe.named_steps['imputer'].transform(df_scaled)\n",
    "    df_result = pd.DataFrame(data_imputed, columns=df.columns)\n",
    "    return df_result"
   ]
  },
  {
   "cell_type": "markdown",
   "metadata": {},
   "source": [
    "## SHAP"
   ]
  },
  {
   "cell_type": "code",
   "execution_count": null,
   "metadata": {},
   "outputs": [],
   "source": [
    "import dalex as dx\n",
    "\n",
    "exp = dx.Explainer(pipeline_final, X_train, y_train)"
   ]
  },
  {
   "cell_type": "code",
   "execution_count": null,
   "metadata": {},
   "outputs": [],
   "source": [
    "exp.model_parts().plot()"
   ]
  },
  {
   "cell_type": "code",
   "execution_count": null,
   "metadata": {},
   "outputs": [],
   "source": [
    "row_number = 1\n",
    "exp.predict_parts(X_test.iloc[[row_number]], N=100).plot(min_max=[0,1])"
   ]
  },
  {
   "cell_type": "code",
   "execution_count": null,
   "metadata": {},
   "outputs": [],
   "source": [
    "import shap\n",
    "\n",
    "X_test_t = scale_impute_via_pipeline(df=X_test,pipe=pipeline_final)\n",
    "shap.initjs()\n",
    "explainer = shap.TreeExplainer(final_estimator)\n",
    "shap_values = explainer.shap_values(X_test_t)"
   ]
  },
  {
   "cell_type": "code",
   "execution_count": null,
   "metadata": {},
   "outputs": [],
   "source": [
    "df_X.temperature_min.describe()"
   ]
  },
  {
   "cell_type": "code",
   "execution_count": null,
   "metadata": {},
   "outputs": [],
   "source": [
    "df_X.temperature_min.median()"
   ]
  },
  {
   "cell_type": "code",
   "execution_count": null,
   "metadata": {},
   "outputs": [],
   "source": [
    "shap.dependence_plot(\"age\",shap_values[1], X_test_t)"
   ]
  },
  {
   "cell_type": "code",
   "execution_count": null,
   "metadata": {},
   "outputs": [],
   "source": [
    "shap.summary_plot(shap_values[1], X_test_t)"
   ]
  },
  {
   "cell_type": "code",
   "execution_count": null,
   "metadata": {},
   "outputs": [],
   "source": [
    "\n",
    "X_train_t = scale_impute_via_pipeline(X_train, pipeline_final)\n",
    "shap.initjs()\n",
    "# X_sampled = df_X_train_imp.sample(100, random_state=10)\n",
    "explainer = shap.TreeExplainer(final_estimator)\n",
    "shap_values = explainer.shap_values(X_train_t)"
   ]
  },
  {
   "cell_type": "code",
   "execution_count": null,
   "metadata": {},
   "outputs": [],
   "source": [
    "shap.dependence_plot(\"age\",shap_values[1], X_train)"
   ]
  },
  {
   "cell_type": "code",
   "execution_count": null,
   "metadata": {},
   "outputs": [],
   "source": [
    "shap.summary_plot(shap_values[1], X_train_t,max_display=50)"
   ]
  },
  {
   "cell_type": "code",
   "execution_count": null,
   "metadata": {},
   "outputs": [],
   "source": [
    "import shap\n",
    "\n",
    "X_test_t = scale_impute(df=X_test,pipe=pipeline_final)\n",
    "shap.initjs()\n",
    "explainer = shap.TreeExplainer(pipeline_final._final_estimator)\n",
    "shap_values = explainer.shap_values(X_test_t)\n",
    "shap.summary_plot(shap_values[1], X_test_t, max_display=50)"
   ]
  },
  {
   "cell_type": "code",
   "execution_count": null,
   "metadata": {},
   "outputs": [],
   "source": [
    "for name in X_train.columns:\n",
    "    shap.dependence_plot(name, shap_values[1], X_train)"
   ]
  },
  {
   "cell_type": "code",
   "execution_count": null,
   "metadata": {},
   "outputs": [],
   "source": [
    "# compute SHAP values\n",
    "\n",
    "# compute SHAP values\n",
    "X_test_t = scale_impute(df=X_test,pipe=pipeline_final)\n",
    "shap.initjs()\n",
    "explainer = shap.Explainer(pipeline_final._final_estimator, X_test_t)\n",
    "shap_values = explainer(X_test_t,check_additivity=False)\n",
    "shap.plots.beeswarm(shap_values,max_display=50)"
   ]
  },
  {
   "cell_type": "code",
   "execution_count": null,
   "metadata": {},
   "outputs": [],
   "source": [
    "row_number=1\n",
    "single_observation = X_train.iloc[[row_number]].values[0]\n",
    "X_train_t = scale_impute(df=X_train,pipe=pipeline_final)\n",
    "\n",
    "# data = shap_values.data[row_number]\n",
    "# data = single_observation\n",
    "\n",
    "shap.initjs()\n",
    "explainer = shap.Explainer(final_estimator,X_train_t, check_additivity=False)\n",
    "# shap_values = explainer(X_train_t)\n",
    "shap_values = explainer(single_observation)\n",
    "\n",
    "\n",
    "\n",
    "class ShapObject:\n",
    "    \n",
    "    def __init__(self, base_values, data, values, feature_names):\n",
    "        self.base_values = base_values # Single value\n",
    "        self.data = data # Raw feature values for 1 row of data\n",
    "        self.values = values # SHAP values for the same row of data\n",
    "        self.feature_names = feature_names # Column names\n",
    "        \n",
    "\n",
    "\n",
    "\n",
    "shap_object = ShapObject(base_values = shap_values.base_values[row_number],\n",
    "                         values = shap_values.values[row_number],\n",
    "                         feature_names = single_observation.columns,\n",
    "                         data = single_observation)\n",
    "\n",
    "                         \n",
    "\n",
    "shap.waterfall_plot(shap_object, max_display=10)\n"
   ]
  },
  {
   "cell_type": "markdown",
   "metadata": {},
   "source": [
    "## Histograms"
   ]
  },
  {
   "cell_type": "code",
   "execution_count": 56,
   "metadata": {},
   "outputs": [],
   "source": [
    "# combining X_test,y_test and y_pred in one dataset\n",
    "# del(df_test_all)\n",
    "df_test_all = X_test.copy()\n",
    "df_test_all['y_actual'] = y_test\n",
    "df_test_all['y_pred'] = y_pred\n",
    "# df_test_all"
   ]
  },
  {
   "cell_type": "code",
   "execution_count": 57,
   "metadata": {},
   "outputs": [],
   "source": [
    "# labeling the category of error\n",
    "\n",
    "pd.options.mode.chained_assignment = None  # To suppress a warning for commands below \n",
    "\n",
    "df_test_all['error_category'] = 0 # create'error_category' column\n",
    "for i in df_test_all.index:\n",
    "     if df_test_all['y_actual'][i] == 0 and df_test_all['y_pred'][i] == 0: # True negative 0 \n",
    "          df_test_all['error_category'][i] = 0\n",
    "     if df_test_all['y_actual'][i] == 0 and df_test_all['y_pred'][i] == 1: # False positive 1\n",
    "          df_test_all['error_category'][i] = 1\n",
    "     if df_test_all['y_actual'][i] == 1 and df_test_all['y_pred'][i] == 1: # True positive 2\n",
    "          df_test_all['error_category'][i] = 2\n",
    "     if df_test_all['y_actual'][i] == 1 and df_test_all['y_pred'][i] == 0: # False negative 3\n",
    "          df_test_all['error_category'][i] = 3\n",
    "\n",
    "# df_test_all"
   ]
  },
  {
   "cell_type": "code",
   "execution_count": 58,
   "metadata": {},
   "outputs": [],
   "source": [
    "df_TN = df_test_all[df_test_all.error_category==0]\n",
    "df_FP = df_test_all[df_test_all.error_category==1]\n",
    "\n",
    "df_TP = df_test_all[df_test_all.error_category==2]\n",
    "df_FN = df_test_all[df_test_all.error_category==3]"
   ]
  },
  {
   "cell_type": "code",
   "execution_count": null,
   "metadata": {},
   "outputs": [],
   "source": [
    "import shap\n",
    "\n",
    "df_TN_shap = df_TN.drop(['y_pred','y_actual','error_category'], axis=1)\n",
    "df_TN_shap = scale_impute_via_pipeline(df_TN_shap)\n",
    "shap.initjs()\n",
    "# X_sampled = df_X_train_imp.sample(100, random_state=10)\n",
    "explainer = shap.TreeExplainer(final_estimator)\n",
    "shap_values = explainer.shap_values(df_TN_shap)\n",
    "shap.summary_plot(shap_values[1], df_TN_shap)"
   ]
  },
  {
   "cell_type": "code",
   "execution_count": null,
   "metadata": {},
   "outputs": [],
   "source": [
    "error_df = {\"df_TN\":df_TN, \"df_FP\":df_FP, \"df_TP\":df_TP, \"df_FN\":df_FN}\n",
    "# error_df = {\"df_FP\":df_FP, \"df_FN\":df_FN}\n",
    "\n",
    "import shap\n",
    "shap.initjs()\n",
    "\n",
    "for k,df in error_df.items():\n",
    "    df_shap = df.drop(['y_pred','y_actual','error_category'], axis=1)\n",
    "    df_shap = scale_impute_via_pipeline(df_shap, final_estimator)\n",
    "\n",
    "    explainer = shap.TreeExplainer(final_estimator)\n",
    "    shap_values = explainer.shap_values(df_shap)\n",
    "    print(\"SHAP: \"+k)\n",
    "    shap.summary_plot(shap_values[1], df_shap)"
   ]
  },
  {
   "cell_type": "code",
   "execution_count": null,
   "metadata": {},
   "outputs": [],
   "source": [
    "df_FN.shape"
   ]
  },
  {
   "cell_type": "code",
   "execution_count": null,
   "metadata": {},
   "outputs": [],
   "source": [
    "common_processed = processed2.copy()\n",
    "common_FN = pd.merge(df_FN, common_processed, how='inner', left_index=True, right_index=True, suffixes=('', '_drop'))\n",
    "common_FN.drop([col for col in common_FN.columns if 'drop' in col], axis=1, inplace=True)\n",
    "\n",
    "common_FN.aki_kdigo_grade_1.value_counts()"
   ]
  },
  {
   "cell_type": "code",
   "execution_count": null,
   "metadata": {},
   "outputs": [],
   "source": [
    "common_FN.aki_kdigo_grade_2.value_counts()"
   ]
  },
  {
   "cell_type": "code",
   "execution_count": null,
   "metadata": {},
   "outputs": [],
   "source": [
    "common_FN.aki_kdigo_grade_3.value_counts()"
   ]
  },
  {
   "cell_type": "markdown",
   "metadata": {},
   "source": [
    "## Dalex"
   ]
  },
  {
   "cell_type": "code",
   "execution_count": 59,
   "metadata": {},
   "outputs": [
    {
     "name": "stdout",
     "output_type": "stream",
     "text": [
      "Preparation of a new explainer is initiated\n",
      "\n",
      "  -> data              : 36992 rows 88 cols\n",
      "  -> target variable   : Parameter 'y' was a pandas.DataFrame. Converted to a numpy.ndarray.\n",
      "  -> target variable   : 36992 values\n",
      "  -> model_class       : lightgbm.sklearn.LGBMClassifier (default)\n",
      "  -> label             : Not specified, model's class short name will be used. (default)\n",
      "  -> predict function  : <function yhat_proba_default at 0x7fea007c1700> will be used (default)\n",
      "  -> predict function  : Accepts pandas.DataFrame and numpy.ndarray.\n",
      "  -> predicted values  : min = 0.00613, mean = 0.501, max = 0.998\n",
      "  -> model type        : classification will be used (default)\n",
      "  -> residual function : difference between y and yhat (default)\n",
      "  -> residuals         : min = -0.948, mean = -0.000763, max = 0.981\n",
      "  -> model_info        : package imblearn\n",
      "\n",
      "A new explainer has been created!\n"
     ]
    }
   ],
   "source": [
    "import dalex as dx\n",
    "\n",
    "exp = dx.Explainer(pipeline_final, X_train, y_train)"
   ]
  },
  {
   "cell_type": "code",
   "execution_count": 60,
   "metadata": {},
   "outputs": [
    {
     "data": {
      "application/vnd.plotly.v1+json": {
       "config": {
        "plotlyServerURL": "https://plot.ly"
       },
       "data": [
        {
         "line": {
          "shape": "hv"
         },
         "marker": {
          "color": "#46bac2"
         },
         "name": "LGBMClassifier",
         "type": "scatter",
         "x": [
          0,
          0,
          0,
          0,
          0,
          0,
          0,
          0,
          0,
          0,
          0,
          0,
          0,
          0,
          0,
          0,
          0.0020544982698961936,
          0.0029736159169550173,
          0.0038927335640138406,
          0.01513840830449827,
          0.019463667820069204,
          0.02362673010380623,
          0.028222318339100345,
          0.03352076124567474,
          0.04265787197231834,
          0.04271193771626298,
          0.06055363321799308,
          0.061094290657439446,
          0.07363754325259515,
          0.09429065743944637,
          0.10088667820069204,
          0.12143166089965397,
          0.14197664359861592,
          0.15257352941176472,
          0.1546280276816609,
          0.15516868512110726,
          0.1727400519031142,
          0.18382352941176472,
          0.18690527681660898,
          0.19355536332179932,
          0.19750216262975778,
          0.23123918685121106,
          0.2740051903114187,
          0.27616782006920415,
          0.2802227508650519,
          0.30298442906574397,
          0.31217560553633217,
          0.31915008650519033,
          0.32861159169550175,
          0.33158520761245674,
          0.33309904844290655,
          0.36980968858131485,
          0.38878676470588236,
          0.39576124567474047,
          0.3968966262975779,
          0.3993295847750865,
          0.4036007785467128,
          0.4289035467128028,
          0.4343101211072664,
          0.44977292387543255,
          0.45501730103806226,
          0.48194204152249137,
          0.4833477508650519,
          0.5002703287197232,
          0.5377378892733564,
          0.5396842560553633,
          0.5493620242214533,
          0.566068339100346,
          0.5725021626297578,
          0.5792603806228374,
          0.5800713667820069,
          0.5974264705882353,
          0.6120242214532872,
          0.6142409169550173,
          0.6195934256055363,
          0.6270004325259516,
          0.6288927335640139,
          0.6688473183391004,
          0.6939338235294118,
          0.7211829584775087,
          0.7307525951557093,
          0.7497296712802768,
          0.7616241349480969,
          0.7648680795847751,
          0.7803849480968859,
          0.7840614186851211,
          0.7847642733564014,
          0.7956314878892734,
          0.7982807093425606,
          0.8083910034602076,
          0.8092560553633218,
          0.8221237024221453,
          0.824556660899654,
          0.826773356401384,
          0.8527249134948097,
          0.886299740484429,
          0.8961397058823529,
          0.9094939446366782,
          0.9126297577854672,
          0.9528546712802768,
          0.9772923875432526,
          0.9880514705882353
         ],
         "y": [
          0,
          0.3055255190311419,
          0.23691608996539792,
          0.2491349480968858,
          0.4914035467128028,
          0.005136245674740484,
          0.06260813148788927,
          0.44404195501730104,
          0.16311634948096887,
          0.14949178200692043,
          0.12624351211072665,
          0.487348615916955,
          0.09948096885813149,
          0.43993295847750863,
          0.5219506920415224,
          0.24989186851211073,
          0.5813689446366782,
          0.5961288927335641,
          0.6076989619377162,
          0.704314446366782,
          0.726643598615917,
          0.7442690311418685,
          0.7604887543252595,
          0.7745999134948097,
          0.7945501730103807,
          0.7951448961937716,
          0.8294225778546713,
          0.8306660899653979,
          0.848507785467128,
          0.8692149653979239,
          0.8745674740484429,
          0.8890570934256056,
          0.9021410034602076,
          0.9076557093425606,
          0.9089532871972318,
          0.9093317474048442,
          0.9185229238754326,
          0.9240916955017301,
          0.925443339100346,
          0.9271734429065744,
          0.9286872837370242,
          0.9409602076124568,
          0.9515570934256056,
          0.9518274221453287,
          0.953125,
          0.9584234429065744,
          0.9601535467128027,
          0.9617214532871973,
          0.9632352941176471,
          0.9638840830449827,
          0.9642084775086506,
          0.9691284602076125,
          0.9721020761245674,
          0.9732374567474048,
          0.9733996539792388,
          0.9739403114186851,
          0.9740484429065744,
          0.9769139273356401,
          0.9770761245674741,
          0.9794009515570934,
          0.9798334775086506,
          0.9816717128027682,
          0.9816717128027682,
          0.9836721453287197,
          0.9867538927335641,
          0.9869160899653979,
          0.9872404844290658,
          0.9883217993079585,
          0.9887543252595156,
          0.9890787197231834,
          0.989132785467128,
          0.9901600346020761,
          0.9905925605536332,
          0.9907006920415224,
          0.9907547577854672,
          0.990916955017301,
          0.9912954152249135,
          0.9928092560553633,
          0.9936202422145328,
          0.9950259515570934,
          0.9958910034602076,
          0.9962153979238755,
          0.9964857266435986,
          0.9964857266435986,
          0.9969182525951558,
          0.9971345155709342,
          0.9971345155709342,
          0.9974048442906575,
          0.9974048442906575,
          0.9975670415224913,
          0.9976751730103807,
          0.9978914359861591,
          0.9978914359861591,
          0.9978914359861591,
          0.9984861591695502,
          0.9990808823529411,
          0.9993512110726643,
          0.9994593425605537,
          0.9995134083044983,
          0.9998378027681661,
          0.9998918685121108,
          1
         ]
        }
       ],
       "layout": {
        "font": {
         "color": "#371ea3"
        },
        "margin": {
         "b": 71,
         "r": 30,
         "t": 78
        },
        "template": {
         "data": {
          "scatter": [
           {
            "type": "scatter"
           }
          ]
         }
        },
        "title": {
         "text": "Receiver Operating Characteristic",
         "x": 0.15
        },
        "xaxis": {
         "automargin": true,
         "fixedrange": true,
         "gridwidth": 2,
         "tickcolor": "white",
         "ticklen": 10,
         "ticks": "outside",
         "title": {
          "text": "False positive rate"
         },
         "type": "linear",
         "zeroline": false
        },
        "yaxis": {
         "automargin": true,
         "fixedrange": true,
         "gridwidth": 2,
         "tickcolor": "white",
         "ticklen": 10,
         "ticks": "outside",
         "title": {
          "text": "True positive rate"
         },
         "type": "linear",
         "zeroline": false
        }
       }
      }
     },
     "metadata": {},
     "output_type": "display_data"
    }
   ],
   "source": [
    "exp.model_performance(model_type='classification').plot(geom='roc')"
   ]
  },
  {
   "cell_type": "code",
   "execution_count": 61,
   "metadata": {},
   "outputs": [
    {
     "data": {
      "application/vnd.plotly.v1+json": {
       "config": {
        "displaylogo": false,
        "modeBarButtonsToRemove": [
         "sendDataToCloud",
         "lasso2d",
         "autoScale2d",
         "select2d",
         "zoom2d",
         "pan2d",
         "zoomIn2d",
         "zoomOut2d",
         "resetScale2d",
         "toggleSpikelines",
         "hoverCompareCartesian",
         "hoverClosestCartesian"
        ],
        "plotlyServerURL": "https://plot.ly",
        "staticPlot": false,
        "toImageButtonOptions": {
         "height": null,
         "width": null
        }
       },
       "data": [
        {
         "base": 0.045060494667392516,
         "hoverinfo": "text",
         "hoverlabel": {
          "bgcolor": "rgba(0,0,0,0.8)"
         },
         "hovertext": [
          "Model: LGBMClassifier loss after<br>variable: creatinine_max is permuted: 0.203<br>Drop-out loss change: +0.158",
          "Model: LGBMClassifier loss after<br>variable: egfr_mdrd_scr_max is permuted: 0.144<br>Drop-out loss change: +0.099",
          "Model: LGBMClassifier loss after<br>variable: creatinine_min is permuted: 0.119<br>Drop-out loss change: +0.074",
          "Model: LGBMClassifier loss after<br>variable: egfr_epi_scr_max is permuted: 0.05<br>Drop-out loss change: +0.005",
          "Model: LGBMClassifier loss after<br>variable: ptt_max is permuted: 0.049<br>Drop-out loss change: +0.004",
          "Model: LGBMClassifier loss after<br>variable: temperature_min is permuted: 0.048<br>Drop-out loss change: +0.003",
          "Model: LGBMClassifier loss after<br>variable: platelets_min is permuted: 0.048<br>Drop-out loss change: +0.003",
          "Model: LGBMClassifier loss after<br>variable: glucose_max is permuted: 0.048<br>Drop-out loss change: +0.003",
          "Model: LGBMClassifier loss after<br>variable: calcium_max is permuted: 0.048<br>Drop-out loss change: +0.003",
          "Model: LGBMClassifier loss after<br>variable: hemoglobin_max is permuted: 0.048<br>Drop-out loss change: +0.003",
          "Model: LGBMClassifier loss after<br>variable: hemoglobin_min is permuted: 0.048<br>Drop-out loss change: +0.003",
          "Model: LGBMClassifier loss after<br>variable: hematocrit_min is permuted: 0.048<br>Drop-out loss change: +0.003",
          "Model: LGBMClassifier loss after<br>variable: sbp_max is permuted: 0.048<br>Drop-out loss change: +0.003",
          "Model: LGBMClassifier loss after<br>variable: platelets_max is permuted: 0.048<br>Drop-out loss change: +0.002",
          "Model: LGBMClassifier loss after<br>variable: pt_max is permuted: 0.048<br>Drop-out loss change: +0.002",
          "Model: LGBMClassifier loss after<br>variable: temperature_mean is permuted: 0.047<br>Drop-out loss change: +0.002",
          "Model: LGBMClassifier loss after<br>variable: invasive_vent is permuted: 0.047<br>Drop-out loss change: +0.002",
          "Model: LGBMClassifier loss after<br>variable: heart_rate_mean is permuted: 0.047<br>Drop-out loss change: +0.002",
          "Model: LGBMClassifier loss after<br>variable: weight_max is permuted: 0.047<br>Drop-out loss change: +0.002",
          "Model: LGBMClassifier loss after<br>variable: potassium_min is permuted: 0.047<br>Drop-out loss change: +0.002",
          "Model: LGBMClassifier loss after<br>variable: hematocrit_max is permuted: 0.047<br>Drop-out loss change: +0.002",
          "Model: LGBMClassifier loss after<br>variable: wbc_max is permuted: 0.047<br>Drop-out loss change: +0.002",
          "Model: LGBMClassifier loss after<br>variable: sbp_min is permuted: 0.047<br>Drop-out loss change: +0.002",
          "Model: LGBMClassifier loss after<br>variable: dbp_mean is permuted: 0.047<br>Drop-out loss change: +0.002",
          "Model: LGBMClassifier loss after<br>variable: age is permuted: 0.047<br>Drop-out loss change: +0.002",
          "Model: LGBMClassifier loss after<br>variable: wbc_bd_min is permuted: 0.047<br>Drop-out loss change: +0.002",
          "Model: LGBMClassifier loss after<br>variable: sodium_min is permuted: 0.047<br>Drop-out loss change: +0.002",
          "Model: LGBMClassifier loss after<br>variable: calcium_min is permuted: 0.047<br>Drop-out loss change: +0.002",
          "Model: LGBMClassifier loss after<br>variable: female is permuted: 0.047<br>Drop-out loss change: +0.002",
          "Model: LGBMClassifier loss after<br>variable: weight_admit is permuted: 0.047<br>Drop-out loss change: +0.002"
         ],
         "marker": {
          "color": "#46bac2"
         },
         "orientation": "h",
         "showlegend": false,
         "text": [
          "+0.158",
          "+0.099",
          "+0.074",
          "+0.005",
          "+0.004",
          "+0.003",
          "+0.003",
          "+0.003",
          "+0.003",
          "+0.003",
          "+0.003",
          "+0.003",
          "+0.003",
          "+0.002",
          "+0.002",
          "+0.002",
          "+0.002",
          "+0.002",
          "+0.002",
          "+0.002",
          "+0.002",
          "+0.002",
          "+0.002",
          "+0.002",
          "+0.002",
          "+0.002",
          "+0.002",
          "+0.002",
          "+0.002",
          "+0.002"
         ],
         "textposition": "outside",
         "type": "bar",
         "x": [
          0.15807668487195264,
          0.09923909403740577,
          0.07410970733007036,
          0.005154909377123096,
          0.003864258494710636,
          0.0031336584153349722,
          0.002810467407668056,
          0.002762446953518717,
          0.0026890713069607428,
          0.002627205080091073,
          0.0026107644783044393,
          0.002552208317325562,
          0.0025192707037426793,
          0.00249681339080305,
          0.0024902832934043245,
          0.002332298119782923,
          0.002272506439299715,
          0.002269788020832532,
          0.002202410329159063,
          0.0021841402400468793,
          0.0021467453704503217,
          0.0021434686778620884,
          0.002091979641023922,
          0.0020441510908719707,
          0.0019742082184207033,
          0.0018654935605562847,
          0.001858343166740814,
          0.0018393156371404942,
          0.001829690072708813,
          0.0017974479175099853
         ],
         "xaxis": "x",
         "y": [
          "creatinine_max",
          "egfr_mdrd_scr_max",
          "creatinine_min",
          "egfr_epi_scr_max",
          "ptt_max",
          "temperature_min",
          "platelets_min",
          "glucose_max",
          "calcium_max",
          "hemoglobin_max",
          "hemoglobin_min",
          "hematocrit_min",
          "sbp_max",
          "platelets_max",
          "pt_max",
          "temperature_mean",
          "invasive_vent",
          "heart_rate_mean",
          "weight_max",
          "potassium_min",
          "hematocrit_max",
          "wbc_max",
          "sbp_min",
          "dbp_mean",
          "age",
          "wbc_bd_min",
          "sodium_min",
          "calcium_min",
          "female",
          "weight_admit"
         ],
         "yaxis": "y"
        }
       ],
       "layout": {
        "annotations": [
         {
          "font": {
           "size": 16
          },
          "showarrow": false,
          "text": "LGBMClassifier",
          "x": 0.5,
          "xanchor": "center",
          "xref": "paper",
          "y": 1,
          "yanchor": "bottom",
          "yref": "paper"
         },
         {
          "font": {
           "size": 16
          },
          "showarrow": false,
          "text": "drop-out loss",
          "x": 0.5,
          "xanchor": "center",
          "xref": "paper",
          "y": 0,
          "yanchor": "top",
          "yref": "paper",
          "yshift": -30
         }
        ],
        "font": {
         "color": "#371ea3"
        },
        "height": 783,
        "margin": {
         "b": 71,
         "r": 30,
         "t": 78
        },
        "shapes": [
         {
          "line": {
           "color": "#371ea3",
           "dash": "dot",
           "width": 1.5
          },
          "type": "line",
          "x0": 0.045060494667392516,
          "x1": 0.045060494667392516,
          "xref": "x",
          "y0": -1,
          "y1": 30,
          "yref": "y"
         }
        ],
        "template": {
         "data": {
          "scatter": [
           {
            "type": "scatter"
           }
          ]
         }
        },
        "title": {
         "text": "Variable Importance",
         "x": 0.15
        },
        "xaxis": {
         "anchor": "y",
         "automargin": true,
         "domain": [
          0,
          1
         ],
         "fixedrange": true,
         "gridwidth": 2,
         "range": [
          0.02132550116618411,
          0.2268517462836705
         ],
         "tickcolor": "white",
         "ticklen": 3,
         "ticks": "outside",
         "type": "linear",
         "zeroline": false
        },
        "yaxis": {
         "anchor": "x",
         "automargin": true,
         "autorange": "reversed",
         "domain": [
          0,
          1
         ],
         "fixedrange": true,
         "gridwidth": 2,
         "tickcolor": "white",
         "ticklen": 10,
         "ticks": "outside",
         "type": "category"
        }
       }
      }
     },
     "metadata": {},
     "output_type": "display_data"
    }
   ],
   "source": [
    "exp.model_parts().plot(max_vars=30)"
   ]
  },
  {
   "cell_type": "code",
   "execution_count": null,
   "metadata": {},
   "outputs": [],
   "source": [
    "row_number = 1\n",
    "exp.predict_parts(X_test.iloc[[row_number]], N=100).plot(min_max=[0,1])"
   ]
  },
  {
   "cell_type": "code",
   "execution_count": null,
   "metadata": {},
   "outputs": [],
   "source": [
    "y_test.iloc[[row_number]]"
   ]
  },
  {
   "cell_type": "code",
   "execution_count": null,
   "metadata": {},
   "outputs": [],
   "source": [
    "y_pred[row_number]"
   ]
  },
  {
   "cell_type": "code",
   "execution_count": null,
   "metadata": {},
   "outputs": [],
   "source": [
    "import dalex as dx\n",
    "\n",
    "error_df = {\"df_TN\":df_TN, \"df_FP\":df_FP, \"df_TP\":df_TP, \"df_FN\":df_FN}\n",
    "# error_df = {\"df_FP\":df_FP, \"df_FN\":df_FN}\n",
    "\n",
    "for k,df in error_df.items():\n",
    "    df_shap = df.drop(['y_pred','y_actual','error_category'], axis=1)\n",
    "\n",
    "    row_number = 1\n",
    "    print(\"SHAP: \"+k)\n",
    "    exp.predict_parts(df_shap.iloc[[row_number]], N=100).plot(min_max=[0,1])"
   ]
  },
  {
   "cell_type": "code",
   "execution_count": null,
   "metadata": {},
   "outputs": [],
   "source": [
    "df_shap.iloc[[228]]"
   ]
  },
  {
   "cell_type": "markdown",
   "metadata": {},
   "source": [
    "## Break-down plot using Dalex"
   ]
  },
  {
   "cell_type": "code",
   "execution_count": 62,
   "metadata": {},
   "outputs": [
    {
     "name": "stdout",
     "output_type": "stream",
     "text": [
      "Using DALEX on false positive instance with row number: 654\n"
     ]
    },
    {
     "data": {
      "application/vnd.plotly.v1+json": {
       "config": {
        "displaylogo": false,
        "modeBarButtonsToRemove": [
         "sendDataToCloud",
         "lasso2d",
         "autoScale2d",
         "select2d",
         "zoom2d",
         "pan2d",
         "zoomIn2d",
         "zoomOut2d",
         "resetScale2d",
         "toggleSpikelines",
         "hoverCompareCartesian",
         "hoverClosestCartesian"
        ],
        "plotlyServerURL": "https://plot.ly",
        "staticPlot": false,
        "toImageButtonOptions": {
         "height": null,
         "width": null
        }
       },
       "data": [
        {
         "base": 0.38,
         "connector": {
          "line": {
           "color": "#371ea3",
           "dash": "solid",
           "width": 1
          },
          "mode": "spanning"
         },
         "decreasing": {
          "marker": {
           "color": "#f05a71"
          }
         },
         "hoverinfo": "text+delta",
         "hoverlabel": {
          "bgcolor": "rgba(0,0,0,0.8)"
         },
         "hovertext": [
          "Average response: 0.466<br>Prediction: 0.653",
          "creatinine_min = 0.3<br>increases average response by",
          "creatinine_max = 0.4<br>decreases average response by",
          "egfr_mdrd_scr_max = 162.0<br>decreases average response by",
          "egfr_epi_scr_max = 112.0<br>decreases average response by",
          "invasive_vent = 1.0<br>increases average response by",
          "wbc_bd_min = 2.3<br>increases average response by",
          "calcium_max = 7.8<br>decreases average response by",
          "pt_max = 16.5<br>increases average response by",
          "potassium_max = 4.0<br>decreases average response by",
          "glucose_max = 241.0<br>increases average response by",
          "bilirubin_total_min = 0.7<br>decreases average response by",
          "potassium_min = 3.9<br>decreases average response by",
          "hemoglobin_min = 9.1<br>increases average response by",
          "sodium_min = 131.0<br>increases average response by",
          "ptt_max = 37.1<br>decreases average response by",
          "female = 1.0<br>decreases average response by",
          "hypertension = 0.0<br>decreases average response by",
          "temperature_min = 36.61<br>decreases average response by",
          "sbp_max = 154.0<br>increases average response by",
          "chloride_max = 109.0<br>increases average response by",
          "weight_max = 52.0<br>increases average response by",
          "resp_rate_mean = 14.24<br>increases average response by",
          "albumin_max = 3.0<br>decreases average response by",
          "albumin_min:hemoglobin_max = 2.8:14.2<br>decreases average response by",
          "hematocrit_min = 28.6<br>decreases average response by",
          "hematocrit_max:bilirubin_total_max = 42.0:1.9<br>decreases average response by",
          "dbp_mean = 72.75<br>decreases average response by",
          "calcium_min = 7.4<br>decreases average response by",
          "spo2_min = 94.0<br>increases average response by",
          "bun_max = 13.0<br>decreases average response by",
          "+ all other factors<br>increases average response by",
          "Average response: 0.466<br>Prediction: 0.653"
         ],
         "increasing": {
          "marker": {
           "color": "#8bdcbe"
          }
         },
         "measure": [
          "relative",
          "relative",
          "relative",
          "relative",
          "relative",
          "relative",
          "relative",
          "relative",
          "relative",
          "relative",
          "relative",
          "relative",
          "relative",
          "relative",
          "relative",
          "relative",
          "relative",
          "relative",
          "relative",
          "relative",
          "relative",
          "relative",
          "relative",
          "relative",
          "relative",
          "relative",
          "relative",
          "relative",
          "relative",
          "relative",
          "relative",
          "relative",
          "total"
         ],
         "orientation": "h",
         "showlegend": false,
         "text": [
          "0.466",
          "+0.426",
          "-0.192",
          "-0.124",
          "-0.007",
          "+0.005",
          "+0.009",
          "-0.007",
          "+0.008",
          "-0.0",
          "+0.013",
          "-0.011",
          "-0.012",
          "+0.001",
          "+0.003",
          "-0.002",
          "-0.002",
          "-0.013",
          "-0.001",
          "+0.008",
          "+0.023",
          "+0.003",
          "+0.005",
          "-0.004",
          "-0.003",
          "-0.0",
          "-0.002",
          "-0.001",
          "-0.0",
          "+0.002",
          "0.0",
          "+0.065",
          "0.653"
         ],
         "textposition": "outside",
         "totals": {
          "marker": {
           "color": "#371ea3"
          }
         },
         "type": "waterfall",
         "x": [
          0.086,
          0.426,
          -0.192,
          -0.124,
          -0.007,
          0.005,
          0.009,
          -0.007,
          0.008,
          0,
          0.013,
          -0.011,
          -0.012,
          0.001,
          0.003,
          -0.002,
          -0.002,
          -0.013,
          -0.001,
          0.008,
          0.023,
          0.003,
          0.005,
          -0.004,
          -0.003,
          0,
          -0.002,
          -0.001,
          0,
          0.002,
          0,
          0.065,
          0.273
         ],
         "xaxis": "x",
         "y": [
          "intercept",
          "creatinine_min = 0.3",
          "creatinine_max = 0.4",
          "egfr_mdrd_scr_max = 162.0",
          "egfr_epi_scr_max = 112.0",
          "invasive_vent = 1.0",
          "wbc_bd_min = 2.3",
          "calcium_max = 7.8",
          "pt_max = 16.5",
          "potassium_max = 4.0",
          "glucose_max = 241.0",
          "bilirubin_total_min = 0.7",
          "potassium_min = 3.9",
          "hemoglobin_min = 9.1",
          "sodium_min = 131.0",
          "ptt_max = 37.1",
          "female = 1.0",
          "hypertension = 0.0",
          "temperature_min = 36.61",
          "sbp_max = 154.0",
          "chloride_max = 109.0",
          "weight_max = 52.0",
          "resp_rate_mean = 14.24",
          "albumin_max = 3.0",
          "albumin_min:hemoglobin_max = 2.8:14.2",
          "hematocrit_min = 28.6",
          "hematocrit_max:bilirubin_total_max = 42.0:1.9",
          "dbp_mean = 72.75",
          "calcium_min = 7.4",
          "spo2_min = 94.0",
          "bun_max = 13.0",
          "+ all other factors",
          "prediction"
         ],
         "yaxis": "y"
        }
       ],
       "layout": {
        "annotations": [
         {
          "font": {
           "size": 16
          },
          "showarrow": false,
          "text": "LGBMClassifier",
          "x": 0.5,
          "xanchor": "center",
          "xref": "paper",
          "y": 1,
          "yanchor": "bottom",
          "yref": "paper"
         },
         {
          "font": {
           "size": 16
          },
          "showarrow": false,
          "text": "contribution",
          "x": 0.5,
          "xanchor": "center",
          "xref": "paper",
          "y": 0,
          "yanchor": "top",
          "yref": "paper",
          "yshift": -30
         }
        ],
        "font": {
         "color": "#371ea3"
        },
        "height": 813,
        "margin": {
         "b": 71,
         "r": 30,
         "t": 78
        },
        "shapes": [
         {
          "line": {
           "color": "#371ea3",
           "dash": "dot",
           "width": 1.5
          },
          "type": "line",
          "x0": 0.38,
          "x1": 0.38,
          "xref": "x",
          "y0": -1,
          "y1": 33,
          "yref": "y"
         }
        ],
        "template": {
         "data": {
          "scatter": [
           {
            "type": "scatter"
           }
          ]
         }
        },
        "title": {
         "text": "Break Down",
         "x": 0.15
        },
        "xaxis": {
         "anchor": "y",
         "automargin": true,
         "domain": [
          0,
          1
         ],
         "fixedrange": true,
         "gridwidth": 2,
         "range": [
          0,
          1
         ],
         "tickcolor": "white",
         "ticklen": 3,
         "ticks": "outside",
         "type": "linear",
         "zeroline": false
        },
        "yaxis": {
         "anchor": "x",
         "automargin": true,
         "autorange": "reversed",
         "domain": [
          0,
          1
         ],
         "fixedrange": true,
         "gridwidth": 2,
         "tickcolor": "white",
         "ticklen": 10,
         "ticks": "outside",
         "type": "category"
        }
       }
      }
     },
     "metadata": {},
     "output_type": "display_data"
    },
    {
     "name": "stdout",
     "output_type": "stream",
     "text": [
      "Using DALEX on false positive instance with row number: 114\n"
     ]
    },
    {
     "data": {
      "application/vnd.plotly.v1+json": {
       "config": {
        "displaylogo": false,
        "modeBarButtonsToRemove": [
         "sendDataToCloud",
         "lasso2d",
         "autoScale2d",
         "select2d",
         "zoom2d",
         "pan2d",
         "zoomIn2d",
         "zoomOut2d",
         "resetScale2d",
         "toggleSpikelines",
         "hoverCompareCartesian",
         "hoverClosestCartesian"
        ],
        "plotlyServerURL": "https://plot.ly",
        "staticPlot": false,
        "toImageButtonOptions": {
         "height": null,
         "width": null
        }
       },
       "data": [
        {
         "base": 0.38,
         "connector": {
          "line": {
           "color": "#371ea3",
           "dash": "solid",
           "width": 1
          },
          "mode": "spanning"
         },
         "decreasing": {
          "marker": {
           "color": "#f05a71"
          }
         },
         "hoverinfo": "text+delta",
         "hoverlabel": {
          "bgcolor": "rgba(0,0,0,0.8)"
         },
         "hovertext": [
          "Average response: 0.486<br>Prediction: 0.498",
          "creatinine_max = 1.0<br>increases average response by",
          "creatinine_min = 0.7<br>increases average response by",
          "egfr_epi_scr_max:egfr_mdrd_scr_max = 68.0:60.0<br>increases average response by",
          "ptt_max = 21.5<br>decreases average response by",
          "potassium_max = 3.3<br>decreases average response by",
          "wbc_max = 30.5<br>increases average response by",
          "platelets_min = 254.0<br>decreases average response by",
          "chloride_max = 114.0<br>increases average response by",
          "sodium_min = 144.0<br>decreases average response by",
          "weight_max = 63.0<br>decreases average response by",
          "temperature_mean = 37.41<br>decreases average response by",
          "bilirubin_total_max = 0.4<br>decreases average response by",
          "bilirubin_total_min = 0.4<br>decreases average response by",
          "glucose_max = 92.0<br>increases average response by",
          "bun_max = 10.0<br>decreases average response by",
          "platelets_max = 298.0<br>decreases average response by",
          "sbp_max = 117.0<br>decreases average response by",
          "hematocrit_min = 32.1<br>decreases average response by",
          "invasive_vent = 0.0<br>decreases average response by",
          "bmi = 37.06<br>increases average response by",
          "female = 1.0<br>decreases average response by",
          "calcium_min:calcium_max = 7.0:9.5<br>increases average response by",
          "urineoutput_24hr = 380.0<br>decreases average response by",
          "temperature_max = 38.5<br>decreases average response by",
          "hypertension = 0.0<br>increases average response by",
          "sbp_min = 86.0<br>increases average response by",
          "wbc_bd_min = 18.5<br>decreases average response by",
          "albumin_max:potassium_min = 4.5:3.3<br>increases average response by",
          "dbp_mean = 62.61<br>decreases average response by",
          "age = 46.0<br>increases average response by",
          "+ all other factors<br>decreases average response by",
          "Average response: 0.486<br>Prediction: 0.498"
         ],
         "increasing": {
          "marker": {
           "color": "#8bdcbe"
          }
         },
         "measure": [
          "relative",
          "relative",
          "relative",
          "relative",
          "relative",
          "relative",
          "relative",
          "relative",
          "relative",
          "relative",
          "relative",
          "relative",
          "relative",
          "relative",
          "relative",
          "relative",
          "relative",
          "relative",
          "relative",
          "relative",
          "relative",
          "relative",
          "relative",
          "relative",
          "relative",
          "relative",
          "relative",
          "relative",
          "relative",
          "relative",
          "relative",
          "relative",
          "total"
         ],
         "orientation": "h",
         "showlegend": false,
         "text": [
          "0.486",
          "+0.099",
          "+0.061",
          "+0.002",
          "-0.026",
          "-0.039",
          "+0.023",
          "-0.019",
          "+0.029",
          "-0.036",
          "-0.008",
          "-0.018",
          "-0.012",
          "-0.006",
          "+0.016",
          "-0.012",
          "-0.008",
          "-0.013",
          "-0.006",
          "-0.011",
          "+0.001",
          "-0.004",
          "+0.038",
          "-0.012",
          "-0.005",
          "+0.001",
          "+0.005",
          "-0.015",
          "+0.027",
          "-0.01",
          "+0.003",
          "-0.036",
          "0.498"
         ],
         "textposition": "outside",
         "totals": {
          "marker": {
           "color": "#371ea3"
          }
         },
         "type": "waterfall",
         "x": [
          0.106,
          0.099,
          0.061,
          0.002,
          -0.026,
          -0.039,
          0.023,
          -0.019,
          0.029,
          -0.036,
          -0.008,
          -0.018,
          -0.012,
          -0.006,
          0.016,
          -0.012,
          -0.008,
          -0.013,
          -0.006,
          -0.011,
          0.001,
          -0.004,
          0.038,
          -0.012,
          -0.005,
          0.001,
          0.005,
          -0.015,
          0.027,
          -0.01,
          0.003,
          -0.036,
          0.118
         ],
         "xaxis": "x",
         "y": [
          "intercept",
          "creatinine_max = 1.0",
          "creatinine_min = 0.7",
          "egfr_epi_scr_max:egfr_mdrd_scr_max = 68.0:60.0",
          "ptt_max = 21.5",
          "potassium_max = 3.3",
          "wbc_max = 30.5",
          "platelets_min = 254.0",
          "chloride_max = 114.0",
          "sodium_min = 144.0",
          "weight_max = 63.0",
          "temperature_mean = 37.41",
          "bilirubin_total_max = 0.4",
          "bilirubin_total_min = 0.4",
          "glucose_max = 92.0",
          "bun_max = 10.0",
          "platelets_max = 298.0",
          "sbp_max = 117.0",
          "hematocrit_min = 32.1",
          "invasive_vent = 0.0",
          "bmi = 37.06",
          "female = 1.0",
          "calcium_min:calcium_max = 7.0:9.5",
          "urineoutput_24hr = 380.0",
          "temperature_max = 38.5",
          "hypertension = 0.0",
          "sbp_min = 86.0",
          "wbc_bd_min = 18.5",
          "albumin_max:potassium_min = 4.5:3.3",
          "dbp_mean = 62.61",
          "age = 46.0",
          "+ all other factors",
          "prediction"
         ],
         "yaxis": "y"
        }
       ],
       "layout": {
        "annotations": [
         {
          "font": {
           "size": 16
          },
          "showarrow": false,
          "text": "LGBMClassifier",
          "x": 0.5,
          "xanchor": "center",
          "xref": "paper",
          "y": 1,
          "yanchor": "bottom",
          "yref": "paper"
         },
         {
          "font": {
           "size": 16
          },
          "showarrow": false,
          "text": "contribution",
          "x": 0.5,
          "xanchor": "center",
          "xref": "paper",
          "y": 0,
          "yanchor": "top",
          "yref": "paper",
          "yshift": -30
         }
        ],
        "font": {
         "color": "#371ea3"
        },
        "height": 813,
        "margin": {
         "b": 71,
         "r": 30,
         "t": 78
        },
        "shapes": [
         {
          "line": {
           "color": "#371ea3",
           "dash": "dot",
           "width": 1.5
          },
          "type": "line",
          "x0": 0.38,
          "x1": 0.38,
          "xref": "x",
          "y0": -1,
          "y1": 33,
          "yref": "y"
         }
        ],
        "template": {
         "data": {
          "scatter": [
           {
            "type": "scatter"
           }
          ]
         }
        },
        "title": {
         "text": "Break Down",
         "x": 0.15
        },
        "xaxis": {
         "anchor": "y",
         "automargin": true,
         "domain": [
          0,
          1
         ],
         "fixedrange": true,
         "gridwidth": 2,
         "range": [
          0,
          1
         ],
         "tickcolor": "white",
         "ticklen": 3,
         "ticks": "outside",
         "type": "linear",
         "zeroline": false
        },
        "yaxis": {
         "anchor": "x",
         "automargin": true,
         "autorange": "reversed",
         "domain": [
          0,
          1
         ],
         "fixedrange": true,
         "gridwidth": 2,
         "tickcolor": "white",
         "ticklen": 10,
         "ticks": "outside",
         "type": "category"
        }
       }
      }
     },
     "metadata": {},
     "output_type": "display_data"
    },
    {
     "name": "stdout",
     "output_type": "stream",
     "text": [
      "Using DALEX on false positive instance with row number: 25\n"
     ]
    },
    {
     "data": {
      "application/vnd.plotly.v1+json": {
       "config": {
        "displaylogo": false,
        "modeBarButtonsToRemove": [
         "sendDataToCloud",
         "lasso2d",
         "autoScale2d",
         "select2d",
         "zoom2d",
         "pan2d",
         "zoomIn2d",
         "zoomOut2d",
         "resetScale2d",
         "toggleSpikelines",
         "hoverCompareCartesian",
         "hoverClosestCartesian"
        ],
        "plotlyServerURL": "https://plot.ly",
        "staticPlot": false,
        "toImageButtonOptions": {
         "height": null,
         "width": null
        }
       },
       "data": [
        {
         "base": 0.38,
         "connector": {
          "line": {
           "color": "#371ea3",
           "dash": "solid",
           "width": 1
          },
          "mode": "spanning"
         },
         "decreasing": {
          "marker": {
           "color": "#f05a71"
          }
         },
         "hoverinfo": "text+delta",
         "hoverlabel": {
          "bgcolor": "rgba(0,0,0,0.8)"
         },
         "hovertext": [
          "Average response: 0.453<br>Prediction: 0.502",
          "creatinine_max:creatinine_min = 0.9:0.8<br>decreases average response by",
          "egfr_mdrd_scr_max = 81.0<br>decreases average response by",
          "wbc_max = 23.7<br>increases average response by",
          "glucose_max = 191.0<br>decreases average response by",
          "potassium_max = 3.8<br>decreases average response by",
          "congestive_heart_failure = 1.0<br>increases average response by",
          "invasive_vent = 1.0<br>increases average response by",
          "heart_rate_mean = 67.21<br>decreases average response by",
          "hemoglobin_min = 8.8<br>increases average response by",
          "resp_rate_min = 16.0<br>decreases average response by",
          "myocardial_infarct = 1.0<br>increases average response by",
          "hematocrit_min = 24.4<br>increases average response by",
          "sodium_min = 140.0<br>decreases average response by",
          "sbp_min = 97.0<br>decreases average response by",
          "chloride_max = 105.0<br>increases average response by",
          "temperature_min = 36.56<br>decreases average response by",
          "spo2_min = 93.0<br>decreases average response by",
          "platelets_min = 101.0<br>increases average response by",
          "heart_rate_min = 55.0<br>decreases average response by",
          "ptt_min = 25.5<br>decreases average response by",
          "potassium_min = 3.7<br>decreases average response by",
          "female = 0.0<br>increases average response by",
          "calcium_max = 8.3<br>decreases average response by",
          "temperature_mean = 36.89<br>decreases average response by",
          "platelets_max = 125.0<br>increases average response by",
          "hypertension = 1.0<br>increases average response by",
          "weight_min = 102.2<br>increases average response by",
          "hemoglobin_max = 10.7<br>decreases average response by",
          "egfr_epi_scr_max = 79.0<br>decreases average response by",
          "weight_max = 102.2<br>increases average response by",
          "+ all other factors<br>increases average response by",
          "Average response: 0.453<br>Prediction: 0.502"
         ],
         "increasing": {
          "marker": {
           "color": "#8bdcbe"
          }
         },
         "measure": [
          "relative",
          "relative",
          "relative",
          "relative",
          "relative",
          "relative",
          "relative",
          "relative",
          "relative",
          "relative",
          "relative",
          "relative",
          "relative",
          "relative",
          "relative",
          "relative",
          "relative",
          "relative",
          "relative",
          "relative",
          "relative",
          "relative",
          "relative",
          "relative",
          "relative",
          "relative",
          "relative",
          "relative",
          "relative",
          "relative",
          "relative",
          "relative",
          "total"
         ],
         "orientation": "h",
         "showlegend": false,
         "text": [
          "0.453",
          "-0.101",
          "-0.134",
          "+0.041",
          "-0.025",
          "-0.014",
          "+0.009",
          "+0.015",
          "-0.005",
          "+0.02",
          "-0.01",
          "+0.017",
          "+0.037",
          "-0.007",
          "-0.006",
          "+0.003",
          "-0.004",
          "-0.003",
          "+0.023",
          "-0.004",
          "-0.004",
          "-0.006",
          "+0.004",
          "-0.003",
          "-0.004",
          "+0.016",
          "+0.013",
          "+0.002",
          "-0.001",
          "-0.005",
          "+0.025",
          "+0.163",
          "0.502"
         ],
         "textposition": "outside",
         "totals": {
          "marker": {
           "color": "#371ea3"
          }
         },
         "type": "waterfall",
         "x": [
          0.073,
          -0.101,
          -0.134,
          0.041,
          -0.025,
          -0.014,
          0.009,
          0.015,
          -0.005,
          0.02,
          -0.01,
          0.017,
          0.037,
          -0.007,
          -0.006,
          0.003,
          -0.004,
          -0.003,
          0.023,
          -0.004,
          -0.004,
          -0.006,
          0.004,
          -0.003,
          -0.004,
          0.016,
          0.013,
          0.002,
          -0.001,
          -0.005,
          0.025,
          0.163,
          0.122
         ],
         "xaxis": "x",
         "y": [
          "intercept",
          "creatinine_max:creatinine_min = 0.9:0.8",
          "egfr_mdrd_scr_max = 81.0",
          "wbc_max = 23.7",
          "glucose_max = 191.0",
          "potassium_max = 3.8",
          "congestive_heart_failure = 1.0",
          "invasive_vent = 1.0",
          "heart_rate_mean = 67.21",
          "hemoglobin_min = 8.8",
          "resp_rate_min = 16.0",
          "myocardial_infarct = 1.0",
          "hematocrit_min = 24.4",
          "sodium_min = 140.0",
          "sbp_min = 97.0",
          "chloride_max = 105.0",
          "temperature_min = 36.56",
          "spo2_min = 93.0",
          "platelets_min = 101.0",
          "heart_rate_min = 55.0",
          "ptt_min = 25.5",
          "potassium_min = 3.7",
          "female = 0.0",
          "calcium_max = 8.3",
          "temperature_mean = 36.89",
          "platelets_max = 125.0",
          "hypertension = 1.0",
          "weight_min = 102.2",
          "hemoglobin_max = 10.7",
          "egfr_epi_scr_max = 79.0",
          "weight_max = 102.2",
          "+ all other factors",
          "prediction"
         ],
         "yaxis": "y"
        }
       ],
       "layout": {
        "annotations": [
         {
          "font": {
           "size": 16
          },
          "showarrow": false,
          "text": "LGBMClassifier",
          "x": 0.5,
          "xanchor": "center",
          "xref": "paper",
          "y": 1,
          "yanchor": "bottom",
          "yref": "paper"
         },
         {
          "font": {
           "size": 16
          },
          "showarrow": false,
          "text": "contribution",
          "x": 0.5,
          "xanchor": "center",
          "xref": "paper",
          "y": 0,
          "yanchor": "top",
          "yref": "paper",
          "yshift": -30
         }
        ],
        "font": {
         "color": "#371ea3"
        },
        "height": 813,
        "margin": {
         "b": 71,
         "r": 30,
         "t": 78
        },
        "shapes": [
         {
          "line": {
           "color": "#371ea3",
           "dash": "dot",
           "width": 1.5
          },
          "type": "line",
          "x0": 0.38,
          "x1": 0.38,
          "xref": "x",
          "y0": -1,
          "y1": 33,
          "yref": "y"
         }
        ],
        "template": {
         "data": {
          "scatter": [
           {
            "type": "scatter"
           }
          ]
         }
        },
        "title": {
         "text": "Break Down",
         "x": 0.15
        },
        "xaxis": {
         "anchor": "y",
         "automargin": true,
         "domain": [
          0,
          1
         ],
         "fixedrange": true,
         "gridwidth": 2,
         "range": [
          0,
          1
         ],
         "tickcolor": "white",
         "ticklen": 3,
         "ticks": "outside",
         "type": "linear",
         "zeroline": false
        },
        "yaxis": {
         "anchor": "x",
         "automargin": true,
         "autorange": "reversed",
         "domain": [
          0,
          1
         ],
         "fixedrange": true,
         "gridwidth": 2,
         "tickcolor": "white",
         "ticklen": 10,
         "ticks": "outside",
         "type": "category"
        }
       }
      }
     },
     "metadata": {},
     "output_type": "display_data"
    },
    {
     "name": "stdout",
     "output_type": "stream",
     "text": [
      "Using DALEX on false positive instance with row number: 759\n"
     ]
    },
    {
     "data": {
      "application/vnd.plotly.v1+json": {
       "config": {
        "displaylogo": false,
        "modeBarButtonsToRemove": [
         "sendDataToCloud",
         "lasso2d",
         "autoScale2d",
         "select2d",
         "zoom2d",
         "pan2d",
         "zoomIn2d",
         "zoomOut2d",
         "resetScale2d",
         "toggleSpikelines",
         "hoverCompareCartesian",
         "hoverClosestCartesian"
        ],
        "plotlyServerURL": "https://plot.ly",
        "staticPlot": false,
        "toImageButtonOptions": {
         "height": null,
         "width": null
        }
       },
       "data": [
        {
         "base": 0.38,
         "connector": {
          "line": {
           "color": "#371ea3",
           "dash": "solid",
           "width": 1
          },
          "mode": "spanning"
         },
         "decreasing": {
          "marker": {
           "color": "#f05a71"
          }
         },
         "hoverinfo": "text+delta",
         "hoverlabel": {
          "bgcolor": "rgba(0,0,0,0.8)"
         },
         "hovertext": [
          "Average response: 0.53<br>Prediction: 0.423",
          "creatinine_max = 1.3<br>increases average response by",
          "creatinine_min = 1.1<br>decreases average response by",
          "egfr_epi_scr_max:egfr_mdrd_scr_max = 60.0:57.0<br>decreases average response by",
          "temperature_min = 37.06<br>decreases average response by",
          "temperature_mean = 37.54<br>decreases average response by",
          "calcium_max = 7.8<br>decreases average response by",
          "pt_max = 13.1<br>increases average response by",
          "potassium_max = 3.7<br>decreases average response by",
          "chloride_max = 110.0<br>increases average response by",
          "albumin_min = 4.1<br>increases average response by",
          "invasive_vent = 0.0<br>decreases average response by",
          "hypertension = 0.0<br>increases average response by",
          "temperature_max = 38.22<br>decreases average response by",
          "albumin_max = 4.1<br>decreases average response by",
          "bilirubin_total_max = 0.2<br>decreases average response by",
          "wbc_max = 14.6<br>decreases average response by",
          "sbp_max = 137.0<br>decreases average response by",
          "spo2_min = 95.0<br>increases average response by",
          "inr_max = 1.2<br>decreases average response by",
          "diabetes_type2 = 0.0<br>decreases average response by",
          "pt_min:bilirubin_total_min = 12.5:0.2<br>decreases average response by",
          "female = 0.0<br>decreases average response by",
          "glucose_max = 115.0<br>increases average response by",
          "sodium_min = 138.0<br>decreases average response by",
          "hematocrit_min:hemoglobin_min = 29.9:10.2<br>increases average response by",
          "resp_rate_mean = 19.22<br>decreases average response by",
          "ptt_min:ptt_max = 27.8:30.5<br>increases average response by",
          "bicarbonate_min = 19.0<br>decreases average response by",
          "chloride_min = 110.0<br>increases average response by",
          "wbc_bd_min = 14.6<br>decreases average response by",
          "+ all other factors<br>increases average response by",
          "Average response: 0.53<br>Prediction: 0.423"
         ],
         "increasing": {
          "marker": {
           "color": "#8bdcbe"
          }
         },
         "measure": [
          "relative",
          "relative",
          "relative",
          "relative",
          "relative",
          "relative",
          "relative",
          "relative",
          "relative",
          "relative",
          "relative",
          "relative",
          "relative",
          "relative",
          "relative",
          "relative",
          "relative",
          "relative",
          "relative",
          "relative",
          "relative",
          "relative",
          "relative",
          "relative",
          "relative",
          "relative",
          "relative",
          "relative",
          "relative",
          "relative",
          "relative",
          "relative",
          "total"
         ],
         "orientation": "h",
         "showlegend": false,
         "text": [
          "0.53",
          "+0.317",
          "-0.255",
          "-0.116",
          "-0.017",
          "-0.019",
          "-0.016",
          "+0.007",
          "-0.059",
          "+0.006",
          "+0.006",
          "-0.0",
          "+0.002",
          "-0.006",
          "-0.002",
          "-0.007",
          "-0.007",
          "-0.009",
          "+0.012",
          "0.0",
          "-0.005",
          "-0.001",
          "-0.001",
          "+0.001",
          "-0.01",
          "+0.017",
          "-0.003",
          "+0.026",
          "0.0",
          "+0.002",
          "-0.003",
          "+0.033",
          "0.423"
         ],
         "textposition": "outside",
         "totals": {
          "marker": {
           "color": "#371ea3"
          }
         },
         "type": "waterfall",
         "x": [
          0.15,
          0.317,
          -0.255,
          -0.116,
          -0.017,
          -0.019,
          -0.016,
          0.007,
          -0.059,
          0.006,
          0.006,
          0,
          0.002,
          -0.006,
          -0.002,
          -0.007,
          -0.007,
          -0.009,
          0.012,
          0,
          -0.005,
          -0.001,
          -0.001,
          0.001,
          -0.01,
          0.017,
          -0.003,
          0.026,
          0,
          0.002,
          -0.003,
          0.033,
          0.043
         ],
         "xaxis": "x",
         "y": [
          "intercept",
          "creatinine_max = 1.3",
          "creatinine_min = 1.1",
          "egfr_epi_scr_max:egfr_mdrd_scr_max = 60.0:57.0",
          "temperature_min = 37.06",
          "temperature_mean = 37.54",
          "calcium_max = 7.8",
          "pt_max = 13.1",
          "potassium_max = 3.7",
          "chloride_max = 110.0",
          "albumin_min = 4.1",
          "invasive_vent = 0.0",
          "hypertension = 0.0",
          "temperature_max = 38.22",
          "albumin_max = 4.1",
          "bilirubin_total_max = 0.2",
          "wbc_max = 14.6",
          "sbp_max = 137.0",
          "spo2_min = 95.0",
          "inr_max = 1.2",
          "diabetes_type2 = 0.0",
          "pt_min:bilirubin_total_min = 12.5:0.2",
          "female = 0.0",
          "glucose_max = 115.0",
          "sodium_min = 138.0",
          "hematocrit_min:hemoglobin_min = 29.9:10.2",
          "resp_rate_mean = 19.22",
          "ptt_min:ptt_max = 27.8:30.5",
          "bicarbonate_min = 19.0",
          "chloride_min = 110.0",
          "wbc_bd_min = 14.6",
          "+ all other factors",
          "prediction"
         ],
         "yaxis": "y"
        }
       ],
       "layout": {
        "annotations": [
         {
          "font": {
           "size": 16
          },
          "showarrow": false,
          "text": "LGBMClassifier",
          "x": 0.5,
          "xanchor": "center",
          "xref": "paper",
          "y": 1,
          "yanchor": "bottom",
          "yref": "paper"
         },
         {
          "font": {
           "size": 16
          },
          "showarrow": false,
          "text": "contribution",
          "x": 0.5,
          "xanchor": "center",
          "xref": "paper",
          "y": 0,
          "yanchor": "top",
          "yref": "paper",
          "yshift": -30
         }
        ],
        "font": {
         "color": "#371ea3"
        },
        "height": 813,
        "margin": {
         "b": 71,
         "r": 30,
         "t": 78
        },
        "shapes": [
         {
          "line": {
           "color": "#371ea3",
           "dash": "dot",
           "width": 1.5
          },
          "type": "line",
          "x0": 0.38,
          "x1": 0.38,
          "xref": "x",
          "y0": -1,
          "y1": 33,
          "yref": "y"
         }
        ],
        "template": {
         "data": {
          "scatter": [
           {
            "type": "scatter"
           }
          ]
         }
        },
        "title": {
         "text": "Break Down",
         "x": 0.15
        },
        "xaxis": {
         "anchor": "y",
         "automargin": true,
         "domain": [
          0,
          1
         ],
         "fixedrange": true,
         "gridwidth": 2,
         "range": [
          0,
          1
         ],
         "tickcolor": "white",
         "ticklen": 3,
         "ticks": "outside",
         "type": "linear",
         "zeroline": false
        },
        "yaxis": {
         "anchor": "x",
         "automargin": true,
         "autorange": "reversed",
         "domain": [
          0,
          1
         ],
         "fixedrange": true,
         "gridwidth": 2,
         "tickcolor": "white",
         "ticklen": 10,
         "ticks": "outside",
         "type": "category"
        }
       }
      }
     },
     "metadata": {},
     "output_type": "display_data"
    },
    {
     "name": "stdout",
     "output_type": "stream",
     "text": [
      "Using DALEX on false positive instance with row number: 281\n"
     ]
    },
    {
     "data": {
      "application/vnd.plotly.v1+json": {
       "config": {
        "displaylogo": false,
        "modeBarButtonsToRemove": [
         "sendDataToCloud",
         "lasso2d",
         "autoScale2d",
         "select2d",
         "zoom2d",
         "pan2d",
         "zoomIn2d",
         "zoomOut2d",
         "resetScale2d",
         "toggleSpikelines",
         "hoverCompareCartesian",
         "hoverClosestCartesian"
        ],
        "plotlyServerURL": "https://plot.ly",
        "staticPlot": false,
        "toImageButtonOptions": {
         "height": null,
         "width": null
        }
       },
       "data": [
        {
         "base": 0.38,
         "connector": {
          "line": {
           "color": "#371ea3",
           "dash": "solid",
           "width": 1
          },
          "mode": "spanning"
         },
         "decreasing": {
          "marker": {
           "color": "#f05a71"
          }
         },
         "hoverinfo": "text+delta",
         "hoverlabel": {
          "bgcolor": "rgba(0,0,0,0.8)"
         },
         "hovertext": [
          "Average response: 0.443<br>Prediction: 0.627",
          "creatinine_max = 1.1<br>increases average response by",
          "creatinine_min = 0.9<br>decreases average response by",
          "egfr_epi_scr_max:egfr_mdrd_scr_max = 71.0:67.0<br>decreases average response by",
          "invasive_vent = 1.0<br>increases average response by",
          "wbc_max = 20.4<br>increases average response by",
          "myocardial_infarct = 1.0<br>increases average response by",
          "hematocrit_min = 27.8<br>increases average response by",
          "hemoglobin_min = 9.4<br>increases average response by",
          "urineoutput_24hr = 320.0<br>decreases average response by",
          "glucose_max = 101.0<br>increases average response by",
          "chloride_max = 109.0<br>increases average response by",
          "sbp_max = 132.0<br>decreases average response by",
          "bicarbonate_min = 26.0<br>decreases average response by",
          "potassium_min = 4.0<br>decreases average response by",
          "wbc_bd_min = 15.4<br>decreases average response by",
          "glucose_min = 101.0<br>decreases average response by",
          "congestive_heart_failure = 0.0<br>decreases average response by",
          "dbp_max = 69.0<br>increases average response by",
          "bmi = 48.97<br>increases average response by",
          "female = 0.0<br>increases average response by",
          "chloride_min = 105.0<br>decreases average response by",
          "hypertension = 1.0<br>decreases average response by",
          "pt_min:pt_max = 12.1:15.3<br>increases average response by",
          "resp_rate_max = 35.0<br>increases average response by",
          "diabetes_type2 = 0.0<br>decreases average response by",
          "temperature_min:weight_min = 36.11:80.8<br>increases average response by",
          "bilirubin_total_min:bilirubin_total_max = nan:nan<br>increases average response by",
          "resp_rate_mean = 19.52<br>decreases average response by",
          "weight_max = 80.8<br>decreases average response by",
          "sodium_max = 140.0<br>increases average response by",
          "+ all other factors<br>increases average response by",
          "Average response: 0.443<br>Prediction: 0.627"
         ],
         "increasing": {
          "marker": {
           "color": "#8bdcbe"
          }
         },
         "measure": [
          "relative",
          "relative",
          "relative",
          "relative",
          "relative",
          "relative",
          "relative",
          "relative",
          "relative",
          "relative",
          "relative",
          "relative",
          "relative",
          "relative",
          "relative",
          "relative",
          "relative",
          "relative",
          "relative",
          "relative",
          "relative",
          "relative",
          "relative",
          "relative",
          "relative",
          "relative",
          "relative",
          "relative",
          "relative",
          "relative",
          "relative",
          "relative",
          "total"
         ],
         "orientation": "h",
         "showlegend": false,
         "text": [
          "0.443",
          "+0.234",
          "-0.21",
          "-0.113",
          "+0.009",
          "+0.026",
          "+0.025",
          "+0.014",
          "+0.026",
          "-0.022",
          "+0.043",
          "+0.006",
          "-0.007",
          "-0.014",
          "-0.018",
          "-0.007",
          "-0.002",
          "-0.0",
          "+0.019",
          "+0.003",
          "+0.004",
          "-0.002",
          "-0.001",
          "+0.004",
          "+0.021",
          "-0.006",
          "+0.01",
          "+0.016",
          "-0.007",
          "-0.01",
          "+0.002",
          "+0.141",
          "0.627"
         ],
         "textposition": "outside",
         "totals": {
          "marker": {
           "color": "#371ea3"
          }
         },
         "type": "waterfall",
         "x": [
          0.063,
          0.234,
          -0.21,
          -0.113,
          0.009,
          0.026,
          0.025,
          0.014,
          0.026,
          -0.022,
          0.043,
          0.006,
          -0.007,
          -0.014,
          -0.018,
          -0.007,
          -0.002,
          0,
          0.019,
          0.003,
          0.004,
          -0.002,
          -0.001,
          0.004,
          0.021,
          -0.006,
          0.01,
          0.016,
          -0.007,
          -0.01,
          0.002,
          0.141,
          0.247
         ],
         "xaxis": "x",
         "y": [
          "intercept",
          "creatinine_max = 1.1",
          "creatinine_min = 0.9",
          "egfr_epi_scr_max:egfr_mdrd_scr_max = 71.0:67.0",
          "invasive_vent = 1.0",
          "wbc_max = 20.4",
          "myocardial_infarct = 1.0",
          "hematocrit_min = 27.8",
          "hemoglobin_min = 9.4",
          "urineoutput_24hr = 320.0",
          "glucose_max = 101.0",
          "chloride_max = 109.0",
          "sbp_max = 132.0",
          "bicarbonate_min = 26.0",
          "potassium_min = 4.0",
          "wbc_bd_min = 15.4",
          "glucose_min = 101.0",
          "congestive_heart_failure = 0.0",
          "dbp_max = 69.0",
          "bmi = 48.97",
          "female = 0.0",
          "chloride_min = 105.0",
          "hypertension = 1.0",
          "pt_min:pt_max = 12.1:15.3",
          "resp_rate_max = 35.0",
          "diabetes_type2 = 0.0",
          "temperature_min:weight_min = 36.11:80.8",
          "bilirubin_total_min:bilirubin_total_max = nan:nan",
          "resp_rate_mean = 19.52",
          "weight_max = 80.8",
          "sodium_max = 140.0",
          "+ all other factors",
          "prediction"
         ],
         "yaxis": "y"
        }
       ],
       "layout": {
        "annotations": [
         {
          "font": {
           "size": 16
          },
          "showarrow": false,
          "text": "LGBMClassifier",
          "x": 0.5,
          "xanchor": "center",
          "xref": "paper",
          "y": 1,
          "yanchor": "bottom",
          "yref": "paper"
         },
         {
          "font": {
           "size": 16
          },
          "showarrow": false,
          "text": "contribution",
          "x": 0.5,
          "xanchor": "center",
          "xref": "paper",
          "y": 0,
          "yanchor": "top",
          "yref": "paper",
          "yshift": -30
         }
        ],
        "font": {
         "color": "#371ea3"
        },
        "height": 813,
        "margin": {
         "b": 71,
         "r": 30,
         "t": 78
        },
        "shapes": [
         {
          "line": {
           "color": "#371ea3",
           "dash": "dot",
           "width": 1.5
          },
          "type": "line",
          "x0": 0.38,
          "x1": 0.38,
          "xref": "x",
          "y0": -1,
          "y1": 33,
          "yref": "y"
         }
        ],
        "template": {
         "data": {
          "scatter": [
           {
            "type": "scatter"
           }
          ]
         }
        },
        "title": {
         "text": "Break Down",
         "x": 0.15
        },
        "xaxis": {
         "anchor": "y",
         "automargin": true,
         "domain": [
          0,
          1
         ],
         "fixedrange": true,
         "gridwidth": 2,
         "range": [
          0,
          1
         ],
         "tickcolor": "white",
         "ticklen": 3,
         "ticks": "outside",
         "type": "linear",
         "zeroline": false
        },
        "yaxis": {
         "anchor": "x",
         "automargin": true,
         "autorange": "reversed",
         "domain": [
          0,
          1
         ],
         "fixedrange": true,
         "gridwidth": 2,
         "tickcolor": "white",
         "ticklen": 10,
         "ticks": "outside",
         "type": "category"
        }
       }
      }
     },
     "metadata": {},
     "output_type": "display_data"
    },
    {
     "name": "stdout",
     "output_type": "stream",
     "text": [
      "Using DALEX on false positive instance with row number: 250\n"
     ]
    },
    {
     "data": {
      "application/vnd.plotly.v1+json": {
       "config": {
        "displaylogo": false,
        "modeBarButtonsToRemove": [
         "sendDataToCloud",
         "lasso2d",
         "autoScale2d",
         "select2d",
         "zoom2d",
         "pan2d",
         "zoomIn2d",
         "zoomOut2d",
         "resetScale2d",
         "toggleSpikelines",
         "hoverCompareCartesian",
         "hoverClosestCartesian"
        ],
        "plotlyServerURL": "https://plot.ly",
        "staticPlot": false,
        "toImageButtonOptions": {
         "height": null,
         "width": null
        }
       },
       "data": [
        {
         "base": 0.38,
         "connector": {
          "line": {
           "color": "#371ea3",
           "dash": "solid",
           "width": 1
          },
          "mode": "spanning"
         },
         "decreasing": {
          "marker": {
           "color": "#f05a71"
          }
         },
         "hoverinfo": "text+delta",
         "hoverlabel": {
          "bgcolor": "rgba(0,0,0,0.8)"
         },
         "hovertext": [
          "Average response: 0.462<br>Prediction: 0.504",
          "creatinine_max:creatinine_min = 1.0:0.8<br>decreases average response by",
          "temperature_min = 35.06<br>increases average response by",
          "chloride_max = 123.0<br>increases average response by",
          "egfr_epi_scr_max:egfr_mdrd_scr_max = 71.0:62.0<br>decreases average response by",
          "ptt_max = 27.6<br>decreases average response by",
          "invasive_vent = 1.0<br>increases average response by",
          "sodium_min = 142.0<br>decreases average response by",
          "wbc_max = 9.6<br>decreases average response by",
          "hypertension = 0.0<br>decreases average response by",
          "hematocrit_min = 27.4<br>increases average response by",
          "female = 1.0<br>decreases average response by",
          "urineoutput_24hr = 400.0<br>decreases average response by",
          "platelets_min = 119.0<br>increases average response by",
          "calcium_min = 6.8<br>increases average response by",
          "resp_rate_min = 8.0<br>increases average response by",
          "age = 38.0<br>increases average response by",
          "albumin_max = 2.4<br>increases average response by",
          "hemoglobin_min = 8.6<br>increases average response by",
          "hematocrit_max = 38.9<br>decreases average response by",
          "bicarbonate_min = 17.0<br>increases average response by",
          "glucose_max = 143.0<br>decreases average response by",
          "temperature_max = 38.0<br>decreases average response by",
          "sbp_max = 139.0<br>decreases average response by",
          "bilirubin_total_min:bilirubin_total_max = nan:nan<br>increases average response by",
          "potassium_max = 4.5<br>increases average response by",
          "weight_max = 70.0<br>decreases average response by",
          "myocardial_infarct = 0.0<br>decreases average response by",
          "aniongap_max = 16.0<br>decreases average response by",
          "weight_admit:wbc_bd_min = 66.8:3.5<br>increases average response by",
          "diabetes_type2 = 0.0<br>decreases average response by",
          "+ all other factors<br>decreases average response by",
          "Average response: 0.462<br>Prediction: 0.504"
         ],
         "increasing": {
          "marker": {
           "color": "#8bdcbe"
          }
         },
         "measure": [
          "relative",
          "relative",
          "relative",
          "relative",
          "relative",
          "relative",
          "relative",
          "relative",
          "relative",
          "relative",
          "relative",
          "relative",
          "relative",
          "relative",
          "relative",
          "relative",
          "relative",
          "relative",
          "relative",
          "relative",
          "relative",
          "relative",
          "relative",
          "relative",
          "relative",
          "relative",
          "relative",
          "relative",
          "relative",
          "relative",
          "relative",
          "relative",
          "total"
         ],
         "orientation": "h",
         "showlegend": false,
         "text": [
          "0.462",
          "-0.031",
          "+0.047",
          "+0.018",
          "-0.022",
          "-0.018",
          "+0.012",
          "-0.031",
          "-0.014",
          "-0.015",
          "+0.012",
          "-0.004",
          "-0.022",
          "+0.023",
          "+0.014",
          "+0.029",
          "+0.005",
          "+0.014",
          "+0.012",
          "-0.004",
          "+0.007",
          "-0.014",
          "-0.01",
          "-0.006",
          "+0.005",
          "+0.009",
          "-0.006",
          "-0.002",
          "-0.001",
          "+0.043",
          "-0.006",
          "-0.002",
          "0.504"
         ],
         "textposition": "outside",
         "totals": {
          "marker": {
           "color": "#371ea3"
          }
         },
         "type": "waterfall",
         "x": [
          0.082,
          -0.031,
          0.047,
          0.018,
          -0.022,
          -0.018,
          0.012,
          -0.031,
          -0.014,
          -0.015,
          0.012,
          -0.004,
          -0.022,
          0.023,
          0.014,
          0.029,
          0.005,
          0.014,
          0.012,
          -0.004,
          0.007,
          -0.014,
          -0.01,
          -0.006,
          0.005,
          0.009,
          -0.006,
          -0.002,
          -0.001,
          0.043,
          -0.006,
          -0.002,
          0.124
         ],
         "xaxis": "x",
         "y": [
          "intercept",
          "creatinine_max:creatinine_min = 1.0:0.8",
          "temperature_min = 35.06",
          "chloride_max = 123.0",
          "egfr_epi_scr_max:egfr_mdrd_scr_max = 71.0:62.0",
          "ptt_max = 27.6",
          "invasive_vent = 1.0",
          "sodium_min = 142.0",
          "wbc_max = 9.6",
          "hypertension = 0.0",
          "hematocrit_min = 27.4",
          "female = 1.0",
          "urineoutput_24hr = 400.0",
          "platelets_min = 119.0",
          "calcium_min = 6.8",
          "resp_rate_min = 8.0",
          "age = 38.0",
          "albumin_max = 2.4",
          "hemoglobin_min = 8.6",
          "hematocrit_max = 38.9",
          "bicarbonate_min = 17.0",
          "glucose_max = 143.0",
          "temperature_max = 38.0",
          "sbp_max = 139.0",
          "bilirubin_total_min:bilirubin_total_max = nan:nan",
          "potassium_max = 4.5",
          "weight_max = 70.0",
          "myocardial_infarct = 0.0",
          "aniongap_max = 16.0",
          "weight_admit:wbc_bd_min = 66.8:3.5",
          "diabetes_type2 = 0.0",
          "+ all other factors",
          "prediction"
         ],
         "yaxis": "y"
        }
       ],
       "layout": {
        "annotations": [
         {
          "font": {
           "size": 16
          },
          "showarrow": false,
          "text": "LGBMClassifier",
          "x": 0.5,
          "xanchor": "center",
          "xref": "paper",
          "y": 1,
          "yanchor": "bottom",
          "yref": "paper"
         },
         {
          "font": {
           "size": 16
          },
          "showarrow": false,
          "text": "contribution",
          "x": 0.5,
          "xanchor": "center",
          "xref": "paper",
          "y": 0,
          "yanchor": "top",
          "yref": "paper",
          "yshift": -30
         }
        ],
        "font": {
         "color": "#371ea3"
        },
        "height": 813,
        "margin": {
         "b": 71,
         "r": 30,
         "t": 78
        },
        "shapes": [
         {
          "line": {
           "color": "#371ea3",
           "dash": "dot",
           "width": 1.5
          },
          "type": "line",
          "x0": 0.38,
          "x1": 0.38,
          "xref": "x",
          "y0": -1,
          "y1": 33,
          "yref": "y"
         }
        ],
        "template": {
         "data": {
          "scatter": [
           {
            "type": "scatter"
           }
          ]
         }
        },
        "title": {
         "text": "Break Down",
         "x": 0.15
        },
        "xaxis": {
         "anchor": "y",
         "automargin": true,
         "domain": [
          0,
          1
         ],
         "fixedrange": true,
         "gridwidth": 2,
         "range": [
          0,
          1
         ],
         "tickcolor": "white",
         "ticklen": 3,
         "ticks": "outside",
         "type": "linear",
         "zeroline": false
        },
        "yaxis": {
         "anchor": "x",
         "automargin": true,
         "autorange": "reversed",
         "domain": [
          0,
          1
         ],
         "fixedrange": true,
         "gridwidth": 2,
         "tickcolor": "white",
         "ticklen": 10,
         "ticks": "outside",
         "type": "category"
        }
       }
      }
     },
     "metadata": {},
     "output_type": "display_data"
    },
    {
     "name": "stdout",
     "output_type": "stream",
     "text": [
      "Using DALEX on false positive instance with row number: 228\n"
     ]
    },
    {
     "data": {
      "application/vnd.plotly.v1+json": {
       "config": {
        "displaylogo": false,
        "modeBarButtonsToRemove": [
         "sendDataToCloud",
         "lasso2d",
         "autoScale2d",
         "select2d",
         "zoom2d",
         "pan2d",
         "zoomIn2d",
         "zoomOut2d",
         "resetScale2d",
         "toggleSpikelines",
         "hoverCompareCartesian",
         "hoverClosestCartesian"
        ],
        "plotlyServerURL": "https://plot.ly",
        "staticPlot": false,
        "toImageButtonOptions": {
         "height": null,
         "width": null
        }
       },
       "data": [
        {
         "base": 0.38,
         "connector": {
          "line": {
           "color": "#371ea3",
           "dash": "solid",
           "width": 1
          },
          "mode": "spanning"
         },
         "decreasing": {
          "marker": {
           "color": "#f05a71"
          }
         },
         "hoverinfo": "text+delta",
         "hoverlabel": {
          "bgcolor": "rgba(0,0,0,0.8)"
         },
         "hovertext": [
          "Average response: 0.512<br>Prediction: 0.453",
          "creatinine_max = 1.2<br>increases average response by",
          "creatinine_min = 1.0<br>decreases average response by",
          "egfr_epi_scr_max:egfr_mdrd_scr_max = 61.0:60.0<br>decreases average response by",
          "glucose_max = 153.0<br>decreases average response by",
          "invasive_vent = 0.0<br>decreases average response by",
          "hematocrit_min = 32.9<br>decreases average response by",
          "sbp_mean = 125.3<br>decreases average response by",
          "potassium_min = 4.7<br>decreases average response by",
          "temperature_max = 36.67<br>increases average response by",
          "sbp_max = 177.0<br>increases average response by",
          "sodium_min = 141.0<br>decreases average response by",
          "potassium_max = 5.2<br>increases average response by",
          "spo2_min = 93.0<br>decreases average response by",
          "chloride_max = 108.0<br>decreases average response by",
          "bun_max = 23.0<br>increases average response by",
          "spo2_max = 99.0<br>decreases average response by",
          "sbp_min = 99.0<br>decreases average response by",
          "female = 0.0<br>decreases average response by",
          "aniongap_max = 16.0<br>decreases average response by",
          "wbc_bd_min = 10.0<br>decreases average response by",
          "temperature_min = 36.44<br>decreases average response by",
          "diabetes_type2 = 0.0<br>decreases average response by",
          "temperature_mean = 36.58<br>increases average response by",
          "ptt_max = nan<br>increases average response by",
          "dbp_mean = 64.67<br>decreases average response by",
          "hemoglobin_min = 10.9<br>increases average response by",
          "weight_max = 79.4<br>decreases average response by",
          "calcium_max = 8.3<br>decreases average response by",
          "resp_rate_mean = 15.14<br>decreases average response by",
          "dbp_max = 102.0<br>decreases average response by",
          "+ all other factors<br>increases average response by",
          "Average response: 0.512<br>Prediction: 0.453"
         ],
         "increasing": {
          "marker": {
           "color": "#8bdcbe"
          }
         },
         "measure": [
          "relative",
          "relative",
          "relative",
          "relative",
          "relative",
          "relative",
          "relative",
          "relative",
          "relative",
          "relative",
          "relative",
          "relative",
          "relative",
          "relative",
          "relative",
          "relative",
          "relative",
          "relative",
          "relative",
          "relative",
          "relative",
          "relative",
          "relative",
          "relative",
          "relative",
          "relative",
          "relative",
          "relative",
          "relative",
          "relative",
          "relative",
          "relative",
          "total"
         ],
         "orientation": "h",
         "showlegend": false,
         "text": [
          "0.512",
          "+0.321",
          "-0.241",
          "-0.125",
          "-0.006",
          "0.0",
          "-0.011",
          "-0.022",
          "-0.003",
          "+0.013",
          "+0.013",
          "-0.021",
          "+0.015",
          "-0.008",
          "-0.0",
          "+0.01",
          "-0.007",
          "-0.007",
          "-0.002",
          "-0.0",
          "-0.002",
          "-0.003",
          "-0.008",
          "+0.003",
          "+0.002",
          "-0.028",
          "+0.016",
          "-0.009",
          "-0.012",
          "-0.003",
          "-0.012",
          "+0.079",
          "0.453"
         ],
         "textposition": "outside",
         "totals": {
          "marker": {
           "color": "#371ea3"
          }
         },
         "type": "waterfall",
         "x": [
          0.132,
          0.321,
          -0.241,
          -0.125,
          -0.006,
          0,
          -0.011,
          -0.022,
          -0.003,
          0.013,
          0.013,
          -0.021,
          0.015,
          -0.008,
          0,
          0.01,
          -0.007,
          -0.007,
          -0.002,
          0,
          -0.002,
          -0.003,
          -0.008,
          0.003,
          0.002,
          -0.028,
          0.016,
          -0.009,
          -0.012,
          -0.003,
          -0.012,
          0.079,
          0.073
         ],
         "xaxis": "x",
         "y": [
          "intercept",
          "creatinine_max = 1.2",
          "creatinine_min = 1.0",
          "egfr_epi_scr_max:egfr_mdrd_scr_max = 61.0:60.0",
          "glucose_max = 153.0",
          "invasive_vent = 0.0",
          "hematocrit_min = 32.9",
          "sbp_mean = 125.3",
          "potassium_min = 4.7",
          "temperature_max = 36.67",
          "sbp_max = 177.0",
          "sodium_min = 141.0",
          "potassium_max = 5.2",
          "spo2_min = 93.0",
          "chloride_max = 108.0",
          "bun_max = 23.0",
          "spo2_max = 99.0",
          "sbp_min = 99.0",
          "female = 0.0",
          "aniongap_max = 16.0",
          "wbc_bd_min = 10.0",
          "temperature_min = 36.44",
          "diabetes_type2 = 0.0",
          "temperature_mean = 36.58",
          "ptt_max = nan",
          "dbp_mean = 64.67",
          "hemoglobin_min = 10.9",
          "weight_max = 79.4",
          "calcium_max = 8.3",
          "resp_rate_mean = 15.14",
          "dbp_max = 102.0",
          "+ all other factors",
          "prediction"
         ],
         "yaxis": "y"
        }
       ],
       "layout": {
        "annotations": [
         {
          "font": {
           "size": 16
          },
          "showarrow": false,
          "text": "LGBMClassifier",
          "x": 0.5,
          "xanchor": "center",
          "xref": "paper",
          "y": 1,
          "yanchor": "bottom",
          "yref": "paper"
         },
         {
          "font": {
           "size": 16
          },
          "showarrow": false,
          "text": "contribution",
          "x": 0.5,
          "xanchor": "center",
          "xref": "paper",
          "y": 0,
          "yanchor": "top",
          "yref": "paper",
          "yshift": -30
         }
        ],
        "font": {
         "color": "#371ea3"
        },
        "height": 813,
        "margin": {
         "b": 71,
         "r": 30,
         "t": 78
        },
        "shapes": [
         {
          "line": {
           "color": "#371ea3",
           "dash": "dot",
           "width": 1.5
          },
          "type": "line",
          "x0": 0.38,
          "x1": 0.38,
          "xref": "x",
          "y0": -1,
          "y1": 33,
          "yref": "y"
         }
        ],
        "template": {
         "data": {
          "scatter": [
           {
            "type": "scatter"
           }
          ]
         }
        },
        "title": {
         "text": "Break Down",
         "x": 0.15
        },
        "xaxis": {
         "anchor": "y",
         "automargin": true,
         "domain": [
          0,
          1
         ],
         "fixedrange": true,
         "gridwidth": 2,
         "range": [
          0,
          1
         ],
         "tickcolor": "white",
         "ticklen": 3,
         "ticks": "outside",
         "type": "linear",
         "zeroline": false
        },
        "yaxis": {
         "anchor": "x",
         "automargin": true,
         "autorange": "reversed",
         "domain": [
          0,
          1
         ],
         "fixedrange": true,
         "gridwidth": 2,
         "tickcolor": "white",
         "ticklen": 10,
         "ticks": "outside",
         "type": "category"
        }
       }
      }
     },
     "metadata": {},
     "output_type": "display_data"
    },
    {
     "name": "stdout",
     "output_type": "stream",
     "text": [
      "Using DALEX on false positive instance with row number: 142\n"
     ]
    },
    {
     "data": {
      "application/vnd.plotly.v1+json": {
       "config": {
        "displaylogo": false,
        "modeBarButtonsToRemove": [
         "sendDataToCloud",
         "lasso2d",
         "autoScale2d",
         "select2d",
         "zoom2d",
         "pan2d",
         "zoomIn2d",
         "zoomOut2d",
         "resetScale2d",
         "toggleSpikelines",
         "hoverCompareCartesian",
         "hoverClosestCartesian"
        ],
        "plotlyServerURL": "https://plot.ly",
        "staticPlot": false,
        "toImageButtonOptions": {
         "height": null,
         "width": null
        }
       },
       "data": [
        {
         "base": 0.38,
         "connector": {
          "line": {
           "color": "#371ea3",
           "dash": "solid",
           "width": 1
          },
          "mode": "spanning"
         },
         "decreasing": {
          "marker": {
           "color": "#f05a71"
          }
         },
         "hoverinfo": "text+delta",
         "hoverlabel": {
          "bgcolor": "rgba(0,0,0,0.8)"
         },
         "hovertext": [
          "Average response: 0.494<br>Prediction: 0.542",
          "creatinine_max = 1.3<br>increases average response by",
          "creatinine_min = 1.3<br>decreases average response by",
          "ptt_min = 145.9<br>increases average response by",
          "hemoglobin_min = 16.2<br>decreases average response by",
          "ptt_max = 145.9<br>increases average response by",
          "egfr_mdrd_scr_max = 53.0<br>decreases average response by",
          "temperature_mean = 35.9<br>increases average response by",
          "temperature_min = 35.56<br>increases average response by",
          "platelets_min = 334.0<br>decreases average response by",
          "sodium_min = 128.0<br>increases average response by",
          "sbp_max = 112.0<br>decreases average response by",
          "wbc_max = 19.7<br>increases average response by",
          "albumin_min = 3.8<br>decreases average response by",
          "egfr_epi_scr_max = 52.0<br>decreases average response by",
          "platelets_max = 334.0<br>decreases average response by",
          "albumin_max = 3.8<br>decreases average response by",
          "glucose_max = 157.0<br>decreases average response by",
          "hematocrit_max = 46.8<br>decreases average response by",
          "invasive_vent = 0.0<br>decreases average response by",
          "hypertension = 0.0<br>increases average response by",
          "hemoglobin_max:heart_rate_mean = 16.2:113.3<br>increases average response by",
          "bilirubin_total_max = 0.9<br>decreases average response by",
          "congestive_heart_failure = 1.0<br>increases average response by",
          "hematocrit_min = 46.8<br>decreases average response by",
          "potassium_min = 4.2<br>decreases average response by",
          "bicarbonate_min = 15.0<br>increases average response by",
          "bun_max = 54.0<br>increases average response by",
          "temperature_max = 36.06<br>decreases average response by",
          "bmi = 41.2<br>decreases average response by",
          "bilirubin_total_min:bun_min = 0.9:53.0<br>decreases average response by",
          "+ all other factors<br>increases average response by",
          "Average response: 0.494<br>Prediction: 0.542"
         ],
         "increasing": {
          "marker": {
           "color": "#8bdcbe"
          }
         },
         "measure": [
          "relative",
          "relative",
          "relative",
          "relative",
          "relative",
          "relative",
          "relative",
          "relative",
          "relative",
          "relative",
          "relative",
          "relative",
          "relative",
          "relative",
          "relative",
          "relative",
          "relative",
          "relative",
          "relative",
          "relative",
          "relative",
          "relative",
          "relative",
          "relative",
          "relative",
          "relative",
          "relative",
          "relative",
          "relative",
          "relative",
          "relative",
          "relative",
          "total"
         ],
         "orientation": "h",
         "showlegend": false,
         "text": [
          "0.494",
          "+0.37",
          "-0.301",
          "+0.013",
          "-0.028",
          "+0.016",
          "-0.01",
          "+0.004",
          "+0.003",
          "-0.006",
          "+0.014",
          "-0.008",
          "+0.01",
          "-0.004",
          "-0.043",
          "-0.009",
          "-0.002",
          "-0.008",
          "-0.014",
          "-0.0",
          "+0.004",
          "+0.01",
          "-0.006",
          "+0.003",
          "-0.009",
          "-0.019",
          "+0.009",
          "+0.011",
          "0.0",
          "0.0",
          "-0.001",
          "+0.05",
          "0.542"
         ],
         "textposition": "outside",
         "totals": {
          "marker": {
           "color": "#371ea3"
          }
         },
         "type": "waterfall",
         "x": [
          0.114,
          0.37,
          -0.301,
          0.013,
          -0.028,
          0.016,
          -0.01,
          0.004,
          0.003,
          -0.006,
          0.014,
          -0.008,
          0.01,
          -0.004,
          -0.043,
          -0.009,
          -0.002,
          -0.008,
          -0.014,
          0,
          0.004,
          0.01,
          -0.006,
          0.003,
          -0.009,
          -0.019,
          0.009,
          0.011,
          0,
          0,
          -0.001,
          0.05,
          0.162
         ],
         "xaxis": "x",
         "y": [
          "intercept",
          "creatinine_max = 1.3",
          "creatinine_min = 1.3",
          "ptt_min = 145.9",
          "hemoglobin_min = 16.2",
          "ptt_max = 145.9",
          "egfr_mdrd_scr_max = 53.0",
          "temperature_mean = 35.9",
          "temperature_min = 35.56",
          "platelets_min = 334.0",
          "sodium_min = 128.0",
          "sbp_max = 112.0",
          "wbc_max = 19.7",
          "albumin_min = 3.8",
          "egfr_epi_scr_max = 52.0",
          "platelets_max = 334.0",
          "albumin_max = 3.8",
          "glucose_max = 157.0",
          "hematocrit_max = 46.8",
          "invasive_vent = 0.0",
          "hypertension = 0.0",
          "hemoglobin_max:heart_rate_mean = 16.2:113.3",
          "bilirubin_total_max = 0.9",
          "congestive_heart_failure = 1.0",
          "hematocrit_min = 46.8",
          "potassium_min = 4.2",
          "bicarbonate_min = 15.0",
          "bun_max = 54.0",
          "temperature_max = 36.06",
          "bmi = 41.2",
          "bilirubin_total_min:bun_min = 0.9:53.0",
          "+ all other factors",
          "prediction"
         ],
         "yaxis": "y"
        }
       ],
       "layout": {
        "annotations": [
         {
          "font": {
           "size": 16
          },
          "showarrow": false,
          "text": "LGBMClassifier",
          "x": 0.5,
          "xanchor": "center",
          "xref": "paper",
          "y": 1,
          "yanchor": "bottom",
          "yref": "paper"
         },
         {
          "font": {
           "size": 16
          },
          "showarrow": false,
          "text": "contribution",
          "x": 0.5,
          "xanchor": "center",
          "xref": "paper",
          "y": 0,
          "yanchor": "top",
          "yref": "paper",
          "yshift": -30
         }
        ],
        "font": {
         "color": "#371ea3"
        },
        "height": 813,
        "margin": {
         "b": 71,
         "r": 30,
         "t": 78
        },
        "shapes": [
         {
          "line": {
           "color": "#371ea3",
           "dash": "dot",
           "width": 1.5
          },
          "type": "line",
          "x0": 0.38,
          "x1": 0.38,
          "xref": "x",
          "y0": -1,
          "y1": 33,
          "yref": "y"
         }
        ],
        "template": {
         "data": {
          "scatter": [
           {
            "type": "scatter"
           }
          ]
         }
        },
        "title": {
         "text": "Break Down",
         "x": 0.15
        },
        "xaxis": {
         "anchor": "y",
         "automargin": true,
         "domain": [
          0,
          1
         ],
         "fixedrange": true,
         "gridwidth": 2,
         "range": [
          0,
          1
         ],
         "tickcolor": "white",
         "ticklen": 3,
         "ticks": "outside",
         "type": "linear",
         "zeroline": false
        },
        "yaxis": {
         "anchor": "x",
         "automargin": true,
         "autorange": "reversed",
         "domain": [
          0,
          1
         ],
         "fixedrange": true,
         "gridwidth": 2,
         "tickcolor": "white",
         "ticklen": 10,
         "ticks": "outside",
         "type": "category"
        }
       }
      }
     },
     "metadata": {},
     "output_type": "display_data"
    },
    {
     "name": "stdout",
     "output_type": "stream",
     "text": [
      "Using DALEX on false positive instance with row number: 754\n"
     ]
    },
    {
     "data": {
      "application/vnd.plotly.v1+json": {
       "config": {
        "displaylogo": false,
        "modeBarButtonsToRemove": [
         "sendDataToCloud",
         "lasso2d",
         "autoScale2d",
         "select2d",
         "zoom2d",
         "pan2d",
         "zoomIn2d",
         "zoomOut2d",
         "resetScale2d",
         "toggleSpikelines",
         "hoverCompareCartesian",
         "hoverClosestCartesian"
        ],
        "plotlyServerURL": "https://plot.ly",
        "staticPlot": false,
        "toImageButtonOptions": {
         "height": null,
         "width": null
        }
       },
       "data": [
        {
         "base": 0.38,
         "connector": {
          "line": {
           "color": "#371ea3",
           "dash": "solid",
           "width": 1
          },
          "mode": "spanning"
         },
         "decreasing": {
          "marker": {
           "color": "#f05a71"
          }
         },
         "hoverinfo": "text+delta",
         "hoverlabel": {
          "bgcolor": "rgba(0,0,0,0.8)"
         },
         "hovertext": [
          "Average response: 0.517<br>Prediction: 0.516",
          "creatinine_min = 0.3<br>increases average response by",
          "creatinine_max = 0.3<br>decreases average response by",
          "egfr_mdrd_scr_max = 267.0<br>decreases average response by",
          "egfr_epi_scr_max = 157.0<br>decreases average response by",
          "chloride_max = 116.0<br>increases average response by",
          "glucose_max = 87.0<br>decreases average response by",
          "temperature_min = 36.89<br>decreases average response by",
          "pt_max = 9.8<br>decreases average response by",
          "ptt_max = 21.9<br>decreases average response by",
          "wbc_max = 20.3<br>decreases average response by",
          "invasive_vent = 0.0<br>decreases average response by",
          "hemoglobin_min = 5.1<br>increases average response by",
          "hemoglobin_max = 8.2<br>decreases average response by",
          "bilirubin_total_max = 0.4<br>decreases average response by",
          "bilirubin_total_min = 0.4<br>decreases average response by",
          "potassium_min = 3.0<br>increases average response by",
          "hematocrit_min = 17.1<br>increases average response by",
          "sodium_min = 141.0<br>decreases average response by",
          "sbp_max = 194.0<br>decreases average response by",
          "bun_max = 10.0<br>decreases average response by",
          "hypertension = 0.0<br>increases average response by",
          "female = 1.0<br>decreases average response by",
          "temperature_max = 38.94<br>decreases average response by",
          "temperature_mean = 37.17<br>decreases average response by",
          "weight_max = 66.6<br>decreases average response by",
          "hematocrit_max = 25.1<br>increases average response by",
          "inr_max = 0.9<br>decreases average response by",
          "calcium_max = 8.2<br>decreases average response by",
          "sbp_min = 77.0<br>increases average response by",
          "albumin_max = 2.5<br>decreases average response by",
          "+ all other factors<br>increases average response by",
          "Average response: 0.517<br>Prediction: 0.516"
         ],
         "increasing": {
          "marker": {
           "color": "#8bdcbe"
          }
         },
         "measure": [
          "relative",
          "relative",
          "relative",
          "relative",
          "relative",
          "relative",
          "relative",
          "relative",
          "relative",
          "relative",
          "relative",
          "relative",
          "relative",
          "relative",
          "relative",
          "relative",
          "relative",
          "relative",
          "relative",
          "relative",
          "relative",
          "relative",
          "relative",
          "relative",
          "relative",
          "relative",
          "relative",
          "relative",
          "relative",
          "relative",
          "relative",
          "relative",
          "total"
         ],
         "orientation": "h",
         "showlegend": false,
         "text": [
          "0.517",
          "+0.394",
          "-0.196",
          "-0.157",
          "-0.026",
          "+0.013",
          "-0.02",
          "-0.03",
          "-0.018",
          "-0.026",
          "-0.002",
          "0.0",
          "+0.005",
          "-0.006",
          "-0.003",
          "-0.0",
          "+0.029",
          "+0.001",
          "-0.004",
          "-0.002",
          "-0.002",
          "+0.002",
          "-0.001",
          "-0.011",
          "-0.01",
          "-0.004",
          "+0.001",
          "-0.0",
          "-0.003",
          "+0.007",
          "-0.0",
          "+0.065",
          "0.516"
         ],
         "textposition": "outside",
         "totals": {
          "marker": {
           "color": "#371ea3"
          }
         },
         "type": "waterfall",
         "x": [
          0.137,
          0.394,
          -0.196,
          -0.157,
          -0.026,
          0.013,
          -0.02,
          -0.03,
          -0.018,
          -0.026,
          -0.002,
          0,
          0.005,
          -0.006,
          -0.003,
          0,
          0.029,
          0.001,
          -0.004,
          -0.002,
          -0.002,
          0.002,
          -0.001,
          -0.011,
          -0.01,
          -0.004,
          0.001,
          0,
          -0.003,
          0.007,
          0,
          0.065,
          0.136
         ],
         "xaxis": "x",
         "y": [
          "intercept",
          "creatinine_min = 0.3",
          "creatinine_max = 0.3",
          "egfr_mdrd_scr_max = 267.0",
          "egfr_epi_scr_max = 157.0",
          "chloride_max = 116.0",
          "glucose_max = 87.0",
          "temperature_min = 36.89",
          "pt_max = 9.8",
          "ptt_max = 21.9",
          "wbc_max = 20.3",
          "invasive_vent = 0.0",
          "hemoglobin_min = 5.1",
          "hemoglobin_max = 8.2",
          "bilirubin_total_max = 0.4",
          "bilirubin_total_min = 0.4",
          "potassium_min = 3.0",
          "hematocrit_min = 17.1",
          "sodium_min = 141.0",
          "sbp_max = 194.0",
          "bun_max = 10.0",
          "hypertension = 0.0",
          "female = 1.0",
          "temperature_max = 38.94",
          "temperature_mean = 37.17",
          "weight_max = 66.6",
          "hematocrit_max = 25.1",
          "inr_max = 0.9",
          "calcium_max = 8.2",
          "sbp_min = 77.0",
          "albumin_max = 2.5",
          "+ all other factors",
          "prediction"
         ],
         "yaxis": "y"
        }
       ],
       "layout": {
        "annotations": [
         {
          "font": {
           "size": 16
          },
          "showarrow": false,
          "text": "LGBMClassifier",
          "x": 0.5,
          "xanchor": "center",
          "xref": "paper",
          "y": 1,
          "yanchor": "bottom",
          "yref": "paper"
         },
         {
          "font": {
           "size": 16
          },
          "showarrow": false,
          "text": "contribution",
          "x": 0.5,
          "xanchor": "center",
          "xref": "paper",
          "y": 0,
          "yanchor": "top",
          "yref": "paper",
          "yshift": -30
         }
        ],
        "font": {
         "color": "#371ea3"
        },
        "height": 813,
        "margin": {
         "b": 71,
         "r": 30,
         "t": 78
        },
        "shapes": [
         {
          "line": {
           "color": "#371ea3",
           "dash": "dot",
           "width": 1.5
          },
          "type": "line",
          "x0": 0.38,
          "x1": 0.38,
          "xref": "x",
          "y0": -1,
          "y1": 33,
          "yref": "y"
         }
        ],
        "template": {
         "data": {
          "scatter": [
           {
            "type": "scatter"
           }
          ]
         }
        },
        "title": {
         "text": "Break Down",
         "x": 0.15
        },
        "xaxis": {
         "anchor": "y",
         "automargin": true,
         "domain": [
          0,
          1
         ],
         "fixedrange": true,
         "gridwidth": 2,
         "range": [
          0,
          1
         ],
         "tickcolor": "white",
         "ticklen": 3,
         "ticks": "outside",
         "type": "linear",
         "zeroline": false
        },
        "yaxis": {
         "anchor": "x",
         "automargin": true,
         "autorange": "reversed",
         "domain": [
          0,
          1
         ],
         "fixedrange": true,
         "gridwidth": 2,
         "tickcolor": "white",
         "ticklen": 10,
         "ticks": "outside",
         "type": "category"
        }
       }
      }
     },
     "metadata": {},
     "output_type": "display_data"
    },
    {
     "name": "stdout",
     "output_type": "stream",
     "text": [
      "Using DALEX on false positive instance with row number: 104\n"
     ]
    },
    {
     "data": {
      "application/vnd.plotly.v1+json": {
       "config": {
        "displaylogo": false,
        "modeBarButtonsToRemove": [
         "sendDataToCloud",
         "lasso2d",
         "autoScale2d",
         "select2d",
         "zoom2d",
         "pan2d",
         "zoomIn2d",
         "zoomOut2d",
         "resetScale2d",
         "toggleSpikelines",
         "hoverCompareCartesian",
         "hoverClosestCartesian"
        ],
        "plotlyServerURL": "https://plot.ly",
        "staticPlot": false,
        "toImageButtonOptions": {
         "height": null,
         "width": null
        }
       },
       "data": [
        {
         "base": 0.38,
         "connector": {
          "line": {
           "color": "#371ea3",
           "dash": "solid",
           "width": 1
          },
          "mode": "spanning"
         },
         "decreasing": {
          "marker": {
           "color": "#f05a71"
          }
         },
         "hoverinfo": "text+delta",
         "hoverlabel": {
          "bgcolor": "rgba(0,0,0,0.8)"
         },
         "hovertext": [
          "Average response: 0.502<br>Prediction: 0.643",
          "creatinine_max = 1.2<br>increases average response by",
          "creatinine_min = 1.0<br>decreases average response by",
          "egfr_epi_scr_max:egfr_mdrd_scr_max = 54.0:57.0<br>decreases average response by",
          "ptt_max = 123.7<br>increases average response by",
          "ptt_min = 51.6<br>increases average response by",
          "sodium_min = 142.0<br>decreases average response by",
          "bilirubin_total_max = 0.8<br>decreases average response by",
          "glucose_max = 92.0<br>increases average response by",
          "invasive_vent = 1.0<br>decreases average response by",
          "wbc_max = 9.5<br>decreases average response by",
          "pt_max = 23.0<br>increases average response by",
          "potassium_max = 3.9<br>decreases average response by",
          "bilirubin_total_min = 0.8<br>decreases average response by",
          "congestive_heart_failure = 1.0<br>increases average response by",
          "diabetes_type2 = 1.0<br>increases average response by",
          "resp_rate_min = 7.0<br>increases average response by",
          "sbp_max = 165.0<br>increases average response by",
          "platelets_min = 126.0<br>increases average response by",
          "platelets_max = 141.0<br>increases average response by",
          "hemoglobin_min = 9.4<br>increases average response by",
          "sbp_min = 88.0<br>increases average response by",
          "hematocrit_min = 32.0<br>decreases average response by",
          "chloride_max = 106.0<br>decreases average response by",
          "hypertension = 0.0<br>decreases average response by",
          "calcium_max = 8.1<br>decreases average response by",
          "bmi = 42.13<br>decreases average response by",
          "weight_admit = 75.0<br>decreases average response by",
          "inr_min = 2.1<br>decreases average response by",
          "aniongap_max = 16.0<br>decreases average response by",
          "glucose_min = 90.0<br>increases average response by",
          "+ all other factors<br>increases average response by",
          "Average response: 0.502<br>Prediction: 0.643"
         ],
         "increasing": {
          "marker": {
           "color": "#8bdcbe"
          }
         },
         "measure": [
          "relative",
          "relative",
          "relative",
          "relative",
          "relative",
          "relative",
          "relative",
          "relative",
          "relative",
          "relative",
          "relative",
          "relative",
          "relative",
          "relative",
          "relative",
          "relative",
          "relative",
          "relative",
          "relative",
          "relative",
          "relative",
          "relative",
          "relative",
          "relative",
          "relative",
          "relative",
          "relative",
          "relative",
          "relative",
          "relative",
          "relative",
          "relative",
          "total"
         ],
         "orientation": "h",
         "showlegend": false,
         "text": [
          "0.502",
          "+0.299",
          "-0.211",
          "-0.1",
          "+0.024",
          "+0.011",
          "-0.018",
          "-0.023",
          "+0.015",
          "-0.0",
          "-0.023",
          "+0.004",
          "-0.01",
          "-0.003",
          "+0.004",
          "+0.017",
          "+0.017",
          "+0.011",
          "+0.007",
          "+0.009",
          "+0.04",
          "+0.012",
          "-0.006",
          "-0.007",
          "-0.003",
          "-0.014",
          "-0.0",
          "-0.0",
          "-0.0",
          "0.0",
          "+0.001",
          "+0.086",
          "0.643"
         ],
         "textposition": "outside",
         "totals": {
          "marker": {
           "color": "#371ea3"
          }
         },
         "type": "waterfall",
         "x": [
          0.122,
          0.299,
          -0.211,
          -0.1,
          0.024,
          0.011,
          -0.018,
          -0.023,
          0.015,
          0,
          -0.023,
          0.004,
          -0.01,
          -0.003,
          0.004,
          0.017,
          0.017,
          0.011,
          0.007,
          0.009,
          0.04,
          0.012,
          -0.006,
          -0.007,
          -0.003,
          -0.014,
          0,
          0,
          0,
          0,
          0.001,
          0.086,
          0.263
         ],
         "xaxis": "x",
         "y": [
          "intercept",
          "creatinine_max = 1.2",
          "creatinine_min = 1.0",
          "egfr_epi_scr_max:egfr_mdrd_scr_max = 54.0:57.0",
          "ptt_max = 123.7",
          "ptt_min = 51.6",
          "sodium_min = 142.0",
          "bilirubin_total_max = 0.8",
          "glucose_max = 92.0",
          "invasive_vent = 1.0",
          "wbc_max = 9.5",
          "pt_max = 23.0",
          "potassium_max = 3.9",
          "bilirubin_total_min = 0.8",
          "congestive_heart_failure = 1.0",
          "diabetes_type2 = 1.0",
          "resp_rate_min = 7.0",
          "sbp_max = 165.0",
          "platelets_min = 126.0",
          "platelets_max = 141.0",
          "hemoglobin_min = 9.4",
          "sbp_min = 88.0",
          "hematocrit_min = 32.0",
          "chloride_max = 106.0",
          "hypertension = 0.0",
          "calcium_max = 8.1",
          "bmi = 42.13",
          "weight_admit = 75.0",
          "inr_min = 2.1",
          "aniongap_max = 16.0",
          "glucose_min = 90.0",
          "+ all other factors",
          "prediction"
         ],
         "yaxis": "y"
        }
       ],
       "layout": {
        "annotations": [
         {
          "font": {
           "size": 16
          },
          "showarrow": false,
          "text": "LGBMClassifier",
          "x": 0.5,
          "xanchor": "center",
          "xref": "paper",
          "y": 1,
          "yanchor": "bottom",
          "yref": "paper"
         },
         {
          "font": {
           "size": 16
          },
          "showarrow": false,
          "text": "contribution",
          "x": 0.5,
          "xanchor": "center",
          "xref": "paper",
          "y": 0,
          "yanchor": "top",
          "yref": "paper",
          "yshift": -30
         }
        ],
        "font": {
         "color": "#371ea3"
        },
        "height": 813,
        "margin": {
         "b": 71,
         "r": 30,
         "t": 78
        },
        "shapes": [
         {
          "line": {
           "color": "#371ea3",
           "dash": "dot",
           "width": 1.5
          },
          "type": "line",
          "x0": 0.38,
          "x1": 0.38,
          "xref": "x",
          "y0": -1,
          "y1": 33,
          "yref": "y"
         }
        ],
        "template": {
         "data": {
          "scatter": [
           {
            "type": "scatter"
           }
          ]
         }
        },
        "title": {
         "text": "Break Down",
         "x": 0.15
        },
        "xaxis": {
         "anchor": "y",
         "automargin": true,
         "domain": [
          0,
          1
         ],
         "fixedrange": true,
         "gridwidth": 2,
         "range": [
          0,
          1
         ],
         "tickcolor": "white",
         "ticklen": 3,
         "ticks": "outside",
         "type": "linear",
         "zeroline": false
        },
        "yaxis": {
         "anchor": "x",
         "automargin": true,
         "autorange": "reversed",
         "domain": [
          0,
          1
         ],
         "fixedrange": true,
         "gridwidth": 2,
         "tickcolor": "white",
         "ticklen": 10,
         "ticks": "outside",
         "type": "category"
        }
       }
      }
     },
     "metadata": {},
     "output_type": "display_data"
    }
   ],
   "source": [
    "import random\n",
    "random.seed(42)\n",
    "rand_list = random.sample(range(0, df_FP.shape[0]), 10)\n",
    "\n",
    "clf_threshold = 0.38\n",
    "import dalex as dx\n",
    "\n",
    "# error_df = {\"df_TN\":df_TN, \"df_FP\":df_FP, \"df_TP\":df_TP, \"df_FN\":df_FN}\n",
    "error_df = {\"df_FP\":df_FP}\n",
    "\n",
    "for k,df in error_df.items():\n",
    "    df_shap = df.drop(['y_pred','y_actual','error_category'], axis=1)\n",
    "\n",
    "    for row_number in rand_list:\n",
    "        print(\"Using DALEX on false positive instance with row number: \"+str(row_number))\n",
    "        exp.predict_parts(df_shap.iloc[[row_number]], N=100).plot(min_max=[0,1], max_vars=30, baseline=clf_threshold)"
   ]
  },
  {
   "cell_type": "markdown",
   "metadata": {},
   "source": [
    "## SHAP plot using Dalex"
   ]
  },
  {
   "cell_type": "code",
   "execution_count": 63,
   "metadata": {},
   "outputs": [
    {
     "name": "stdout",
     "output_type": "stream",
     "text": [
      "Using DALEX SHAP on false positive instance with row number: 654\n"
     ]
    },
    {
     "data": {
      "application/vnd.plotly.v1+json": {
       "config": {
        "displaylogo": false,
        "modeBarButtonsToRemove": [
         "sendDataToCloud",
         "lasso2d",
         "autoScale2d",
         "select2d",
         "zoom2d",
         "pan2d",
         "zoomIn2d",
         "zoomOut2d",
         "resetScale2d",
         "toggleSpikelines",
         "hoverCompareCartesian",
         "hoverClosestCartesian"
        ],
        "plotlyServerURL": "https://plot.ly",
        "staticPlot": false,
        "toImageButtonOptions": {
         "height": null,
         "width": null
        }
       },
       "data": [
        {
         "base": 0.38,
         "hoverinfo": "text",
         "hoverlabel": {
          "bgcolor": "rgba(0,0,0,0.8)"
         },
         "hovertext": [
          "Average response: 0.38<br>Prediction: 0.653<br>creatinine_min = 0.3<br>increases average response <br>by 0.48",
          "Average response: 0.38<br>Prediction: 0.653<br>creatinine_max = 0.4<br>decreases average response <br>by 0.204",
          "Average response: 0.38<br>Prediction: 0.653<br>egfr_mdrd_scr_max = 162.0<br>decreases average response <br>by 0.067",
          "Average response: 0.38<br>Prediction: 0.653<br>egfr_epi_scr_max = 112.0<br>decreases average response <br>by 0.017",
          "Average response: 0.38<br>Prediction: 0.653<br>chloride_max = 109.0<br>increases average response <br>by 0.016",
          "Average response: 0.38<br>Prediction: 0.653<br>hypertension = 0.0<br>decreases average response <br>by 0.016",
          "Average response: 0.38<br>Prediction: 0.653<br>wbc_bd_min = 2.3<br>increases average response <br>by 0.013",
          "Average response: 0.38<br>Prediction: 0.653<br>pt_max = 16.5<br>increases average response <br>by 0.012",
          "Average response: 0.38<br>Prediction: 0.653<br>hematocrit_max = 42.0<br>decreases average response <br>by 0.01",
          "Average response: 0.38<br>Prediction: 0.653<br>potassium_min = 3.9<br>decreases average response <br>by 0.01",
          "Average response: 0.38<br>Prediction: 0.653<br>potassium_max = 4.0<br>decreases average response <br>by 0.01",
          "Average response: 0.38<br>Prediction: 0.653<br>calcium_max = 7.8<br>decreases average response <br>by 0.009",
          "Average response: 0.38<br>Prediction: 0.653<br>bicarbonate_max = 23.0<br>increases average response <br>by 0.008",
          "Average response: 0.38<br>Prediction: 0.653<br>bilirubin_total_max = 1.9<br>increases average response <br>by 0.008",
          "Average response: 0.38<br>Prediction: 0.653<br>pt_min = 11.8<br>increases average response <br>by 0.007",
          "Average response: 0.38<br>Prediction: 0.653<br>sodium_min = 131.0<br>increases average response <br>by 0.006",
          "Average response: 0.38<br>Prediction: 0.653<br>invasive_vent = 1.0<br>increases average response <br>by 0.006",
          "Average response: 0.38<br>Prediction: 0.653<br>bilirubin_total_min = 0.7<br>decreases average response <br>by 0.006",
          "Average response: 0.38<br>Prediction: 0.653<br>weight_admit = 52.0<br>increases average response <br>by 0.006",
          "Average response: 0.38<br>Prediction: 0.653<br>hemoglobin_max = 14.2<br>decreases average response <br>by 0.005",
          "Average response: 0.38<br>Prediction: 0.653<br>bun_min = 10.0<br>increases average response <br>by 0.005",
          "Average response: 0.38<br>Prediction: 0.653<br>sbp_max = 154.0<br>increases average response <br>by 0.005",
          "Average response: 0.38<br>Prediction: 0.653<br>hemoglobin_min = 9.1<br>increases average response <br>by 0.005",
          "Average response: 0.38<br>Prediction: 0.653<br>bicarbonate_min = 22.0<br>increases average response <br>by 0.004",
          "Average response: 0.38<br>Prediction: 0.653<br>female = 1.0<br>decreases average response <br>by 0.004",
          "Average response: 0.38<br>Prediction: 0.653<br>sodium_max = 140.0<br>increases average response <br>by 0.004",
          "Average response: 0.38<br>Prediction: 0.653<br>hematocrit_min = 28.6<br>increases average response <br>by 0.004",
          "Average response: 0.38<br>Prediction: 0.653<br>temperature_mean = 36.81<br>decreases average response <br>by 0.004",
          "Average response: 0.38<br>Prediction: 0.653<br>resp_rate_mean = 14.24<br>decreases average response <br>by 0.003",
          "Average response: 0.38<br>Prediction: 0.653<br>+ all other factors<br>increases average response <br>by 0.002"
         ],
         "marker": {
          "color": [
           "#8bdcbe",
           "#f05a71",
           "#f05a71",
           "#f05a71",
           "#8bdcbe",
           "#f05a71",
           "#8bdcbe",
           "#8bdcbe",
           "#f05a71",
           "#f05a71",
           "#f05a71",
           "#f05a71",
           "#8bdcbe",
           "#8bdcbe",
           "#8bdcbe",
           "#8bdcbe",
           "#8bdcbe",
           "#f05a71",
           "#8bdcbe",
           "#f05a71",
           "#8bdcbe",
           "#8bdcbe",
           "#8bdcbe",
           "#8bdcbe",
           "#f05a71",
           "#8bdcbe",
           "#8bdcbe",
           "#f05a71",
           "#f05a71",
           "#8bdcbe"
          ]
         },
         "orientation": "h",
         "showlegend": false,
         "text": [
          "+0.48",
          "-0.204",
          "-0.067",
          "-0.017",
          "+0.016",
          "-0.016",
          "+0.013",
          "+0.012",
          "-0.01",
          "-0.01",
          "-0.01",
          "-0.009",
          "+0.008",
          "+0.008",
          "+0.007",
          "+0.006",
          "+0.006",
          "-0.006",
          "+0.006",
          "-0.005",
          "+0.005",
          "+0.005",
          "+0.005",
          "+0.004",
          "-0.004",
          "+0.004",
          "+0.004",
          "-0.004",
          "-0.003",
          "+0.002"
         ],
         "textposition": "outside",
         "type": "bar",
         "x": [
          0.48,
          -0.204,
          -0.067,
          -0.017,
          0.016,
          -0.016,
          0.013,
          0.012,
          -0.01,
          -0.01,
          -0.01,
          -0.009,
          0.008,
          0.008,
          0.007,
          0.006,
          0.006,
          -0.006,
          0.006,
          -0.005,
          0.005,
          0.005,
          0.005,
          0.004,
          -0.004,
          0.004,
          0.004,
          -0.004,
          -0.003,
          0.002
         ],
         "xaxis": "x",
         "y": [
          "creatinine_min = 0.3",
          "creatinine_max = 0.4",
          "egfr_mdrd_scr_max = 162.0",
          "egfr_epi_scr_max = 112.0",
          "chloride_max = 109.0",
          "hypertension = 0.0",
          "wbc_bd_min = 2.3",
          "pt_max = 16.5",
          "hematocrit_max = 42.0",
          "potassium_min = 3.9",
          "potassium_max = 4.0",
          "calcium_max = 7.8",
          "bicarbonate_max = 23.0",
          "bilirubin_total_max = 1.9",
          "pt_min = 11.8",
          "sodium_min = 131.0",
          "invasive_vent = 1.0",
          "bilirubin_total_min = 0.7",
          "weight_admit = 52.0",
          "hemoglobin_max = 14.2",
          "bun_min = 10.0",
          "sbp_max = 154.0",
          "hemoglobin_min = 9.1",
          "bicarbonate_min = 22.0",
          "female = 1.0",
          "sodium_max = 140.0",
          "hematocrit_min = 28.6",
          "temperature_mean = 36.81",
          "resp_rate_mean = 14.24",
          "+ all other factors"
         ],
         "yaxis": "y"
        }
       ],
       "layout": {
        "annotations": [
         {
          "font": {
           "size": 16
          },
          "showarrow": false,
          "text": "LGBMClassifier",
          "x": 0.5,
          "xanchor": "center",
          "xref": "paper",
          "y": 1,
          "yanchor": "bottom",
          "yref": "paper"
         },
         {
          "font": {
           "size": 16
          },
          "showarrow": false,
          "text": "contribution",
          "x": 0.5,
          "xanchor": "center",
          "xref": "paper",
          "y": 0,
          "yanchor": "top",
          "yref": "paper",
          "yshift": -30
         }
        ],
        "font": {
         "color": "#371ea3"
        },
        "height": 773,
        "margin": {
         "b": 71,
         "r": 30,
         "t": 78
        },
        "shapes": [
         {
          "line": {
           "color": "#371ea3",
           "dash": "dot",
           "width": 1.5
          },
          "type": "line",
          "x0": 0.38,
          "x1": 0.38,
          "xref": "x",
          "y0": -1,
          "y1": 31,
          "yref": "y"
         }
        ],
        "template": {
         "data": {
          "scatter": [
           {
            "type": "scatter"
           }
          ]
         }
        },
        "title": {
         "text": "Shapley Values",
         "x": 0.15
        },
        "xaxis": {
         "anchor": "y",
         "automargin": true,
         "domain": [
          0,
          1
         ],
         "fixedrange": true,
         "gridwidth": 2,
         "range": [
          0,
          1
         ],
         "tickcolor": "white",
         "ticklen": 3,
         "ticks": "outside",
         "type": "linear",
         "zeroline": false
        },
        "yaxis": {
         "anchor": "x",
         "automargin": true,
         "autorange": "reversed",
         "domain": [
          0,
          1
         ],
         "fixedrange": true,
         "gridwidth": 2,
         "tickcolor": "white",
         "ticklen": 10,
         "ticks": "outside",
         "type": "category"
        }
       }
      }
     },
     "metadata": {},
     "output_type": "display_data"
    },
    {
     "name": "stdout",
     "output_type": "stream",
     "text": [
      "Using DALEX SHAP on false positive instance with row number: 114\n"
     ]
    },
    {
     "data": {
      "application/vnd.plotly.v1+json": {
       "config": {
        "displaylogo": false,
        "modeBarButtonsToRemove": [
         "sendDataToCloud",
         "lasso2d",
         "autoScale2d",
         "select2d",
         "zoom2d",
         "pan2d",
         "zoomIn2d",
         "zoomOut2d",
         "resetScale2d",
         "toggleSpikelines",
         "hoverCompareCartesian",
         "hoverClosestCartesian"
        ],
        "plotlyServerURL": "https://plot.ly",
        "staticPlot": false,
        "toImageButtonOptions": {
         "height": null,
         "width": null
        }
       },
       "data": [
        {
         "base": 0.38,
         "hoverinfo": "text",
         "hoverlabel": {
          "bgcolor": "rgba(0,0,0,0.8)"
         },
         "hovertext": [
          "Average response: 0.38<br>Prediction: 0.498<br>creatinine_max = 1.0<br>increases average response <br>by 0.136",
          "Average response: 0.38<br>Prediction: 0.498<br>creatinine_min = 0.7<br>increases average response <br>by 0.055",
          "Average response: 0.38<br>Prediction: 0.498<br>sodium_min = 144.0<br>decreases average response <br>by 0.023",
          "Average response: 0.38<br>Prediction: 0.498<br>egfr_mdrd_scr_max = 60.0<br>decreases average response <br>by 0.022",
          "Average response: 0.38<br>Prediction: 0.498<br>ptt_max = 21.5<br>decreases average response <br>by 0.022",
          "Average response: 0.38<br>Prediction: 0.498<br>chloride_max = 114.0<br>increases average response <br>by 0.022",
          "Average response: 0.38<br>Prediction: 0.498<br>potassium_max = 3.3<br>decreases average response <br>by 0.021",
          "Average response: 0.38<br>Prediction: 0.498<br>wbc_bd_min = 18.5<br>decreases average response <br>by 0.018",
          "Average response: 0.38<br>Prediction: 0.498<br>calcium_min = 7.0<br>increases average response <br>by 0.013",
          "Average response: 0.38<br>Prediction: 0.498<br>weight_max = 63.0<br>decreases average response <br>by 0.013",
          "Average response: 0.38<br>Prediction: 0.498<br>glucose_max = 92.0<br>increases average response <br>by 0.013",
          "Average response: 0.38<br>Prediction: 0.498<br>platelets_min = 254.0<br>decreases average response <br>by 0.012",
          "Average response: 0.38<br>Prediction: 0.498<br>sbp_max = 117.0<br>decreases average response <br>by 0.011",
          "Average response: 0.38<br>Prediction: 0.498<br>bun_max = 10.0<br>decreases average response <br>by 0.011",
          "Average response: 0.38<br>Prediction: 0.498<br>egfr_epi_scr_max = 68.0<br>decreases average response <br>by 0.01",
          "Average response: 0.38<br>Prediction: 0.498<br>potassium_min = 3.3<br>increases average response <br>by 0.009",
          "Average response: 0.38<br>Prediction: 0.498<br>albumin_min = 4.5<br>increases average response <br>by 0.009",
          "Average response: 0.38<br>Prediction: 0.498<br>invasive_vent = 0.0<br>decreases average response <br>by 0.009",
          "Average response: 0.38<br>Prediction: 0.498<br>temperature_mean = 37.41<br>decreases average response <br>by 0.009",
          "Average response: 0.38<br>Prediction: 0.498<br>sbp_mean = 101.7<br>increases average response <br>by 0.008",
          "Average response: 0.38<br>Prediction: 0.498<br>bilirubin_total_min = 0.4<br>decreases average response <br>by 0.008",
          "Average response: 0.38<br>Prediction: 0.498<br>temperature_max = 38.5<br>decreases average response <br>by 0.007",
          "Average response: 0.38<br>Prediction: 0.498<br>calcium_max = 9.5<br>increases average response <br>by 0.007",
          "Average response: 0.38<br>Prediction: 0.498<br>dbp_mean = 62.61<br>decreases average response <br>by 0.007",
          "Average response: 0.38<br>Prediction: 0.498<br>urineoutput_24hr = 380.0<br>decreases average response <br>by 0.005",
          "Average response: 0.38<br>Prediction: 0.498<br>aniongap_max = 10.0<br>increases average response <br>by 0.005",
          "Average response: 0.38<br>Prediction: 0.498<br>hematocrit_min = 32.1<br>decreases average response <br>by 0.005",
          "Average response: 0.38<br>Prediction: 0.498<br>female = 1.0<br>decreases average response <br>by 0.005",
          "Average response: 0.38<br>Prediction: 0.498<br>bilirubin_total_max = 0.4<br>decreases average response <br>by 0.005",
          "Average response: 0.38<br>Prediction: 0.498<br>+ all other factors<br>decreases average response <br>by 0.032"
         ],
         "marker": {
          "color": [
           "#8bdcbe",
           "#8bdcbe",
           "#f05a71",
           "#f05a71",
           "#f05a71",
           "#8bdcbe",
           "#f05a71",
           "#f05a71",
           "#8bdcbe",
           "#f05a71",
           "#8bdcbe",
           "#f05a71",
           "#f05a71",
           "#f05a71",
           "#f05a71",
           "#8bdcbe",
           "#8bdcbe",
           "#f05a71",
           "#f05a71",
           "#8bdcbe",
           "#f05a71",
           "#f05a71",
           "#8bdcbe",
           "#f05a71",
           "#f05a71",
           "#8bdcbe",
           "#f05a71",
           "#f05a71",
           "#f05a71",
           "#f05a71"
          ]
         },
         "orientation": "h",
         "showlegend": false,
         "text": [
          "+0.136",
          "+0.055",
          "-0.023",
          "-0.022",
          "-0.022",
          "+0.022",
          "-0.021",
          "-0.018",
          "+0.013",
          "-0.013",
          "+0.013",
          "-0.012",
          "-0.011",
          "-0.011",
          "-0.01",
          "+0.009",
          "+0.009",
          "-0.009",
          "-0.009",
          "+0.008",
          "-0.008",
          "-0.007",
          "+0.007",
          "-0.007",
          "-0.005",
          "+0.005",
          "-0.005",
          "-0.005",
          "-0.005",
          "-0.032"
         ],
         "textposition": "outside",
         "type": "bar",
         "x": [
          0.136,
          0.055,
          -0.023,
          -0.022,
          -0.022,
          0.022,
          -0.021,
          -0.018,
          0.013,
          -0.013,
          0.013,
          -0.012,
          -0.011,
          -0.011,
          -0.01,
          0.009,
          0.009,
          -0.009,
          -0.009,
          0.008,
          -0.008,
          -0.007,
          0.007,
          -0.007,
          -0.005,
          0.005,
          -0.005,
          -0.005,
          -0.005,
          -0.032
         ],
         "xaxis": "x",
         "y": [
          "creatinine_max = 1.0",
          "creatinine_min = 0.7",
          "sodium_min = 144.0",
          "egfr_mdrd_scr_max = 60.0",
          "ptt_max = 21.5",
          "chloride_max = 114.0",
          "potassium_max = 3.3",
          "wbc_bd_min = 18.5",
          "calcium_min = 7.0",
          "weight_max = 63.0",
          "glucose_max = 92.0",
          "platelets_min = 254.0",
          "sbp_max = 117.0",
          "bun_max = 10.0",
          "egfr_epi_scr_max = 68.0",
          "potassium_min = 3.3",
          "albumin_min = 4.5",
          "invasive_vent = 0.0",
          "temperature_mean = 37.41",
          "sbp_mean = 101.7",
          "bilirubin_total_min = 0.4",
          "temperature_max = 38.5",
          "calcium_max = 9.5",
          "dbp_mean = 62.61",
          "urineoutput_24hr = 380.0",
          "aniongap_max = 10.0",
          "hematocrit_min = 32.1",
          "female = 1.0",
          "bilirubin_total_max = 0.4",
          "+ all other factors"
         ],
         "yaxis": "y"
        }
       ],
       "layout": {
        "annotations": [
         {
          "font": {
           "size": 16
          },
          "showarrow": false,
          "text": "LGBMClassifier",
          "x": 0.5,
          "xanchor": "center",
          "xref": "paper",
          "y": 1,
          "yanchor": "bottom",
          "yref": "paper"
         },
         {
          "font": {
           "size": 16
          },
          "showarrow": false,
          "text": "contribution",
          "x": 0.5,
          "xanchor": "center",
          "xref": "paper",
          "y": 0,
          "yanchor": "top",
          "yref": "paper",
          "yshift": -30
         }
        ],
        "font": {
         "color": "#371ea3"
        },
        "height": 773,
        "margin": {
         "b": 71,
         "r": 30,
         "t": 78
        },
        "shapes": [
         {
          "line": {
           "color": "#371ea3",
           "dash": "dot",
           "width": 1.5
          },
          "type": "line",
          "x0": 0.38,
          "x1": 0.38,
          "xref": "x",
          "y0": -1,
          "y1": 31,
          "yref": "y"
         }
        ],
        "template": {
         "data": {
          "scatter": [
           {
            "type": "scatter"
           }
          ]
         }
        },
        "title": {
         "text": "Shapley Values",
         "x": 0.15
        },
        "xaxis": {
         "anchor": "y",
         "automargin": true,
         "domain": [
          0,
          1
         ],
         "fixedrange": true,
         "gridwidth": 2,
         "range": [
          0,
          1
         ],
         "tickcolor": "white",
         "ticklen": 3,
         "ticks": "outside",
         "type": "linear",
         "zeroline": false
        },
        "yaxis": {
         "anchor": "x",
         "automargin": true,
         "autorange": "reversed",
         "domain": [
          0,
          1
         ],
         "fixedrange": true,
         "gridwidth": 2,
         "tickcolor": "white",
         "ticklen": 10,
         "ticks": "outside",
         "type": "category"
        }
       }
      }
     },
     "metadata": {},
     "output_type": "display_data"
    },
    {
     "name": "stdout",
     "output_type": "stream",
     "text": [
      "Using DALEX SHAP on false positive instance with row number: 25\n"
     ]
    },
    {
     "data": {
      "application/vnd.plotly.v1+json": {
       "config": {
        "displaylogo": false,
        "modeBarButtonsToRemove": [
         "sendDataToCloud",
         "lasso2d",
         "autoScale2d",
         "select2d",
         "zoom2d",
         "pan2d",
         "zoomIn2d",
         "zoomOut2d",
         "resetScale2d",
         "toggleSpikelines",
         "hoverCompareCartesian",
         "hoverClosestCartesian"
        ],
        "plotlyServerURL": "https://plot.ly",
        "staticPlot": false,
        "toImageButtonOptions": {
         "height": null,
         "width": null
        }
       },
       "data": [
        {
         "base": 0.38,
         "hoverinfo": "text",
         "hoverlabel": {
          "bgcolor": "rgba(0,0,0,0.8)"
         },
         "hovertext": [
          "Average response: 0.38<br>Prediction: 0.502<br>egfr_mdrd_scr_max = 81.0<br>decreases average response <br>by 0.127",
          "Average response: 0.38<br>Prediction: 0.502<br>creatinine_max = 0.9<br>decreases average response <br>by 0.073",
          "Average response: 0.38<br>Prediction: 0.502<br>wbc_max = 23.7<br>increases average response <br>by 0.062",
          "Average response: 0.38<br>Prediction: 0.502<br>creatinine_min = 0.8<br>decreases average response <br>by 0.046",
          "Average response: 0.38<br>Prediction: 0.502<br>hematocrit_min = 24.4<br>increases average response <br>by 0.037",
          "Average response: 0.38<br>Prediction: 0.502<br>invasive_vent = 1.0<br>increases average response <br>by 0.023",
          "Average response: 0.38<br>Prediction: 0.502<br>platelets_min = 101.0<br>increases average response <br>by 0.02",
          "Average response: 0.38<br>Prediction: 0.502<br>hemoglobin_min = 8.8<br>increases average response <br>by 0.018",
          "Average response: 0.38<br>Prediction: 0.502<br>myocardial_infarct = 1.0<br>increases average response <br>by 0.018",
          "Average response: 0.38<br>Prediction: 0.502<br>weight_max = 102.2<br>increases average response <br>by 0.017",
          "Average response: 0.38<br>Prediction: 0.502<br>glucose_max = 191.0<br>decreases average response <br>by 0.017",
          "Average response: 0.38<br>Prediction: 0.502<br>urineoutput_24hr = 30.0<br>increases average response <br>by 0.016",
          "Average response: 0.38<br>Prediction: 0.502<br>potassium_max = 3.8<br>decreases average response <br>by 0.015",
          "Average response: 0.38<br>Prediction: 0.502<br>platelets_max = 125.0<br>increases average response <br>by 0.015",
          "Average response: 0.38<br>Prediction: 0.502<br>egfr_epi_scr_max = 79.0<br>decreases average response <br>by 0.013",
          "Average response: 0.38<br>Prediction: 0.502<br>hypertension = 1.0<br>increases average response <br>by 0.013",
          "Average response: 0.38<br>Prediction: 0.502<br>heart_rate_mean = 67.21<br>decreases average response <br>by 0.01",
          "Average response: 0.38<br>Prediction: 0.502<br>calcium_min = 7.6<br>decreases average response <br>by 0.01",
          "Average response: 0.38<br>Prediction: 0.502<br>temperature_min = 36.56<br>decreases average response <br>by 0.009",
          "Average response: 0.38<br>Prediction: 0.502<br>congestive_heart_failure = 1.0<br>increases average response <br>by 0.009",
          "Average response: 0.38<br>Prediction: 0.502<br>dbp_mean = 57.71<br>increases average response <br>by 0.008",
          "Average response: 0.38<br>Prediction: 0.502<br>pt_min = 11.9<br>increases average response <br>by 0.008",
          "Average response: 0.38<br>Prediction: 0.502<br>inr_max = 1.4<br>increases average response <br>by 0.008",
          "Average response: 0.38<br>Prediction: 0.502<br>resp_rate_min = 16.0<br>decreases average response <br>by 0.007",
          "Average response: 0.38<br>Prediction: 0.502<br>peripheral_vascular_disease = 1.0<br>increases average response <br>by 0.007",
          "Average response: 0.38<br>Prediction: 0.502<br>spo2_min = 93.0<br>decreases average response <br>by 0.006",
          "Average response: 0.38<br>Prediction: 0.502<br>resp_rate_max = 37.0<br>increases average response <br>by 0.006",
          "Average response: 0.38<br>Prediction: 0.502<br>sodium_min = 140.0<br>decreases average response <br>by 0.006",
          "Average response: 0.38<br>Prediction: 0.502<br>chloride_max = 105.0<br>decreases average response <br>by 0.006",
          "Average response: 0.38<br>Prediction: 0.502<br>+ all other factors<br>increases average response <br>by 0.021"
         ],
         "marker": {
          "color": [
           "#f05a71",
           "#f05a71",
           "#8bdcbe",
           "#f05a71",
           "#8bdcbe",
           "#8bdcbe",
           "#8bdcbe",
           "#8bdcbe",
           "#8bdcbe",
           "#8bdcbe",
           "#f05a71",
           "#8bdcbe",
           "#f05a71",
           "#8bdcbe",
           "#f05a71",
           "#8bdcbe",
           "#f05a71",
           "#f05a71",
           "#f05a71",
           "#8bdcbe",
           "#8bdcbe",
           "#8bdcbe",
           "#8bdcbe",
           "#f05a71",
           "#8bdcbe",
           "#f05a71",
           "#8bdcbe",
           "#f05a71",
           "#f05a71",
           "#8bdcbe"
          ]
         },
         "orientation": "h",
         "showlegend": false,
         "text": [
          "-0.127",
          "-0.073",
          "+0.062",
          "-0.046",
          "+0.037",
          "+0.023",
          "+0.02",
          "+0.018",
          "+0.018",
          "+0.017",
          "-0.017",
          "+0.016",
          "-0.015",
          "+0.015",
          "-0.013",
          "+0.013",
          "-0.01",
          "-0.01",
          "-0.009",
          "+0.009",
          "+0.008",
          "+0.008",
          "+0.008",
          "-0.007",
          "+0.007",
          "-0.006",
          "+0.006",
          "-0.006",
          "-0.006",
          "+0.021"
         ],
         "textposition": "outside",
         "type": "bar",
         "x": [
          -0.127,
          -0.073,
          0.062,
          -0.046,
          0.037,
          0.023,
          0.02,
          0.018,
          0.018,
          0.017,
          -0.017,
          0.016,
          -0.015,
          0.015,
          -0.013,
          0.013,
          -0.01,
          -0.01,
          -0.009,
          0.009,
          0.008,
          0.008,
          0.008,
          -0.007,
          0.007,
          -0.006,
          0.006,
          -0.006,
          -0.006,
          0.021
         ],
         "xaxis": "x",
         "y": [
          "egfr_mdrd_scr_max = 81.0",
          "creatinine_max = 0.9",
          "wbc_max = 23.7",
          "creatinine_min = 0.8",
          "hematocrit_min = 24.4",
          "invasive_vent = 1.0",
          "platelets_min = 101.0",
          "hemoglobin_min = 8.8",
          "myocardial_infarct = 1.0",
          "weight_max = 102.2",
          "glucose_max = 191.0",
          "urineoutput_24hr = 30.0",
          "potassium_max = 3.8",
          "platelets_max = 125.0",
          "egfr_epi_scr_max = 79.0",
          "hypertension = 1.0",
          "heart_rate_mean = 67.21",
          "calcium_min = 7.6",
          "temperature_min = 36.56",
          "congestive_heart_failure = 1.0",
          "dbp_mean = 57.71",
          "pt_min = 11.9",
          "inr_max = 1.4",
          "resp_rate_min = 16.0",
          "peripheral_vascular_disease = 1.0",
          "spo2_min = 93.0",
          "resp_rate_max = 37.0",
          "sodium_min = 140.0",
          "chloride_max = 105.0",
          "+ all other factors"
         ],
         "yaxis": "y"
        }
       ],
       "layout": {
        "annotations": [
         {
          "font": {
           "size": 16
          },
          "showarrow": false,
          "text": "LGBMClassifier",
          "x": 0.5,
          "xanchor": "center",
          "xref": "paper",
          "y": 1,
          "yanchor": "bottom",
          "yref": "paper"
         },
         {
          "font": {
           "size": 16
          },
          "showarrow": false,
          "text": "contribution",
          "x": 0.5,
          "xanchor": "center",
          "xref": "paper",
          "y": 0,
          "yanchor": "top",
          "yref": "paper",
          "yshift": -30
         }
        ],
        "font": {
         "color": "#371ea3"
        },
        "height": 773,
        "margin": {
         "b": 71,
         "r": 30,
         "t": 78
        },
        "shapes": [
         {
          "line": {
           "color": "#371ea3",
           "dash": "dot",
           "width": 1.5
          },
          "type": "line",
          "x0": 0.38,
          "x1": 0.38,
          "xref": "x",
          "y0": -1,
          "y1": 31,
          "yref": "y"
         }
        ],
        "template": {
         "data": {
          "scatter": [
           {
            "type": "scatter"
           }
          ]
         }
        },
        "title": {
         "text": "Shapley Values",
         "x": 0.15
        },
        "xaxis": {
         "anchor": "y",
         "automargin": true,
         "domain": [
          0,
          1
         ],
         "fixedrange": true,
         "gridwidth": 2,
         "range": [
          0,
          1
         ],
         "tickcolor": "white",
         "ticklen": 3,
         "ticks": "outside",
         "type": "linear",
         "zeroline": false
        },
        "yaxis": {
         "anchor": "x",
         "automargin": true,
         "autorange": "reversed",
         "domain": [
          0,
          1
         ],
         "fixedrange": true,
         "gridwidth": 2,
         "tickcolor": "white",
         "ticklen": 10,
         "ticks": "outside",
         "type": "category"
        }
       }
      }
     },
     "metadata": {},
     "output_type": "display_data"
    },
    {
     "name": "stdout",
     "output_type": "stream",
     "text": [
      "Using DALEX SHAP on false positive instance with row number: 759\n"
     ]
    },
    {
     "data": {
      "application/vnd.plotly.v1+json": {
       "config": {
        "displaylogo": false,
        "modeBarButtonsToRemove": [
         "sendDataToCloud",
         "lasso2d",
         "autoScale2d",
         "select2d",
         "zoom2d",
         "pan2d",
         "zoomIn2d",
         "zoomOut2d",
         "resetScale2d",
         "toggleSpikelines",
         "hoverCompareCartesian",
         "hoverClosestCartesian"
        ],
        "plotlyServerURL": "https://plot.ly",
        "staticPlot": false,
        "toImageButtonOptions": {
         "height": null,
         "width": null
        }
       },
       "data": [
        {
         "base": 0.38,
         "hoverinfo": "text",
         "hoverlabel": {
          "bgcolor": "rgba(0,0,0,0.8)"
         },
         "hovertext": [
          "Average response: 0.38<br>Prediction: 0.423<br>creatinine_max = 1.3<br>increases average response <br>by 0.286",
          "Average response: 0.38<br>Prediction: 0.423<br>creatinine_min = 1.1<br>decreases average response <br>by 0.243",
          "Average response: 0.38<br>Prediction: 0.423<br>egfr_mdrd_scr_max = 57.0<br>decreases average response <br>by 0.057",
          "Average response: 0.38<br>Prediction: 0.423<br>potassium_max = 3.7<br>decreases average response <br>by 0.036",
          "Average response: 0.38<br>Prediction: 0.423<br>egfr_epi_scr_max = 60.0<br>decreases average response <br>by 0.031",
          "Average response: 0.38<br>Prediction: 0.423<br>calcium_max = 7.8<br>decreases average response <br>by 0.021",
          "Average response: 0.38<br>Prediction: 0.423<br>temperature_min = 37.06<br>decreases average response <br>by 0.02",
          "Average response: 0.38<br>Prediction: 0.423<br>ptt_max = 30.5<br>increases average response <br>by 0.018",
          "Average response: 0.38<br>Prediction: 0.423<br>temperature_mean = 37.54<br>decreases average response <br>by 0.013",
          "Average response: 0.38<br>Prediction: 0.423<br>hemoglobin_min = 10.2<br>increases average response <br>by 0.012",
          "Average response: 0.38<br>Prediction: 0.423<br>sbp_max = 137.0<br>decreases average response <br>by 0.01",
          "Average response: 0.38<br>Prediction: 0.423<br>potassium_min = 3.7<br>increases average response <br>by 0.01",
          "Average response: 0.38<br>Prediction: 0.423<br>dbp_mean = 64.0<br>decreases average response <br>by 0.009",
          "Average response: 0.38<br>Prediction: 0.423<br>spo2_min = 95.0<br>increases average response <br>by 0.008",
          "Average response: 0.38<br>Prediction: 0.423<br>temperature_max = 38.22<br>decreases average response <br>by 0.008",
          "Average response: 0.38<br>Prediction: 0.423<br>weight_admit = 82.6<br>increases average response <br>by 0.007",
          "Average response: 0.38<br>Prediction: 0.423<br>bilirubin_total_min = 0.2<br>decreases average response <br>by 0.007",
          "Average response: 0.38<br>Prediction: 0.423<br>bilirubin_total_max = 0.2<br>decreases average response <br>by 0.007",
          "Average response: 0.38<br>Prediction: 0.423<br>bicarbonate_max = 19.0<br>increases average response <br>by 0.006",
          "Average response: 0.38<br>Prediction: 0.423<br>diabetes_type2 = 0.0<br>decreases average response <br>by 0.006",
          "Average response: 0.38<br>Prediction: 0.423<br>bun_max = 20.0<br>increases average response <br>by 0.006",
          "Average response: 0.38<br>Prediction: 0.423<br>albumin_min = 4.1<br>increases average response <br>by 0.005",
          "Average response: 0.38<br>Prediction: 0.423<br>urineoutput_24hr = 150.0<br>decreases average response <br>by 0.004",
          "Average response: 0.38<br>Prediction: 0.423<br>platelets_min = 217.0<br>increases average response <br>by 0.004",
          "Average response: 0.38<br>Prediction: 0.423<br>platelets_max = 228.0<br>decreases average response <br>by 0.004",
          "Average response: 0.38<br>Prediction: 0.423<br>chloride_max = 110.0<br>increases average response <br>by 0.004",
          "Average response: 0.38<br>Prediction: 0.423<br>wbc_max = 14.6<br>decreases average response <br>by 0.004",
          "Average response: 0.38<br>Prediction: 0.423<br>weight_min = 82.0<br>decreases average response <br>by 0.004",
          "Average response: 0.38<br>Prediction: 0.423<br>ptt_min = 27.8<br>increases average response <br>by 0.004",
          "Average response: 0.38<br>Prediction: 0.423<br>+ all other factors<br>decreases average response <br>by 0.002"
         ],
         "marker": {
          "color": [
           "#8bdcbe",
           "#f05a71",
           "#f05a71",
           "#f05a71",
           "#f05a71",
           "#f05a71",
           "#f05a71",
           "#8bdcbe",
           "#f05a71",
           "#8bdcbe",
           "#f05a71",
           "#8bdcbe",
           "#f05a71",
           "#8bdcbe",
           "#f05a71",
           "#8bdcbe",
           "#f05a71",
           "#f05a71",
           "#8bdcbe",
           "#f05a71",
           "#8bdcbe",
           "#8bdcbe",
           "#f05a71",
           "#8bdcbe",
           "#f05a71",
           "#8bdcbe",
           "#f05a71",
           "#f05a71",
           "#8bdcbe",
           "#f05a71"
          ]
         },
         "orientation": "h",
         "showlegend": false,
         "text": [
          "+0.286",
          "-0.243",
          "-0.057",
          "-0.036",
          "-0.031",
          "-0.021",
          "-0.02",
          "+0.018",
          "-0.013",
          "+0.012",
          "-0.01",
          "+0.01",
          "-0.009",
          "+0.008",
          "-0.008",
          "+0.007",
          "-0.007",
          "-0.007",
          "+0.006",
          "-0.006",
          "+0.006",
          "+0.005",
          "-0.004",
          "+0.004",
          "-0.004",
          "+0.004",
          "-0.004",
          "-0.004",
          "+0.004",
          "-0.002"
         ],
         "textposition": "outside",
         "type": "bar",
         "x": [
          0.286,
          -0.243,
          -0.057,
          -0.036,
          -0.031,
          -0.021,
          -0.02,
          0.018,
          -0.013,
          0.012,
          -0.01,
          0.01,
          -0.009,
          0.008,
          -0.008,
          0.007,
          -0.007,
          -0.007,
          0.006,
          -0.006,
          0.006,
          0.005,
          -0.004,
          0.004,
          -0.004,
          0.004,
          -0.004,
          -0.004,
          0.004,
          -0.002
         ],
         "xaxis": "x",
         "y": [
          "creatinine_max = 1.3",
          "creatinine_min = 1.1",
          "egfr_mdrd_scr_max = 57.0",
          "potassium_max = 3.7",
          "egfr_epi_scr_max = 60.0",
          "calcium_max = 7.8",
          "temperature_min = 37.06",
          "ptt_max = 30.5",
          "temperature_mean = 37.54",
          "hemoglobin_min = 10.2",
          "sbp_max = 137.0",
          "potassium_min = 3.7",
          "dbp_mean = 64.0",
          "spo2_min = 95.0",
          "temperature_max = 38.22",
          "weight_admit = 82.6",
          "bilirubin_total_min = 0.2",
          "bilirubin_total_max = 0.2",
          "bicarbonate_max = 19.0",
          "diabetes_type2 = 0.0",
          "bun_max = 20.0",
          "albumin_min = 4.1",
          "urineoutput_24hr = 150.0",
          "platelets_min = 217.0",
          "platelets_max = 228.0",
          "chloride_max = 110.0",
          "wbc_max = 14.6",
          "weight_min = 82.0",
          "ptt_min = 27.8",
          "+ all other factors"
         ],
         "yaxis": "y"
        }
       ],
       "layout": {
        "annotations": [
         {
          "font": {
           "size": 16
          },
          "showarrow": false,
          "text": "LGBMClassifier",
          "x": 0.5,
          "xanchor": "center",
          "xref": "paper",
          "y": 1,
          "yanchor": "bottom",
          "yref": "paper"
         },
         {
          "font": {
           "size": 16
          },
          "showarrow": false,
          "text": "contribution",
          "x": 0.5,
          "xanchor": "center",
          "xref": "paper",
          "y": 0,
          "yanchor": "top",
          "yref": "paper",
          "yshift": -30
         }
        ],
        "font": {
         "color": "#371ea3"
        },
        "height": 773,
        "margin": {
         "b": 71,
         "r": 30,
         "t": 78
        },
        "shapes": [
         {
          "line": {
           "color": "#371ea3",
           "dash": "dot",
           "width": 1.5
          },
          "type": "line",
          "x0": 0.38,
          "x1": 0.38,
          "xref": "x",
          "y0": -1,
          "y1": 31,
          "yref": "y"
         }
        ],
        "template": {
         "data": {
          "scatter": [
           {
            "type": "scatter"
           }
          ]
         }
        },
        "title": {
         "text": "Shapley Values",
         "x": 0.15
        },
        "xaxis": {
         "anchor": "y",
         "automargin": true,
         "domain": [
          0,
          1
         ],
         "fixedrange": true,
         "gridwidth": 2,
         "range": [
          0,
          1
         ],
         "tickcolor": "white",
         "ticklen": 3,
         "ticks": "outside",
         "type": "linear",
         "zeroline": false
        },
        "yaxis": {
         "anchor": "x",
         "automargin": true,
         "autorange": "reversed",
         "domain": [
          0,
          1
         ],
         "fixedrange": true,
         "gridwidth": 2,
         "tickcolor": "white",
         "ticklen": 10,
         "ticks": "outside",
         "type": "category"
        }
       }
      }
     },
     "metadata": {},
     "output_type": "display_data"
    },
    {
     "name": "stdout",
     "output_type": "stream",
     "text": [
      "Using DALEX SHAP on false positive instance with row number: 281\n"
     ]
    },
    {
     "data": {
      "application/vnd.plotly.v1+json": {
       "config": {
        "displaylogo": false,
        "modeBarButtonsToRemove": [
         "sendDataToCloud",
         "lasso2d",
         "autoScale2d",
         "select2d",
         "zoom2d",
         "pan2d",
         "zoomIn2d",
         "zoomOut2d",
         "resetScale2d",
         "toggleSpikelines",
         "hoverCompareCartesian",
         "hoverClosestCartesian"
        ],
        "plotlyServerURL": "https://plot.ly",
        "staticPlot": false,
        "toImageButtonOptions": {
         "height": null,
         "width": null
        }
       },
       "data": [
        {
         "base": 0.38,
         "hoverinfo": "text",
         "hoverlabel": {
          "bgcolor": "rgba(0,0,0,0.8)"
         },
         "hovertext": [
          "Average response: 0.38<br>Prediction: 0.627<br>creatinine_max = 1.1<br>increases average response <br>by 0.174",
          "Average response: 0.38<br>Prediction: 0.627<br>creatinine_min = 0.9<br>decreases average response <br>by 0.134",
          "Average response: 0.38<br>Prediction: 0.627<br>egfr_mdrd_scr_max = 67.0<br>decreases average response <br>by 0.061",
          "Average response: 0.38<br>Prediction: 0.627<br>glucose_max = 101.0<br>increases average response <br>by 0.037",
          "Average response: 0.38<br>Prediction: 0.627<br>wbc_max = 20.4<br>increases average response <br>by 0.029",
          "Average response: 0.38<br>Prediction: 0.627<br>hemoglobin_min = 9.4<br>increases average response <br>by 0.021",
          "Average response: 0.38<br>Prediction: 0.627<br>egfr_epi_scr_max = 71.0<br>decreases average response <br>by 0.021",
          "Average response: 0.38<br>Prediction: 0.627<br>potassium_min = 4.0<br>decreases average response <br>by 0.02",
          "Average response: 0.38<br>Prediction: 0.627<br>myocardial_infarct = 1.0<br>increases average response <br>by 0.019",
          "Average response: 0.38<br>Prediction: 0.627<br>bicarbonate_min = 26.0<br>decreases average response <br>by 0.018",
          "Average response: 0.38<br>Prediction: 0.627<br>wbc_bd_min = 15.4<br>decreases average response <br>by 0.018",
          "Average response: 0.38<br>Prediction: 0.627<br>invasive_vent = 1.0<br>increases average response <br>by 0.018",
          "Average response: 0.38<br>Prediction: 0.627<br>resp_rate_max = 35.0<br>increases average response <br>by 0.017",
          "Average response: 0.38<br>Prediction: 0.627<br>urineoutput_24hr = 320.0<br>decreases average response <br>by 0.017",
          "Average response: 0.38<br>Prediction: 0.627<br>temperature_min = 36.11<br>increases average response <br>by 0.014",
          "Average response: 0.38<br>Prediction: 0.627<br>sbp_max = 132.0<br>decreases average response <br>by 0.013",
          "Average response: 0.38<br>Prediction: 0.627<br>pt_max = 15.3<br>increases average response <br>by 0.012",
          "Average response: 0.38<br>Prediction: 0.627<br>spo2_min = 94.0<br>increases average response <br>by 0.012",
          "Average response: 0.38<br>Prediction: 0.627<br>aniongap_min = 9.0<br>increases average response <br>by 0.011",
          "Average response: 0.38<br>Prediction: 0.627<br>dbp_max = 69.0<br>increases average response <br>by 0.011",
          "Average response: 0.38<br>Prediction: 0.627<br>hematocrit_min = 27.8<br>increases average response <br>by 0.011",
          "Average response: 0.38<br>Prediction: 0.627<br>platelets_min = 186.0<br>increases average response <br>by 0.011",
          "Average response: 0.38<br>Prediction: 0.627<br>calcium_max = 8.4<br>increases average response <br>by 0.009",
          "Average response: 0.38<br>Prediction: 0.627<br>heart_rate_mean = 87.1<br>increases average response <br>by 0.009",
          "Average response: 0.38<br>Prediction: 0.627<br>bun_max = 17.0<br>increases average response <br>by 0.009",
          "Average response: 0.38<br>Prediction: 0.627<br>hypertension = 1.0<br>increases average response <br>by 0.008",
          "Average response: 0.38<br>Prediction: 0.627<br>sbp_mean = 111.0<br>increases average response <br>by 0.007",
          "Average response: 0.38<br>Prediction: 0.627<br>chloride_max = 109.0<br>increases average response <br>by 0.007",
          "Average response: 0.38<br>Prediction: 0.627<br>diabetes_type2 = 0.0<br>decreases average response <br>by 0.007",
          "Average response: 0.38<br>Prediction: 0.627<br>+ all other factors<br>increases average response <br>by 0.027"
         ],
         "marker": {
          "color": [
           "#8bdcbe",
           "#f05a71",
           "#f05a71",
           "#8bdcbe",
           "#8bdcbe",
           "#8bdcbe",
           "#f05a71",
           "#f05a71",
           "#8bdcbe",
           "#f05a71",
           "#f05a71",
           "#8bdcbe",
           "#8bdcbe",
           "#f05a71",
           "#8bdcbe",
           "#f05a71",
           "#8bdcbe",
           "#8bdcbe",
           "#8bdcbe",
           "#8bdcbe",
           "#8bdcbe",
           "#8bdcbe",
           "#8bdcbe",
           "#8bdcbe",
           "#8bdcbe",
           "#8bdcbe",
           "#8bdcbe",
           "#8bdcbe",
           "#f05a71",
           "#8bdcbe"
          ]
         },
         "orientation": "h",
         "showlegend": false,
         "text": [
          "+0.174",
          "-0.134",
          "-0.061",
          "+0.037",
          "+0.029",
          "+0.021",
          "-0.021",
          "-0.02",
          "+0.019",
          "-0.018",
          "-0.018",
          "+0.018",
          "+0.017",
          "-0.017",
          "+0.014",
          "-0.013",
          "+0.012",
          "+0.012",
          "+0.011",
          "+0.011",
          "+0.011",
          "+0.011",
          "+0.009",
          "+0.009",
          "+0.009",
          "+0.008",
          "+0.007",
          "+0.007",
          "-0.007",
          "+0.027"
         ],
         "textposition": "outside",
         "type": "bar",
         "x": [
          0.174,
          -0.134,
          -0.061,
          0.037,
          0.029,
          0.021,
          -0.021,
          -0.02,
          0.019,
          -0.018,
          -0.018,
          0.018,
          0.017,
          -0.017,
          0.014,
          -0.013,
          0.012,
          0.012,
          0.011,
          0.011,
          0.011,
          0.011,
          0.009,
          0.009,
          0.009,
          0.008,
          0.007,
          0.007,
          -0.007,
          0.027
         ],
         "xaxis": "x",
         "y": [
          "creatinine_max = 1.1",
          "creatinine_min = 0.9",
          "egfr_mdrd_scr_max = 67.0",
          "glucose_max = 101.0",
          "wbc_max = 20.4",
          "hemoglobin_min = 9.4",
          "egfr_epi_scr_max = 71.0",
          "potassium_min = 4.0",
          "myocardial_infarct = 1.0",
          "bicarbonate_min = 26.0",
          "wbc_bd_min = 15.4",
          "invasive_vent = 1.0",
          "resp_rate_max = 35.0",
          "urineoutput_24hr = 320.0",
          "temperature_min = 36.11",
          "sbp_max = 132.0",
          "pt_max = 15.3",
          "spo2_min = 94.0",
          "aniongap_min = 9.0",
          "dbp_max = 69.0",
          "hematocrit_min = 27.8",
          "platelets_min = 186.0",
          "calcium_max = 8.4",
          "heart_rate_mean = 87.1",
          "bun_max = 17.0",
          "hypertension = 1.0",
          "sbp_mean = 111.0",
          "chloride_max = 109.0",
          "diabetes_type2 = 0.0",
          "+ all other factors"
         ],
         "yaxis": "y"
        }
       ],
       "layout": {
        "annotations": [
         {
          "font": {
           "size": 16
          },
          "showarrow": false,
          "text": "LGBMClassifier",
          "x": 0.5,
          "xanchor": "center",
          "xref": "paper",
          "y": 1,
          "yanchor": "bottom",
          "yref": "paper"
         },
         {
          "font": {
           "size": 16
          },
          "showarrow": false,
          "text": "contribution",
          "x": 0.5,
          "xanchor": "center",
          "xref": "paper",
          "y": 0,
          "yanchor": "top",
          "yref": "paper",
          "yshift": -30
         }
        ],
        "font": {
         "color": "#371ea3"
        },
        "height": 773,
        "margin": {
         "b": 71,
         "r": 30,
         "t": 78
        },
        "shapes": [
         {
          "line": {
           "color": "#371ea3",
           "dash": "dot",
           "width": 1.5
          },
          "type": "line",
          "x0": 0.38,
          "x1": 0.38,
          "xref": "x",
          "y0": -1,
          "y1": 31,
          "yref": "y"
         }
        ],
        "template": {
         "data": {
          "scatter": [
           {
            "type": "scatter"
           }
          ]
         }
        },
        "title": {
         "text": "Shapley Values",
         "x": 0.15
        },
        "xaxis": {
         "anchor": "y",
         "automargin": true,
         "domain": [
          0,
          1
         ],
         "fixedrange": true,
         "gridwidth": 2,
         "range": [
          0,
          1
         ],
         "tickcolor": "white",
         "ticklen": 3,
         "ticks": "outside",
         "type": "linear",
         "zeroline": false
        },
        "yaxis": {
         "anchor": "x",
         "automargin": true,
         "autorange": "reversed",
         "domain": [
          0,
          1
         ],
         "fixedrange": true,
         "gridwidth": 2,
         "tickcolor": "white",
         "ticklen": 10,
         "ticks": "outside",
         "type": "category"
        }
       }
      }
     },
     "metadata": {},
     "output_type": "display_data"
    },
    {
     "name": "stdout",
     "output_type": "stream",
     "text": [
      "Using DALEX SHAP on false positive instance with row number: 250\n"
     ]
    },
    {
     "data": {
      "application/vnd.plotly.v1+json": {
       "config": {
        "displaylogo": false,
        "modeBarButtonsToRemove": [
         "sendDataToCloud",
         "lasso2d",
         "autoScale2d",
         "select2d",
         "zoom2d",
         "pan2d",
         "zoomIn2d",
         "zoomOut2d",
         "resetScale2d",
         "toggleSpikelines",
         "hoverCompareCartesian",
         "hoverClosestCartesian"
        ],
        "plotlyServerURL": "https://plot.ly",
        "staticPlot": false,
        "toImageButtonOptions": {
         "height": null,
         "width": null
        }
       },
       "data": [
        {
         "base": 0.38,
         "hoverinfo": "text",
         "hoverlabel": {
          "bgcolor": "rgba(0,0,0,0.8)"
         },
         "hovertext": [
          "Average response: 0.38<br>Prediction: 0.504<br>creatinine_min = 0.8<br>decreases average response <br>by 0.074",
          "Average response: 0.38<br>Prediction: 0.504<br>creatinine_max = 1.0<br>increases average response <br>by 0.043",
          "Average response: 0.38<br>Prediction: 0.504<br>temperature_min = 35.06<br>increases average response <br>by 0.033",
          "Average response: 0.38<br>Prediction: 0.504<br>chloride_max = 123.0<br>increases average response <br>by 0.028",
          "Average response: 0.38<br>Prediction: 0.504<br>ptt_max = 27.6<br>decreases average response <br>by 0.023",
          "Average response: 0.38<br>Prediction: 0.504<br>resp_rate_min = 8.0<br>increases average response <br>by 0.023",
          "Average response: 0.38<br>Prediction: 0.504<br>sodium_min = 142.0<br>decreases average response <br>by 0.018",
          "Average response: 0.38<br>Prediction: 0.504<br>hypertension = 0.0<br>decreases average response <br>by 0.017",
          "Average response: 0.38<br>Prediction: 0.504<br>urineoutput_24hr = 400.0<br>decreases average response <br>by 0.016",
          "Average response: 0.38<br>Prediction: 0.504<br>glucose_max = 143.0<br>decreases average response <br>by 0.014",
          "Average response: 0.38<br>Prediction: 0.504<br>hematocrit_min = 27.4<br>increases average response <br>by 0.012",
          "Average response: 0.38<br>Prediction: 0.504<br>potassium_max = 4.5<br>increases average response <br>by 0.011",
          "Average response: 0.38<br>Prediction: 0.504<br>egfr_mdrd_scr_max = 62.0<br>decreases average response <br>by 0.011",
          "Average response: 0.38<br>Prediction: 0.504<br>platelets_min = 119.0<br>increases average response <br>by 0.011",
          "Average response: 0.38<br>Prediction: 0.504<br>albumin_max = 2.4<br>decreases average response <br>by 0.01",
          "Average response: 0.38<br>Prediction: 0.504<br>calcium_max = 8.5<br>increases average response <br>by 0.009",
          "Average response: 0.38<br>Prediction: 0.504<br>chloride_min = 113.0<br>decreases average response <br>by 0.009",
          "Average response: 0.38<br>Prediction: 0.504<br>bicarbonate_min = 17.0<br>increases average response <br>by 0.008",
          "Average response: 0.38<br>Prediction: 0.504<br>bilirubin_total_max = nan<br>increases average response <br>by 0.008",
          "Average response: 0.38<br>Prediction: 0.504<br>hemoglobin_min = 8.6<br>increases average response <br>by 0.008",
          "Average response: 0.38<br>Prediction: 0.504<br>hemoglobin_max = 12.5<br>increases average response <br>by 0.008",
          "Average response: 0.38<br>Prediction: 0.504<br>invasive_vent = 1.0<br>increases average response <br>by 0.008",
          "Average response: 0.38<br>Prediction: 0.504<br>wbc_max = 9.6<br>decreases average response <br>by 0.007",
          "Average response: 0.38<br>Prediction: 0.504<br>hematocrit_max = 38.9<br>decreases average response <br>by 0.007",
          "Average response: 0.38<br>Prediction: 0.504<br>potassium_min = 3.5<br>decreases average response <br>by 0.006",
          "Average response: 0.38<br>Prediction: 0.504<br>peripheral_vascular_disease = 1.0<br>increases average response <br>by 0.006",
          "Average response: 0.38<br>Prediction: 0.504<br>temperature_mean = 36.67<br>increases average response <br>by 0.006",
          "Average response: 0.38<br>Prediction: 0.504<br>bilirubin_total_min = nan<br>increases average response <br>by 0.005",
          "Average response: 0.38<br>Prediction: 0.504<br>supplemental_oxygen = 0.0<br>decreases average response <br>by 0.005",
          "Average response: 0.38<br>Prediction: 0.504<br>+ all other factors<br>decreases average response <br>by 0.013"
         ],
         "marker": {
          "color": [
           "#f05a71",
           "#8bdcbe",
           "#8bdcbe",
           "#8bdcbe",
           "#f05a71",
           "#8bdcbe",
           "#f05a71",
           "#f05a71",
           "#f05a71",
           "#f05a71",
           "#8bdcbe",
           "#8bdcbe",
           "#f05a71",
           "#8bdcbe",
           "#f05a71",
           "#8bdcbe",
           "#f05a71",
           "#8bdcbe",
           "#8bdcbe",
           "#8bdcbe",
           "#8bdcbe",
           "#8bdcbe",
           "#f05a71",
           "#f05a71",
           "#f05a71",
           "#8bdcbe",
           "#8bdcbe",
           "#8bdcbe",
           "#f05a71",
           "#f05a71"
          ]
         },
         "orientation": "h",
         "showlegend": false,
         "text": [
          "-0.074",
          "+0.043",
          "+0.033",
          "+0.028",
          "-0.023",
          "+0.023",
          "-0.018",
          "-0.017",
          "-0.016",
          "-0.014",
          "+0.012",
          "+0.011",
          "-0.011",
          "+0.011",
          "-0.01",
          "+0.009",
          "-0.009",
          "+0.008",
          "+0.008",
          "+0.008",
          "+0.008",
          "+0.008",
          "-0.007",
          "-0.007",
          "-0.006",
          "+0.006",
          "+0.006",
          "+0.005",
          "-0.005",
          "-0.013"
         ],
         "textposition": "outside",
         "type": "bar",
         "x": [
          -0.074,
          0.043,
          0.033,
          0.028,
          -0.023,
          0.023,
          -0.018,
          -0.017,
          -0.016,
          -0.014,
          0.012,
          0.011,
          -0.011,
          0.011,
          -0.01,
          0.009,
          -0.009,
          0.008,
          0.008,
          0.008,
          0.008,
          0.008,
          -0.007,
          -0.007,
          -0.006,
          0.006,
          0.006,
          0.005,
          -0.005,
          -0.013
         ],
         "xaxis": "x",
         "y": [
          "creatinine_min = 0.8",
          "creatinine_max = 1.0",
          "temperature_min = 35.06",
          "chloride_max = 123.0",
          "ptt_max = 27.6",
          "resp_rate_min = 8.0",
          "sodium_min = 142.0",
          "hypertension = 0.0",
          "urineoutput_24hr = 400.0",
          "glucose_max = 143.0",
          "hematocrit_min = 27.4",
          "potassium_max = 4.5",
          "egfr_mdrd_scr_max = 62.0",
          "platelets_min = 119.0",
          "albumin_max = 2.4",
          "calcium_max = 8.5",
          "chloride_min = 113.0",
          "bicarbonate_min = 17.0",
          "bilirubin_total_max = nan",
          "hemoglobin_min = 8.6",
          "hemoglobin_max = 12.5",
          "invasive_vent = 1.0",
          "wbc_max = 9.6",
          "hematocrit_max = 38.9",
          "potassium_min = 3.5",
          "peripheral_vascular_disease = 1.0",
          "temperature_mean = 36.67",
          "bilirubin_total_min = nan",
          "supplemental_oxygen = 0.0",
          "+ all other factors"
         ],
         "yaxis": "y"
        }
       ],
       "layout": {
        "annotations": [
         {
          "font": {
           "size": 16
          },
          "showarrow": false,
          "text": "LGBMClassifier",
          "x": 0.5,
          "xanchor": "center",
          "xref": "paper",
          "y": 1,
          "yanchor": "bottom",
          "yref": "paper"
         },
         {
          "font": {
           "size": 16
          },
          "showarrow": false,
          "text": "contribution",
          "x": 0.5,
          "xanchor": "center",
          "xref": "paper",
          "y": 0,
          "yanchor": "top",
          "yref": "paper",
          "yshift": -30
         }
        ],
        "font": {
         "color": "#371ea3"
        },
        "height": 773,
        "margin": {
         "b": 71,
         "r": 30,
         "t": 78
        },
        "shapes": [
         {
          "line": {
           "color": "#371ea3",
           "dash": "dot",
           "width": 1.5
          },
          "type": "line",
          "x0": 0.38,
          "x1": 0.38,
          "xref": "x",
          "y0": -1,
          "y1": 31,
          "yref": "y"
         }
        ],
        "template": {
         "data": {
          "scatter": [
           {
            "type": "scatter"
           }
          ]
         }
        },
        "title": {
         "text": "Shapley Values",
         "x": 0.15
        },
        "xaxis": {
         "anchor": "y",
         "automargin": true,
         "domain": [
          0,
          1
         ],
         "fixedrange": true,
         "gridwidth": 2,
         "range": [
          0,
          1
         ],
         "tickcolor": "white",
         "ticklen": 3,
         "ticks": "outside",
         "type": "linear",
         "zeroline": false
        },
        "yaxis": {
         "anchor": "x",
         "automargin": true,
         "autorange": "reversed",
         "domain": [
          0,
          1
         ],
         "fixedrange": true,
         "gridwidth": 2,
         "tickcolor": "white",
         "ticklen": 10,
         "ticks": "outside",
         "type": "category"
        }
       }
      }
     },
     "metadata": {},
     "output_type": "display_data"
    },
    {
     "name": "stdout",
     "output_type": "stream",
     "text": [
      "Using DALEX SHAP on false positive instance with row number: 228\n"
     ]
    },
    {
     "data": {
      "application/vnd.plotly.v1+json": {
       "config": {
        "displaylogo": false,
        "modeBarButtonsToRemove": [
         "sendDataToCloud",
         "lasso2d",
         "autoScale2d",
         "select2d",
         "zoom2d",
         "pan2d",
         "zoomIn2d",
         "zoomOut2d",
         "resetScale2d",
         "toggleSpikelines",
         "hoverCompareCartesian",
         "hoverClosestCartesian"
        ],
        "plotlyServerURL": "https://plot.ly",
        "staticPlot": false,
        "toImageButtonOptions": {
         "height": null,
         "width": null
        }
       },
       "data": [
        {
         "base": 0.38,
         "hoverinfo": "text",
         "hoverlabel": {
          "bgcolor": "rgba(0,0,0,0.8)"
         },
         "hovertext": [
          "Average response: 0.38<br>Prediction: 0.453<br>creatinine_max = 1.2<br>increases average response <br>by 0.226",
          "Average response: 0.38<br>Prediction: 0.453<br>creatinine_min = 1.0<br>decreases average response <br>by 0.195",
          "Average response: 0.38<br>Prediction: 0.453<br>egfr_mdrd_scr_max = 60.0<br>decreases average response <br>by 0.041",
          "Average response: 0.38<br>Prediction: 0.453<br>potassium_max = 5.2<br>increases average response <br>by 0.023",
          "Average response: 0.38<br>Prediction: 0.453<br>egfr_epi_scr_max = 61.0<br>decreases average response <br>by 0.02",
          "Average response: 0.38<br>Prediction: 0.453<br>sodium_min = 141.0<br>decreases average response <br>by 0.014",
          "Average response: 0.38<br>Prediction: 0.453<br>sbp_max = 177.0<br>increases average response <br>by 0.014",
          "Average response: 0.38<br>Prediction: 0.453<br>sbp_mean = 125.3<br>decreases average response <br>by 0.014",
          "Average response: 0.38<br>Prediction: 0.453<br>dbp_mean = 64.67<br>decreases average response <br>by 0.012",
          "Average response: 0.38<br>Prediction: 0.453<br>hematocrit_min = 32.9<br>decreases average response <br>by 0.012",
          "Average response: 0.38<br>Prediction: 0.453<br>temperature_max = 36.67<br>increases average response <br>by 0.01",
          "Average response: 0.38<br>Prediction: 0.453<br>calcium_max = 8.3<br>decreases average response <br>by 0.009",
          "Average response: 0.38<br>Prediction: 0.453<br>bun_max = 23.0<br>increases average response <br>by 0.008",
          "Average response: 0.38<br>Prediction: 0.453<br>hypertension = 1.0<br>increases average response <br>by 0.007",
          "Average response: 0.38<br>Prediction: 0.453<br>bicarbonate_max = 22.0<br>increases average response <br>by 0.007",
          "Average response: 0.38<br>Prediction: 0.453<br>invasive_vent = 0.0<br>decreases average response <br>by 0.006",
          "Average response: 0.38<br>Prediction: 0.453<br>temperature_mean = 36.58<br>increases average response <br>by 0.006",
          "Average response: 0.38<br>Prediction: 0.453<br>glucose_max = 153.0<br>decreases average response <br>by 0.005",
          "Average response: 0.38<br>Prediction: 0.453<br>spo2_max = 99.0<br>decreases average response <br>by 0.005",
          "Average response: 0.38<br>Prediction: 0.453<br>resp_rate_max = 29.0<br>increases average response <br>by 0.005",
          "Average response: 0.38<br>Prediction: 0.453<br>sbp_min = 99.0<br>decreases average response <br>by 0.005",
          "Average response: 0.38<br>Prediction: 0.453<br>dbp_max = 102.0<br>decreases average response <br>by 0.005",
          "Average response: 0.38<br>Prediction: 0.453<br>inr_min = nan<br>increases average response <br>by 0.005",
          "Average response: 0.38<br>Prediction: 0.453<br>diabetes_type2 = 0.0<br>decreases average response <br>by 0.005",
          "Average response: 0.38<br>Prediction: 0.453<br>platelets_max = 209.0<br>increases average response <br>by 0.005",
          "Average response: 0.38<br>Prediction: 0.453<br>hemoglobin_min = 10.9<br>increases average response <br>by 0.005",
          "Average response: 0.38<br>Prediction: 0.453<br>weight_max = 79.4<br>decreases average response <br>by 0.004",
          "Average response: 0.38<br>Prediction: 0.453<br>urineoutput_24hr = 45.0<br>increases average response <br>by 0.004",
          "Average response: 0.38<br>Prediction: 0.453<br>spo2_min = 93.0<br>decreases average response <br>by 0.004",
          "Average response: 0.38<br>Prediction: 0.453<br>+ all other factors<br>increases average response <br>by 0.008"
         ],
         "marker": {
          "color": [
           "#8bdcbe",
           "#f05a71",
           "#f05a71",
           "#8bdcbe",
           "#f05a71",
           "#f05a71",
           "#8bdcbe",
           "#f05a71",
           "#f05a71",
           "#f05a71",
           "#8bdcbe",
           "#f05a71",
           "#8bdcbe",
           "#8bdcbe",
           "#8bdcbe",
           "#f05a71",
           "#8bdcbe",
           "#f05a71",
           "#f05a71",
           "#8bdcbe",
           "#f05a71",
           "#f05a71",
           "#8bdcbe",
           "#f05a71",
           "#8bdcbe",
           "#8bdcbe",
           "#f05a71",
           "#8bdcbe",
           "#f05a71",
           "#8bdcbe"
          ]
         },
         "orientation": "h",
         "showlegend": false,
         "text": [
          "+0.226",
          "-0.195",
          "-0.041",
          "+0.023",
          "-0.02",
          "-0.014",
          "+0.014",
          "-0.014",
          "-0.012",
          "-0.012",
          "+0.01",
          "-0.009",
          "+0.008",
          "+0.007",
          "+0.007",
          "-0.006",
          "+0.006",
          "-0.005",
          "-0.005",
          "+0.005",
          "-0.005",
          "-0.005",
          "+0.005",
          "-0.005",
          "+0.005",
          "+0.005",
          "-0.004",
          "+0.004",
          "-0.004",
          "+0.008"
         ],
         "textposition": "outside",
         "type": "bar",
         "x": [
          0.226,
          -0.195,
          -0.041,
          0.023,
          -0.02,
          -0.014,
          0.014,
          -0.014,
          -0.012,
          -0.012,
          0.01,
          -0.009,
          0.008,
          0.007,
          0.007,
          -0.006,
          0.006,
          -0.005,
          -0.005,
          0.005,
          -0.005,
          -0.005,
          0.005,
          -0.005,
          0.005,
          0.005,
          -0.004,
          0.004,
          -0.004,
          0.008
         ],
         "xaxis": "x",
         "y": [
          "creatinine_max = 1.2",
          "creatinine_min = 1.0",
          "egfr_mdrd_scr_max = 60.0",
          "potassium_max = 5.2",
          "egfr_epi_scr_max = 61.0",
          "sodium_min = 141.0",
          "sbp_max = 177.0",
          "sbp_mean = 125.3",
          "dbp_mean = 64.67",
          "hematocrit_min = 32.9",
          "temperature_max = 36.67",
          "calcium_max = 8.3",
          "bun_max = 23.0",
          "hypertension = 1.0",
          "bicarbonate_max = 22.0",
          "invasive_vent = 0.0",
          "temperature_mean = 36.58",
          "glucose_max = 153.0",
          "spo2_max = 99.0",
          "resp_rate_max = 29.0",
          "sbp_min = 99.0",
          "dbp_max = 102.0",
          "inr_min = nan",
          "diabetes_type2 = 0.0",
          "platelets_max = 209.0",
          "hemoglobin_min = 10.9",
          "weight_max = 79.4",
          "urineoutput_24hr = 45.0",
          "spo2_min = 93.0",
          "+ all other factors"
         ],
         "yaxis": "y"
        }
       ],
       "layout": {
        "annotations": [
         {
          "font": {
           "size": 16
          },
          "showarrow": false,
          "text": "LGBMClassifier",
          "x": 0.5,
          "xanchor": "center",
          "xref": "paper",
          "y": 1,
          "yanchor": "bottom",
          "yref": "paper"
         },
         {
          "font": {
           "size": 16
          },
          "showarrow": false,
          "text": "contribution",
          "x": 0.5,
          "xanchor": "center",
          "xref": "paper",
          "y": 0,
          "yanchor": "top",
          "yref": "paper",
          "yshift": -30
         }
        ],
        "font": {
         "color": "#371ea3"
        },
        "height": 773,
        "margin": {
         "b": 71,
         "r": 30,
         "t": 78
        },
        "shapes": [
         {
          "line": {
           "color": "#371ea3",
           "dash": "dot",
           "width": 1.5
          },
          "type": "line",
          "x0": 0.38,
          "x1": 0.38,
          "xref": "x",
          "y0": -1,
          "y1": 31,
          "yref": "y"
         }
        ],
        "template": {
         "data": {
          "scatter": [
           {
            "type": "scatter"
           }
          ]
         }
        },
        "title": {
         "text": "Shapley Values",
         "x": 0.15
        },
        "xaxis": {
         "anchor": "y",
         "automargin": true,
         "domain": [
          0,
          1
         ],
         "fixedrange": true,
         "gridwidth": 2,
         "range": [
          0,
          1
         ],
         "tickcolor": "white",
         "ticklen": 3,
         "ticks": "outside",
         "type": "linear",
         "zeroline": false
        },
        "yaxis": {
         "anchor": "x",
         "automargin": true,
         "autorange": "reversed",
         "domain": [
          0,
          1
         ],
         "fixedrange": true,
         "gridwidth": 2,
         "tickcolor": "white",
         "ticklen": 10,
         "ticks": "outside",
         "type": "category"
        }
       }
      }
     },
     "metadata": {},
     "output_type": "display_data"
    },
    {
     "name": "stdout",
     "output_type": "stream",
     "text": [
      "Using DALEX SHAP on false positive instance with row number: 142\n"
     ]
    },
    {
     "data": {
      "application/vnd.plotly.v1+json": {
       "config": {
        "displaylogo": false,
        "modeBarButtonsToRemove": [
         "sendDataToCloud",
         "lasso2d",
         "autoScale2d",
         "select2d",
         "zoom2d",
         "pan2d",
         "zoomIn2d",
         "zoomOut2d",
         "resetScale2d",
         "toggleSpikelines",
         "hoverCompareCartesian",
         "hoverClosestCartesian"
        ],
        "plotlyServerURL": "https://plot.ly",
        "staticPlot": false,
        "toImageButtonOptions": {
         "height": null,
         "width": null
        }
       },
       "data": [
        {
         "base": 0.38,
         "hoverinfo": "text",
         "hoverlabel": {
          "bgcolor": "rgba(0,0,0,0.8)"
         },
         "hovertext": [
          "Average response: 0.38<br>Prediction: 0.542<br>creatinine_max = 1.3<br>increases average response <br>by 0.191",
          "Average response: 0.38<br>Prediction: 0.542<br>creatinine_min = 1.3<br>decreases average response <br>by 0.17",
          "Average response: 0.38<br>Prediction: 0.542<br>sodium_min = 128.0<br>increases average response <br>by 0.017",
          "Average response: 0.38<br>Prediction: 0.542<br>ptt_max = 145.9<br>increases average response <br>by 0.017",
          "Average response: 0.38<br>Prediction: 0.542<br>hemoglobin_min = 16.2<br>decreases average response <br>by 0.015",
          "Average response: 0.38<br>Prediction: 0.542<br>temperature_min = 35.56<br>increases average response <br>by 0.015",
          "Average response: 0.38<br>Prediction: 0.542<br>wbc_max = 19.7<br>increases average response <br>by 0.013",
          "Average response: 0.38<br>Prediction: 0.542<br>egfr_epi_scr_max = 52.0<br>decreases average response <br>by 0.013",
          "Average response: 0.38<br>Prediction: 0.542<br>temperature_mean = 35.9<br>increases average response <br>by 0.013",
          "Average response: 0.38<br>Prediction: 0.542<br>egfr_mdrd_scr_max = 53.0<br>decreases average response <br>by 0.012",
          "Average response: 0.38<br>Prediction: 0.542<br>potassium_min = 4.2<br>decreases average response <br>by 0.009",
          "Average response: 0.38<br>Prediction: 0.542<br>bicarbonate_min = 15.0<br>increases average response <br>by 0.009",
          "Average response: 0.38<br>Prediction: 0.542<br>platelets_max = 334.0<br>decreases average response <br>by 0.008",
          "Average response: 0.38<br>Prediction: 0.542<br>invasive_vent = 0.0<br>decreases average response <br>by 0.007",
          "Average response: 0.38<br>Prediction: 0.542<br>ptt_min = 145.9<br>increases average response <br>by 0.007",
          "Average response: 0.38<br>Prediction: 0.542<br>platelets_min = 334.0<br>decreases average response <br>by 0.007",
          "Average response: 0.38<br>Prediction: 0.542<br>sbp_mean = 93.43<br>increases average response <br>by 0.006",
          "Average response: 0.38<br>Prediction: 0.542<br>albumin_min = 3.8<br>decreases average response <br>by 0.006",
          "Average response: 0.38<br>Prediction: 0.542<br>bun_max = 54.0<br>increases average response <br>by 0.006",
          "Average response: 0.38<br>Prediction: 0.542<br>sbp_max = 112.0<br>decreases average response <br>by 0.006",
          "Average response: 0.38<br>Prediction: 0.542<br>potassium_max = 5.1<br>increases average response <br>by 0.005",
          "Average response: 0.38<br>Prediction: 0.542<br>sbp_min = 82.0<br>increases average response <br>by 0.005",
          "Average response: 0.38<br>Prediction: 0.542<br>temperature_max = 36.06<br>increases average response <br>by 0.005",
          "Average response: 0.38<br>Prediction: 0.542<br>calcium_max = 8.5<br>increases average response <br>by 0.005",
          "Average response: 0.38<br>Prediction: 0.542<br>congestive_heart_failure = 1.0<br>increases average response <br>by 0.004",
          "Average response: 0.38<br>Prediction: 0.542<br>bilirubin_total_min = 0.9<br>decreases average response <br>by 0.004",
          "Average response: 0.38<br>Prediction: 0.542<br>bilirubin_total_max = 0.9<br>decreases average response <br>by 0.004",
          "Average response: 0.38<br>Prediction: 0.542<br>hematocrit_max = 46.8<br>decreases average response <br>by 0.004",
          "Average response: 0.38<br>Prediction: 0.542<br>heart_rate_mean = 113.3<br>increases average response <br>by 0.004",
          "Average response: 0.38<br>Prediction: 0.542<br>+ all other factors<br>decreases average response <br>by 0.005"
         ],
         "marker": {
          "color": [
           "#8bdcbe",
           "#f05a71",
           "#8bdcbe",
           "#8bdcbe",
           "#f05a71",
           "#8bdcbe",
           "#8bdcbe",
           "#f05a71",
           "#8bdcbe",
           "#f05a71",
           "#f05a71",
           "#8bdcbe",
           "#f05a71",
           "#f05a71",
           "#8bdcbe",
           "#f05a71",
           "#8bdcbe",
           "#f05a71",
           "#8bdcbe",
           "#f05a71",
           "#8bdcbe",
           "#8bdcbe",
           "#8bdcbe",
           "#8bdcbe",
           "#8bdcbe",
           "#f05a71",
           "#f05a71",
           "#f05a71",
           "#8bdcbe",
           "#f05a71"
          ]
         },
         "orientation": "h",
         "showlegend": false,
         "text": [
          "+0.191",
          "-0.17",
          "+0.017",
          "+0.017",
          "-0.015",
          "+0.015",
          "+0.013",
          "-0.013",
          "+0.013",
          "-0.012",
          "-0.009",
          "+0.009",
          "-0.008",
          "-0.007",
          "+0.007",
          "-0.007",
          "+0.006",
          "-0.006",
          "+0.006",
          "-0.006",
          "+0.005",
          "+0.005",
          "+0.005",
          "+0.005",
          "+0.004",
          "-0.004",
          "-0.004",
          "-0.004",
          "+0.004",
          "-0.005"
         ],
         "textposition": "outside",
         "type": "bar",
         "x": [
          0.191,
          -0.17,
          0.017,
          0.017,
          -0.015,
          0.015,
          0.013,
          -0.013,
          0.013,
          -0.012,
          -0.009,
          0.009,
          -0.008,
          -0.007,
          0.007,
          -0.007,
          0.006,
          -0.006,
          0.006,
          -0.006,
          0.005,
          0.005,
          0.005,
          0.005,
          0.004,
          -0.004,
          -0.004,
          -0.004,
          0.004,
          -0.005
         ],
         "xaxis": "x",
         "y": [
          "creatinine_max = 1.3",
          "creatinine_min = 1.3",
          "sodium_min = 128.0",
          "ptt_max = 145.9",
          "hemoglobin_min = 16.2",
          "temperature_min = 35.56",
          "wbc_max = 19.7",
          "egfr_epi_scr_max = 52.0",
          "temperature_mean = 35.9",
          "egfr_mdrd_scr_max = 53.0",
          "potassium_min = 4.2",
          "bicarbonate_min = 15.0",
          "platelets_max = 334.0",
          "invasive_vent = 0.0",
          "ptt_min = 145.9",
          "platelets_min = 334.0",
          "sbp_mean = 93.43",
          "albumin_min = 3.8",
          "bun_max = 54.0",
          "sbp_max = 112.0",
          "potassium_max = 5.1",
          "sbp_min = 82.0",
          "temperature_max = 36.06",
          "calcium_max = 8.5",
          "congestive_heart_failure = 1.0",
          "bilirubin_total_min = 0.9",
          "bilirubin_total_max = 0.9",
          "hematocrit_max = 46.8",
          "heart_rate_mean = 113.3",
          "+ all other factors"
         ],
         "yaxis": "y"
        }
       ],
       "layout": {
        "annotations": [
         {
          "font": {
           "size": 16
          },
          "showarrow": false,
          "text": "LGBMClassifier",
          "x": 0.5,
          "xanchor": "center",
          "xref": "paper",
          "y": 1,
          "yanchor": "bottom",
          "yref": "paper"
         },
         {
          "font": {
           "size": 16
          },
          "showarrow": false,
          "text": "contribution",
          "x": 0.5,
          "xanchor": "center",
          "xref": "paper",
          "y": 0,
          "yanchor": "top",
          "yref": "paper",
          "yshift": -30
         }
        ],
        "font": {
         "color": "#371ea3"
        },
        "height": 773,
        "margin": {
         "b": 71,
         "r": 30,
         "t": 78
        },
        "shapes": [
         {
          "line": {
           "color": "#371ea3",
           "dash": "dot",
           "width": 1.5
          },
          "type": "line",
          "x0": 0.38,
          "x1": 0.38,
          "xref": "x",
          "y0": -1,
          "y1": 31,
          "yref": "y"
         }
        ],
        "template": {
         "data": {
          "scatter": [
           {
            "type": "scatter"
           }
          ]
         }
        },
        "title": {
         "text": "Shapley Values",
         "x": 0.15
        },
        "xaxis": {
         "anchor": "y",
         "automargin": true,
         "domain": [
          0,
          1
         ],
         "fixedrange": true,
         "gridwidth": 2,
         "range": [
          0,
          1
         ],
         "tickcolor": "white",
         "ticklen": 3,
         "ticks": "outside",
         "type": "linear",
         "zeroline": false
        },
        "yaxis": {
         "anchor": "x",
         "automargin": true,
         "autorange": "reversed",
         "domain": [
          0,
          1
         ],
         "fixedrange": true,
         "gridwidth": 2,
         "tickcolor": "white",
         "ticklen": 10,
         "ticks": "outside",
         "type": "category"
        }
       }
      }
     },
     "metadata": {},
     "output_type": "display_data"
    },
    {
     "name": "stdout",
     "output_type": "stream",
     "text": [
      "Using DALEX SHAP on false positive instance with row number: 754\n"
     ]
    },
    {
     "data": {
      "application/vnd.plotly.v1+json": {
       "config": {
        "displaylogo": false,
        "modeBarButtonsToRemove": [
         "sendDataToCloud",
         "lasso2d",
         "autoScale2d",
         "select2d",
         "zoom2d",
         "pan2d",
         "zoomIn2d",
         "zoomOut2d",
         "resetScale2d",
         "toggleSpikelines",
         "hoverCompareCartesian",
         "hoverClosestCartesian"
        ],
        "plotlyServerURL": "https://plot.ly",
        "staticPlot": false,
        "toImageButtonOptions": {
         "height": null,
         "width": null
        }
       },
       "data": [
        {
         "base": 0.38,
         "hoverinfo": "text",
         "hoverlabel": {
          "bgcolor": "rgba(0,0,0,0.8)"
         },
         "hovertext": [
          "Average response: 0.38<br>Prediction: 0.516<br>creatinine_min = 0.3<br>increases average response <br>by 0.353",
          "Average response: 0.38<br>Prediction: 0.516<br>creatinine_max = 0.3<br>decreases average response <br>by 0.201",
          "Average response: 0.38<br>Prediction: 0.516<br>egfr_mdrd_scr_max = 267.0<br>decreases average response <br>by 0.111",
          "Average response: 0.38<br>Prediction: 0.516<br>potassium_min = 3.0<br>increases average response <br>by 0.033",
          "Average response: 0.38<br>Prediction: 0.516<br>egfr_epi_scr_max = 157.0<br>decreases average response <br>by 0.031",
          "Average response: 0.38<br>Prediction: 0.516<br>temperature_min = 36.89<br>decreases average response <br>by 0.02",
          "Average response: 0.38<br>Prediction: 0.516<br>pt_max = 9.8<br>decreases average response <br>by 0.018",
          "Average response: 0.38<br>Prediction: 0.516<br>ptt_max = 21.9<br>decreases average response <br>by 0.017",
          "Average response: 0.38<br>Prediction: 0.516<br>chloride_max = 116.0<br>increases average response <br>by 0.016",
          "Average response: 0.38<br>Prediction: 0.516<br>resp_rate_max = 44.0<br>increases average response <br>by 0.013",
          "Average response: 0.38<br>Prediction: 0.516<br>dbp_max = 162.0<br>increases average response <br>by 0.011",
          "Average response: 0.38<br>Prediction: 0.516<br>wbc_max = 20.3<br>increases average response <br>by 0.009",
          "Average response: 0.38<br>Prediction: 0.516<br>sodium_min = 141.0<br>decreases average response <br>by 0.007",
          "Average response: 0.38<br>Prediction: 0.516<br>weight_max = 66.6<br>decreases average response <br>by 0.007",
          "Average response: 0.38<br>Prediction: 0.516<br>invasive_vent = 0.0<br>decreases average response <br>by 0.007",
          "Average response: 0.38<br>Prediction: 0.516<br>bilirubin_total_min = 0.4<br>decreases average response <br>by 0.006",
          "Average response: 0.38<br>Prediction: 0.516<br>sbp_max = 194.0<br>increases average response <br>by 0.006",
          "Average response: 0.38<br>Prediction: 0.516<br>inr_max = 0.9<br>decreases average response <br>by 0.006",
          "Average response: 0.38<br>Prediction: 0.516<br>bilirubin_total_max = 0.4<br>decreases average response <br>by 0.006",
          "Average response: 0.38<br>Prediction: 0.516<br>female = 1.0<br>decreases average response <br>by 0.005",
          "Average response: 0.38<br>Prediction: 0.516<br>hemoglobin_min = 5.1<br>increases average response <br>by 0.005",
          "Average response: 0.38<br>Prediction: 0.516<br>glucose_max = 87.0<br>decreases average response <br>by 0.005",
          "Average response: 0.38<br>Prediction: 0.516<br>temperature_mean = 37.17<br>decreases average response <br>by 0.004",
          "Average response: 0.38<br>Prediction: 0.516<br>bun_max = 10.0<br>decreases average response <br>by 0.003",
          "Average response: 0.38<br>Prediction: 0.516<br>heart_rate_min = 91.0<br>increases average response <br>by 0.003",
          "Average response: 0.38<br>Prediction: 0.516<br>pt_min = 9.8<br>increases average response <br>by 0.003",
          "Average response: 0.38<br>Prediction: 0.516<br>bicarbonate_min = 20.0<br>increases average response <br>by 0.003",
          "Average response: 0.38<br>Prediction: 0.516<br>congestive_heart_failure = 0.0<br>decreases average response <br>by 0.003",
          "Average response: 0.38<br>Prediction: 0.516<br>potassium_max = 4.3<br>decreases average response <br>by 0.003",
          "Average response: 0.38<br>Prediction: 0.516<br>+ all other factors<br>decreases average response <br>by 0.021"
         ],
         "marker": {
          "color": [
           "#8bdcbe",
           "#f05a71",
           "#f05a71",
           "#8bdcbe",
           "#f05a71",
           "#f05a71",
           "#f05a71",
           "#f05a71",
           "#8bdcbe",
           "#8bdcbe",
           "#8bdcbe",
           "#8bdcbe",
           "#f05a71",
           "#f05a71",
           "#f05a71",
           "#f05a71",
           "#8bdcbe",
           "#f05a71",
           "#f05a71",
           "#f05a71",
           "#8bdcbe",
           "#f05a71",
           "#f05a71",
           "#f05a71",
           "#8bdcbe",
           "#8bdcbe",
           "#8bdcbe",
           "#f05a71",
           "#f05a71",
           "#f05a71"
          ]
         },
         "orientation": "h",
         "showlegend": false,
         "text": [
          "+0.353",
          "-0.201",
          "-0.111",
          "+0.033",
          "-0.031",
          "-0.02",
          "-0.018",
          "-0.017",
          "+0.016",
          "+0.013",
          "+0.011",
          "+0.009",
          "-0.007",
          "-0.007",
          "-0.007",
          "-0.006",
          "+0.006",
          "-0.006",
          "-0.006",
          "-0.005",
          "+0.005",
          "-0.005",
          "-0.004",
          "-0.003",
          "+0.003",
          "+0.003",
          "+0.003",
          "-0.003",
          "-0.003",
          "-0.021"
         ],
         "textposition": "outside",
         "type": "bar",
         "x": [
          0.353,
          -0.201,
          -0.111,
          0.033,
          -0.031,
          -0.02,
          -0.018,
          -0.017,
          0.016,
          0.013,
          0.011,
          0.009,
          -0.007,
          -0.007,
          -0.007,
          -0.006,
          0.006,
          -0.006,
          -0.006,
          -0.005,
          0.005,
          -0.005,
          -0.004,
          -0.003,
          0.003,
          0.003,
          0.003,
          -0.003,
          -0.003,
          -0.021
         ],
         "xaxis": "x",
         "y": [
          "creatinine_min = 0.3",
          "creatinine_max = 0.3",
          "egfr_mdrd_scr_max = 267.0",
          "potassium_min = 3.0",
          "egfr_epi_scr_max = 157.0",
          "temperature_min = 36.89",
          "pt_max = 9.8",
          "ptt_max = 21.9",
          "chloride_max = 116.0",
          "resp_rate_max = 44.0",
          "dbp_max = 162.0",
          "wbc_max = 20.3",
          "sodium_min = 141.0",
          "weight_max = 66.6",
          "invasive_vent = 0.0",
          "bilirubin_total_min = 0.4",
          "sbp_max = 194.0",
          "inr_max = 0.9",
          "bilirubin_total_max = 0.4",
          "female = 1.0",
          "hemoglobin_min = 5.1",
          "glucose_max = 87.0",
          "temperature_mean = 37.17",
          "bun_max = 10.0",
          "heart_rate_min = 91.0",
          "pt_min = 9.8",
          "bicarbonate_min = 20.0",
          "congestive_heart_failure = 0.0",
          "potassium_max = 4.3",
          "+ all other factors"
         ],
         "yaxis": "y"
        }
       ],
       "layout": {
        "annotations": [
         {
          "font": {
           "size": 16
          },
          "showarrow": false,
          "text": "LGBMClassifier",
          "x": 0.5,
          "xanchor": "center",
          "xref": "paper",
          "y": 1,
          "yanchor": "bottom",
          "yref": "paper"
         },
         {
          "font": {
           "size": 16
          },
          "showarrow": false,
          "text": "contribution",
          "x": 0.5,
          "xanchor": "center",
          "xref": "paper",
          "y": 0,
          "yanchor": "top",
          "yref": "paper",
          "yshift": -30
         }
        ],
        "font": {
         "color": "#371ea3"
        },
        "height": 773,
        "margin": {
         "b": 71,
         "r": 30,
         "t": 78
        },
        "shapes": [
         {
          "line": {
           "color": "#371ea3",
           "dash": "dot",
           "width": 1.5
          },
          "type": "line",
          "x0": 0.38,
          "x1": 0.38,
          "xref": "x",
          "y0": -1,
          "y1": 31,
          "yref": "y"
         }
        ],
        "template": {
         "data": {
          "scatter": [
           {
            "type": "scatter"
           }
          ]
         }
        },
        "title": {
         "text": "Shapley Values",
         "x": 0.15
        },
        "xaxis": {
         "anchor": "y",
         "automargin": true,
         "domain": [
          0,
          1
         ],
         "fixedrange": true,
         "gridwidth": 2,
         "range": [
          0,
          1
         ],
         "tickcolor": "white",
         "ticklen": 3,
         "ticks": "outside",
         "type": "linear",
         "zeroline": false
        },
        "yaxis": {
         "anchor": "x",
         "automargin": true,
         "autorange": "reversed",
         "domain": [
          0,
          1
         ],
         "fixedrange": true,
         "gridwidth": 2,
         "tickcolor": "white",
         "ticklen": 10,
         "ticks": "outside",
         "type": "category"
        }
       }
      }
     },
     "metadata": {},
     "output_type": "display_data"
    },
    {
     "name": "stdout",
     "output_type": "stream",
     "text": [
      "Using DALEX SHAP on false positive instance with row number: 104\n"
     ]
    },
    {
     "data": {
      "application/vnd.plotly.v1+json": {
       "config": {
        "displaylogo": false,
        "modeBarButtonsToRemove": [
         "sendDataToCloud",
         "lasso2d",
         "autoScale2d",
         "select2d",
         "zoom2d",
         "pan2d",
         "zoomIn2d",
         "zoomOut2d",
         "resetScale2d",
         "toggleSpikelines",
         "hoverCompareCartesian",
         "hoverClosestCartesian"
        ],
        "plotlyServerURL": "https://plot.ly",
        "staticPlot": false,
        "toImageButtonOptions": {
         "height": null,
         "width": null
        }
       },
       "data": [
        {
         "base": 0.38,
         "hoverinfo": "text",
         "hoverlabel": {
          "bgcolor": "rgba(0,0,0,0.8)"
         },
         "hovertext": [
          "Average response: 0.38<br>Prediction: 0.643<br>creatinine_max = 1.2<br>increases average response <br>by 0.202",
          "Average response: 0.38<br>Prediction: 0.643<br>creatinine_min = 1.0<br>decreases average response <br>by 0.106",
          "Average response: 0.38<br>Prediction: 0.643<br>egfr_mdrd_scr_max = 57.0<br>decreases average response <br>by 0.04",
          "Average response: 0.38<br>Prediction: 0.643<br>ptt_max = 123.7<br>increases average response <br>by 0.024",
          "Average response: 0.38<br>Prediction: 0.643<br>dbp_mean = 54.51<br>increases average response <br>by 0.024",
          "Average response: 0.38<br>Prediction: 0.643<br>wbc_max = 9.5<br>decreases average response <br>by 0.021",
          "Average response: 0.38<br>Prediction: 0.643<br>hemoglobin_min = 9.4<br>increases average response <br>by 0.02",
          "Average response: 0.38<br>Prediction: 0.643<br>diabetes_type2 = 1.0<br>increases average response <br>by 0.016",
          "Average response: 0.38<br>Prediction: 0.643<br>egfr_epi_scr_max = 54.0<br>decreases average response <br>by 0.015",
          "Average response: 0.38<br>Prediction: 0.643<br>congestive_heart_failure = 1.0<br>increases average response <br>by 0.015",
          "Average response: 0.38<br>Prediction: 0.643<br>resp_rate_min = 7.0<br>increases average response <br>by 0.014",
          "Average response: 0.38<br>Prediction: 0.643<br>bilirubin_total_max = 0.8<br>decreases average response <br>by 0.01",
          "Average response: 0.38<br>Prediction: 0.643<br>chloride_max = 106.0<br>decreases average response <br>by 0.01",
          "Average response: 0.38<br>Prediction: 0.643<br>ptt_min = 51.6<br>increases average response <br>by 0.01",
          "Average response: 0.38<br>Prediction: 0.643<br>glucose_max = 92.0<br>increases average response <br>by 0.009",
          "Average response: 0.38<br>Prediction: 0.643<br>platelets_min = 126.0<br>increases average response <br>by 0.009",
          "Average response: 0.38<br>Prediction: 0.643<br>invasive_vent = 1.0<br>increases average response <br>by 0.009",
          "Average response: 0.38<br>Prediction: 0.643<br>age = 86.0<br>decreases average response <br>by 0.009",
          "Average response: 0.38<br>Prediction: 0.643<br>sodium_min = 142.0<br>decreases average response <br>by 0.008",
          "Average response: 0.38<br>Prediction: 0.643<br>potassium_max = 3.9<br>decreases average response <br>by 0.008",
          "Average response: 0.38<br>Prediction: 0.643<br>bilirubin_total_min = 0.8<br>decreases average response <br>by 0.007",
          "Average response: 0.38<br>Prediction: 0.643<br>pt_max = 23.0<br>increases average response <br>by 0.007",
          "Average response: 0.38<br>Prediction: 0.643<br>sbp_min = 88.0<br>increases average response <br>by 0.007",
          "Average response: 0.38<br>Prediction: 0.643<br>platelets_max = 141.0<br>increases average response <br>by 0.006",
          "Average response: 0.38<br>Prediction: 0.643<br>temperature_mean = 36.71<br>increases average response <br>by 0.006",
          "Average response: 0.38<br>Prediction: 0.643<br>calcium_max = 8.1<br>decreases average response <br>by 0.006",
          "Average response: 0.38<br>Prediction: 0.643<br>wbc_min = 9.0<br>decreases average response <br>by 0.006",
          "Average response: 0.38<br>Prediction: 0.643<br>pt_min = 23.0<br>decreases average response <br>by 0.006",
          "Average response: 0.38<br>Prediction: 0.643<br>bun_max = 37.0<br>increases average response <br>by 0.005",
          "Average response: 0.38<br>Prediction: 0.643<br>+ all other factors<br>increases average response <br>by 0.005"
         ],
         "marker": {
          "color": [
           "#8bdcbe",
           "#f05a71",
           "#f05a71",
           "#8bdcbe",
           "#8bdcbe",
           "#f05a71",
           "#8bdcbe",
           "#8bdcbe",
           "#f05a71",
           "#8bdcbe",
           "#8bdcbe",
           "#f05a71",
           "#f05a71",
           "#8bdcbe",
           "#8bdcbe",
           "#8bdcbe",
           "#8bdcbe",
           "#f05a71",
           "#f05a71",
           "#f05a71",
           "#f05a71",
           "#8bdcbe",
           "#8bdcbe",
           "#8bdcbe",
           "#8bdcbe",
           "#f05a71",
           "#f05a71",
           "#f05a71",
           "#8bdcbe",
           "#8bdcbe"
          ]
         },
         "orientation": "h",
         "showlegend": false,
         "text": [
          "+0.202",
          "-0.106",
          "-0.04",
          "+0.024",
          "+0.024",
          "-0.021",
          "+0.02",
          "+0.016",
          "-0.015",
          "+0.015",
          "+0.014",
          "-0.01",
          "-0.01",
          "+0.01",
          "+0.009",
          "+0.009",
          "+0.009",
          "-0.009",
          "-0.008",
          "-0.008",
          "-0.007",
          "+0.007",
          "+0.007",
          "+0.006",
          "+0.006",
          "-0.006",
          "-0.006",
          "-0.006",
          "+0.005",
          "+0.005"
         ],
         "textposition": "outside",
         "type": "bar",
         "x": [
          0.202,
          -0.106,
          -0.04,
          0.024,
          0.024,
          -0.021,
          0.02,
          0.016,
          -0.015,
          0.015,
          0.014,
          -0.01,
          -0.01,
          0.01,
          0.009,
          0.009,
          0.009,
          -0.009,
          -0.008,
          -0.008,
          -0.007,
          0.007,
          0.007,
          0.006,
          0.006,
          -0.006,
          -0.006,
          -0.006,
          0.005,
          0.005
         ],
         "xaxis": "x",
         "y": [
          "creatinine_max = 1.2",
          "creatinine_min = 1.0",
          "egfr_mdrd_scr_max = 57.0",
          "ptt_max = 123.7",
          "dbp_mean = 54.51",
          "wbc_max = 9.5",
          "hemoglobin_min = 9.4",
          "diabetes_type2 = 1.0",
          "egfr_epi_scr_max = 54.0",
          "congestive_heart_failure = 1.0",
          "resp_rate_min = 7.0",
          "bilirubin_total_max = 0.8",
          "chloride_max = 106.0",
          "ptt_min = 51.6",
          "glucose_max = 92.0",
          "platelets_min = 126.0",
          "invasive_vent = 1.0",
          "age = 86.0",
          "sodium_min = 142.0",
          "potassium_max = 3.9",
          "bilirubin_total_min = 0.8",
          "pt_max = 23.0",
          "sbp_min = 88.0",
          "platelets_max = 141.0",
          "temperature_mean = 36.71",
          "calcium_max = 8.1",
          "wbc_min = 9.0",
          "pt_min = 23.0",
          "bun_max = 37.0",
          "+ all other factors"
         ],
         "yaxis": "y"
        }
       ],
       "layout": {
        "annotations": [
         {
          "font": {
           "size": 16
          },
          "showarrow": false,
          "text": "LGBMClassifier",
          "x": 0.5,
          "xanchor": "center",
          "xref": "paper",
          "y": 1,
          "yanchor": "bottom",
          "yref": "paper"
         },
         {
          "font": {
           "size": 16
          },
          "showarrow": false,
          "text": "contribution",
          "x": 0.5,
          "xanchor": "center",
          "xref": "paper",
          "y": 0,
          "yanchor": "top",
          "yref": "paper",
          "yshift": -30
         }
        ],
        "font": {
         "color": "#371ea3"
        },
        "height": 773,
        "margin": {
         "b": 71,
         "r": 30,
         "t": 78
        },
        "shapes": [
         {
          "line": {
           "color": "#371ea3",
           "dash": "dot",
           "width": 1.5
          },
          "type": "line",
          "x0": 0.38,
          "x1": 0.38,
          "xref": "x",
          "y0": -1,
          "y1": 31,
          "yref": "y"
         }
        ],
        "template": {
         "data": {
          "scatter": [
           {
            "type": "scatter"
           }
          ]
         }
        },
        "title": {
         "text": "Shapley Values",
         "x": 0.15
        },
        "xaxis": {
         "anchor": "y",
         "automargin": true,
         "domain": [
          0,
          1
         ],
         "fixedrange": true,
         "gridwidth": 2,
         "range": [
          0,
          1
         ],
         "tickcolor": "white",
         "ticklen": 3,
         "ticks": "outside",
         "type": "linear",
         "zeroline": false
        },
        "yaxis": {
         "anchor": "x",
         "automargin": true,
         "autorange": "reversed",
         "domain": [
          0,
          1
         ],
         "fixedrange": true,
         "gridwidth": 2,
         "tickcolor": "white",
         "ticklen": 10,
         "ticks": "outside",
         "type": "category"
        }
       }
      }
     },
     "metadata": {},
     "output_type": "display_data"
    }
   ],
   "source": [
    "import random\n",
    "random.seed(42)\n",
    "rand_list = random.sample(range(0, df_FP.shape[0]), 10)\n",
    "\n",
    "clf_threshold = 0.38\n",
    "import dalex as dx\n",
    "\n",
    "# error_df = {\"df_TN\":df_TN, \"df_FP\":df_FP, \"df_TP\":df_TP, \"df_FN\":df_FN}\n",
    "error_df = {\"df_FP\":df_FP}\n",
    "\n",
    "for k,df in error_df.items():\n",
    "    df_shap = df.drop(['y_pred','y_actual','error_category'], axis=1)\n",
    "\n",
    "    for row_number in rand_list:\n",
    "        print(\"Using DALEX SHAP on false positive instance with row number: \"+str(row_number))\n",
    "        exp.predict_parts(df_shap.iloc[[row_number]], N=100, type='shap').plot(min_max=[0,1], max_vars=30, baseline=clf_threshold)"
   ]
  },
  {
   "cell_type": "code",
   "execution_count": null,
   "metadata": {},
   "outputs": [],
   "source": [
    "df_FP.creatinine_max.describe()"
   ]
  },
  {
   "cell_type": "code",
   "execution_count": null,
   "metadata": {},
   "outputs": [],
   "source": [
    "df_TN.creatinine_min.describe()"
   ]
  },
  {
   "cell_type": "code",
   "execution_count": null,
   "metadata": {},
   "outputs": [],
   "source": [
    "import random\n",
    "random.seed(42)\n",
    "rand_list = random.sample(range(0, df_TN.shape[0]), 10)\n",
    "\n",
    "\n",
    "import dalex as dx\n",
    "\n",
    "# error_df = {\"df_TN\":df_TN, \"df_FP\":df_FP, \"df_TP\":df_TP, \"df_FN\":df_FN}\n",
    "error_df = {\"df_TN\":df_TN}\n",
    "\n",
    "for k,df in error_df.items():\n",
    "    df_shap = df.drop(['y_pred','y_actual','error_category'], axis=1)\n",
    "\n",
    "    for row_number in rand_list:\n",
    "        print(\"Using DALEX on true negative instance with row number: \"+str(row_number))\n",
    "        exp.predict_parts(df_shap.iloc[[row_number]], N=100).plot(min_max=[0,1], max_vars=30, baseline=clf_threshold)"
   ]
  },
  {
   "cell_type": "markdown",
   "metadata": {},
   "source": [
    "## Global Dalex"
   ]
  },
  {
   "cell_type": "code",
   "execution_count": null,
   "metadata": {},
   "outputs": [],
   "source": [
    "#Merge the DataFrames\n",
    "# common_processed = processed2.copy()\n",
    "common_processed = processed.copy()\n",
    "common_FP = pd.merge(df_FP, common_processed, how='inner', left_index=True, right_index=True, suffixes=('', '_drop'))\n",
    "\n",
    "#Drop the duplicate columns\n",
    "common_FP.drop([col for col in common_FP.columns if 'drop' in col], axis=1, inplace=True)\n",
    "\n",
    "\n",
    "#Merge the DataFrames\n",
    "common_TN = pd.merge(df_TN, common_processed, how='inner', left_index=True, right_index=True, suffixes=('', '_drop'))\n",
    "\n",
    "#Drop the duplicate columns\n",
    "common_TN.drop([col for col in common_TN.columns if 'drop' in col], axis=1, inplace=True)\n",
    "\n",
    "#Merge the DataFrames\n",
    "common_TP = pd.merge(df_TP, common_processed, how='inner', left_index=True, right_index=True, suffixes=('', '_drop'))\n",
    "\n",
    "#Drop the duplicate columns\n",
    "common_TP.drop([col for col in common_TP.columns if 'drop' in col], axis=1, inplace=True)\n",
    "\n",
    "\n",
    "#Merge the DataFrames\n",
    "common_FN = pd.merge(df_FN, common_processed, how='inner', left_index=True, right_index=True, suffixes=('', '_drop'))\n",
    "\n",
    "#Drop the duplicate columns\n",
    "common_FN.drop([col for col in common_FN.columns if 'drop' in col], axis=1, inplace=True)\n",
    "\n",
    "\n",
    "#Merge the DataFrames\n",
    "common_test_all = pd.merge(df_test_all, common_processed, how='inner', left_index=True, right_index=True, suffixes=('', '_drop'))\n",
    "\n",
    "#Drop the duplicate columns\n",
    "common_test_all.drop([col for col in common_test_all.columns if 'drop' in col], axis=1, inplace=True)"
   ]
  },
  {
   "cell_type": "code",
   "execution_count": null,
   "metadata": {},
   "outputs": [],
   "source": [
    "common_FP.head(2)"
   ]
  },
  {
   "cell_type": "code",
   "execution_count": null,
   "metadata": {},
   "outputs": [],
   "source": [
    "common_FP.shape"
   ]
  },
  {
   "cell_type": "code",
   "execution_count": null,
   "metadata": {},
   "outputs": [],
   "source": [
    "import seaborn as sns\n",
    "sns.jointplot(x=\"egfr_epi_scr\", y=\"age\", data=common_FP, kind=\"hex\", joint_kws={'color':'#66ffcc'})\n",
    "plt.axvline(60, 0,10, linestyle='--', color = 'red', linewidth=1.5)\n",
    "plt.axvline(90, 0,10, linestyle='--', color = 'red', linewidth=1.5)\n"
   ]
  },
  {
   "cell_type": "code",
   "execution_count": null,
   "metadata": {},
   "outputs": [],
   "source": [
    "(common_FP[common_FP.egfr_epi_scr<60].shape[0])/(common_FP.shape[0])"
   ]
  },
  {
   "cell_type": "code",
   "execution_count": null,
   "metadata": {},
   "outputs": [],
   "source": [
    "(common_FP[common_FP.egfr_epi_scr<60].shape[0])/(processed.shape[0])"
   ]
  },
  {
   "cell_type": "code",
   "execution_count": null,
   "metadata": {},
   "outputs": [],
   "source": [
    "import seaborn as sns\n",
    "sns.jointplot(x=\"egfr_epi_scr\", y=\"age\", data=common_TN, kind=\"hex\", joint_kws={'color':\"#66ffcc\"})\n",
    "plt.axvline(60, 0,10, linestyle='--', color = 'red', linewidth=1.5)\n",
    "plt.axvline(90, 0,10, linestyle='--', color = 'red', linewidth=1.5)"
   ]
  },
  {
   "cell_type": "code",
   "execution_count": null,
   "metadata": {},
   "outputs": [],
   "source": [
    "(common_TN[common_TN.egfr_epi_scr<60].shape[0])/(common_TN.shape[0])"
   ]
  },
  {
   "cell_type": "code",
   "execution_count": null,
   "metadata": {},
   "outputs": [],
   "source": [
    "(common_FP[common_FP.egfr_epi_scr<60].shape[0])/(processed.shape[0])"
   ]
  },
  {
   "cell_type": "code",
   "execution_count": null,
   "metadata": {},
   "outputs": [],
   "source": [
    "import seaborn as sns\n",
    "sns.jointplot(x=\"egfr_epi_scr\", y=\"age\", data=common_TP, kind=\"hex\", joint_kws={'color':\"#66ffcc\"})\n",
    "plt.axvline(60, 0,10, linestyle='--', color = 'red', linewidth=1.5)\n",
    "plt.axvline(90, 0,10, linestyle='--', color = 'red', linewidth=1.5)"
   ]
  },
  {
   "cell_type": "code",
   "execution_count": null,
   "metadata": {},
   "outputs": [],
   "source": [
    "import seaborn as sns\n",
    "sns.jointplot(x=\"egfr_epi_scr\", y=\"age\", data=common_FN, kind=\"hex\", joint_kws={'color':\"#66ffcc\"})\n",
    "plt.axvline(60, 0,10, linestyle='--', color = 'red', linewidth=1.5)\n",
    "plt.axvline(90, 0,10, linestyle='--', color = 'red', linewidth=1.5)"
   ]
  },
  {
   "cell_type": "code",
   "execution_count": null,
   "metadata": {},
   "outputs": [],
   "source": [
    "import seaborn as sns\n",
    "sns.jointplot(x=\"egfr_epi_scr_max\", y=\"age\", data=common_FN, kind=\"hex\", joint_kws={'color':\"#ffe6ff\"})\n",
    "plt.axvline(60, 0,10, linestyle='--', color = 'red', linewidth=1.5)\n",
    "plt.axvline(90, 0,10, linestyle='--', color = 'red', linewidth=1.5)"
   ]
  },
  {
   "cell_type": "code",
   "execution_count": null,
   "metadata": {},
   "outputs": [],
   "source": [
    "import seaborn as sns\n",
    "sns.jointplot(x=\"egfr_epi_scr\", y=\"age\", data=common_FP, kind=\"hex\", joint_kws={'color':'#66ffcc'})\n",
    "plt.axvline(60, 0,10, linestyle='--', color = 'red', linewidth=1.5)\n",
    "plt.axvline(90, 0,10, linestyle='--', color = 'red', linewidth=1.5)\n"
   ]
  },
  {
   "cell_type": "code",
   "execution_count": null,
   "metadata": {},
   "outputs": [],
   "source": [
    "import seaborn as sns\n",
    "\n",
    "plt.rcParams[\"figure.figsize\"] = (10,6)\n",
    "plt.axvline(60, 0,10, linestyle='--', color = 'red', linewidth=1.5)\n",
    "sns.histplot(data=common_FP, x=common_FP.egfr_epi_scr, common_norm=False, bins=50, stat=\"percent\");\n",
    "plt.title(\"Kernel Density Function\");"
   ]
  },
  {
   "cell_type": "code",
   "execution_count": null,
   "metadata": {},
   "outputs": [],
   "source": [
    "import seaborn as sns\n",
    "\n",
    "plt.axvline(60, 0,10, linestyle='--', color = 'red', linewidth=1.5)\n",
    "plt.rcParams[\"figure.figsize\"] = (10,6)\n",
    "sns.histplot(data=common_FP, x=common_FP.egfr_epi_scr, hue='age', common_norm=False, bins=50, stat=\"percent\");\n",
    "plt.title(\"Kernel Density Function\");"
   ]
  },
  {
   "cell_type": "code",
   "execution_count": null,
   "metadata": {},
   "outputs": [],
   "source": [
    "# Creating bins\n",
    "x_min = np.min(common_FP.egfr_epi_scr)\n",
    "x_max = np.max(common_FP.egfr_epi_scr)\n",
    "  \n",
    "y_min = np.min(common_FP.age)\n",
    "y_max = np.max(common_FP.age)\n",
    "  \n",
    "x_bins = np.linspace(x_min, x_max, 50)\n",
    "y_bins = np.linspace(y_min, y_max, 20)\n",
    "\n",
    "fig, ax = plt.subplots(figsize =(10, 7))\n",
    "plt.hist2d(common_FP.egfr_epi_scr, common_FP.age, bins=[x_bins, y_bins])\n",
    "plt.axvline(90, 0,10, linestyle='--', color = 'blue', linewidth=1.5)\n",
    "plt.title(\"2D histogram of false positives\")\n",
    "ax.set_xlabel('minimum EGFR') \n",
    "ax.set_ylabel('Age') \n",
    "\n",
    "# show plot\n",
    "plt.tight_layout() \n",
    "plt.show()"
   ]
  },
  {
   "cell_type": "code",
   "execution_count": null,
   "metadata": {},
   "outputs": [],
   "source": [
    "# Creating bins\n",
    "x_min = np.min(common_FP.egfr_epi_scr)\n",
    "x_max = np.max(common_FP.egfr_epi_scr)\n",
    "  \n",
    "y_min = np.min(common_FP.age)\n",
    "y_max = np.max(common_FP.age)\n",
    "  \n",
    "x_bins = np.linspace(x_min, x_max, 50)\n",
    "y_bins = np.linspace(y_min, y_max, 20)\n",
    "\n",
    "fig, ax = plt.subplots(figsize =(10, 7))\n",
    "plt.hexbin(common_FP.egfr_epi_scr, common_FP.age, bins=50)\n",
    "plt.axvline(90, 0,10, linestyle='--', color = 'blue', linewidth=1.5)\n",
    "plt.title(\"2D histogram of false positives\")\n",
    "ax.set_xlabel('minimum EGFR') \n",
    "ax.set_ylabel('Age') \n",
    "\n",
    "# show plot\n",
    "plt.tight_layout() \n",
    "plt.show()"
   ]
  },
  {
   "cell_type": "code",
   "execution_count": null,
   "metadata": {},
   "outputs": [],
   "source": [
    "for i, col in enumerate(common_FP.columns):\n",
    "    plt.figure(i)\n",
    "    sns.histplot(data=common_FP, x=col, bins=50, stat='percent', common_norm=False);\n",
    "    plt.title(col);"
   ]
  },
  {
   "cell_type": "code",
   "execution_count": null,
   "metadata": {},
   "outputs": [],
   "source": [
    "df_test_all['error_category'] = 0 # create'error_category' column\n",
    "for i in df_test_all.index:\n",
    "     if df_test_all['y_actual'][i] == 0 and df_test_all['y_pred'][i] == 0: # True negative 0 \n",
    "          df_test_all['error_category'][i] = 0\n",
    "     if df_test_all['y_actual'][i] == 0 and df_test_all['y_pred'][i] == 1: # False positive 1\n",
    "          df_test_all['error_category'][i] = 1"
   ]
  },
  {
   "cell_type": "code",
   "execution_count": null,
   "metadata": {},
   "outputs": [],
   "source": [
    "# get data for True negative and  False positive and compare their distribution.\n",
    "# It plots the distribution and prints Jensen-Shanon distance.\n",
    "# from functions_compare_distribution import compare_hist_df\n",
    "from dfwiz import dfwiz, dfwiz_compare\n",
    "# healthy patients\n",
    "TN = df_test_all.query(\"error_category == 0\")[X_test.columns] # True negative\n",
    "FP = df_test_all.query(\"error_category == 1\")[X_test.columns] # False positive\n",
    "\n",
    "if len(TN) == 0 or len(FP) == 0:\n",
    "    print(\"Error! one of the dataframes are empty\")\n",
    "else:\n",
    "    # compare_hist_df(TN, FP) # plot distributions and output Jensen-Shanon distance.\n",
    "    dfwiz_compare(FP, TN,label=['FP', 'TN'])"
   ]
  },
  {
   "cell_type": "code",
   "execution_count": null,
   "metadata": {},
   "outputs": [],
   "source": [
    "for i, col in enumerate(df_test_all.columns):\n",
    "    plt.figure(i)\n",
    "    sns.kdeplot(data=df_test_all, x=col, hue='error_category', bins=50, stat='density', common_norm=False);\n",
    "    plt.title(col);"
   ]
  },
  {
   "cell_type": "code",
   "execution_count": null,
   "metadata": {},
   "outputs": [],
   "source": [
    "for i, col in enumerate(df_test_all.columns):\n",
    "    plt.figure(i)\n",
    "    sns.histplot(data=df_test_all, x=col, hue='error_category', common_norm=False, bins=50, stat=\"percent\");\n",
    "    plt.title(\"Kernel Density Function\");"
   ]
  },
  {
   "cell_type": "code",
   "execution_count": null,
   "metadata": {},
   "outputs": [],
   "source": [
    "sns.histplot(data=df_FP, x=df_FP.egfr_epi_scr, hue='age', common_norm=False, bins=50, stat=\"density\");\n",
    "plt.title(\"Kernel Density Function\");"
   ]
  },
  {
   "cell_type": "code",
   "execution_count": null,
   "metadata": {},
   "outputs": [],
   "source": [
    "for i, col in enumerate(df_test_all.columns):\n",
    "    plt.figure(i)\n",
    "    sns.histplot(data=df_test_all, x=col, hue='error_category', bins=len(df_test_all), stat='density', element=\"step\", fill=False, cumulative=True,common_norm=False);\n",
    "    plt.title(\"Cumulative distribution function\");"
   ]
  },
  {
   "cell_type": "markdown",
   "metadata": {},
   "source": [
    "## Decision Tree on validation set to differentiate between "
   ]
  },
  {
   "cell_type": "code",
   "execution_count": null,
   "metadata": {},
   "outputs": [],
   "source": [
    "# labeling the category of error\n",
    "del(df_test_all)\n",
    "\n",
    "\n",
    "# X_test_scaled_array = pipeline_final.named_steps['scaler'].transform(X_test)\n",
    "# X_test_scaled = pd.DataFrame(X_test_scaled_array, columns=X_test.columns)\n",
    "# X_test_imp_array = pipeline_final.named_steps['imputer'].transform(X_test_scaled)\n",
    "# df_test_all = pd.DataFrame(X_test_imp_array, columns=X_test.columns)\n",
    "\n",
    "\n",
    "X_test_imp_array = pipeline_final.named_steps['imputer'].transform(X_test)\n",
    "df_test_all = pd.DataFrame(X_test_imp_array, columns=X_test.columns)\n",
    "\n",
    "\n",
    "# df_test_all['y_actual'] = y_valid.values.ravel()\n",
    "df_test_all['y_actual'] = y_test.values.ravel()\n",
    "df_test_all['y_pred'] = y_pred\n",
    "\n",
    "pd.options.mode.chained_assignment = None  # To suppress a warning for commands below \n",
    "\n",
    "df_test_all['error_category'] = 0 # create'error_category' column\n",
    "for i in df_test_all.index:\n",
    "     if df_test_all['y_actual'][i] == 0 and df_test_all['y_pred'][i] == 0: # True negative 0 \n",
    "          df_test_all['error_category'][i] = 0\n",
    "     if df_test_all['y_actual'][i] == 0 and df_test_all['y_pred'][i] == 1: # False positive 1\n",
    "          df_test_all['error_category'][i] = 1\n",
    "     if df_test_all['y_actual'][i] == 1 and df_test_all['y_pred'][i] == 1: # True positive 2\n",
    "          df_test_all['error_category'][i] = 2\n",
    "     if df_test_all['y_actual'][i] == 1 and df_test_all['y_pred'][i] == 0: # False negative 3\n",
    "          df_test_all['error_category'][i] = 3"
   ]
  },
  {
   "cell_type": "code",
   "execution_count": null,
   "metadata": {},
   "outputs": [],
   "source": [
    "df_FP_TN = df_test_all.loc[(df_test_all['error_category'] == 0) | (df_test_all['error_category'] == 1)]\n",
    "df_FP_FN = df_test_all.loc[(df_test_all['error_category'] == 1) | (df_test_all['error_category'] == 3)]"
   ]
  },
  {
   "cell_type": "code",
   "execution_count": null,
   "metadata": {},
   "outputs": [],
   "source": [
    "df_FP_TN.error_category.value_counts()"
   ]
  },
  {
   "cell_type": "code",
   "execution_count": null,
   "metadata": {},
   "outputs": [],
   "source": [
    "df_FP_FN.error_category.value_counts()"
   ]
  },
  {
   "cell_type": "code",
   "execution_count": null,
   "metadata": {},
   "outputs": [],
   "source": [
    "# train a descision tree to predict the model error in negative cases ('True negative' vs 'False positive'). \n",
    "from sklearn import tree\n",
    "\n",
    "\n",
    "\n",
    "class_names = ['TN', 'FP']\n",
    "df1 = df_FP_TN.copy()\n",
    "X1 = df1[X_test.columns]\n",
    "X1\n",
    "y1 =  df1[['error_category']]\n",
    "clf = tree.DecisionTreeClassifier(max_depth = 5 , class_weight='balanced', random_state=42, criterion=\"gini\", min_impurity_decrease = 0.01)\n",
    "clf = clf.fit(X1, y1)\n",
    "\n",
    "# plot the tree\n",
    "plt.figure(figsize=(20,12))\n",
    "tree.plot_tree(clf,\n",
    "               feature_names = list(X1.columns), \n",
    "               rounded=True, \n",
    "               filled = True,\n",
    "               proportion = True,\n",
    "               class_names = class_names);\n"
   ]
  },
  {
   "cell_type": "code",
   "execution_count": null,
   "metadata": {},
   "outputs": [],
   "source": [
    "# train a descision tree to predict the model error in negative cases ('True negative' vs 'False positive'). \n",
    "from sklearn import tree\n",
    "\n",
    "\n",
    "\n",
    "class_names = ['FP', 'FN']\n",
    "df1 = df_FP_FN.copy()\n",
    "X1 = df1[X_test.columns]\n",
    "X1\n",
    "y1 =  df1[['error_category']]\n",
    "clf = tree.DecisionTreeClassifier(max_depth = 5 , class_weight='balanced', random_state=42, criterion=\"gini\", min_impurity_decrease = 0.01)\n",
    "clf = clf.fit(X1, y1)\n",
    "\n",
    "# plot the tree\n",
    "plt.figure(figsize=(20,12))\n",
    "tree.plot_tree(clf,\n",
    "               feature_names = list(X1.columns), \n",
    "               rounded=True, \n",
    "               filled = True,\n",
    "               proportion = True,\n",
    "               class_names = class_names);\n"
   ]
  },
  {
   "cell_type": "code",
   "execution_count": null,
   "metadata": {},
   "outputs": [],
   "source": [
    "X_train_new = X_train.loc[~(y_error_t==1)]\n",
    "y_train_new = y_train.loc[~(y_error_t==1)]\n",
    "\n",
    "X_valid_new = X_valid.loc[~(y_error_v==1)]\n",
    "y_valid_new = y_valid.loc[~(y_error_v==1)]"
   ]
  },
  {
   "cell_type": "code",
   "execution_count": null,
   "metadata": {},
   "outputs": [],
   "source": [
    "# X_train_new, y_train_new = up_sample(X_train_new, y_train_new,'outcome')\n",
    "X_train_new, y_train_new = up_sample(X_train, y_train,'outcome')"
   ]
  }
 ],
 "metadata": {
  "interpreter": {
   "hash": "e7ea45291871ad6e398ab50f9f84dad559e0de667f49db4aea6ebf0e175149ae"
  },
  "kernelspec": {
   "display_name": "Python 3.8.8 ('base')",
   "language": "python",
   "name": "python3"
  },
  "language_info": {
   "codemirror_mode": {
    "name": "ipython",
    "version": 3
   },
   "file_extension": ".py",
   "mimetype": "text/x-python",
   "name": "python",
   "nbconvert_exporter": "python",
   "pygments_lexer": "ipython3",
   "version": "3.8.8"
  }
 },
 "nbformat": 4,
 "nbformat_minor": 1
}
